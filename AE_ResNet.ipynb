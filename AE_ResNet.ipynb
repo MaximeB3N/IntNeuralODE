{
 "cells": [
  {
   "cell_type": "code",
   "execution_count": 1,
   "metadata": {},
   "outputs": [],
   "source": [
    "import torch\n",
    "import torch.nn as nn\n",
    "import torch.nn.functional as F\n",
    "import torch.optim as optim\n",
    "from torch.utils.data import DataLoader\n",
    "\n",
    "# import SummaryWriter\n",
    "from torch.utils.tensorboard import SummaryWriter\n",
    "\n",
    "# import the MNIST dataset\n",
    "import torchvision\n",
    "import torchvision.datasets as datasets\n",
    "from torchvision import transforms\n",
    "\n",
    "import torchsummary\n",
    "\n",
    "from sklearn.model_selection import train_test_split\n",
    "\n",
    "# from torchdiffeq import odeint, odeint_adjoint\n",
    "\n",
    "import cv2\n",
    "import numpy as np\n",
    "\n",
    "from matplotlib.animation import FuncAnimation\n",
    "import matplotlib.pyplot as plt\n",
    "\n",
    "from tqdm.notebook import trange\n",
    "\n",
    "from src.utils import create_gaussian_dataset, add_spatial_encoding, stack_dataset\n",
    "from src.models import ConvAE, ConvAEwithResNet"
   ]
  },
  {
   "cell_type": "code",
   "execution_count": 57,
   "metadata": {},
   "outputs": [],
   "source": [
    "# use the ball dataset\n",
    "\n",
    "dataset = create_gaussian_dataset(r_min=3.0, r_max=3.0, n_samples=30000, size=28, margin=0, n_balls=1)\n",
    "dataset = add_spatial_encoding(dataset)\n",
    "# dataset = stack_dataset(dataset)\n",
    "\n",
    "train_dataset, test_dataset = train_test_split(dataset, test_size=0.3)\n",
    "\n",
    "train_loader = DataLoader(train_dataset, batch_size=64, shuffle=True)\n",
    "test_loader = DataLoader(test_dataset, batch_size=16, shuffle=True)"
   ]
  },
  {
   "cell_type": "code",
   "execution_count": 3,
   "metadata": {},
   "outputs": [],
   "source": [
    "# # load the moving MNIST resized dataset \n",
    "# data = np.load('data/MOVING_MNIST/mnist_test_seq_resized.npy')\n",
    "# data = data.reshape(-1, 1, 28, 28)\n",
    "# data = data.astype(np.float32)\n",
    "# data = (data - data.min()) / (data.max() - data.min())\n",
    "# data = [(image, 0) for image in data]\n",
    "# data = add_spatial_encoding(data)\n",
    "\n",
    "\n",
    "# train_dataset, test_dataset = train_test_split(data, test_size=0.3)\n",
    "\n",
    "# # train_data = [(x,0) for x in train_data]\n",
    "# # test_data = [(x,0) for x in test_data]\n",
    "\n",
    "# train_loader = DataLoader(train_dataset, batch_size=64, shuffle=True)\n",
    "# test_loader = DataLoader(test_dataset, batch_size=16, shuffle=False)"
   ]
  },
  {
   "cell_type": "code",
   "execution_count": 91,
   "metadata": {},
   "outputs": [
    {
     "name": "stdout",
     "output_type": "stream",
     "text": [
      "Number of parameters in the model: 276028\n"
     ]
    }
   ],
   "source": [
    "# SiLU, ELU, GELU\n",
    "ae = ConvAE(height=28, width=28, latent_dim=25, in_channels=3, relu=False, activation=nn.ReLU())"
   ]
  },
  {
   "cell_type": "code",
   "execution_count": 94,
   "metadata": {},
   "outputs": [],
   "source": [
    "optimizer = torch.optim.Adam(ae.parameters(), lr=1e-4)\n",
    "loss_fn = nn.MSELoss()\n",
    "# optimizer = torch.optim.RMSprop(vae.parameters(), lr=1e-5)\n",
    "scheduler = torch.optim.lr_scheduler.StepLR(optimizer, step_size=1, gamma=0.9999)"
   ]
  },
  {
   "cell_type": "code",
   "execution_count": null,
   "metadata": {},
   "outputs": [],
   "source": [
    "ae.fit(train_loader, test_loader, optimizer, scheduler, loss_fn, epochs=100, display_step=1, n_plot=3)"
   ]
  },
  {
   "cell_type": "code",
   "execution_count": 96,
   "metadata": {},
   "outputs": [
    {
     "data": {
      "image/png": "[encoded data removed]",
      "text/plain": [
       "<Figure size 1080x360 with 12 Axes>"
      ]
     },
     "metadata": {
      "needs_background": "light"
     },
     "output_type": "display_data"
    }
   ],
   "source": [
    "# use the VAE to reconstruct images and there initial images\n",
    "N_samples_recon = 6\n",
    "plot_loader = DataLoader(test_dataset, batch_size=N_samples_recon)\n",
    "ae.eval()\n",
    "with torch.no_grad():\n",
    "    limit = np.random.randint(0, int(len(test_dataset)/N_samples_recon))\n",
    "    for i, data in enumerate(plot_loader):\n",
    "        if i <= limit:\n",
    "            continue\n",
    "        input_image, _ = data\n",
    "        input_image = input_image.float()\n",
    "        img = ae(input_image)\n",
    "        img = img[:,0].cpu().detach().numpy()\n",
    "        img = np.reshape(img, (N_samples_recon, 28, 28))\n",
    "        input_image = input_image[:,0].cpu().detach().numpy()\n",
    "        input_image = np.reshape(input_image, (N_samples_recon, 28, 28))\n",
    "        height_plot = 5 \n",
    "        width_plot = height_plot * int(np.ceil(N_samples_recon/2))\n",
    "        fig, ax = plt.subplots(figsize=(width_plot,height_plot))\n",
    "        for i in range(N_samples_recon):\n",
    "            plt.subplot(2, N_samples_recon, i+1)\n",
    "            plt.imshow(img[i], cmap='gray')\n",
    "            plt.axis('off')\n",
    "            \n",
    "        for i in range(N_samples_recon):\n",
    "            plt.subplot(2, N_samples_recon, i+1+N_samples_recon)\n",
    "            plt.imshow(input_image[i], cmap='gray')\n",
    "            plt.axis('off')\n",
    "        plt.show()\n",
    "        break\n",
    "\n"
   ]
  },
  {
   "cell_type": "code",
   "execution_count": 97,
   "metadata": {},
   "outputs": [],
   "source": [
    "torch.save(ae.state_dict(), 'models/AE/AE_with_smooth_activation/ae_1_Ball_with_sp_latent_25_no_relu_activation_ReLU_no_margin.pth')"
   ]
  },
  {
   "cell_type": "code",
   "execution_count": null,
   "metadata": {},
   "outputs": [],
   "source": []
  }
 ],
 "metadata": {
  "interpreter": {
   "hash": "b0fa6594d8f4cbf19f97940f81e996739fb7646882a419484c72d19e05852a7e"
  },
  "kernelspec": {
   "display_name": "Python 3.9.9 64-bit",
   "language": "python",
   "name": "python3"
  },
  "language_info": {
   "codemirror_mode": {
    "name": "ipython",
    "version": 3
   },
   "file_extension": ".py",
   "mimetype": "text/x-python",
   "name": "python",
   "nbconvert_exporter": "python",
   "pygments_lexer": "ipython3",
   "version": "3.9.9"
  },
  "orig_nbformat": 4
 },
 "nbformat": 4,
 "nbformat_minor": 2
}
