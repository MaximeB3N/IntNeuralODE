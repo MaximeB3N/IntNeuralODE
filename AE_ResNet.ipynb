{
 "cells": [
  {
   "cell_type": "code",
   "execution_count": 37,
   "metadata": {},
   "outputs": [],
   "source": [
    "import torch\n",
    "import torch.nn as nn\n",
    "import torch.nn.functional as F\n",
    "import torch.optim as optim\n",
    "from torch.utils.data import DataLoader\n",
    "\n",
    "# import SummaryWriter\n",
    "from torch.utils.tensorboard import SummaryWriter\n",
    "\n",
    "# import the MNIST dataset\n",
    "import torchvision\n",
    "import torchvision.datasets as datasets\n",
    "from torchvision import transforms\n",
    "\n",
    "import torchsummary\n",
    "\n",
    "from sklearn.model_selection import train_test_split\n",
    "\n",
    "# from torchdiffeq import odeint, odeint_adjoint\n",
    "\n",
    "import cv2\n",
    "import numpy as np\n",
    "\n",
    "from matplotlib.animation import FuncAnimation\n",
    "import matplotlib.pyplot as plt\n",
    "\n",
    "from tqdm.notebook import trange\n",
    "\n",
    "from src.utils import create_gaussian_dataset, add_spatial_encoding, stack_dataset"
   ]
  },
  {
   "cell_type": "code",
   "execution_count": 38,
   "metadata": {},
   "outputs": [],
   "source": [
    "# use the ball dataset\n",
    "\n",
    "dataset = create_gaussian_dataset(r_min=3.0, r_max=3.0, n_samples=30000, size=28, margin=1, n_balls=1)\n",
    "dataset = add_spatial_encoding(dataset)\n",
    "# dataset = stack_dataset(dataset)\n",
    "\n",
    "train_dataset, test_dataset = train_test_split(dataset, test_size=0.3)\n",
    "\n",
    "train_loader = DataLoader(train_dataset, batch_size=64, shuffle=True)\n",
    "test_loader = DataLoader(test_dataset, batch_size=16, shuffle=True)"
   ]
  },
  {
   "cell_type": "code",
   "execution_count": 15,
   "metadata": {},
   "outputs": [
    {
     "name": "stdout",
     "output_type": "stream",
     "text": [
      "28\n"
     ]
    }
   ],
   "source": [
    "# load the moving MNIST resized dataset \n",
    "data = np.load('data/MOVING_MNIST/mnist_test_seq_resized.npy')\n",
    "data = data.reshape(-1, 1, 28, 28)\n",
    "data = data.astype(np.float32)\n",
    "data = (data - data.min()) / (data.max() - data.min())\n",
    "data = [(image, 0) for image in data]\n",
    "data = add_spatial_encoding(data)\n",
    "\n",
    "\n",
    "train_dataset, test_dataset = train_test_split(data, test_size=0.3)\n",
    "\n",
    "# train_data = [(x,0) for x in train_data]\n",
    "# test_data = [(x,0) for x in test_data]\n",
    "\n",
    "train_loader = DataLoader(train_dataset, batch_size=64, shuffle=True)\n",
    "test_loader = DataLoader(test_dataset, batch_size=16, shuffle=False)"
   ]
  },
  {
   "cell_type": "code",
   "execution_count": 39,
   "metadata": {},
   "outputs": [],
   "source": [
    "class ConvAE(nn.Module):\n",
    "    def __init__(self, **kwargs):\n",
    "        super().__init__()\n",
    "        self.flatten = nn.Flatten()\n",
    "        self.height = kwargs['height']\n",
    "        self.width = kwargs['width']\n",
    "        self.latent_dim = kwargs['latent_dim']\n",
    "        self.in_channels = kwargs['in_channels']\n",
    "\n",
    "        self.encoder = nn.Sequential(\n",
    "                    nn.Conv2d(in_channels=self.in_channels, out_channels=32, kernel_size=5, stride=2, padding=1),\n",
    "                    nn.ReLU(),\n",
    "                    # nn.MaxPool2d(kernel_size=2, stride=2),\n",
    "                    nn.Conv2d(in_channels=32, out_channels=64, kernel_size=4, stride=2, padding=1),\n",
    "                    nn.ReLU(),\n",
    "                    # nn.MaxPool2d(kernel_size=2, stride=2),\n",
    "                    nn.Conv2d(in_channels=64, out_channels=128, kernel_size=3, stride=2, padding=1),\n",
    "                    nn.ReLU()\n",
    "                    # nn.MaxPool2d(kernel_size=2, stride=2),\n",
    "\n",
    "        )\n",
    "        \n",
    "        self.encoder_linear = nn.Sequential(\n",
    "                    nn.Flatten(),\n",
    "                    nn.Linear(in_features=3*3*128, out_features=self.latent_dim),\n",
    "                    # nn.ReLU()\n",
    "        )\n",
    "\n",
    "        self.decoder_linear = nn.Sequential(\n",
    "                    nn.Linear(in_features=self.latent_dim, out_features=3*3*128),\n",
    "                    nn.ReLU()\n",
    "        )\n",
    "        self.decoder = nn.Sequential(\n",
    "                    nn.ConvTranspose2d(in_channels=128, out_channels=64, kernel_size=3, stride=2, padding=0),\n",
    "                    nn.ReLU(),\n",
    "                    nn.ConvTranspose2d(in_channels=64, out_channels=32, kernel_size=4, stride=2, padding=1),\n",
    "                    nn.ReLU(),\n",
    "                    nn.ConvTranspose2d(in_channels=32, out_channels=self.in_channels, kernel_size=4, stride=2, padding=1),\n",
    "                    nn.Sigmoid()\n",
    "        )\n",
    "\n",
    "        # print the number of parameters in the model\n",
    "        print(\"Number of parameters in the model: {}\".format(np.sum([p.numel() for p in self.parameters() if p.requires_grad])))\n",
    "\n",
    "    def forward(self, image):\n",
    "        # print(image.shape)\n",
    "        out = self.encoder(image)\n",
    "        # print(out.shape)\n",
    "        latent = self.encoder_linear(out)\n",
    "        # print(latent.shape)\n",
    "        out = self.decoder_linear(latent)\n",
    "        # print(out.shape)\n",
    "        out = out.view(image.shape[0], 128, 3, 3)\n",
    "        # print(out.shape)\n",
    "        out = self.decoder(out)\n",
    "        # print(out.shape)\n",
    "        return out\n",
    "\n",
    "    def encode(self, image):\n",
    "        out = self.encoder(image)\n",
    "        out = self.encoder_linear(out)\n",
    "        return out\n",
    "\n",
    "    def decode(self, latent_vector):\n",
    "        # print(latent_vector.shape)\n",
    "        out = self.decoder_linear(latent_vector)\n",
    "        out = out.view(out.shape[0], 128, 3, 3)\n",
    "        out = self.decoder(out)\n",
    "        return out\n",
    "\n",
    "    def generate(self, n_samples=1):\n",
    "        self.eval()\n",
    "        with torch.no_grad():\n",
    "            z = torch.randn(n_samples, self.latent_dim)\n",
    "            img = self.decode(z)\n",
    "            return img\n",
    "\n",
    "    def plot(self, n_samples=1):\n",
    "        self.eval()\n",
    "        imgs = self.generate(n_samples)\n",
    "        imgs = imgs[:,0].cpu().detach().numpy()\n",
    "        imgs = np.reshape(imgs, (n_samples, 28, 28))\n",
    "        fig, ax = plt.subplots(figsize=(10,5))\n",
    "        for i in range(n_samples):\n",
    "            plt.subplot(1, n_samples, i+1)\n",
    "            plt.imshow(imgs[i], cmap='gray')\n",
    "            plt.axis('off')\n",
    "        plt.show()\n",
    "\n",
    "    def reconstruction(self, plot_loader):\n",
    "        self.eval()\n",
    "        for i, data in enumerate(plot_loader):\n",
    "            input_image, _ = data\n",
    "            input_image = input_image.float()\n",
    "            batch_size = input_image.shape[0]\n",
    "            img = self(input_image)\n",
    "            img = img[:,0].cpu().detach().numpy()\n",
    "            img = np.reshape(img, (batch_size, 28, 28))\n",
    "            input_image = input_image[:,0].cpu().detach().numpy()\n",
    "            input_image = np.reshape(input_image, (batch_size, 28, 28))\n",
    "\n",
    "            fig, ax = plt.subplots(figsize=(20,2))\n",
    "            for i in range(batch_size):\n",
    "                plt.subplot(2, batch_size, i+1)\n",
    "                plt.imshow(img[i], cmap='gray')\n",
    "                plt.axis('off')\n",
    "                \n",
    "            for i in range(batch_size):\n",
    "                plt.subplot(2, batch_size, i+1+batch_size)\n",
    "                plt.imshow(input_image[i], cmap='gray')\n",
    "                plt.axis('off')\n",
    "            plt.show()\n",
    "            break\n",
    "\n",
    "    def fit(self, dataloader_train, dataloader_test, optimizer, scheduler, criterion, epochs=10, display_step=1, n_plot=10):\n",
    "        iterator = trange(epochs)\n",
    "        losses_train = []\n",
    "        losses_test = []\n",
    "        for _ in iterator:\n",
    "            self.plot(n_samples=n_plot)\n",
    "            self.reconstruction(dataloader_test)\n",
    "            \n",
    "            loss_epoch = 0\n",
    "            self.train()\n",
    "            for i, data in enumerate(dataloader_train):\n",
    "                input_image, _ = data\n",
    "                input_image = input_image.float()\n",
    "                optimizer.zero_grad()\n",
    "                img = self(input_image)\n",
    "                loss = criterion(input_image, img)\n",
    "                loss.backward()\n",
    "                optimizer.step()\n",
    "                loss_epoch += loss.item()\n",
    "                if i % display_step == 0:\n",
    "                    iterator.set_description(f'Batch: {i}/{len(dataloader_train)}, Loss: {loss_epoch/(i+1):.6f}')\n",
    "                \n",
    "\n",
    "            losses_train.append(loss_epoch/len(dataloader_train))\n",
    "            # self.eval()\n",
    "            # with torch.no_grad():\n",
    "            #     loss_epoch = 0\n",
    "            #     for i, data in enumerate(dataloader_test):\n",
    "            #         input_image, _ = data\n",
    "            #         input_image = input_image.float()\n",
    "            #         img = self(input_image)\n",
    "            #         loss = criterion(input_image, img)\n",
    "            #         loss_epoch += loss.item()\n",
    "            #         if i % display_step == 0:\n",
    "            #             iterator.set_postfix_str(f'Test Batch: {i}/{len(dataloader_test)}, Loss: {loss_epoch/(i+1):.6f}')\n",
    "\n",
    "            #     losses_test.append(loss_epoch/len(dataloader_test))\n",
    "            \n",
    "            scheduler.step()\n",
    "\n",
    "        return losses_train, losses_test\n",
    "\n",
    "\n",
    "class custom_loss(nn.Module):\n",
    "    def __init__(self):\n",
    "        super(custom_loss, self).__init__()\n",
    "    \n",
    "    def forward(self, x, dec):\n",
    "        # dec = dec[:,0]\n",
    "        # x = x[:,0]\n",
    "        unreshaped = torch.reshape(dec, [-1, 28*28])\n",
    "        x = torch.reshape(x, [-1, 28*28])\n",
    "        # print(unreshaped.shape)\n",
    "        img_loss = torch.mean(torch.sum((unreshaped - x)**2, dim=1))\n",
    "        # print(img_loss.shape)\n",
    "        loss = torch.mean(img_loss)\n",
    "        # print(loss.shape)\n",
    "        return loss\n",
    "\n",
    "loss_fn = custom_loss()"
   ]
  },
  {
   "cell_type": "code",
   "execution_count": 40,
   "metadata": {},
   "outputs": [],
   "source": [
    "class ConvAEwithResNet(nn.Module):\n",
    "    def __init__(self, **kwargs):\n",
    "        super().__init__()\n",
    "        self.flatten = nn.Flatten()\n",
    "        self.height = kwargs['height']\n",
    "        self.width = kwargs['width']\n",
    "        self.latent_dim = kwargs['latent_dim']\n",
    "\n",
    "        self.encoder = nn.Sequential(*list(torchvision.models.resnet18(pretrained=True).children())[:-1], \n",
    "                                            nn.Flatten())\n",
    "        self.encoder_linear = nn.Linear(512, self.latent_dim)\n",
    "\n",
    "        self.decoder_linear = nn.Sequential(\n",
    "                    nn.Linear(in_features=self.latent_dim, out_features=3*3*128),\n",
    "                    nn.ReLU()\n",
    "        )\n",
    "        self.decoder = nn.Sequential(\n",
    "                    nn.ConvTranspose2d(in_channels=128, out_channels=64, kernel_size=3, stride=2, padding=0),\n",
    "                    nn.ReLU(),\n",
    "                    nn.ConvTranspose2d(in_channels=64, out_channels=32, kernel_size=4, stride=2, padding=1),\n",
    "                    nn.ReLU(),\n",
    "                    nn.ConvTranspose2d(in_channels=32, out_channels=3, kernel_size=4, stride=2, padding=1),\n",
    "                    nn.Sigmoid()\n",
    "        )\n",
    "\n",
    "        # print the number of parameters in the model\n",
    "        print(\"Number of parameters in the model: {}\".format(np.sum([p.numel() for p in self.parameters() if p.requires_grad])))\n",
    "\n",
    "    def forward(self, image):\n",
    "        # print(image.shape)\n",
    "        out = self.encoder(image)\n",
    "        # print(out.shape)\n",
    "        latent = self.encoder_linear(out)\n",
    "        # print(latent.shape)\n",
    "        out = self.decoder_linear(latent)\n",
    "        # print(out.shape)\n",
    "        out = out.view(image.shape[0], 128, 3, 3)\n",
    "        # print(out.shape)\n",
    "        out = self.decoder(out)\n",
    "        # print(out.shape)\n",
    "        return out\n",
    "\n",
    "    def encode(self, image):\n",
    "        out = self.encoder(image)\n",
    "        out = self.encoder_linear(out)\n",
    "        return out\n",
    "\n",
    "    def decode(self, latent_vector):\n",
    "        # print(latent_vector.shape)\n",
    "        out = self.decoder_linear(latent_vector)\n",
    "        out = out.view(out.shape[0], 128, 3, 3)\n",
    "        out = self.decoder(out)\n",
    "        return out\n",
    "\n",
    "    def generate(self, n_samples=1):\n",
    "        self.eval()\n",
    "        with torch.no_grad():\n",
    "            z = torch.randn(n_samples, self.latent_dim)\n",
    "            img = self.decode(z)\n",
    "            return img\n",
    "\n",
    "    def plot(self, n_samples=1):\n",
    "        self.eval()\n",
    "        imgs = self.generate(n_samples)\n",
    "        imgs = imgs[:,0].cpu().detach().numpy()\n",
    "        imgs = np.reshape(imgs, (n_samples, 28, 28))\n",
    "        fig, ax = plt.subplots(figsize=(10,5))\n",
    "        for i in range(n_samples):\n",
    "            plt.subplot(1, n_samples, i+1)\n",
    "            plt.imshow(imgs[i], cmap='gray')\n",
    "            plt.axis('off')\n",
    "        plt.show()\n",
    "\n",
    "    def reconstruction(self, plot_loader):\n",
    "        self.eval()\n",
    "        for i, data in enumerate(plot_loader):\n",
    "            input_image, _ = data\n",
    "            input_image = input_image.float()\n",
    "            batch_size = input_image.shape[0]\n",
    "            img = self(input_image)\n",
    "            img = img[:,0].cpu().detach().numpy()\n",
    "            img = np.reshape(img, (batch_size, 28, 28))\n",
    "            input_image = input_image[:,0].cpu().detach().numpy()\n",
    "            input_image = np.reshape(input_image, (batch_size, 28, 28))\n",
    "\n",
    "            N_samples_recon = batch_size\n",
    "            \n",
    "            height_plot = 15\n",
    "            width_plot = height_plot * int(np.ceil(N_samples_recon/2))\n",
    "            fig, ax = plt.subplots(figsize=(width_plot,height_plot))\n",
    "            for i in range(batch_size):\n",
    "                plt.subplot(2, batch_size, i+1)\n",
    "                plt.imshow(img[i], cmap='gray')\n",
    "                plt.axis('off')\n",
    "                \n",
    "            for i in range(batch_size):\n",
    "                plt.subplot(2, batch_size, i+1+batch_size)\n",
    "                plt.imshow(input_image[i], cmap='gray')\n",
    "                plt.axis('off')\n",
    "            plt.show()\n",
    "            break\n",
    "\n",
    "    def fit(self, dataloader_train, dataloader_test, optimizer, scheduler, criterion, epochs=10, display_step=1, n_plot=10):\n",
    "        iterator = trange(epochs)\n",
    "        losses_train = []\n",
    "        losses_test = []\n",
    "        for _ in iterator:\n",
    "            self.plot(n_samples=n_plot)\n",
    "            self.reconstruction(dataloader_test)\n",
    "            \n",
    "            loss_epoch = 0\n",
    "            self.train()\n",
    "            for i, data in enumerate(dataloader_train):\n",
    "                input_image, _ = data\n",
    "                input_image = input_image.float()\n",
    "                optimizer.zero_grad()\n",
    "                img = self(input_image)\n",
    "                loss = criterion(input_image, img)\n",
    "                loss.backward()\n",
    "                optimizer.step()\n",
    "                loss_epoch += loss.item()\n",
    "                if i % display_step == 0:\n",
    "                    iterator.set_description(f'Batch: {i}/{len(dataloader_train)}, Loss: {loss_epoch/(i+1):.6f}')\n",
    "                \n",
    "\n",
    "            losses_train.append(loss_epoch/len(dataloader_train))\n",
    "            # self.eval()\n",
    "            # with torch.no_grad():\n",
    "            #     loss_epoch = 0\n",
    "            #     for i, data in enumerate(dataloader_test):\n",
    "            #         input_image, _ = data\n",
    "            #         input_image = input_image.float()\n",
    "            #         img = self(input_image)\n",
    "            #         loss = criterion(input_image, img)\n",
    "            #         loss_epoch += loss.item()\n",
    "            #         if i % display_step == 0:\n",
    "            #             iterator.set_postfix_str(f'Test Batch: {i}/{len(dataloader_test)}, Loss: {loss_epoch/(i+1):.6f}')\n",
    "\n",
    "            #     losses_test.append(loss_epoch/len(dataloader_test))\n",
    "            \n",
    "            scheduler.step()\n",
    "\n",
    "        return losses_train, losses_test"
   ]
  },
  {
   "cell_type": "code",
   "execution_count": 41,
   "metadata": {},
   "outputs": [
    {
     "name": "stdout",
     "output_type": "stream",
     "text": [
      "Number of parameters in the model: 220387\n"
     ]
    }
   ],
   "source": [
    "ae = ConvAE(height=28, width=28, latent_dim=2, in_channels=3)"
   ]
  },
  {
   "cell_type": "code",
   "execution_count": 44,
   "metadata": {},
   "outputs": [],
   "source": [
    "optimizer = torch.optim.Adam(ae.parameters(), lr=1e-2)\n",
    "# optimizer = torch.optim.RMSprop(vae.parameters(), lr=1e-5)\n",
    "scheduler = torch.optim.lr_scheduler.StepLR(optimizer, step_size=1, gamma=0.9999)"
   ]
  },
  {
   "cell_type": "code",
   "execution_count": 45,
   "metadata": {},
   "outputs": [
    {
     "data": {
      "application/vnd.jupyter.widget-view+json": {
       "model_id": "5559573e0a7a411c8ede50b42e3920b3",
       "version_major": 2,
       "version_minor": 0
      },
      "text/plain": [
       "  0%|          | 0/100 [00:00<?, ?it/s]"
      ]
     },
     "metadata": {},
     "output_type": "display_data"
    },
    {
     "data": {
      "image/png": "[encoded data removed]",
      "text/plain": [
       "<Figure size 720x360 with 3 Axes>"
      ]
     },
     "metadata": {
      "needs_background": "light"
     },
     "output_type": "display_data"
    },
    {
     "data": {
      "image/png": "[encoded data removed]",
      "text/plain": [
       "<Figure size 1440x144 with 32 Axes>"
      ]
     },
     "metadata": {
      "needs_background": "light"
     },
     "output_type": "display_data"
    },
    {
     "data": {
      "image/png": "[encoded data removed]",
      "text/plain": [
       "<Figure size 720x360 with 3 Axes>"
      ]
     },
     "metadata": {
      "needs_background": "light"
     },
     "output_type": "display_data"
    },
    {
     "data": {
      "image/png": "[encoded data removed]",
      "text/plain": [
       "<Figure size 1440x144 with 32 Axes>"
      ]
     },
     "metadata": {
      "needs_background": "light"
     },
     "output_type": "display_data"
    },
    {
     "data": {
      "image/png": "[encoded data removed]",
      "text/plain": [
       "<Figure size 720x360 with 3 Axes>"
      ]
     },
     "metadata": {
      "needs_background": "light"
     },
     "output_type": "display_data"
    },
    {
     "data": {
      "image/png": "[encoded data removed]",
      "text/plain": [
       "<Figure size 1440x144 with 32 Axes>"
      ]
     },
     "metadata": {
      "needs_background": "light"
     },
     "output_type": "display_data"
    },
    {
     "ename": "KeyboardInterrupt",
     "evalue": "",
     "output_type": "error",
     "traceback": [
      "\u001b[0;31m---------------------------------------------------------------------------\u001b[0m",
      "\u001b[0;31mKeyboardInterrupt\u001b[0m                         Traceback (most recent call last)",
      "\u001b[0;32m/var/folders/01/nfq6qhcj2j7dqfld6ps6vhbc0000gn/T/ipykernel_7312/3828628118.py\u001b[0m in \u001b[0;36m<module>\u001b[0;34m\u001b[0m\n\u001b[0;32m----> 1\u001b[0;31m \u001b[0mae\u001b[0m\u001b[0;34m.\u001b[0m\u001b[0mfit\u001b[0m\u001b[0;34m(\u001b[0m\u001b[0mtrain_loader\u001b[0m\u001b[0;34m,\u001b[0m \u001b[0mtest_loader\u001b[0m\u001b[0;34m,\u001b[0m \u001b[0moptimizer\u001b[0m\u001b[0;34m,\u001b[0m \u001b[0mscheduler\u001b[0m\u001b[0;34m,\u001b[0m \u001b[0mloss_fn\u001b[0m\u001b[0;34m,\u001b[0m \u001b[0mepochs\u001b[0m\u001b[0;34m=\u001b[0m\u001b[0;36m100\u001b[0m\u001b[0;34m,\u001b[0m \u001b[0mdisplay_step\u001b[0m\u001b[0;34m=\u001b[0m\u001b[0;36m1\u001b[0m\u001b[0;34m,\u001b[0m \u001b[0mn_plot\u001b[0m\u001b[0;34m=\u001b[0m\u001b[0;36m3\u001b[0m\u001b[0;34m)\u001b[0m\u001b[0;34m\u001b[0m\u001b[0;34m\u001b[0m\u001b[0m\n\u001b[0m",
      "\u001b[0;32m/var/folders/01/nfq6qhcj2j7dqfld6ps6vhbc0000gn/T/ipykernel_7312/1483682835.py\u001b[0m in \u001b[0;36mfit\u001b[0;34m(self, dataloader_train, dataloader_test, optimizer, scheduler, criterion, epochs, display_step, n_plot)\u001b[0m\n\u001b[1;32m    129\u001b[0m                 \u001b[0mimg\u001b[0m \u001b[0;34m=\u001b[0m \u001b[0mself\u001b[0m\u001b[0;34m(\u001b[0m\u001b[0minput_image\u001b[0m\u001b[0;34m)\u001b[0m\u001b[0;34m\u001b[0m\u001b[0;34m\u001b[0m\u001b[0m\n\u001b[1;32m    130\u001b[0m                 \u001b[0mloss\u001b[0m \u001b[0;34m=\u001b[0m \u001b[0mcriterion\u001b[0m\u001b[0;34m(\u001b[0m\u001b[0minput_image\u001b[0m\u001b[0;34m,\u001b[0m \u001b[0mimg\u001b[0m\u001b[0;34m)\u001b[0m\u001b[0;34m\u001b[0m\u001b[0;34m\u001b[0m\u001b[0m\n\u001b[0;32m--> 131\u001b[0;31m                 \u001b[0mloss\u001b[0m\u001b[0;34m.\u001b[0m\u001b[0mbackward\u001b[0m\u001b[0;34m(\u001b[0m\u001b[0;34m)\u001b[0m\u001b[0;34m\u001b[0m\u001b[0;34m\u001b[0m\u001b[0m\n\u001b[0m\u001b[1;32m    132\u001b[0m                 \u001b[0moptimizer\u001b[0m\u001b[0;34m.\u001b[0m\u001b[0mstep\u001b[0m\u001b[0;34m(\u001b[0m\u001b[0;34m)\u001b[0m\u001b[0;34m\u001b[0m\u001b[0;34m\u001b[0m\u001b[0m\n\u001b[1;32m    133\u001b[0m                 \u001b[0mloss_epoch\u001b[0m \u001b[0;34m+=\u001b[0m \u001b[0mloss\u001b[0m\u001b[0;34m.\u001b[0m\u001b[0mitem\u001b[0m\u001b[0;34m(\u001b[0m\u001b[0;34m)\u001b[0m\u001b[0;34m\u001b[0m\u001b[0;34m\u001b[0m\u001b[0m\n",
      "\u001b[0;32m/opt/homebrew/lib/python3.9/site-packages/torch/_tensor.py\u001b[0m in \u001b[0;36mbackward\u001b[0;34m(self, gradient, retain_graph, create_graph, inputs)\u001b[0m\n\u001b[1;32m    253\u001b[0m                 \u001b[0mcreate_graph\u001b[0m\u001b[0;34m=\u001b[0m\u001b[0mcreate_graph\u001b[0m\u001b[0;34m,\u001b[0m\u001b[0;34m\u001b[0m\u001b[0;34m\u001b[0m\u001b[0m\n\u001b[1;32m    254\u001b[0m                 inputs=inputs)\n\u001b[0;32m--> 255\u001b[0;31m         \u001b[0mtorch\u001b[0m\u001b[0;34m.\u001b[0m\u001b[0mautograd\u001b[0m\u001b[0;34m.\u001b[0m\u001b[0mbackward\u001b[0m\u001b[0;34m(\u001b[0m\u001b[0mself\u001b[0m\u001b[0;34m,\u001b[0m \u001b[0mgradient\u001b[0m\u001b[0;34m,\u001b[0m \u001b[0mretain_graph\u001b[0m\u001b[0;34m,\u001b[0m \u001b[0mcreate_graph\u001b[0m\u001b[0;34m,\u001b[0m \u001b[0minputs\u001b[0m\u001b[0;34m=\u001b[0m\u001b[0minputs\u001b[0m\u001b[0;34m)\u001b[0m\u001b[0;34m\u001b[0m\u001b[0;34m\u001b[0m\u001b[0m\n\u001b[0m\u001b[1;32m    256\u001b[0m \u001b[0;34m\u001b[0m\u001b[0m\n\u001b[1;32m    257\u001b[0m     \u001b[0;32mdef\u001b[0m \u001b[0mregister_hook\u001b[0m\u001b[0;34m(\u001b[0m\u001b[0mself\u001b[0m\u001b[0;34m,\u001b[0m \u001b[0mhook\u001b[0m\u001b[0;34m)\u001b[0m\u001b[0;34m:\u001b[0m\u001b[0;34m\u001b[0m\u001b[0;34m\u001b[0m\u001b[0m\n",
      "\u001b[0;32m/opt/homebrew/lib/python3.9/site-packages/torch/autograd/__init__.py\u001b[0m in \u001b[0;36mbackward\u001b[0;34m(tensors, grad_tensors, retain_graph, create_graph, grad_variables, inputs)\u001b[0m\n\u001b[1;32m    145\u001b[0m         \u001b[0mretain_graph\u001b[0m \u001b[0;34m=\u001b[0m \u001b[0mcreate_graph\u001b[0m\u001b[0;34m\u001b[0m\u001b[0;34m\u001b[0m\u001b[0m\n\u001b[1;32m    146\u001b[0m \u001b[0;34m\u001b[0m\u001b[0m\n\u001b[0;32m--> 147\u001b[0;31m     Variable._execution_engine.run_backward(\n\u001b[0m\u001b[1;32m    148\u001b[0m         \u001b[0mtensors\u001b[0m\u001b[0;34m,\u001b[0m \u001b[0mgrad_tensors_\u001b[0m\u001b[0;34m,\u001b[0m \u001b[0mretain_graph\u001b[0m\u001b[0;34m,\u001b[0m \u001b[0mcreate_graph\u001b[0m\u001b[0;34m,\u001b[0m \u001b[0minputs\u001b[0m\u001b[0;34m,\u001b[0m\u001b[0;34m\u001b[0m\u001b[0;34m\u001b[0m\u001b[0m\n\u001b[1;32m    149\u001b[0m         allow_unreachable=True, accumulate_grad=True)  # allow_unreachable flag\n",
      "\u001b[0;31mKeyboardInterrupt\u001b[0m: "
     ]
    }
   ],
   "source": [
    "ae.fit(train_loader, test_loader, optimizer, scheduler, loss_fn, epochs=100, display_step=1, n_plot=3)"
   ]
  },
  {
   "cell_type": "code",
   "execution_count": 35,
   "metadata": {},
   "outputs": [
    {
     "data": {
      "image/png": "[encoded data removed]",
      "text/plain": [
       "<Figure size 1080x360 with 12 Axes>"
      ]
     },
     "metadata": {
      "needs_background": "light"
     },
     "output_type": "display_data"
    }
   ],
   "source": [
    "# use the VAE to reconstruct images and there initial images\n",
    "N_samples_recon = 6\n",
    "plot_loader = DataLoader(test_dataset, batch_size=N_samples_recon)\n",
    "ae.eval()\n",
    "with torch.no_grad():\n",
    "    limit = np.random.randint(0, int(len(test_dataset)/N_samples_recon))\n",
    "    for i, data in enumerate(plot_loader):\n",
    "        if i <= limit:\n",
    "            continue\n",
    "        input_image, _ = data\n",
    "        input_image = input_image.float()\n",
    "        img = ae(input_image)\n",
    "        img = img[:,0].cpu().detach().numpy()\n",
    "        img = np.reshape(img, (N_samples_recon, 28, 28))\n",
    "        input_image = input_image[:,0].cpu().detach().numpy()\n",
    "        input_image = np.reshape(input_image, (N_samples_recon, 28, 28))\n",
    "        height_plot = 5 \n",
    "        width_plot = height_plot * int(np.ceil(N_samples_recon/2))\n",
    "        fig, ax = plt.subplots(figsize=(width_plot,height_plot))\n",
    "        for i in range(N_samples_recon):\n",
    "            plt.subplot(2, N_samples_recon, i+1)\n",
    "            plt.imshow(img[i], cmap='gray')\n",
    "            plt.axis('off')\n",
    "            \n",
    "        for i in range(N_samples_recon):\n",
    "            plt.subplot(2, N_samples_recon, i+1+N_samples_recon)\n",
    "            plt.imshow(input_image[i], cmap='gray')\n",
    "            plt.axis('off')\n",
    "        plt.show()\n",
    "        break\n",
    "\n"
   ]
  },
  {
   "cell_type": "code",
   "execution_count": 36,
   "metadata": {},
   "outputs": [],
   "source": [
    "torch.save(ae.state_dict(), 'models/AE/ae_1_Ball_with_sp_latent_2_no_relu.pth')"
   ]
  },
  {
   "cell_type": "code",
   "execution_count": null,
   "metadata": {},
   "outputs": [],
   "source": []
  }
 ],
 "metadata": {
  "interpreter": {
   "hash": "b0fa6594d8f4cbf19f97940f81e996739fb7646882a419484c72d19e05852a7e"
  },
  "kernelspec": {
   "display_name": "Python 3.9.9 64-bit",
   "language": "python",
   "name": "python3"
  },
  "language_info": {
   "codemirror_mode": {
    "name": "ipython",
    "version": 3
   },
   "file_extension": ".py",
   "mimetype": "text/x-python",
   "name": "python",
   "nbconvert_exporter": "python",
   "pygments_lexer": "ipython3",
   "version": "3.9.9"
  },
  "orig_nbformat": 4
 },
 "nbformat": 4,
 "nbformat_minor": 2
}
