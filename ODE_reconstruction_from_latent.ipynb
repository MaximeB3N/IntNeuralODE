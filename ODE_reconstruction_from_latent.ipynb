{
 "cells": [
  {
   "cell_type": "code",
   "execution_count": 1,
   "metadata": {},
   "outputs": [
    {
     "data": {
      "text/html": [
       "        <script type=\"text/javascript\">\n",
       "        window.PlotlyConfig = {MathJaxConfig: 'local'};\n",
       "        if (window.MathJax) {MathJax.Hub.Config({SVG: {font: \"STIX-Web\"}});}\n",
       "        if (typeof require !== 'undefined') {\n",
       "        require.undef(\"plotly\");\n",
       "        requirejs.config({\n",
       "            paths: {\n",
       "                'plotly': ['https://cdn.plot.ly/plotly-2.11.1.min']\n",
       "            }\n",
       "        });\n",
       "        require(['plotly'], function(Plotly) {\n",
       "            window._Plotly = Plotly;\n",
       "        });\n",
       "        }\n",
       "        </script>\n",
       "        "
      ]
     },
     "metadata": {},
     "output_type": "display_data"
    }
   ],
   "source": [
    "import torch\n",
    "import torch.nn as nn\n",
    "\n",
    "import numpy as np\n",
    "\n",
    "import matplotlib.pyplot as plt\n",
    "\n",
    "from plotly.subplots import make_subplots\n",
    "import plotly.graph_objs as go\n",
    "from plotly.offline import init_notebook_mode, iplot\n",
    "init_notebook_mode(connected=True)\n",
    "from sklearn.decomposition import PCA\n",
    "\n",
    "import ipywidgets as widgets\n",
    "from ipywidgets import interact"
   ]
  },
  {
   "cell_type": "code",
   "execution_count": 2,
   "metadata": {},
   "outputs": [],
   "source": [
    "from src.models.node import ODEnetSimple\n",
    "from src.models.anode import ANODENet\n",
    "from src.models.ae import ConvAE\n",
    "\n",
    "from src.utils.utils import add_spatial_encoding\n",
    "\n",
    "from src.data.generate import generate_gravity_hole_ball_images, add_average_velocity\n",
    "from src.data.box import GravityHoleBall"
   ]
  },
  {
   "cell_type": "markdown",
   "metadata": {},
   "source": [
    "# Spiral trajectories"
   ]
  },
  {
   "cell_type": "code",
   "execution_count": 3,
   "metadata": {},
   "outputs": [],
   "source": [
    "pathOde = \"models/AE_ODE/centered_spiral_encoded_0_6_final_data_mid_dim_100_v2.pt\"\n",
    "pathAE = \"models/AE/conv_custom_2_gaussian_r_1_custom_loss_alpha_0_0.pt\"\n",
    "pathLatentPos = \"images/AE_ODE/encoded_reconstruction/centered_encoded_samples_fast_spiral_2.npy\"\n",
    "pathInputs = \"images/AE_ODE/encoded_reconstruction/centered_trues_images_fast_spiral_2.npy\"\n"
   ]
  },
  {
   "cell_type": "code",
   "execution_count": 4,
   "metadata": {},
   "outputs": [
    {
     "name": "stdout",
     "output_type": "stream",
     "text": [
      "Number of parameters: 10602\n",
      "<All keys matched successfully>\n",
      "Number of parameters in the model: 220387\n",
      "<All keys matched successfully>\n"
     ]
    }
   ],
   "source": [
    "ode = ODEnetSimple(in_dim=2, mid_dim=[100, 100], out_dim=2)\n",
    "print(ode.load_state_dict(torch.load(pathOde)))\n",
    "\n",
    "ae = ConvAE(height=28, width=28, latent_dim=2)\n",
    "print(ae.load_state_dict(torch.load(pathAE)))"
   ]
  },
  {
   "cell_type": "code",
   "execution_count": 5,
   "metadata": {},
   "outputs": [
    {
     "name": "stdout",
     "output_type": "stream",
     "text": [
      "torch.Size([10000, 2])\n",
      "torch.Size([10000, 1, 28, 28])\n",
      "torch.Size([10000, 2])\n"
     ]
    }
   ],
   "source": [
    "latent_encoded = torch.from_numpy(np.load(pathLatentPos))\n",
    "print(latent_encoded.shape)\n",
    "inputs = torch.from_numpy(np.load(pathInputs)).float()\n",
    "print(inputs.shape)\n",
    "latent_encoded_computed = ae.encoder_linear(ae.encoder(inputs))\n",
    "print(latent_encoded_computed.shape)\n"
   ]
  },
  {
   "cell_type": "markdown",
   "metadata": {},
   "source": [
    "## Overall trajectory (same time steps)"
   ]
  },
  {
   "cell_type": "code",
   "execution_count": 6,
   "metadata": {},
   "outputs": [
    {
     "name": "stdout",
     "output_type": "stream",
     "text": [
      "torch.Size([10000, 1, 2])\n",
      "torch.Size([10000, 1, 28, 28])\n"
     ]
    }
   ],
   "source": [
    "dt = 0.001\n",
    "final_time = 10000*dt\n",
    "total_steps = 10000\n",
    "times = torch.linspace(0., final_time, total_steps, dtype=torch.float64).float()\n",
    "\n",
    "predicted_output = ode(latent_encoded[0].unsqueeze(0), times)\n",
    "print(predicted_output.shape)\n",
    "reconstructed_trajectory = ae.decoder(ae.decoder_linear(predicted_output).reshape(-1, 128, 3, 3))\n",
    "print(reconstructed_trajectory.shape)"
   ]
  },
  {
   "cell_type": "code",
   "execution_count": 7,
   "metadata": {},
   "outputs": [
    {
     "data": {
      "text/plain": [
       "[<matplotlib.lines.Line2D at 0x17e82a370>]"
      ]
     },
     "execution_count": 7,
     "metadata": {},
     "output_type": "execute_result"
    },
    {
     "data": {
      "image/png": "[encoded data removed]",
      "text/plain": [
       "<Figure size 432x288 with 1 Axes>"
      ]
     },
     "metadata": {
      "needs_background": "light"
     },
     "output_type": "display_data"
    }
   ],
   "source": [
    "plt.plot(latent_encoded_computed[:,0].cpu().detach().numpy(), \n",
    "                latent_encoded_computed[:,1].cpu().detach().numpy(), 'red', label=\"Computed\")\n",
    "\n",
    "plt.plot(predicted_output[:,-1,0].cpu().detach().numpy(), \n",
    "                predicted_output[:,-1,1].cpu().detach().numpy(), 'orange', label=\"Predicted\")"
   ]
  },
  {
   "cell_type": "code",
   "execution_count": 8,
   "metadata": {},
   "outputs": [
    {
     "name": "stdout",
     "output_type": "stream",
     "text": [
      "(10000, 28, 28, 3)\n",
      "(10000, 28, 28, 3)\n"
     ]
    }
   ],
   "source": [
    "from skimage.color import gray2rgb\n",
    "# switch to rgb images \n",
    "reconstructed_trajectory_np = reconstructed_trajectory.detach().numpy()\n",
    "reconstructed_trajectory_np = np.array([gray2rgb(img[0]) for img in reconstructed_trajectory_np])\n",
    "# normalize the images\n",
    "reconstructed_trajectory_np = 350*(reconstructed_trajectory_np - reconstructed_trajectory_np.min())/(reconstructed_trajectory_np.max() - reconstructed_trajectory_np.min())\n",
    "print(reconstructed_trajectory_np.shape)\n",
    "\n",
    "inputs_images = inputs.numpy()\n",
    "inputs_images = np.array([gray2rgb(img[0]) for img in inputs_images])\n",
    "inputs_images = 350*(inputs_images - inputs_images.min())/(inputs_images.max() - inputs_images.min())\n",
    "print(inputs_images.shape)"
   ]
  },
  {
   "cell_type": "code",
   "execution_count": 9,
   "metadata": {},
   "outputs": [
    {
     "data": {
      "application/vnd.jupyter.widget-view+json": {
       "model_id": "b05cacdb4e2949d49f74559c099808a4",
       "version_major": 2,
       "version_minor": 0
      },
      "text/plain": [
       "FigureWidget({\n",
       "    'data': [{'type': 'image',\n",
       "              'uid': 'a987a53f-21eb-45bb-bfc3-539d0649f886',\n",
       "   …"
      ]
     },
     "metadata": {},
     "output_type": "display_data"
    }
   ],
   "source": [
    "fig = make_subplots(rows=1, cols=2, subplot_titles=(\"Computed\", \"Predicted\"))\n",
    "fig = go.FigureWidget(fig)\n",
    "fig.add_image(z=reconstructed_trajectory_np[300], row=1, col=1)\n",
    "fig.add_image(z=inputs_images[300], row=1, col=2)\n",
    "# fig.add_image(z=inputs.numpy()[300]*350, row=2, col=1)\n",
    "# fig = go.Figure(go.Heatmap(z=reconstructed_trajectory_np[0], colorscale='gray'))\n",
    "fig"
   ]
  },
  {
   "cell_type": "code",
   "execution_count": 10,
   "metadata": {},
   "outputs": [
    {
     "data": {
      "application/vnd.jupyter.widget-view+json": {
       "model_id": "984b71559cbb46148beb8abdddd92d29",
       "version_major": 2,
       "version_minor": 0
      },
      "text/plain": [
       "interactive(children=(FloatSlider(value=5.0, description='t', max=10.0, step=0.001), Output()), _dom_classes=(…"
      ]
     },
     "metadata": {},
     "output_type": "display_data"
    },
    {
     "data": {
      "application/vnd.jupyter.widget-view+json": {
       "model_id": "d29edab85605400885177c5697d1231d",
       "version_major": 2,
       "version_minor": 0
      },
      "text/plain": [
       "FigureWidget({\n",
       "    'data': [{'name': 'true image',\n",
       "              'type': 'image',\n",
       "              'uid': '79f0c9…"
      ]
     },
     "metadata": {},
     "output_type": "display_data"
    }
   ],
   "source": [
    "\n",
    "\n",
    "def interactive_image_plot(inputs_images, reconstructed_images, time_steps, dt):\n",
    "    fig = make_subplots(rows=1, cols=3, subplot_titles=(\"Input image\", \"Predicted image\"))\n",
    "    fig = go.FigureWidget(fig)\n",
    "    # add a black background to the figure\n",
    "    fig.add_image(z=inputs_images[0], row=1, col=1, name='true image')\n",
    "    fig.add_image(z=reconstructed_images[0], row=1, col=2, name='predicted image')\n",
    "\n",
    "    N_max = len(inputs_images)-1\n",
    "\n",
    "    @interact(t=(time_steps.min(),time_steps.max(),dt))\n",
    "    def update_plot(t):\n",
    "        with fig.batch_update():\n",
    "            # change the current point of \n",
    "            fig.data[0].z = inputs_images[min(int(t/dt), N_max)]\n",
    "            fig.data[1].z = reconstructed_images[min(int(t/dt), N_max)]\n",
    "\n",
    "    return fig\n",
    "\n",
    "fig = interactive_image_plot(inputs_images, reconstructed_trajectory_np, times.numpy(), 0.001)\n",
    "# print(fig)\n",
    "fig"
   ]
  },
  {
   "cell_type": "markdown",
   "metadata": {},
   "source": [
    "## Close look at the begining of the trajectory"
   ]
  },
  {
   "cell_type": "code",
   "execution_count": 11,
   "metadata": {},
   "outputs": [],
   "source": [
    "def interactive_part_trajectory_image_plot(inputs_images, reconstructed_images, time_steps, dt):\n",
    "    fig = make_subplots(rows=1, cols=3, subplot_titles=(\"Input image\", \"Predicted image\"))\n",
    "    fig = go.FigureWidget(fig)\n",
    "    # add a black background to the figure\n",
    "    fig.add_image(z=inputs_images[0], row=1, col=1, name='true image')\n",
    "    fig.add_image(z=reconstructed_images[0], row=1, col=2, name='predicted image')\n",
    "\n",
    "    N_max_input = len(inputs_images)-1\n",
    "    N_max_predicted = len(reconstructed_images)-1\n",
    "    N_max = max(N_max_input, N_max_predicted)\n",
    "\n",
    "    frac_input = N_max/N_max_predicted\n",
    "    frac_predicted = N_max/N_max_input\n",
    "\n",
    "    @interact(t=(time_steps.min(),time_steps.max(),dt))\n",
    "    def update_plot(t):\n",
    "        with fig.batch_update():\n",
    "            # change the current point of \n",
    "            print(t/dt)\n",
    "            print(int(frac_input*t/dt))\n",
    "            print(int(frac_predicted*t/dt))\n",
    "            fig.data[0].z = inputs_images[min(int(frac_input*t/dt), N_max_input)]\n",
    "            fig.data[1].z = reconstructed_images[min(int(frac_predicted*t/dt), N_max_predicted)]\n",
    "\n",
    "    return fig\n",
    "\n",
    "# fig = interactive_image_plot(inputs_images, reconstructed_trajectory_np, times.numpy(), 0.001)\n",
    "# # print(fig)\n",
    "# fig"
   ]
  },
  {
   "cell_type": "code",
   "execution_count": 12,
   "metadata": {},
   "outputs": [
    {
     "name": "stdout",
     "output_type": "stream",
     "text": [
      "torch.Size([30000, 1, 2])\n",
      "torch.Size([30000, 1, 28, 28])\n"
     ]
    }
   ],
   "source": [
    "final_ite = 3000\n",
    "dt = 0.001\n",
    "final_time = final_ite*dt\n",
    "total_steps = 30000\n",
    "times = torch.linspace(0., final_time, total_steps, dtype=torch.float64).float()\n",
    "\n",
    "predicted_output = ode(latent_encoded[0].unsqueeze(0), times)\n",
    "print(predicted_output.shape)\n",
    "reconstructed_trajectory = ae.decoder(ae.decoder_linear(predicted_output).reshape(-1, 128, 3, 3))\n",
    "print(reconstructed_trajectory.shape)"
   ]
  },
  {
   "cell_type": "code",
   "execution_count": 13,
   "metadata": {},
   "outputs": [
    {
     "data": {
      "text/plain": [
       "[<matplotlib.lines.Line2D at 0x17f6ae4f0>]"
      ]
     },
     "execution_count": 13,
     "metadata": {},
     "output_type": "execute_result"
    },
    {
     "data": {
      "image/png": "[encoded data removed]",
      "text/plain": [
       "<Figure size 432x288 with 1 Axes>"
      ]
     },
     "metadata": {
      "needs_background": "light"
     },
     "output_type": "display_data"
    }
   ],
   "source": [
    "plt.plot(latent_encoded_computed[:final_ite,0].cpu().detach().numpy(), \n",
    "                latent_encoded_computed[:final_ite,1].cpu().detach().numpy(), 'red', label=\"Computed\")\n",
    "\n",
    "plt.plot(predicted_output[:,-1,0].cpu().detach().numpy(), \n",
    "                predicted_output[:,-1,1].cpu().detach().numpy(), 'orange', label=\"Predicted\")"
   ]
  },
  {
   "cell_type": "code",
   "execution_count": 14,
   "metadata": {},
   "outputs": [
    {
     "name": "stdout",
     "output_type": "stream",
     "text": [
      "(30000, 28, 28, 3)\n",
      "(3000, 28, 28, 3)\n"
     ]
    }
   ],
   "source": [
    "from skimage.color import gray2rgb\n",
    "# switch to rgb images \n",
    "reconstructed_trajectory_np = reconstructed_trajectory.detach().numpy()\n",
    "reconstructed_trajectory_np = np.array([gray2rgb(img[0]) for img in reconstructed_trajectory_np])\n",
    "# normalize the images\n",
    "reconstructed_trajectory_np = 350*(reconstructed_trajectory_np - reconstructed_trajectory_np.min())/(reconstructed_trajectory_np.max() - reconstructed_trajectory_np.min())\n",
    "print(reconstructed_trajectory_np.shape)\n",
    "\n",
    "inputs_images = inputs.numpy()[:final_ite]\n",
    "inputs_images = np.array([gray2rgb(img[0]) for img in inputs_images])\n",
    "inputs_images = 350*(inputs_images - inputs_images.min())/(inputs_images.max() - inputs_images.min())\n",
    "print(inputs_images.shape)"
   ]
  },
  {
   "cell_type": "code",
   "execution_count": 15,
   "metadata": {},
   "outputs": [
    {
     "data": {
      "application/vnd.jupyter.widget-view+json": {
       "model_id": "2a3af50055794a2bb0a6f501d1108740",
       "version_major": 2,
       "version_minor": 0
      },
      "text/plain": [
       "interactive(children=(FloatSlider(value=1.0, description='t', max=3.0, step=0.001), Output()), _dom_classes=('…"
      ]
     },
     "metadata": {},
     "output_type": "display_data"
    },
    {
     "data": {
      "application/vnd.jupyter.widget-view+json": {
       "model_id": "cabebe5ce9a54923a6452dce7968804e",
       "version_major": 2,
       "version_minor": 0
      },
      "text/plain": [
       "FigureWidget({\n",
       "    'data': [{'name': 'true image',\n",
       "              'type': 'image',\n",
       "              'uid': 'e99ace…"
      ]
     },
     "metadata": {},
     "output_type": "display_data"
    }
   ],
   "source": [
    "fig = interactive_part_trajectory_image_plot(inputs_images, reconstructed_trajectory_np, times.numpy(), dt)\n",
    "fig"
   ]
  },
  {
   "cell_type": "markdown",
   "metadata": {},
   "source": [
    "# Gravity Hole trajectory"
   ]
  },
  {
   "cell_type": "markdown",
   "metadata": {},
   "source": [
    "## Singe trajectory"
   ]
  },
  {
   "cell_type": "code",
   "execution_count": 16,
   "metadata": {},
   "outputs": [],
   "source": [
    "pathAE = \"models/AE/ae_1_Ball_with_sp_latent_3_no_relu.pth\"\n",
    "\n",
    "# Smooth and short trajectory with anode (a_dim = 1)\n",
    "# pathLatent = \"models/AE_ODE/trajectory_latent_gravity_1_ball_3_64_1_v1.npy\"\n",
    "# pathImages = \"models/AE_ODE/images_latent_gravity_1_ball_v1.npy\"\n",
    "# pathODE = \"models/AE_ODE/anode_latent_gravity_1_ball_3_64_1.pt\"\n",
    "# augment_dim = 1\n",
    "# time_dependent = False\n",
    "\n",
    "# Trajectory learnt with a simple Neural ODE\n",
    "# pathLatent = \"models/AE_ODE/trajectory_latent_gravity_1_ball_3_64_0_v2.npy\"\n",
    "# pathImages = \"models/AE_ODE/images_latent_gravity_1_ball_v2.npy\"\n",
    "# pathODE = \"models/AE_ODE/anode_latent_gravity_1_ball_3_64_0_v2.pt\"\n",
    "# augment_dim = 0\n",
    "# time_dependent = False\n",
    "\n",
    "# Trajectory learnt with an ANODE (a_dim = 1)\n",
    "# pathLatent = \"models/AE_ODE/trajectory_latent_gravity_1_ball_3_64_0_v2.npy\"\n",
    "# pathImages = \"models/AE_ODE/images_latent_gravity_1_ball_v2.npy\"\n",
    "# pathODE = \"models/AE_ODE/anode_latent_gravity_1_ball_3_64_1_v2.pt\"\n",
    "# augment_dim = 1\n",
    "# time_dependent = False\n",
    "\n",
    "# Trajectory learnt with an ANODE (a_dim = 2)\n",
    "# pathLatent = \"models/AE_ODE/trajectory_latent_gravity_1_ball_3_64_0_v2.npy\"\n",
    "# pathImages = \"models/AE_ODE/images_latent_gravity_1_ball_v2.npy\"\n",
    "# pathODE = \"models/AE_ODE/anode_latent_gravity_1_ball_3_64_2_v2.pt\"\n",
    "# augment_dim = 2\n",
    "# time_dependent = False\n",
    "\n",
    "# Trajectory with more oscillations learnt with an ANODE (a_dim = 2)\n",
    "# pathLatent = \"models/AE_ODE/trajectory_latent_gravity_1_ball_3_64_2_more_gravity_and_friction.npy\"\n",
    "# pathImages = \"models/AE_ODE/images_latent_gravity_1_ball_more_gravity_and_friction.npy\"\n",
    "# pathODE = \"models/AE_ODE/anode_latent_gravity_1_ball_3_64_2_more_gravity_and_friction.pt\"\n",
    "# augment_dim = 2\n",
    "# time_dependent = False\n",
    "\n",
    "# Trajectory with more oscillations learnt with an ANODE (a_dim = 1)\n",
    "pathLatent = \"models/AE_ODE/trajectory_latent_gravity_1_ball_3_64_1_more_gravity_and_friction_v2.npy\"\n",
    "pathImages = \"models/AE_ODE/images_latent_gravity_1_ball_more_gravity_and_friction_v2.npy\"\n",
    "pathODE = \"models/AE_ODE/anode_latent_gravity_1_ball_3_64_1_more_gravity_and_friction_v2.pt\"\n",
    "augment_dim = 1\n",
    "time_dependent = False\n",
    "\n",
    "# Trajectory with more oscillations learnt with a neural ODE (a_dim = 0)\n",
    "# pathLatent = \"models/AE_ODE/trajectory_latent_gravity_1_ball_3_64_1_more_gravity_and_friction_v2.npy\"\n",
    "# pathImages = \"models/AE_ODE/images_latent_gravity_1_ball_more_gravity_and_friction_v2.npy\"\n",
    "# pathODE = \"models/AE_ODE/anode_latent_gravity_1_ball_3_64_0_more_gravity_and_friction_v2.pt\"\n",
    "# augment_dim = 0\n",
    "# time_dependent = False\n",
    "\n",
    "# Trajectory with more oscillations learnt with a neural ODE and time dependency\n",
    "# pathLatent = \"models/AE_ODE/trajectory_latent_gravity_1_ball_3_64_1_more_gravity_and_friction_v2.npy\"\n",
    "# pathImages = \"models/AE_ODE/images_latent_gravity_1_ball_more_gravity_and_friction_v2.npy\"\n",
    "# pathODE = \"models/AE_ODE/anode_latent_gravity_1_ball_3_64_0_with_time_more_gravity_and_friction_v2.pt\n",
    "# augment_dim = 0\n",
    "# time_dependent = True\n",
    "\n",
    "# Trajectory with more oscillations learnt with an ANODE (a_dim = 1) and time dependency\n",
    "# pathLatent = \"models/AE_ODE/trajectory_latent_gravity_1_ball_3_64_1_more_gravity_and_friction_v2.npy\"\n",
    "# pathImages = \"models/AE_ODE/images_latent_gravity_1_ball_more_gravity_and_friction_v2.npy\"\n",
    "# pathODE = \"models/AE_ODE/anode_latent_gravity_1_ball_3_64_0_with_time_more_gravity_and_friction_v2.pt\n",
    "# augment_dim = 0\n",
    "# time_dependent = True"
   ]
  },
  {
   "cell_type": "code",
   "execution_count": null,
   "metadata": {},
   "outputs": [],
   "source": [
    "# load the Latent and the images \n",
    "images = np.load(pathImages)\n",
    "latent_encoded = np.load(pathLatent)\n",
    "print(images.shape, latent_encoded.shape)"
   ]
  },
  {
   "cell_type": "markdown",
   "metadata": {},
   "source": [
    "## Multiple trajectories"
   ]
  },
  {
   "cell_type": "code",
   "execution_count": 35,
   "metadata": {},
   "outputs": [],
   "source": [
    "latent_dim_model = 25\n",
    "latent_dim = latent_dim_model*2\n",
    "hidden_dim = 128\n",
    "activation = \"ReLU\"\n",
    "activation_fn = getattr(nn, activation)\n",
    "\n",
    "pathAE = \"models/AE/AE_with_smooth_activation/ae_1_Ball_with_sp_latent_{}_no_relu_activation_{}_no_margin.pth\".format(latent_dim_model, activation)\n",
    "# # Smooth and short trajectory with anode (a_dim = 0)\n",
    "# pathLatent = \"models/AE_ODE/trajectory_latent_gravity_1_ball_3_64_1_v1.npy\"\n",
    "# pathImages = \"models/AE_ODE/images_latent_gravity_1_ball_v1.npy\"\n",
    "# pathODE = \"models/AE_ODE/MultiTrajectories/anode_1_Ball_with_sp_latent_{}_velocity_1_hidden_dim_{}_no_relu_activation_{}_no_margin.pth\".format(latent_dim_model, hidden_dim, activation)\n",
    "pathODE = \"models/AE_ODE/MultiTrajectories/anode_1_Ball_with_sp_latent_{}_velocity_1_hidden_dim_{}_no_relu_activation_{}_no_margin_mse_on_images.pth\".format(latent_dim_model, hidden_dim, activation)\n",
    "augment_dim = 0\n",
    "time_dependent = False"
   ]
  },
  {
   "cell_type": "code",
   "execution_count": 36,
   "metadata": {},
   "outputs": [
    {
     "name": "stderr",
     "output_type": "stream",
     "text": [
      "100%|██████████| 1/1 [00:00<00:00, 31.16it/s]"
     ]
    },
    {
     "name": "stdout",
     "output_type": "stream",
     "text": [
      "(301, 1, 28, 28)\n",
      "torch.Size([301, 3, 28, 28])\n"
     ]
    },
    {
     "name": "stderr",
     "output_type": "stream",
     "text": [
      "\n"
     ]
    }
   ],
   "source": [
    "MARGIN_MIN = 5\n",
    "MIN_INIT_VELOCITY = 200.\n",
    "WIDTH, HEIGHT = 28, 28\n",
    "RADIUS = 3\n",
    "\n",
    "infos = {\n",
    "    \"MARGIN_MIN\":MARGIN_MIN,\n",
    "    \"MIN_INIT_VELOCITY\":MIN_INIT_VELOCITY,\n",
    "    \"WIDTH\":WIDTH,\n",
    "    \"HEIGHT\":HEIGHT,\n",
    "    \"RADIUS\":RADIUS\n",
    "}\n",
    "\n",
    "x = WIDTH/4.\n",
    "y = HEIGHT/4.\n",
    "vx = 0.\n",
    "vy = 0.\n",
    "\n",
    "box = GravityHoleBall(x, y, vx, vy, (WIDTH, HEIGHT),RADIUS)\n",
    "\n",
    "Num_pos_velocity = 1\n",
    "N = 1\n",
    "N_frames = 300 + Num_pos_velocity\n",
    "dt = 1./N_frames\n",
    "\n",
    "times = np.arange(0, N_frames*dt, dt)\n",
    "\n",
    "# encoded_trajectory = generate_gravity_hole_ball_positions(box, N=N, N_frames=N_frames, dt=dt)[:,:,:]\n",
    "# print(encoded_trajectory.shape)\n",
    "\n",
    "images = generate_gravity_hole_ball_images(box, N=N, N_frames=N_frames, dt=dt, infos=infos).reshape(-1, 1, HEIGHT, WIDTH)\n",
    "print(images.shape)\n",
    "# dataset = [(image, 0) for image in dataset]\n",
    "# dataset = add_spatial_encoding(dataset)\n",
    "# print(len(dataset), len(dataset[0]), dataset[0][0].shape)\n",
    "images = torch.from_numpy(add_spatial_encoding(images)).float()\n",
    "print(images.shape)\n",
    "\n"
   ]
  },
  {
   "cell_type": "code",
   "execution_count": 37,
   "metadata": {},
   "outputs": [
    {
     "name": "stdout",
     "output_type": "stream",
     "text": [
      "Number of parameters in the model: 276028\n",
      "<All keys matched successfully>\n",
      "torch.Size([1, 301, 25])\n",
      "(1, 300, 50)\n"
     ]
    }
   ],
   "source": [
    "ae = ConvAE(height=28, width=28, in_channels=3, latent_dim=latent_dim_model, relu=False, activation=activation_fn)\n",
    "print(ae.load_state_dict(torch.load(pathAE)))\n",
    "\n",
    "for param in ae.parameters():\n",
    "    param.requires_grad = False\n",
    "\n",
    "latent_encoded = ae.encode(images).reshape(N, N_frames, latent_dim_model)\n",
    "print(latent_encoded.shape)\n",
    "latent_encoded = add_average_velocity(latent_encoded, Num_pos_velocity, dt).numpy()\n",
    "print(latent_encoded.shape)"
   ]
  },
  {
   "cell_type": "markdown",
   "metadata": {},
   "source": [
    "## Loading Model"
   ]
  },
  {
   "cell_type": "code",
   "execution_count": 38,
   "metadata": {},
   "outputs": [
    {
     "name": "stdout",
     "output_type": "stream",
     "text": [
      "Number of parameters in the model: 32040\n",
      "<All keys matched successfully>\n"
     ]
    }
   ],
   "source": [
    "# load the models\n",
    "device = \"cpu\"\n",
    "output_dim = latent_dim\n",
    "\n",
    "anode = ANODENet(device, latent_dim, hidden_dim, output_dim, augment_dim, time_dependent=time_dependent)\n",
    "print(anode.load_state_dict(torch.load(pathODE)))\n",
    "\n",
    "for param in anode.parameters():\n",
    "    param.requires_grad = False"
   ]
  },
  {
   "cell_type": "code",
   "execution_count": 39,
   "metadata": {},
   "outputs": [
    {
     "name": "stdout",
     "output_type": "stream",
     "text": [
      "0\n",
      "0.0033333333333333335\n",
      "torch.Size([600])\n",
      "torch.Size([600]) torch.Size([50])\n",
      "torch.Size([600, 1, 50])\n",
      "torch.Size([600, 3, 28, 28])\n"
     ]
    }
   ],
   "source": [
    "index = np.random.randint(0, N)\n",
    "print(index)\n",
    "time_steps = np.linspace(0, 1., latent_encoded.shape[1])\n",
    "\n",
    "# times = torch.linspace(0, 1, latent_encoded.shape[1])\n",
    "dt = 1./ latent_encoded.shape[1]\n",
    "print(dt)\n",
    "times = torch.arange(0, 2., dt)\n",
    "print(times.shape)\n",
    "input_latent_pos = torch.from_numpy(latent_encoded[index, 0])\n",
    "print(times.shape, input_latent_pos.shape)\n",
    "\n",
    "sim = anode(input_latent_pos.unsqueeze(0), times)\n",
    "print(sim.shape)\n",
    "reconstructed_images_tensor = ae.decode(sim[..., :latent_dim_model])\n",
    "print(reconstructed_images_tensor.shape)"
   ]
  },
  {
   "cell_type": "code",
   "execution_count": 40,
   "metadata": {},
   "outputs": [
    {
     "data": {
      "text/plain": [
       "((1, 300, 50), torch.Size([600, 1, 50]))"
      ]
     },
     "execution_count": 40,
     "metadata": {},
     "output_type": "execute_result"
    }
   ],
   "source": [
    "latent_encoded.shape, sim.shape"
   ]
  },
  {
   "cell_type": "code",
   "execution_count": 41,
   "metadata": {},
   "outputs": [
    {
     "data": {
      "image/png": "[encoded data removed]",
      "text/plain": [
       "<Figure size 432x288 with 1 Axes>"
      ]
     },
     "metadata": {
      "needs_background": "light"
     },
     "output_type": "display_data"
    },
    {
     "data": {
      "image/png": "[encoded data removed]",
      "text/plain": [
       "<Figure size 432x288 with 1 Axes>"
      ]
     },
     "metadata": {
      "needs_background": "light"
     },
     "output_type": "display_data"
    },
    {
     "data": {
      "image/png": "[encoded data removed]",
      "text/plain": [
       "<Figure size 432x288 with 1 Axes>"
      ]
     },
     "metadata": {
      "needs_background": "light"
     },
     "output_type": "display_data"
    }
   ],
   "source": [
    "# plot latent\n",
    "pca = PCA(n_components=2).fit(latent_encoded[index, ..., :latent_dim_model].reshape(-1, latent_dim_model))\n",
    "pca_latent_encoded = pca.transform(latent_encoded[index, ..., :latent_dim_model].reshape(-1, latent_dim_model))\n",
    "pca_predicted_latent = pca.transform(sim[..., 0, :latent_dim_model].numpy().squeeze())\n",
    "\n",
    "\n",
    "plt.plot(pca_latent_encoded[:,0], \n",
    "        pca_latent_encoded[:,1], 'blue', label=\"True trajectory\")\n",
    "plt.plot(pca_predicted_latent[:,0], \n",
    "        pca_predicted_latent[:,1], 'orange', label=\"Predicted trajectory\")\n",
    "plt.xlabel(\"First coord of PCA\")\n",
    "plt.ylabel(\"Second coord of PCA\")\n",
    "plt.legend()\n",
    "plt.show()\n",
    "\n",
    "# print the X axis over the time\n",
    "plt.plot(time_steps, pca_latent_encoded[:,0], 'r', label=\"Ground truth Coord 1\")\n",
    "plt.plot(times.numpy(), pca_predicted_latent[:,0], 'orange', label=\"Predicted Coord 1\")\n",
    "plt.xlabel(\"Time\")\n",
    "plt.ylabel(\"First coord of PCA\")\n",
    "plt.legend()\n",
    "plt.show()\n",
    "\n",
    "plt.plot(time_steps, pca_latent_encoded[:,1], 'r', label=\"Ground truth Coord 2\")\n",
    "plt.plot(times.numpy(), pca_predicted_latent[:,1], 'orange', label=\"Predicted Coord 2\")\n",
    "plt.xlabel(\"Time\")\n",
    "plt.ylabel(\"Second coord of PCA\")\n",
    "plt.legend()\n",
    "plt.show()"
   ]
  },
  {
   "cell_type": "code",
   "execution_count": 42,
   "metadata": {},
   "outputs": [],
   "source": [
    "def interactive_part_trajectory_image_plot(inputs_images, reconstructed_images, time_steps, dt):\n",
    "    fig = make_subplots(rows=1, cols=3, subplot_titles=(\"Input image\", \"Predicted image\"))\n",
    "    fig = go.FigureWidget(fig)\n",
    "    # add a black background to the figure\n",
    "    fig.add_image(z=inputs_images[0], row=1, col=1, name='true image')\n",
    "    fig.add_image(z=reconstructed_images[0], row=1, col=2, name='predicted image')\n",
    "\n",
    "    N_max_input = len(inputs_images)-1\n",
    "    N_max_predicted = len(reconstructed_images)-1\n",
    "    N_max = max(N_max_input, N_max_predicted)\n",
    "\n",
    "    frac_input = 1. #N_max/N_max_predicted\n",
    "    frac_predicted = 1. #N_max/N_max_input\n",
    "\n",
    "    @interact(t=(time_steps.min(),time_steps.max(),dt))\n",
    "    def update_plot(t):\n",
    "        with fig.batch_update():\n",
    "            # change the current point of \n",
    "            print(t/dt)\n",
    "            print(int(frac_input*t/dt))\n",
    "            print(int(frac_predicted*t/dt))\n",
    "            fig.data[0].z = inputs_images[min(int(frac_input*t/dt), N_max_input)]\n",
    "            fig.data[1].z = reconstructed_images[min(int(frac_predicted*t/dt), N_max_predicted)]\n",
    "\n",
    "    return fig"
   ]
  },
  {
   "cell_type": "code",
   "execution_count": 43,
   "metadata": {},
   "outputs": [
    {
     "name": "stdout",
     "output_type": "stream",
     "text": [
      "(300, 1, 28, 28) (600, 1, 28, 28)\n",
      "(300, 28, 28, 3) (600, 1, 28, 28)\n",
      "(300, 28, 28, 3) (600, 28, 28, 3)\n"
     ]
    },
    {
     "data": {
      "application/vnd.jupyter.widget-view+json": {
       "model_id": "c3da1e26a34f4b279f5cbaa1ccd71b1d",
       "version_major": 2,
       "version_minor": 0
      },
      "text/plain": [
       "interactive(children=(FloatSlider(value=0.0, description='t', max=1.996666669845581, step=0.003333333333333333…"
      ]
     },
     "metadata": {},
     "output_type": "display_data"
    },
    {
     "data": {
      "application/vnd.jupyter.widget-view+json": {
       "model_id": "b4b2e376704f435f94d0e4cf8d550a46",
       "version_major": 2,
       "version_minor": 0
      },
      "text/plain": [
       "FigureWidget({\n",
       "    'data': [{'name': 'true image',\n",
       "              'type': 'image',\n",
       "              'uid': '68b7e2…"
      ]
     },
     "metadata": {},
     "output_type": "display_data"
    }
   ],
   "source": [
    "from skimage.color import gray2rgb\n",
    "\n",
    "dt = 1./ latent_encoded.shape[1]\n",
    "inputs_images = np.expand_dims(images[:-1,0,...], axis=1)\n",
    "reconstructed_images = np.expand_dims(reconstructed_images_tensor[:,0,...].numpy(), axis=1)\n",
    "print(inputs_images.shape, reconstructed_images.shape)\n",
    "\n",
    "inputs_images = np.array([gray2rgb(img[0]) for img in inputs_images])\n",
    "inputs_images = 200*(inputs_images - inputs_images.min())/(inputs_images.max() - inputs_images.min())\n",
    "print(inputs_images.shape, reconstructed_images.shape)\n",
    "\n",
    "reconstructed_images = np.array([gray2rgb(img[0]) for img in reconstructed_images])\n",
    "reconstructed_images = 200*(reconstructed_images - reconstructed_images.min())/(reconstructed_images.max() - reconstructed_images.min())\n",
    "\n",
    "print(inputs_images.shape, reconstructed_images.shape)\n",
    "interactive_part_trajectory_image_plot(inputs_images, reconstructed_images, times.numpy(), dt)"
   ]
  },
  {
   "cell_type": "code",
   "execution_count": null,
   "metadata": {},
   "outputs": [],
   "source": []
  }
 ],
 "metadata": {
  "interpreter": {
   "hash": "b0fa6594d8f4cbf19f97940f81e996739fb7646882a419484c72d19e05852a7e"
  },
  "kernelspec": {
   "display_name": "Python 3.9.9 64-bit",
   "language": "python",
   "name": "python3"
  },
  "language_info": {
   "codemirror_mode": {
    "name": "ipython",
    "version": 3
   },
   "file_extension": ".py",
   "mimetype": "text/x-python",
   "name": "python",
   "nbconvert_exporter": "python",
   "pygments_lexer": "ipython3",
   "version": "3.9.9"
  },
  "orig_nbformat": 4
 },
 "nbformat": 4,
 "nbformat_minor": 2
}
