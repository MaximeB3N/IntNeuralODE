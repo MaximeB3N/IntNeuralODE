{
 "cells": [
  {
   "cell_type": "code",
   "execution_count": 48,
   "metadata": {},
   "outputs": [],
   "source": [
    "import torch\n",
    "import torch.nn as nn\n",
    "import numpy as np\n",
    "from tqdm.notebook import trange\n",
    "\n",
    "from src.data.box import GravityHoleBall\n",
    "from src.data.generate import generate_gravity_hole_ball_images, add_average_velocity\n",
    "\n",
    "from src.utils.utils import add_spatial_encoding, gaussian_density\n",
    "from src.utils.node import train, BatchGetterMultiTrajectories\n",
    "from src.utils.viz import plot_tsne_and_pca, plot_tsne_and_pca_portrait, display_ode_trajectory\n",
    "\n",
    "from src.models.ae import ConvAE\n",
    "from src.models.node import ODEnetSimple\n",
    "from src.models.anode import ANODENet"
   ]
  },
  {
   "cell_type": "code",
   "execution_count": 2,
   "metadata": {},
   "outputs": [],
   "source": [
    "MARGIN_MIN = 5\n",
    "MIN_INIT_VELOCITY = 200.\n",
    "WIDTH, HEIGHT = 28, 28\n",
    "RADIUS = 3\n",
    "\n",
    "infos = {\n",
    "    \"MARGIN_MIN\":MARGIN_MIN,\n",
    "    \"MIN_INIT_VELOCITY\":MIN_INIT_VELOCITY,\n",
    "    \"WIDTH\":WIDTH,\n",
    "    \"HEIGHT\":HEIGHT,\n",
    "    \"RADIUS\":RADIUS\n",
    "}\n"
   ]
  },
  {
   "cell_type": "code",
   "execution_count": 3,
   "metadata": {},
   "outputs": [],
   "source": [
    "x = WIDTH/4.\n",
    "y = HEIGHT/4.\n",
    "vx = 0.\n",
    "vy = 0.\n",
    "\n",
    "box = GravityHoleBall(x, y, vx, vy, (WIDTH, HEIGHT),RADIUS)"
   ]
  },
  {
   "cell_type": "code",
   "execution_count": 55,
   "metadata": {},
   "outputs": [
    {
     "name": "stderr",
     "output_type": "stream",
     "text": [
      "100%|██████████| 300/300 [00:09<00:00, 33.04it/s]\n"
     ]
    },
    {
     "name": "stdout",
     "output_type": "stream",
     "text": [
      "(90300, 1, 28, 28)\n",
      "torch.Size([90300, 3, 28, 28])\n"
     ]
    }
   ],
   "source": [
    "Num_pos_velocity = 1\n",
    "N = 300\n",
    "N_frames = 300 + Num_pos_velocity\n",
    "dt = 1./N_frames\n",
    "\n",
    "times = np.arange(0, N_frames*dt, dt)\n",
    "\n",
    "# encoded_trajectory = generate_gravity_hole_ball_positions(box, N=N, N_frames=N_frames, dt=dt)[:,:,:]\n",
    "# print(encoded_trajectory.shape)\n",
    "\n",
    "images = generate_gravity_hole_ball_images(box, N=N, N_frames=N_frames, dt=dt, infos=infos).reshape(-1, 1, HEIGHT, WIDTH)\n",
    "print(images.shape)\n",
    "# dataset = [(image, 0) for image in dataset]\n",
    "# dataset = add_spatial_encoding(dataset)\n",
    "# print(len(dataset), len(dataset[0]), dataset[0][0].shape)\n",
    "images = torch.from_numpy(add_spatial_encoding(images)).float()\n",
    "print(images.shape)"
   ]
  },
  {
   "cell_type": "code",
   "execution_count": 56,
   "metadata": {},
   "outputs": [
    {
     "name": "stdout",
     "output_type": "stream",
     "text": [
      "Number of parameters in the model: 276028\n",
      "<All keys matched successfully>\n",
      "torch.Size([300, 301, 25])\n",
      "torch.Size([90300, 3, 28, 28])\n",
      "torch.Size([300, 300, 3, 28, 28])\n"
     ]
    }
   ],
   "source": [
    "latent_dim_model = 25\n",
    "activation = \"ReLU\"\n",
    "activation_fn = getattr(torch.nn, activation)\n",
    "# path = \"models/AE/ae_1_Ball_with_sp_latent_{}.pth\".format(latent_dim)\n",
    "# path = \"models/AE/ae_1_Ball_with_sp_latent_{}_no_relu.pth\".format(latent_dim)\n",
    "# Good: SiLU with 10 latent dim, GELU with 6 latent dim\n",
    "path = \"models/AE/AE_with_smooth_activation/ae_1_Ball_with_sp_latent_{}_no_relu_activation_{}_no_margin.pth\".format(latent_dim_model, activation)\n",
    "\n",
    "ae = ConvAE(height=HEIGHT, width=WIDTH, in_channels=3, latent_dim=latent_dim_model, relu=False, activation=activation_fn)\n",
    "print(ae.load_state_dict(torch.load(path)))\n",
    "\n",
    "for param in ae.parameters():\n",
    "    param.requires_grad = False\n",
    "\n",
    "encoded_trajectory = ae.encode(images).reshape(N, N_frames, latent_dim_model).detach()\n",
    "print(encoded_trajectory.shape)\n",
    "print(images.shape)\n",
    "images = images.reshape(N, N_frames, 3, HEIGHT, WIDTH)[:, :N_frames - Num_pos_velocity,...]\n",
    "print(images.shape)"
   ]
  },
  {
   "cell_type": "code",
   "execution_count": 57,
   "metadata": {},
   "outputs": [
    {
     "name": "stdout",
     "output_type": "stream",
     "text": [
      "torch.Size([300, 301, 25])\n",
      "torch.Size([300, 300, 50])\n"
     ]
    }
   ],
   "source": [
    "# prepare data to contains positions and velocity\n",
    "print(encoded_trajectory.shape)\n",
    "encoded_trajectory = add_average_velocity(encoded_trajectory, Num_pos_velocity, dt)\n",
    "print(encoded_trajectory.shape)"
   ]
  },
  {
   "cell_type": "code",
   "execution_count": 58,
   "metadata": {},
   "outputs": [],
   "source": [
    "batch_time = 100\n",
    "n_samples = 1\n",
    "total_length = N_frames - Num_pos_velocity\n",
    "\n",
    "\n",
    "class BatchGetterMultiTrajectoriesWithImages:\n",
    "    def __init__(self, batch_time, n_samples, total_length, dt, positions, images, frac_train):\n",
    "        # N: number of trajectories\n",
    "        # M: number of time steps\n",
    "        # D: dimension of the state space\n",
    "        # positions: (N, T, D)\n",
    "        self.times = torch.linspace(0., total_length*dt, total_length, dtype=torch.float64).float()\n",
    "        if isinstance(positions, torch.Tensor):\n",
    "            self.true_positions = positions.float()\n",
    "\n",
    "        elif isinstance(positions, np.ndarray):\n",
    "            self.true_positions = torch.from_numpy(positions).float()\n",
    "\n",
    "        else:\n",
    "            assert False, \"positions must be either a torch.Tensor or a np.ndarray\"\n",
    "\n",
    "        self.N_train = int(positions.shape[0]*frac_train)\n",
    "\n",
    "        self.train_times = self.times #[:self.N_train]\n",
    "        self.test_times = self.times #[self.N_train:]\n",
    "        self.train_positions = self.true_positions[:self.N_train]\n",
    "        self.test_positions = self.true_positions[self.N_train:]\n",
    "        self.train_images = images[:self.N_train]\n",
    "        self.test_images = images[self.N_train:]\n",
    "        self.n_samples = n_samples\n",
    "        self.batch_time = batch_time\n",
    "        self.dt = dt\n",
    "        self.total_length = total_length\n",
    "\n",
    "    def get_batch(self):\n",
    "        index = np.random.randint(0, self.N_train, self.n_samples)\n",
    "        s = torch.from_numpy(np.random.choice(np.arange(self.train_times.shape[0] - self.batch_time, dtype=np.int64), self.n_samples, replace=False))\n",
    "        batch_y0 = self.train_positions[index, s]  # (M, D)\n",
    "        batch_t = self.train_times[:self.batch_time]  # (T)\n",
    "        batch_images = torch.stack([self.train_images[index, s + i] for i in range(self.batch_time)], dim=0).squeeze(1) # (T, M, D)\n",
    "        return batch_y0, batch_t, batch_images\n",
    "\n",
    "\n",
    "getter = BatchGetterMultiTrajectoriesWithImages(batch_time, n_samples, total_length, dt, encoded_trajectory, images, frac_train=1.)"
   ]
  },
  {
   "cell_type": "code",
   "execution_count": 78,
   "metadata": {},
   "outputs": [],
   "source": [
    "latent_dim = latent_dim_model*(1 + 1)\n",
    "device = \"cpu\"\n",
    "data_dim = latent_dim\n",
    "hidden_dim = 128\n",
    "output_dim = latent_dim\n",
    "augment_dim = 0\n",
    "anode = ANODENet(device, data_dim, hidden_dim, output_dim, augment_dim, time_dependent=False)\n",
    "# pathModel = \"models/AE_ODE/MultiTrajectories/anode_1_Ball_with_sp_latent_25_velocity_1_hidden_dim_128_no_relu_activation_ReLU_no_margin.pth\"\n",
    "# anode.load_state_dict(torch.load(pathModel))"
   ]
  },
  {
   "cell_type": "code",
   "execution_count": 79,
   "metadata": {},
   "outputs": [
    {
     "name": "stdout",
     "output_type": "stream",
     "text": [
      "The graphs at epoch 0\n"
     ]
    },
    {
     "data": {
      "image/png": "[encoded data removed]",
      "text/plain": [
       "<Figure size 432x288 with 1 Axes>"
      ]
     },
     "metadata": {
      "needs_background": "light"
     },
     "output_type": "display_data"
    },
    {
     "data": {
      "image/png": "[encoded data removed]",
      "text/plain": [
       "<Figure size 432x288 with 1 Axes>"
      ]
     },
     "metadata": {
      "needs_background": "light"
     },
     "output_type": "display_data"
    },
    {
     "data": {
      "image/png": "[encoded data removed]",
      "text/plain": [
       "<Figure size 432x288 with 1 Axes>"
      ]
     },
     "metadata": {
      "needs_background": "light"
     },
     "output_type": "display_data"
    }
   ],
   "source": [
    "display_ode_trajectory(0, anode, latent_dim_model, getter, final_time=total_length, dt=dt)"
   ]
  },
  {
   "cell_type": "code",
   "execution_count": 133,
   "metadata": {},
   "outputs": [],
   "source": [
    "optimizer = torch.optim.Adam(anode.parameters(), lr=1e-4)\n",
    "scheduler = torch.optim.lr_scheduler.StepLR(optimizer, step_size=10000, gamma=0.99)\n",
    "batch_size = 16\n",
    "epochs = 10000"
   ]
  },
  {
   "cell_type": "code",
   "execution_count": 131,
   "metadata": {},
   "outputs": [],
   "source": [
    "class loss_ODE(torch.nn.Module):\n",
    "    def __init__(self, ae_model, latent_dim_model):\n",
    "        super(loss_ODE, self).__init__()\n",
    "        self.ae_model = ae_model\n",
    "        self.ae_model.eval()\n",
    "        for param in self.ae_model.parameters():\n",
    "            param.requires_grad = False\n",
    "        \n",
    "        self.latent_dim_model = latent_dim_model\n",
    "\n",
    "        self.loss_fn = torch.nn.MSELoss()\n",
    "\n",
    "    def forward(self, out_latent, true_images):\n",
    "        \n",
    "        out_images = self.ae_model.decode(out_latent[..., :self.latent_dim_model])\n",
    "        loss_images = self.loss_fn(out_images, true_images)\n",
    "        # regularization\n",
    "        reg_latent = torch.mean(torch.norm(out_latent[..., 0, self.latent_dim_model:], p=2, dim=-1))\n",
    "        loss = loss_images + 1e-5*reg_latent\n",
    "        # print(loss_images, 1e-5*reg_latent)\n",
    "        return loss # loss_images, 1e-7*reg_latent\n",
    "\n",
    "loss_fn = loss_ODE(ae, latent_dim_model)"
   ]
  },
  {
   "cell_type": "code",
   "execution_count": 132,
   "metadata": {},
   "outputs": [
    {
     "name": "stdout",
     "output_type": "stream",
     "text": [
      "tensor(0.0011, grad_fn=<AddBackward0>)\n"
     ]
    }
   ],
   "source": [
    "batch_y0, batch_t, batch_images = getter.get_batch()\n",
    "out_latent = anode(batch_y0, batch_t)\n",
    "loss_images = loss_fn(out_latent, batch_images)\n",
    "print(loss_images)"
   ]
  },
  {
   "cell_type": "code",
   "execution_count": 97,
   "metadata": {},
   "outputs": [],
   "source": [
    "def train(model, optimizer, scheduler, epochs, batch_size, getter, loss_fn=None, display=100, display_results_fn=display_ode_trajectory, out_display=-1):\n",
    "    \n",
    "    if out_display == -1:\n",
    "        out_display = model.out_dim\n",
    "\n",
    "    if loss_fn is None:\n",
    "        loss_fn = nn.MSELoss()\n",
    "    \n",
    "    iterator = trange(1, epochs+1)\n",
    "    # just for the plot part\n",
    "    running_loss = 0.\n",
    "    for i in iterator:\n",
    "        # get a random time sample\n",
    "        model.train()\n",
    "        loss = 0.\n",
    "        for _ in range(batch_size):\n",
    "            batch_init_positions, batch_times, batch_true_images = getter.get_batch()\n",
    "            # compute the output of the model\n",
    "            out = model(batch_init_positions, batch_times)\n",
    "            # compute the loss\n",
    "            # print(out.shape, out.view(-1, batch_init_positions.shape[-1]).shape)\n",
    "            # print(batch_true_positions.shape, batch_true_positions.view(-1, batch_init_positions.shape[-1]).shape)\n",
    "            loss += loss_fn(out[:], batch_true_images[:])\n",
    "            # .view(-1,batch_init_positions.shape[-1])\n",
    "        loss /= batch_size\n",
    "        optimizer.zero_grad()\n",
    "        loss.backward()\n",
    "        optimizer.step()\n",
    "        # update the progress bar\n",
    "        iterator.set_postfix_str(f'Loss: {loss.item():.8f}')\n",
    "        running_loss += loss.item()\n",
    "\n",
    "        if i % display == 0:\n",
    "           display_results_fn(i, model, out_display, getter, getter.total_length, getter.dt)\n",
    "           iterator.set_description_str(f'Display loss: {running_loss/display:.8f}')\n",
    "           running_loss = 0.\n",
    "\n",
    "\n",
    "        scheduler.step()\n",
    "        \n",
    "    return None"
   ]
  },
  {
   "cell_type": "code",
   "execution_count": null,
   "metadata": {},
   "outputs": [],
   "source": [
    "train(anode, optimizer, scheduler, epochs, batch_size, getter, loss_fn=loss_fn, \n",
    "        display=200, display_results_fn=display_ode_trajectory, out_display=latent_dim_model) "
   ]
  },
  {
   "cell_type": "code",
   "execution_count": 138,
   "metadata": {},
   "outputs": [],
   "source": [
    "torch.save(anode.state_dict(), \"models/AE_ODE/MultiTrajectories/anode_1_Ball_with_sp_latent_{}_velocity_{}_hidden_dim_{}_no_relu_activation_{}_no_margin_mse_on_images.pth\".format(latent_dim_model, Num_pos_velocity, hidden_dim, activation))\n"
   ]
  },
  {
   "cell_type": "code",
   "execution_count": null,
   "metadata": {},
   "outputs": [],
   "source": []
  }
 ],
 "metadata": {
  "interpreter": {
   "hash": "b0fa6594d8f4cbf19f97940f81e996739fb7646882a419484c72d19e05852a7e"
  },
  "kernelspec": {
   "display_name": "Python 3.9.9 64-bit",
   "language": "python",
   "name": "python3"
  },
  "language_info": {
   "codemirror_mode": {
    "name": "ipython",
    "version": 3
   },
   "file_extension": ".py",
   "mimetype": "text/x-python",
   "name": "python",
   "nbconvert_exporter": "python",
   "pygments_lexer": "ipython3",
   "version": "3.9.9"
  },
  "orig_nbformat": 4
 },
 "nbformat": 4,
 "nbformat_minor": 2
}
