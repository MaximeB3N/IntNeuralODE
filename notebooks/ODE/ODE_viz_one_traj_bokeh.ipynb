{
 "cells": [
  {
   "cell_type": "markdown",
   "metadata": {},
   "source": [
    "# Plotly"
   ]
  },
  {
   "cell_type": "code",
   "execution_count": 1,
   "metadata": {},
   "outputs": [
    {
     "data": {
      "text/html": [
       "        <script type=\"text/javascript\">\n",
       "        window.PlotlyConfig = {MathJaxConfig: 'local'};\n",
       "        if (window.MathJax) {MathJax.Hub.Config({SVG: {font: \"STIX-Web\"}});}\n",
       "        if (typeof require !== 'undefined') {\n",
       "        require.undef(\"plotly\");\n",
       "        requirejs.config({\n",
       "            paths: {\n",
       "                'plotly': ['https://cdn.plot.ly/plotly-2.11.1.min']\n",
       "            }\n",
       "        });\n",
       "        require(['plotly'], function(Plotly) {\n",
       "            window._Plotly = Plotly;\n",
       "        });\n",
       "        }\n",
       "        </script>\n",
       "        "
      ]
     },
     "metadata": {},
     "output_type": "display_data"
    }
   ],
   "source": [
    "import numpy as np\n",
    "\n",
    "from plotly.subplots import make_subplots\n",
    "import plotly.graph_objs as go\n",
    "from plotly.offline import init_notebook_mode\n",
    "init_notebook_mode(connected=True)\n",
    "\n",
    "import ipywidgets as widgets\n",
    "from ipywidgets import interact"
   ]
  },
  {
   "cell_type": "markdown",
   "metadata": {},
   "source": [
    "# Create an interactive plot of the trajectory of a projectile."
   ]
  },
  {
   "cell_type": "markdown",
   "metadata": {},
   "source": [
    "## Plot the x,y axes"
   ]
  },
  {
   "cell_type": "code",
   "execution_count": 2,
   "metadata": {},
   "outputs": [],
   "source": [
    "def create_interactive_plot(encoded_samples, time_steps, points, N_start, N_end):\n",
    "    fig = make_subplots(rows=1, cols=3)\n",
    "    figWidget = go.FigureWidget(fig)\n",
    "    # add a black background to the figure\n",
    "    figWidget.add_scatter(x=points[:,0], y=points[:,1], mode='lines', marker=dict(size=1), name='true positions', col=1, row=1)\n",
    "    figWidget.add_scatter(x=[points[0,0]], y=[points[0,1]], mode='markers', marker=dict(size=10), name='current point', col=1, row=1)\n",
    "\n",
    "    figWidget.add_scatter(x=time_steps, y=encoded_samples[:, 0], mode='lines', name='coord1', col=2, row=1)\n",
    "    figWidget.add_scatter(x=[time_steps[0]], y=[encoded_samples[0,0]], mode='markers', marker=dict(size=10), name='current coord1', col=2, row=1)\n",
    "\n",
    "    figWidget.add_scatter(x=time_steps, y=encoded_samples[:, 1], mode='lines', name='coord2', col=3, row=1)\n",
    "    figWidget.add_scatter(x=[time_steps[0]], y=[encoded_samples[0,1]], mode='markers', marker=dict(size=10), name='current coord2', col=3, row=1)\n",
    "\n",
    "    # figWidget.update_layout(xaxis=dict(range=[points[:,0].min(), points[:,0].max()]), yaxis=dict(range=[points[:,1].min(), points[:,1].max()]),\n",
    "    #                 xaxis2=dict(range=[N_start*dt, N_end*dt]), yaxis2=dict(range=[0.49, 0.52]),\n",
    "    #                     xaxis3=dict(range=[N_start*dt, N_end*dt]), yaxis3=dict(range=[0.46, 0.48]),\n",
    "    # )\n",
    "\n",
    "\n",
    "    # change the color of the scatter points\n",
    "\n",
    "    figWidget.data[0].marker.color = 'blue'\n",
    "    figWidget.data[1].marker.color = 'red'\n",
    "\n",
    "    figWidget.data[2].marker.color = 'blue'\n",
    "    figWidget.data[3].marker.color = 'purple'\n",
    "\n",
    "    figWidget.data[4].marker.color = 'blue'\n",
    "    figWidget.data[5].marker.color = 'orange'\n",
    "\n",
    "    @interact(t=(time_steps.min(),time_steps.max(),dt))\n",
    "    def update_plot(t):\n",
    "        with figWidget.batch_update():\n",
    "            # change the current point of \n",
    "            # the true position along the trajectory\n",
    "            figWidget.data[1].x = [points[int(t/dt) - N_start,0]]\n",
    "            figWidget.data[1].y = [points[int(t/dt) - N_start,1]]\n",
    "\n",
    "            # the current point of the encoded sample on the x axis\n",
    "            figWidget.data[3].x = [time_steps[int(t/dt) - N_start]]\n",
    "            figWidget.data[3].y = [encoded_samples[int(t/dt) - N_start,0]]\n",
    "\n",
    "            # the current point of the encoded sample on the y axis\n",
    "            figWidget.data[5].x = [time_steps[int(t/dt) - N_start]]\n",
    "            figWidget.data[5].y = [encoded_samples[int(t/dt) - N_start,1]]\n",
    "\n",
    "        # print(figWidget)\n",
    "            \n",
    "    # save the figure as a html file with the interactive widget\n",
    "    # figWidget.write_html('images/AE_ODE/encoded_reconstruction/encoded_reconstruction_slow_spiral.html')    \n",
    "    return figWidget\n",
    "\n",
    "\n",
    "def create_interactive_plot_phase(encoded_samples, time_steps, points, N_start, N_end):\n",
    "    fig = make_subplots(rows=1, cols=2)\n",
    "    figWidget = go.FigureWidget(fig)\n",
    "    # add a black background to the figure\n",
    "    figWidget.add_scatter(x=points[:,0], y=points[:,1], mode='lines', marker=dict(size=1), name='true positions', col=1, row=1)\n",
    "    figWidget.add_scatter(x=[points[0,0]], y=[points[0,1]], mode='markers', marker=dict(size=10), name='current point', col=1, row=1)\n",
    "\n",
    "    figWidget.add_scatter(x=encoded_samples[:, 0], y=encoded_samples[:, 1], mode='lines', name='phase', col=2, row=1)\n",
    "    figWidget.add_scatter(x=[encoded_samples[0, 0]], y=[encoded_samples[0, 1]], mode='markers', marker=dict(size=10), name='current phase', col=2, row=1)\n",
    "    # figWidget.update_layout(xaxis=dict(range=[points[:,0].min(), points[:,0].max()]), yaxis=dict(range=[points[:,1].min(), points[:,1].max()]),\n",
    "    #                 xaxis2=dict(range=[N_start*dt, N_end*dt]), yaxis2=dict(range=[0.49, 0.52]),\n",
    "    #                     xaxis3=dict(range=[N_start*dt, N_end*dt]), yaxis3=dict(range=[0.46, 0.48]),\n",
    "    # )\n",
    "\n",
    "\n",
    "    # change the color of the scatter points\n",
    "\n",
    "    figWidget.data[0].marker.color = 'blue'\n",
    "    figWidget.data[1].marker.color = 'red'\n",
    "\n",
    "    figWidget.data[2].marker.color = 'blue'\n",
    "    figWidget.data[3].marker.color = 'purple'\n",
    "\n",
    "    @interact(t=(time_steps.min(),time_steps.max(),dt))\n",
    "    def update_plot(t):\n",
    "        with figWidget.batch_update():\n",
    "            # change the current point of \n",
    "            # the true position along the trajectory\n",
    "            figWidget.data[1].x = [points[int(t/dt) - N_start,0]]\n",
    "            figWidget.data[1].y = [points[int(t/dt) - N_start,1]]\n",
    "\n",
    "            # the current point of the encoded sample on the x axis\n",
    "            figWidget.data[3].x = [encoded_samples[int(t/dt) - N_start,0]]\n",
    "            figWidget.data[3].y = [encoded_samples[int(t/dt) - N_start,1]]\n",
    "\n",
    "        # print(figWidget)\n",
    "            \n",
    "    # save the figure as a html file with the interactive widget\n",
    "    # figWidget.write_html('images/AE_ODE/encoded_reconstruction/encoded_reconstruction_slow_spiral.html')    \n",
    "    return figWidget\n"
   ]
  },
  {
   "cell_type": "code",
   "execution_count": 3,
   "metadata": {},
   "outputs": [],
   "source": [
    "import torch\n",
    "from src.models.ae import ConvAE"
   ]
  },
  {
   "cell_type": "code",
   "execution_count": 4,
   "metadata": {},
   "outputs": [
    {
     "name": "stdout",
     "output_type": "stream",
     "text": [
      "Number of parameters in the model: 220387\n"
     ]
    },
    {
     "data": {
      "text/plain": [
       "<All keys matched successfully>"
      ]
     },
     "execution_count": 4,
     "metadata": {},
     "output_type": "execute_result"
    }
   ],
   "source": [
    "pathInputs = \"images/AE_ODE/encoded_reconstruction/trues_images_fast_spiral.npy\"\n",
    "pathModel = \"models/AE/FirstExplo/conv_custom_2_gaussian_r_1_custom_loss_alpha_0_0.pt\"\n",
    "\n",
    "images = np.load(pathInputs)\n",
    "model = ConvAE(height=28, width=28, latent_dim=2, in_channels=1, relu=True, activation=torch.nn.ReLU())\n",
    "model.load_state_dict(torch.load(pathModel))"
   ]
  },
  {
   "cell_type": "code",
   "execution_count": 5,
   "metadata": {},
   "outputs": [
    {
     "data": {
      "text/plain": [
       "torch.Size([10000, 2])"
      ]
     },
     "execution_count": 5,
     "metadata": {},
     "output_type": "execute_result"
    }
   ],
   "source": [
    "model.encode(torch.from_numpy(images).float()).shape"
   ]
  },
  {
   "cell_type": "code",
   "execution_count": 6,
   "metadata": {},
   "outputs": [
    {
     "data": {
      "text/plain": [
       "(10000, 2)"
      ]
     },
     "execution_count": 6,
     "metadata": {},
     "output_type": "execute_result"
    }
   ],
   "source": [
    "encoded_samples = model.encode(torch.from_numpy(images).float()).detach().numpy()\n",
    "encoded_samples.shape"
   ]
  },
  {
   "cell_type": "code",
   "execution_count": 7,
   "metadata": {},
   "outputs": [],
   "source": [
    "np.save(\"images/AE_ODE/encoded_reconstruction/continuous_encoded_samples_fast_spiral.npy\", encoded_samples)"
   ]
  },
  {
   "cell_type": "code",
   "execution_count": 8,
   "metadata": {},
   "outputs": [
    {
     "name": "stdout",
     "output_type": "stream",
     "text": [
      "(10000, 2)\n",
      "(10000, 2)\n"
     ]
    },
    {
     "data": {
      "application/vnd.jupyter.widget-view+json": {
       "model_id": "dbba5adb94c04901a5654dc527fa413b",
       "version_major": 2,
       "version_minor": 0
      },
      "text/plain": [
       "interactive(children=(FloatSlider(value=4.999, description='t', max=9.999, step=0.001), Output()), _dom_classe…"
      ]
     },
     "metadata": {},
     "output_type": "display_data"
    },
    {
     "data": {
      "application/vnd.jupyter.widget-view+json": {
       "model_id": "f3d557dcc66f47cfbfebcca15a1bf14f",
       "version_major": 2,
       "version_minor": 0
      },
      "text/plain": [
       "FigureWidget({\n",
       "    'data': [{'marker': {'color': 'blue', 'size': 1},\n",
       "              'mode': 'lines',\n",
       "          …"
      ]
     },
     "metadata": {},
     "output_type": "display_data"
    }
   ],
   "source": [
    "N_start = 0\n",
    "N_end = 10000\n",
    "step_size = 1\n",
    "plot_encoded_samples = encoded_samples[N_start:N_end:step_size]\n",
    "print(plot_encoded_samples.shape)\n",
    "dt = 0.001\n",
    "time_steps = np.arange(0, plot_encoded_samples.shape[0]*dt, dt)[N_start:N_end:step_size]\n",
    "\n",
    "\n",
    "points = np.load(\"images/AE_ODE/encoded_reconstruction/trues_positions_fast_spiral.npy\")[N_start:N_end:step_size]\n",
    "print(points.shape)\n",
    "\n",
    "create_interactive_plot(plot_encoded_samples, time_steps, points, N_start, N_end)"
   ]
  },
  {
   "cell_type": "code",
   "execution_count": 9,
   "metadata": {},
   "outputs": [
    {
     "data": {
      "application/vnd.jupyter.widget-view+json": {
       "model_id": "e80787d5129144d7adbbbdc6de4ba7fe",
       "version_major": 2,
       "version_minor": 0
      },
      "text/plain": [
       "interactive(children=(FloatSlider(value=4.999, description='t', max=9.999, step=0.001), Output()), _dom_classe…"
      ]
     },
     "metadata": {},
     "output_type": "display_data"
    },
    {
     "data": {
      "application/vnd.jupyter.widget-view+json": {
       "model_id": "1c24ae7e07824832830df9ef44348769",
       "version_major": 2,
       "version_minor": 0
      },
      "text/plain": [
       "FigureWidget({\n",
       "    'data': [{'marker': {'color': 'blue', 'size': 1},\n",
       "              'mode': 'lines',\n",
       "          …"
      ]
     },
     "metadata": {},
     "output_type": "display_data"
    }
   ],
   "source": [
    "create_interactive_plot_phase(plot_encoded_samples, time_steps, points, N_start, N_end)"
   ]
  },
  {
   "cell_type": "code",
   "execution_count": 10,
   "metadata": {},
   "outputs": [
    {
     "name": "stdout",
     "output_type": "stream",
     "text": [
      "(8000, 2)\n",
      "(8000, 2)\n"
     ]
    },
    {
     "data": {
      "application/vnd.jupyter.widget-view+json": {
       "model_id": "d93d73ad45834d28b5b589a19919829a",
       "version_major": 2,
       "version_minor": 0
      },
      "text/plain": [
       "interactive(children=(FloatSlider(value=3.999, description='t', max=7.9990000000000006, step=0.001), Output())…"
      ]
     },
     "metadata": {},
     "output_type": "display_data"
    },
    {
     "data": {
      "application/vnd.jupyter.widget-view+json": {
       "model_id": "8a8fe2d9231541f7b3ed338e5f742bec",
       "version_major": 2,
       "version_minor": 0
      },
      "text/plain": [
       "FigureWidget({\n",
       "    'data': [{'marker': {'color': 'blue', 'size': 1},\n",
       "              'mode': 'lines',\n",
       "          …"
      ]
     },
     "metadata": {},
     "output_type": "display_data"
    }
   ],
   "source": [
    "N_start = 0\n",
    "N_end = 8000\n",
    "step_size = 1\n",
    "encoded_samples = np.load('images/AE_ODE/encoded_reconstruction/encoded_samples_fast_spiral.npy')[N_start:N_end:step_size]\n",
    "print(encoded_samples.shape)\n",
    "dt = 0.001\n",
    "time_steps = np.arange(0, encoded_samples.shape[0]*dt, dt)[N_start:N_end:step_size]\n",
    "\n",
    "\n",
    "points = np.load(\"images/AE_ODE/encoded_reconstruction/trues_positions_fast_spiral.npy\")[N_start:N_end:step_size]\n",
    "print(points.shape)\n",
    "\n",
    "create_interactive_plot(encoded_samples, time_steps, points, N_start, N_end)"
   ]
  },
  {
   "cell_type": "code",
   "execution_count": null,
   "metadata": {},
   "outputs": [],
   "source": []
  }
 ],
 "metadata": {
  "interpreter": {
   "hash": "50292dbb1f747f7151d445135d392af3138fb3c65386d17d9510cb605222b10b"
  },
  "kernelspec": {
   "display_name": "Python 3.9.9 64-bit",
   "language": "python",
   "name": "python3"
  },
  "language_info": {
   "codemirror_mode": {
    "name": "ipython",
    "version": 3
   },
   "file_extension": ".py",
   "mimetype": "text/x-python",
   "name": "python",
   "nbconvert_exporter": "python",
   "pygments_lexer": "ipython3",
   "version": "3.9.9"
  },
  "orig_nbformat": 4
 },
 "nbformat": 4,
 "nbformat_minor": 2
}
