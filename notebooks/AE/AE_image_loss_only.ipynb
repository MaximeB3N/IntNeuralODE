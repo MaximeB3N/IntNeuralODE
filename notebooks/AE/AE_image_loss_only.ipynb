{
 "cells": [
  {
   "cell_type": "code",
   "execution_count": 1,
   "metadata": {},
   "outputs": [],
   "source": [
    "import torch\n",
    "import torch.nn as nn\n",
    "import torch.nn.functional as F\n",
    "import torch.optim as optim\n",
    "from torch.utils.data import DataLoader\n",
    "\n",
    "# import SummaryWriter\n",
    "from torch.utils.tensorboard import SummaryWriter\n",
    "\n",
    "# import the MNIST dataset\n",
    "import torchvision.datasets as datasets\n",
    "from torchvision import transforms\n",
    "\n",
    "import torchsummary\n",
    "\n",
    "from sklearn.model_selection import train_test_split\n",
    "\n",
    "# from torchdiffeq import odeint, odeint_adjoint\n",
    "\n",
    "import cv2\n",
    "import numpy as np\n",
    "\n",
    "from matplotlib.animation import FuncAnimation\n",
    "import matplotlib.pyplot as plt\n",
    "\n",
    "from tqdm.notebook import trange"
   ]
  },
  {
   "cell_type": "code",
   "execution_count": 2,
   "metadata": {},
   "outputs": [],
   "source": [
    "from utils import ConvAE, create_gaussian_dataset, gaussian_density\n",
    "from ball import Ball"
   ]
  },
  {
   "cell_type": "code",
   "execution_count": 3,
   "metadata": {},
   "outputs": [],
   "source": [
    "def grid_samples(k, size, r_min, r_max, margin=1.):\n",
    "    samples = []\n",
    "    indices_matrix = np.array([[i,j] for i in range(size) for j in range(size)])\n",
    "    # print(indices_matrix)\n",
    "    # print(indices_matrix.shape)\n",
    "    eps = 1E-5\n",
    "    step = (size - 2.*margin)/k\n",
    "    positions_x = np.arange(margin, size - 1 - margin, step)\n",
    "    positions_y = np.arange(margin, size - 1 - margin, step)\n",
    "    for x in positions_x:\n",
    "        for y in positions_y:\n",
    "            r = np.random.uniform(r_min, r_max+eps)\n",
    "            # create a gaussian ball\n",
    "            image = np.zeros((size, size), dtype=np.float32)\n",
    "            position = np.array([x, y])\n",
    "            \n",
    "            # compute the density over the image and normalize it\n",
    "            image = gaussian_density(indices_matrix, position, r).numpy().copy()\n",
    "            samples.append((image.reshape(1, size, size), np.array([x/(size ), y/(size)])))\n",
    "        \n",
    "    return samples\n",
    "\n",
    "def plot_grid(ax, positions):\n",
    "    # print(positions)\n",
    "    plt.figure(figsize=(8, 8))\n",
    "    # add line to the grid\n",
    "    dim_positions = positions.shape[0]\n",
    "    dim_positions = int(np.sqrt(dim_positions))\n",
    "    try_pos = positions.reshape(dim_positions,dim_positions,2)\n",
    "    ax.plot(try_pos[:,:,0], try_pos[:,:,1], 'k-', linewidth=0.5)\n",
    "    ax.plot(try_pos[:,:,1], try_pos[:,:,0], 'k-', linewidth=0.5)\n",
    "    ax.scatter(positions[:,0], positions[:,1], s=6)\n",
    "\n",
    "def plot_square_transformation(model, square_samples, title):\n",
    "    fig, ax = plt.subplots(1, 2, figsize=(10, 5))\n",
    "    with torch.no_grad():\n",
    "        pred_positions = np.array([model.encoder_linear(model.encode(torch.tensor(image).float().unsqueeze(0))).numpy()[0] for image, _ in square_samples])\n",
    "        # add overall title\n",
    "        ax[0].set_title(\"Inputs\")\n",
    "        ax[1].set_title(title)\n",
    "        true_positions = np.array([position for _, position in square_samples])\n",
    "        plot_grid(ax[0], true_positions)\n",
    "        plot_grid(ax[1], pred_positions)\n",
    "        plt.show()"
   ]
  },
  {
   "cell_type": "code",
   "execution_count": 4,
   "metadata": {},
   "outputs": [],
   "source": [
    "def train(model, dataloader_train, dataloader_test, optimizer, scheduler, criterion, epochs=10, display_step=1):\n",
    "    \n",
    "    iterator = trange(epochs)\n",
    "    losses_train = []\n",
    "    losses_test = []\n",
    "    sum_writer = SummaryWriter(\"runs/AE_image_loss_only\")\n",
    "    grid = grid_samples(16, 28, 1., 1., margin=1)\n",
    "\n",
    "\n",
    "    for _ in iterator:\n",
    "        loss_epoch = 0\n",
    "        model.train()\n",
    "        for i, data in enumerate(dataloader_train):\n",
    "            image, _ = data\n",
    "            image = image.float()\n",
    "            # position = position.float()\n",
    "            optimizer.zero_grad()\n",
    "            output, position_pred = model(image)\n",
    "            loss = criterion(image.squeeze(), output.squeeze())\n",
    "            loss.backward()\n",
    "            optimizer.step()\n",
    "            loss_epoch += loss.item()\n",
    "            if i % display_step == 0:\n",
    "                iterator.set_description(f'Batch: {i}/{len(dataloader_train)}, Loss: {loss_epoch/(i+1):.6f}')\n",
    "                sum_writer.add_scalar('Loss/train', loss_epoch/(i+1), i)\n",
    "                \n",
    "\n",
    "            \n",
    "\n",
    "        losses_train.append(loss_epoch/len(dataloader_train))\n",
    "        model.eval()\n",
    "        with torch.no_grad():\n",
    "            loss_epoch = 0\n",
    "            for i, data in enumerate(dataloader_test):\n",
    "                image, _ = data\n",
    "                image = image.float()\n",
    "                # position = position.float()    \n",
    "                output, position_pred = model(image)\n",
    "                loss = criterion(image.squeeze(), output.squeeze())\n",
    "                loss_epoch += loss.item()\n",
    "                if i % display_step == 0:\n",
    "                    iterator.set_postfix_str(f'Test Batch: {i}/{len(dataloader_test)}, Loss: {loss_epoch/(i+1):.6f}')\n",
    "                    sum_writer.add_scalar('Loss/test', loss_epoch/(i+1), i)\n",
    "            \n",
    "            losses_test.append(loss_epoch/len(dataloader_test))\n",
    "\n",
    "            # plot_square_transformation(model, grid, \"Grid tranformation at step {}\".format(i))\n",
    "        \n",
    "        scheduler.step()\n",
    "        \n",
    "    return losses_train, losses_test"
   ]
  },
  {
   "cell_type": "code",
   "execution_count": 103,
   "metadata": {},
   "outputs": [],
   "source": [
    "class WassersteinLoss(nn.Module):\n",
    "    def __init__(self):\n",
    "        super().__init__()\n",
    "        \n",
    "    def forward(self, x, y):\n",
    "        return torch.mean(x) - torch.mean(y)\n",
    "    \n",
    "class GaussianLoss(nn.Module):\n",
    "    def __init__(self, size=28):\n",
    "        super().__init__()\n",
    "        self.indices = torch.tensor([[i,j] for i in range(size) for j in range(size)])\n",
    "        \n",
    "    def forward(self, input_image, output_image):\n",
    "        input_image = input_image.squeeze().float()\n",
    "        output_image = output_image.squeeze().float()\n",
    "\n",
    "        # print(\"input image\", input_image.shape)\n",
    "        # print(\"indices\", self.indices.shape)\n",
    "        # mean_input = torch.stack([input_image[batch, self.indices[:,0], self.indices[:,1]]@self.indices.float()\n",
    "        #                 for batch in range(input_image.shape[0])], dim=0)\n",
    "        # mean_output = torch.stack([output_image[batch, self.indices[:,0], self.indices[:,1]]@self.indices.float()\n",
    "        #                 for batch in range(output_image.shape[0])], dim=0)\n",
    "\n",
    "        # print('mean_input', mean_input.shape)\n",
    "        # print(\"indices matrix\", self.indices.float().T@self.indices.float())\n",
    "        # # print(\"right\", (input_image[0, self.indices[:,0], self.indices[:,1]]*self.indices.float()).shape)\n",
    "        # loss_mean = torch.linalg.norm(mean_input - mean_output, dim=1)\n",
    "        # loss_mean = torch.mean(loss_mean)\n",
    "        # # print(input_image[0, self.indices].shape)\n",
    "        # # print(output_image[:, self.indices].shape)\n",
    "        # print(\"vector in the indices order\", input_image[0, self.indices.T].shape)\n",
    "        # var_input = torch.stack([self.indices.float().T@input_image[batch, self.indices]*self.indices.float() - mean_input[batch].T@mean_input[batch]\n",
    "        #                 for batch in range(input_image.shape[0])])\n",
    "        # var_output = torch.stack([output_image[batch, self.indices[:,0], self.indices[:,1]]@self.indices.float().T@self.indices.float() - mean_output[batch].T@mean_output[batch]\n",
    "        #                 for batch in range(output_image.shape[0])])\n",
    "\n",
    "        # print(var_input.shape)\n",
    "        # print(\"var_output\", var_output.shape)\n",
    "        # print(\"indices@indices\", (self.indices.float()@self.indices.float().T).shape)\n",
    "        # print(\"mean@mean.T\",(mean_input[0]@mean_input[0].T).shape)\n",
    "        # loss_var = torch.mean(torch.linalg.norm(var_input - var_output, dim=(1,2), ord='fro'))/self.indices.shape[0]\n",
    "        mean_input = torch.stack([input_image[batch, self.indices[:,0], self.indices[:,1]]@self.indices.float() for batch in range(input_image.shape[0]) ], dim=0)\n",
    "        mean_output = torch.stack([input_image[batch, self.indices[:,0], self.indices[:,1]]@self.indices.float() for batch in range(output_image.shape[0]) ], dim=0)\n",
    "        var_output = torch.zeros((output_image.shape[0], self.indices.shape[1], self.indices.shape[1]))\n",
    "        var_input = torch.zeros((input_image.shape[0], self.indices.shape[1], self.indices.shape[1]))\n",
    "\n",
    "        # # compute the covariance matrix\n",
    "        # for batch in range(output_image.shape[0]): \n",
    "        #     for i in range(self.indices.shape[0]):\n",
    "        #         for j in range(self.indices.shape[0]):\n",
    "        #             var_input[batch] += (input_image[batch, self.indices[i,0], self.indices[i,1]]*(self.indices[i,:] - mean_input[batch])).unsqueeze(-1)@(input_image[batch, self.indices[j,0], self.indices[j,1]]*(self.indices[j,:] - mean_input[batch])).unsqueeze(-1).T\n",
    "        #             var_output[batch] += (output_image[batch, self.indices[i,0], self.indices[i,1]]*(self.indices[i,:] - mean_output[batch])).unsqueeze(-1)@(output_image[batch, self.indices[j,0], self.indices[j,1]]*(self.indices[j,:] - mean_output[batch])).unsqueeze(-1).T\n",
    "        #     var_input[batch] /= self.indices.shape[0] - 1\n",
    "        #     var_output[batch] /= self.indices.shape[0] - 1\n",
    "\n",
    "        loss_mean = torch.mean(torch.norm(mean_input - mean_output, dim=1))\n",
    "        # loss_var = torch.mean(torch.norm(var_input - var_output, dim=(1,2), ord='fro'))\n",
    "        return loss_mean #+ loss_var\n",
    "\n",
    "class CustomLoss(nn.Module):\n",
    "    def __init__(self):\n",
    "        super().__init__()\n",
    "        self.gaussianloss = GaussianLoss()\n",
    "        self.kl = nn.KLDivLoss()\n",
    "        self.img_loss = nn.MSELoss()\n",
    "\n",
    "    def forward(self, input_image, output_image):\n",
    "        input_image = input_image.squeeze().float()\n",
    "        output_image = output_image.squeeze().float()\n",
    "        loss_img = self.img_loss(input_image, output_image)\n",
    "        loss_kl = self.kl(input_image, output_image)\n",
    "        loss_gaussian = self.gaussianloss(input_image, output_image)\n",
    "        return 784*loss_img - loss_kl + loss_gaussian\n",
    "\n",
    "customGaussianloss = GaussianLoss()\n",
    "wassertein = WassersteinLoss()\n",
    "kl = nn.KLDivLoss()\n",
    "gaussianloss = nn.GaussianNLLLoss()\n",
    "loss_fn = CustomLoss()"
   ]
  },
  {
   "cell_type": "code",
   "execution_count": 104,
   "metadata": {},
   "outputs": [
    {
     "name": "stdout",
     "output_type": "stream",
     "text": [
      "torch.Size([3, 1, 28, 28]) torch.Size([3, 1, 28, 28])\n",
      "tensor(0.)\n",
      "input image torch.Size([3, 28, 28])\n",
      "indices torch.Size([784, 2])\n",
      "mean_input torch.Size([3, 2])\n",
      "indices matrix tensor([[194040., 142884.],\n",
      "        [142884., 194040.]])\n",
      "vector in the indices order torch.Size([784])\n"
     ]
    },
    {
     "ename": "RuntimeError",
     "evalue": "The size of tensor a (784) must match the size of tensor b (2) at non-singleton dimension 1",
     "output_type": "error",
     "traceback": [
      "\u001b[0;31m---------------------------------------------------------------------------\u001b[0m",
      "\u001b[0;31mRuntimeError\u001b[0m                              Traceback (most recent call last)",
      "\u001b[0;32m/var/folders/01/nfq6qhcj2j7dqfld6ps6vhbc0000gn/T/ipykernel_74966/3317429593.py\u001b[0m in \u001b[0;36m<module>\u001b[0;34m\u001b[0m\n\u001b[1;32m     27\u001b[0m \u001b[0;31m# print(output_image[:, self.indices].shape)\u001b[0m\u001b[0;34m\u001b[0m\u001b[0;34m\u001b[0m\u001b[0m\n\u001b[1;32m     28\u001b[0m \u001b[0mprint\u001b[0m\u001b[0;34m(\u001b[0m\u001b[0;34m\"vector in the indices order\"\u001b[0m\u001b[0;34m,\u001b[0m \u001b[0minput_image\u001b[0m\u001b[0;34m[\u001b[0m\u001b[0;36m0\u001b[0m\u001b[0;34m,\u001b[0m \u001b[0mindices\u001b[0m\u001b[0;34m[\u001b[0m\u001b[0;34m:\u001b[0m\u001b[0;34m,\u001b[0m\u001b[0;36m0\u001b[0m\u001b[0;34m]\u001b[0m\u001b[0;34m,\u001b[0m \u001b[0mindices\u001b[0m\u001b[0;34m[\u001b[0m\u001b[0;34m:\u001b[0m\u001b[0;34m,\u001b[0m\u001b[0;36m1\u001b[0m\u001b[0;34m]\u001b[0m\u001b[0;34m]\u001b[0m\u001b[0;34m.\u001b[0m\u001b[0mshape\u001b[0m\u001b[0;34m)\u001b[0m\u001b[0;34m\u001b[0m\u001b[0;34m\u001b[0m\u001b[0m\n\u001b[0;32m---> 29\u001b[0;31m \u001b[0mprint\u001b[0m\u001b[0;34m(\u001b[0m\u001b[0;34m'first ope'\u001b[0m\u001b[0;34m,\u001b[0m \u001b[0;34m(\u001b[0m\u001b[0minput_image\u001b[0m\u001b[0;34m[\u001b[0m\u001b[0mbatch\u001b[0m\u001b[0;34m,\u001b[0m \u001b[0mindices\u001b[0m\u001b[0;34m[\u001b[0m\u001b[0;34m:\u001b[0m\u001b[0;34m,\u001b[0m\u001b[0;36m0\u001b[0m\u001b[0;34m]\u001b[0m\u001b[0;34m,\u001b[0m \u001b[0mindices\u001b[0m\u001b[0;34m[\u001b[0m\u001b[0;34m:\u001b[0m\u001b[0;34m,\u001b[0m\u001b[0;36m1\u001b[0m\u001b[0;34m]\u001b[0m\u001b[0;34m]\u001b[0m\u001b[0;34m*\u001b[0m\u001b[0;34m(\u001b[0m\u001b[0mindices\u001b[0m\u001b[0;34m.\u001b[0m\u001b[0mfloat\u001b[0m\u001b[0;34m(\u001b[0m\u001b[0;34m)\u001b[0m \u001b[0;34m-\u001b[0m \u001b[0mmean_input\u001b[0m\u001b[0;34m[\u001b[0m\u001b[0mbatch\u001b[0m\u001b[0;34m]\u001b[0m\u001b[0;34m)\u001b[0m\u001b[0;34m)\u001b[0m\u001b[0;34m.\u001b[0m\u001b[0mshape\u001b[0m\u001b[0;34m)\u001b[0m\u001b[0;34m\u001b[0m\u001b[0;34m\u001b[0m\u001b[0m\n\u001b[0m\u001b[1;32m     30\u001b[0m \u001b[0;31m# compute the covariance matrix estimation\u001b[0m\u001b[0;34m\u001b[0m\u001b[0;34m\u001b[0m\u001b[0m\n\u001b[1;32m     31\u001b[0m var_input = torch.stack([\n",
      "\u001b[0;31mRuntimeError\u001b[0m: The size of tensor a (784) must match the size of tensor b (2) at non-singleton dimension 1"
     ]
    }
   ],
   "source": [
    "img = torch.zeros((3,1,28,28))\n",
    "noisy_img = (img + 0.1*torch.randn_like(img))*0\n",
    "print(img.shape, noisy_img.shape)\n",
    "size = 28\n",
    "batch = 0 \n",
    "\n",
    "indices = torch.tensor([[i,j] for i in range(size) for j in range(size)])\n",
    "\n",
    "input_image = img.squeeze().float()\n",
    "output_image = noisy_img.squeeze().float()\n",
    "\n",
    "print(customGaussianloss(input_image, output_image))\n",
    "\n",
    "print(\"input image\", input_image.shape)\n",
    "print(\"indices\", indices.shape)\n",
    "mean_input = torch.stack([input_image[batch, indices[:,0], indices[:,1]]@indices.float()\n",
    "            for batch in range(input_image.shape[0])], dim=0)\n",
    "mean_output = torch.stack([output_image[batch, indices[:,0], indices[:,1]]@indices.float()\n",
    "            for batch in range(output_image.shape[0])], dim=0)\n",
    "\n",
    "print('mean_input', mean_input.shape)\n",
    "print(\"indices matrix\", indices.float().T@indices.float())\n",
    "# print(\"right\", (input_image[0, self.indices[:,0], self.indices[:,1]]*self.indices.float()).shape)\n",
    "loss_mean = torch.linalg.norm(mean_input - mean_output, dim=1)\n",
    "loss_mean = torch.mean(loss_mean)\n",
    "# print(input_image[0, self.indices].shape)\n",
    "# print(output_image[:, self.indices].shape)\n",
    "print(\"vector in the indices order\", input_image[0, indices[:,0], indices[:,1]].shape)\n",
    "print('first ope', (input_image[batch, indices[:,0], indices[:,1]]*(indices.float() - mean_input[batch])).shape)\n",
    "# compute the covariance matrix estimation\n",
    "var_input = torch.stack([\n",
    "    (input_image[batch, indices[:,0], indices[:,1]]*(indices.float() - mean_input[batch])).unsqueeze(-1)@((indices.float() - mean_input[batch])).unsqueeze(-1).T/(indices.shape[0]-1)\n",
    "    for batch in range(input_image.shape[0])\n",
    "])\n",
    "print(var_input.shape)\n",
    "# var_input = torch.stack([indices.float().T@input_image[batch, indices[:,0], indices[:,1]]*indices.float() - mean_input[batch].T@mean_input[batch]\n",
    "#             for batch in range(input_image.shape[0])])\n",
    "var_output = torch.stack([\n",
    "    (indices.float().T@output_image[batch, indices[:,0], indices[:,1]] - mean_output[batch]).unsqueeze(-1)@(indices.float().T@output_image[batch, indices[:,0], indices[:,1]] - mean_output[batch]).unsqueeze(-1).T/(indices.shape[0]-1)\n",
    "    for batch in range(output_image.shape[0])\n",
    "])\n",
    "\n",
    "print(var_input.shape)\n",
    "print(\"var_output\", var_output.shape)\n",
    "print(\"indices@indices\", (indices.float()@indices.float().T).shape)\n",
    "print(\"mean@mean.T\",(mean_input[0]@mean_input[0].T).shape)\n",
    "print(var_input)\n",
    "print(var_output)\n",
    "loss_var = torch.mean(torch.linalg.norm(var_input - var_output, dim=(1,2), ord='fro'))/indices.shape[0]\n",
    "print(loss_var)"
   ]
  },
  {
   "cell_type": "code",
   "execution_count": 141,
   "metadata": {},
   "outputs": [],
   "source": [
    "dataset = create_gaussian_dataset(r_min=3., r_max=3, n_samples=10000, size=28, margin=3)"
   ]
  },
  {
   "cell_type": "code",
   "execution_count": 142,
   "metadata": {},
   "outputs": [],
   "source": [
    "# split the dataset \n",
    "train_set, test_set = train_test_split(dataset, test_size=0.3, random_state=42)\n",
    "\n",
    "# create dataloaders\n",
    "dataloader_train = DataLoader(train_set, batch_size=16, shuffle=True)\n",
    "dataloader_test = DataLoader(test_set, batch_size=64, shuffle=True)"
   ]
  },
  {
   "cell_type": "code",
   "execution_count": 143,
   "metadata": {},
   "outputs": [
    {
     "name": "stdout",
     "output_type": "stream",
     "text": [
      "Number of parameters in the model: 222692\n"
     ]
    }
   ],
   "source": [
    "model = ConvAE(height=28, width=28, latent_dim=3)"
   ]
  },
  {
   "cell_type": "code",
   "execution_count": 146,
   "metadata": {},
   "outputs": [],
   "source": [
    "optimizer = optim.Adam(model.parameters(), lr=0.0001)\n",
    "scheduler = optim.lr_scheduler.StepLR(optimizer, step_size=20, gamma=0.9)"
   ]
  },
  {
   "cell_type": "code",
   "execution_count": 148,
   "metadata": {},
   "outputs": [
    {
     "data": {
      "application/vnd.jupyter.widget-view+json": {
       "model_id": "4a3dcb6a02434361b54719bd10710a7f",
       "version_major": 2,
       "version_minor": 0
      },
      "text/plain": [
       "  0%|          | 0/100 [00:00<?, ?it/s]"
      ]
     },
     "metadata": {},
     "output_type": "display_data"
    },
    {
     "ename": "KeyboardInterrupt",
     "evalue": "",
     "output_type": "error",
     "traceback": [
      "\u001b[0;31m---------------------------------------------------------------------------\u001b[0m",
      "\u001b[0;31mKeyboardInterrupt\u001b[0m                         Traceback (most recent call last)",
      "\u001b[0;32m/var/folders/01/nfq6qhcj2j7dqfld6ps6vhbc0000gn/T/ipykernel_74966/1286252095.py\u001b[0m in \u001b[0;36m<module>\u001b[0;34m\u001b[0m\n\u001b[0;32m----> 1\u001b[0;31m \u001b[0mtrain\u001b[0m\u001b[0;34m(\u001b[0m\u001b[0mmodel\u001b[0m\u001b[0;34m,\u001b[0m \u001b[0mdataloader_train\u001b[0m\u001b[0;34m,\u001b[0m \u001b[0mdataloader_test\u001b[0m\u001b[0;34m,\u001b[0m \u001b[0moptimizer\u001b[0m\u001b[0;34m,\u001b[0m \u001b[0mscheduler\u001b[0m\u001b[0;34m,\u001b[0m \u001b[0mloss_fn\u001b[0m\u001b[0;34m,\u001b[0m \u001b[0mepochs\u001b[0m\u001b[0;34m=\u001b[0m\u001b[0;36m100\u001b[0m\u001b[0;34m,\u001b[0m \u001b[0mdisplay_step\u001b[0m\u001b[0;34m=\u001b[0m\u001b[0;36m10\u001b[0m\u001b[0;34m)\u001b[0m\u001b[0;34m\u001b[0m\u001b[0;34m\u001b[0m\u001b[0m\n\u001b[0m",
      "\u001b[0;32m/var/folders/01/nfq6qhcj2j7dqfld6ps6vhbc0000gn/T/ipykernel_74966/3372142977.py\u001b[0m in \u001b[0;36mtrain\u001b[0;34m(model, dataloader_train, dataloader_test, optimizer, scheduler, criterion, epochs, display_step)\u001b[0m\n\u001b[1;32m     36\u001b[0m                 \u001b[0mimage\u001b[0m \u001b[0;34m=\u001b[0m \u001b[0mimage\u001b[0m\u001b[0;34m.\u001b[0m\u001b[0mfloat\u001b[0m\u001b[0;34m(\u001b[0m\u001b[0;34m)\u001b[0m\u001b[0;34m\u001b[0m\u001b[0;34m\u001b[0m\u001b[0m\n\u001b[1;32m     37\u001b[0m                 \u001b[0;31m# position = position.float()\u001b[0m\u001b[0;34m\u001b[0m\u001b[0;34m\u001b[0m\u001b[0m\n\u001b[0;32m---> 38\u001b[0;31m                 \u001b[0moutput\u001b[0m\u001b[0;34m,\u001b[0m \u001b[0mposition_pred\u001b[0m \u001b[0;34m=\u001b[0m \u001b[0mmodel\u001b[0m\u001b[0;34m(\u001b[0m\u001b[0mimage\u001b[0m\u001b[0;34m)\u001b[0m\u001b[0;34m\u001b[0m\u001b[0;34m\u001b[0m\u001b[0m\n\u001b[0m\u001b[1;32m     39\u001b[0m                 \u001b[0mloss\u001b[0m \u001b[0;34m=\u001b[0m \u001b[0mcriterion\u001b[0m\u001b[0;34m(\u001b[0m\u001b[0mimage\u001b[0m\u001b[0;34m.\u001b[0m\u001b[0msqueeze\u001b[0m\u001b[0;34m(\u001b[0m\u001b[0;34m)\u001b[0m\u001b[0;34m,\u001b[0m \u001b[0moutput\u001b[0m\u001b[0;34m.\u001b[0m\u001b[0msqueeze\u001b[0m\u001b[0;34m(\u001b[0m\u001b[0;34m)\u001b[0m\u001b[0;34m)\u001b[0m\u001b[0;34m\u001b[0m\u001b[0;34m\u001b[0m\u001b[0m\n\u001b[1;32m     40\u001b[0m                 \u001b[0mloss_epoch\u001b[0m \u001b[0;34m+=\u001b[0m \u001b[0mloss\u001b[0m\u001b[0;34m.\u001b[0m\u001b[0mitem\u001b[0m\u001b[0;34m(\u001b[0m\u001b[0;34m)\u001b[0m\u001b[0;34m\u001b[0m\u001b[0;34m\u001b[0m\u001b[0m\n",
      "\u001b[0;32m/opt/homebrew/lib/python3.9/site-packages/torch/nn/modules/module.py\u001b[0m in \u001b[0;36m_call_impl\u001b[0;34m(self, *input, **kwargs)\u001b[0m\n\u001b[1;32m   1049\u001b[0m         if not (self._backward_hooks or self._forward_hooks or self._forward_pre_hooks or _global_backward_hooks\n\u001b[1;32m   1050\u001b[0m                 or _global_forward_hooks or _global_forward_pre_hooks):\n\u001b[0;32m-> 1051\u001b[0;31m             \u001b[0;32mreturn\u001b[0m \u001b[0mforward_call\u001b[0m\u001b[0;34m(\u001b[0m\u001b[0;34m*\u001b[0m\u001b[0minput\u001b[0m\u001b[0;34m,\u001b[0m \u001b[0;34m**\u001b[0m\u001b[0mkwargs\u001b[0m\u001b[0;34m)\u001b[0m\u001b[0;34m\u001b[0m\u001b[0;34m\u001b[0m\u001b[0m\n\u001b[0m\u001b[1;32m   1052\u001b[0m         \u001b[0;31m# Do not call functions when jit is used\u001b[0m\u001b[0;34m\u001b[0m\u001b[0;34m\u001b[0m\u001b[0m\n\u001b[1;32m   1053\u001b[0m         \u001b[0mfull_backward_hooks\u001b[0m\u001b[0;34m,\u001b[0m \u001b[0mnon_full_backward_hooks\u001b[0m \u001b[0;34m=\u001b[0m \u001b[0;34m[\u001b[0m\u001b[0;34m]\u001b[0m\u001b[0;34m,\u001b[0m \u001b[0;34m[\u001b[0m\u001b[0;34m]\u001b[0m\u001b[0;34m\u001b[0m\u001b[0;34m\u001b[0m\u001b[0m\n",
      "\u001b[0;32m~/Documents/X/3A/Stage/Exploration/utils.py\u001b[0m in \u001b[0;36mforward\u001b[0;34m(self, image)\u001b[0m\n\u001b[1;32m     92\u001b[0m \u001b[0;34m\u001b[0m\u001b[0m\n\u001b[1;32m     93\u001b[0m     \u001b[0;32mdef\u001b[0m \u001b[0mforward\u001b[0m\u001b[0;34m(\u001b[0m\u001b[0mself\u001b[0m\u001b[0;34m,\u001b[0m \u001b[0mimage\u001b[0m\u001b[0;34m)\u001b[0m\u001b[0;34m:\u001b[0m\u001b[0;34m\u001b[0m\u001b[0;34m\u001b[0m\u001b[0m\n\u001b[0;32m---> 94\u001b[0;31m         \u001b[0mout\u001b[0m \u001b[0;34m=\u001b[0m \u001b[0mself\u001b[0m\u001b[0;34m.\u001b[0m\u001b[0mencoder\u001b[0m\u001b[0;34m(\u001b[0m\u001b[0mimage\u001b[0m\u001b[0;34m)\u001b[0m\u001b[0;34m\u001b[0m\u001b[0;34m\u001b[0m\u001b[0m\n\u001b[0m\u001b[1;32m     95\u001b[0m         \u001b[0mlatent\u001b[0m \u001b[0;34m=\u001b[0m \u001b[0mself\u001b[0m\u001b[0;34m.\u001b[0m\u001b[0mencoder_linear\u001b[0m\u001b[0;34m(\u001b[0m\u001b[0mout\u001b[0m\u001b[0;34m)\u001b[0m\u001b[0;34m\u001b[0m\u001b[0;34m\u001b[0m\u001b[0m\n\u001b[1;32m     96\u001b[0m         \u001b[0mout\u001b[0m \u001b[0;34m=\u001b[0m \u001b[0mself\u001b[0m\u001b[0;34m.\u001b[0m\u001b[0mdecoder_linear\u001b[0m\u001b[0;34m(\u001b[0m\u001b[0mlatent\u001b[0m\u001b[0;34m)\u001b[0m\u001b[0;34m\u001b[0m\u001b[0;34m\u001b[0m\u001b[0m\n",
      "\u001b[0;32m/opt/homebrew/lib/python3.9/site-packages/torch/nn/modules/module.py\u001b[0m in \u001b[0;36m_call_impl\u001b[0;34m(self, *input, **kwargs)\u001b[0m\n\u001b[1;32m   1049\u001b[0m         if not (self._backward_hooks or self._forward_hooks or self._forward_pre_hooks or _global_backward_hooks\n\u001b[1;32m   1050\u001b[0m                 or _global_forward_hooks or _global_forward_pre_hooks):\n\u001b[0;32m-> 1051\u001b[0;31m             \u001b[0;32mreturn\u001b[0m \u001b[0mforward_call\u001b[0m\u001b[0;34m(\u001b[0m\u001b[0;34m*\u001b[0m\u001b[0minput\u001b[0m\u001b[0;34m,\u001b[0m \u001b[0;34m**\u001b[0m\u001b[0mkwargs\u001b[0m\u001b[0;34m)\u001b[0m\u001b[0;34m\u001b[0m\u001b[0;34m\u001b[0m\u001b[0m\n\u001b[0m\u001b[1;32m   1052\u001b[0m         \u001b[0;31m# Do not call functions when jit is used\u001b[0m\u001b[0;34m\u001b[0m\u001b[0;34m\u001b[0m\u001b[0m\n\u001b[1;32m   1053\u001b[0m         \u001b[0mfull_backward_hooks\u001b[0m\u001b[0;34m,\u001b[0m \u001b[0mnon_full_backward_hooks\u001b[0m \u001b[0;34m=\u001b[0m \u001b[0;34m[\u001b[0m\u001b[0;34m]\u001b[0m\u001b[0;34m,\u001b[0m \u001b[0;34m[\u001b[0m\u001b[0;34m]\u001b[0m\u001b[0;34m\u001b[0m\u001b[0;34m\u001b[0m\u001b[0m\n",
      "\u001b[0;32m/opt/homebrew/lib/python3.9/site-packages/torch/nn/modules/container.py\u001b[0m in \u001b[0;36mforward\u001b[0;34m(self, input)\u001b[0m\n\u001b[1;32m    137\u001b[0m     \u001b[0;32mdef\u001b[0m \u001b[0mforward\u001b[0m\u001b[0;34m(\u001b[0m\u001b[0mself\u001b[0m\u001b[0;34m,\u001b[0m \u001b[0minput\u001b[0m\u001b[0;34m)\u001b[0m\u001b[0;34m:\u001b[0m\u001b[0;34m\u001b[0m\u001b[0;34m\u001b[0m\u001b[0m\n\u001b[1;32m    138\u001b[0m         \u001b[0;32mfor\u001b[0m \u001b[0mmodule\u001b[0m \u001b[0;32min\u001b[0m \u001b[0mself\u001b[0m\u001b[0;34m:\u001b[0m\u001b[0;34m\u001b[0m\u001b[0;34m\u001b[0m\u001b[0m\n\u001b[0;32m--> 139\u001b[0;31m             \u001b[0minput\u001b[0m \u001b[0;34m=\u001b[0m \u001b[0mmodule\u001b[0m\u001b[0;34m(\u001b[0m\u001b[0minput\u001b[0m\u001b[0;34m)\u001b[0m\u001b[0;34m\u001b[0m\u001b[0;34m\u001b[0m\u001b[0m\n\u001b[0m\u001b[1;32m    140\u001b[0m         \u001b[0;32mreturn\u001b[0m \u001b[0minput\u001b[0m\u001b[0;34m\u001b[0m\u001b[0;34m\u001b[0m\u001b[0m\n\u001b[1;32m    141\u001b[0m \u001b[0;34m\u001b[0m\u001b[0m\n",
      "\u001b[0;32m/opt/homebrew/lib/python3.9/site-packages/torch/nn/modules/module.py\u001b[0m in \u001b[0;36m_call_impl\u001b[0;34m(self, *input, **kwargs)\u001b[0m\n\u001b[1;32m   1049\u001b[0m         if not (self._backward_hooks or self._forward_hooks or self._forward_pre_hooks or _global_backward_hooks\n\u001b[1;32m   1050\u001b[0m                 or _global_forward_hooks or _global_forward_pre_hooks):\n\u001b[0;32m-> 1051\u001b[0;31m             \u001b[0;32mreturn\u001b[0m \u001b[0mforward_call\u001b[0m\u001b[0;34m(\u001b[0m\u001b[0;34m*\u001b[0m\u001b[0minput\u001b[0m\u001b[0;34m,\u001b[0m \u001b[0;34m**\u001b[0m\u001b[0mkwargs\u001b[0m\u001b[0;34m)\u001b[0m\u001b[0;34m\u001b[0m\u001b[0;34m\u001b[0m\u001b[0m\n\u001b[0m\u001b[1;32m   1052\u001b[0m         \u001b[0;31m# Do not call functions when jit is used\u001b[0m\u001b[0;34m\u001b[0m\u001b[0;34m\u001b[0m\u001b[0m\n\u001b[1;32m   1053\u001b[0m         \u001b[0mfull_backward_hooks\u001b[0m\u001b[0;34m,\u001b[0m \u001b[0mnon_full_backward_hooks\u001b[0m \u001b[0;34m=\u001b[0m \u001b[0;34m[\u001b[0m\u001b[0;34m]\u001b[0m\u001b[0;34m,\u001b[0m \u001b[0;34m[\u001b[0m\u001b[0;34m]\u001b[0m\u001b[0;34m\u001b[0m\u001b[0;34m\u001b[0m\u001b[0m\n",
      "\u001b[0;32m/opt/homebrew/lib/python3.9/site-packages/torch/nn/modules/conv.py\u001b[0m in \u001b[0;36mforward\u001b[0;34m(self, input)\u001b[0m\n\u001b[1;32m    441\u001b[0m \u001b[0;34m\u001b[0m\u001b[0m\n\u001b[1;32m    442\u001b[0m     \u001b[0;32mdef\u001b[0m \u001b[0mforward\u001b[0m\u001b[0;34m(\u001b[0m\u001b[0mself\u001b[0m\u001b[0;34m,\u001b[0m \u001b[0minput\u001b[0m\u001b[0;34m:\u001b[0m \u001b[0mTensor\u001b[0m\u001b[0;34m)\u001b[0m \u001b[0;34m->\u001b[0m \u001b[0mTensor\u001b[0m\u001b[0;34m:\u001b[0m\u001b[0;34m\u001b[0m\u001b[0;34m\u001b[0m\u001b[0m\n\u001b[0;32m--> 443\u001b[0;31m         \u001b[0;32mreturn\u001b[0m \u001b[0mself\u001b[0m\u001b[0;34m.\u001b[0m\u001b[0m_conv_forward\u001b[0m\u001b[0;34m(\u001b[0m\u001b[0minput\u001b[0m\u001b[0;34m,\u001b[0m \u001b[0mself\u001b[0m\u001b[0;34m.\u001b[0m\u001b[0mweight\u001b[0m\u001b[0;34m,\u001b[0m \u001b[0mself\u001b[0m\u001b[0;34m.\u001b[0m\u001b[0mbias\u001b[0m\u001b[0;34m)\u001b[0m\u001b[0;34m\u001b[0m\u001b[0;34m\u001b[0m\u001b[0m\n\u001b[0m\u001b[1;32m    444\u001b[0m \u001b[0;34m\u001b[0m\u001b[0m\n\u001b[1;32m    445\u001b[0m \u001b[0;32mclass\u001b[0m \u001b[0mConv3d\u001b[0m\u001b[0;34m(\u001b[0m\u001b[0m_ConvNd\u001b[0m\u001b[0;34m)\u001b[0m\u001b[0;34m:\u001b[0m\u001b[0;34m\u001b[0m\u001b[0;34m\u001b[0m\u001b[0m\n",
      "\u001b[0;32m/opt/homebrew/lib/python3.9/site-packages/torch/nn/modules/conv.py\u001b[0m in \u001b[0;36m_conv_forward\u001b[0;34m(self, input, weight, bias)\u001b[0m\n\u001b[1;32m    437\u001b[0m                             \u001b[0mweight\u001b[0m\u001b[0;34m,\u001b[0m \u001b[0mbias\u001b[0m\u001b[0;34m,\u001b[0m \u001b[0mself\u001b[0m\u001b[0;34m.\u001b[0m\u001b[0mstride\u001b[0m\u001b[0;34m,\u001b[0m\u001b[0;34m\u001b[0m\u001b[0;34m\u001b[0m\u001b[0m\n\u001b[1;32m    438\u001b[0m                             _pair(0), self.dilation, self.groups)\n\u001b[0;32m--> 439\u001b[0;31m         return F.conv2d(input, weight, bias, self.stride,\n\u001b[0m\u001b[1;32m    440\u001b[0m                         self.padding, self.dilation, self.groups)\n\u001b[1;32m    441\u001b[0m \u001b[0;34m\u001b[0m\u001b[0m\n",
      "\u001b[0;31mKeyboardInterrupt\u001b[0m: "
     ]
    }
   ],
   "source": [
    "train(model, dataloader_train, dataloader_test, optimizer, scheduler, loss_fn, epochs=100, display_step=10)"
   ]
  },
  {
   "cell_type": "code",
   "execution_count": 149,
   "metadata": {},
   "outputs": [
    {
     "name": "stdout",
     "output_type": "stream",
     "text": [
      "Position predicted : [ 0.        0.       30.344532] | True position : [0.72506718 0.1215514 ]\n"
     ]
    },
    {
     "data": {
      "image/png": "[encoded data removed]",
      "text/plain": [
       "<Figure size 720x360 with 2 Axes>"
      ]
     },
     "metadata": {
      "needs_background": "light"
     },
     "output_type": "display_data"
    },
    {
     "name": "stdout",
     "output_type": "stream",
     "text": [
      "Position predicted : [ 0.        0.       30.366596] | True position : [0.20646939 0.77606794]\n"
     ]
    },
    {
     "data": {
      "image/png": "[encoded data removed]",
      "text/plain": [
       "<Figure size 720x360 with 2 Axes>"
      ]
     },
     "metadata": {
      "needs_background": "light"
     },
     "output_type": "display_data"
    },
    {
     "name": "stdout",
     "output_type": "stream",
     "text": [
      "Position predicted : [ 0.       0.      30.34322] | True position : [0.74898056 0.71045601]\n"
     ]
    },
    {
     "data": {
      "image/png": "[encoded data removed]",
      "text/plain": [
       "<Figure size 720x360 with 2 Axes>"
      ]
     },
     "metadata": {
      "needs_background": "light"
     },
     "output_type": "display_data"
    },
    {
     "name": "stdout",
     "output_type": "stream",
     "text": [
      "Position predicted : [ 0.        0.       30.509197] | True position : [0.18109823 0.43896773]\n"
     ]
    },
    {
     "data": {
      "image/png": "[encoded data removed]",
      "text/plain": [
       "<Figure size 720x360 with 2 Axes>"
      ]
     },
     "metadata": {
      "needs_background": "light"
     },
     "output_type": "display_data"
    },
    {
     "name": "stdout",
     "output_type": "stream",
     "text": [
      "Position predicted : [ 0.       0.      30.40852] | True position : [0.1551391  0.67832725]\n"
     ]
    },
    {
     "data": {
      "image/png": "[encoded data removed]",
      "text/plain": [
       "<Figure size 720x360 with 2 Axes>"
      ]
     },
     "metadata": {
      "needs_background": "light"
     },
     "output_type": "display_data"
    },
    {
     "name": "stdout",
     "output_type": "stream",
     "text": [
      "Position predicted : [ 0.        0.       30.551704] | True position : [0.3088426  0.36840887]\n"
     ]
    },
    {
     "data": {
      "image/png": "[encoded data removed]",
      "text/plain": [
       "<Figure size 720x360 with 2 Axes>"
      ]
     },
     "metadata": {
      "needs_background": "light"
     },
     "output_type": "display_data"
    }
   ],
   "source": [
    "images = [image for image, _ in test_set]\n",
    "for i, index in enumerate([0, len(images)//5, len(images)//4, len(images)//2, 3*len(images)//4, -1]):\n",
    "    fig, ax = plt.subplots(1, 2, figsize=(10, 5))\n",
    "    pred_image, pred_position = model(torch.tensor(images[index]).float().unsqueeze(0))\n",
    "    pred_image = pred_image.detach().numpy()\n",
    "    pred_position = pred_position.detach().numpy()\n",
    "\n",
    "    print(f\"Position predicted : {pred_position[0,:]} | True position : {test_set[index][1][:]}\")\n",
    "    # print(f\"Radius predicted : {pred_position[0,2]} | Radius position : {samples[index][1][2]}\")\n",
    "    ax[0].imshow(np.squeeze(images[index]), cmap='gray')\n",
    "    ax[1].imshow(pred_image.squeeze(), cmap='gray')\n",
    "    plt.show()"
   ]
  },
  {
   "cell_type": "code",
   "execution_count": 59,
   "metadata": {},
   "outputs": [
    {
     "name": "stdout",
     "output_type": "stream",
     "text": [
      "Position predicted : [0.         0.         0.         0.02019435 0.         0.\n",
      " 0.01284909 0.00744364 0.         0.        ] | True position : [0.33655291 0.36988726]\n"
     ]
    },
    {
     "data": {
      "image/png": "[encoded data removed]",
      "text/plain": [
       "<Figure size 720x360 with 2 Axes>"
      ]
     },
     "metadata": {
      "needs_background": "light"
     },
     "output_type": "display_data"
    },
    {
     "name": "stdout",
     "output_type": "stream",
     "text": [
      "Position predicted : [0.         0.         0.         0.0200395  0.         0.\n",
      " 0.01264097 0.00774126 0.         0.        ] | True position : [0.24835274 0.51664012]\n"
     ]
    },
    {
     "data": {
      "image/png": "[encoded data removed]",
      "text/plain": [
       "<Figure size 720x360 with 2 Axes>"
      ]
     },
     "metadata": {
      "needs_background": "light"
     },
     "output_type": "display_data"
    },
    {
     "name": "stdout",
     "output_type": "stream",
     "text": [
      "Position predicted : [0.         0.         0.         0.02015358 0.         0.\n",
      " 0.0123921  0.00663426 0.         0.        ] | True position : [0.48793809 0.5415693 ]\n"
     ]
    },
    {
     "data": {
      "image/png": "[encoded data removed]",
      "text/plain": [
       "<Figure size 720x360 with 2 Axes>"
      ]
     },
     "metadata": {
      "needs_background": "light"
     },
     "output_type": "display_data"
    },
    {
     "name": "stdout",
     "output_type": "stream",
     "text": [
      "Position predicted : [0.         0.         0.         0.01997508 0.         0.\n",
      " 0.01304702 0.0065843  0.         0.        ] | True position : [0.65248192 0.07922346]\n"
     ]
    },
    {
     "data": {
      "image/png": "[encoded data removed]",
      "text/plain": [
       "<Figure size 720x360 with 2 Axes>"
      ]
     },
     "metadata": {
      "needs_background": "light"
     },
     "output_type": "display_data"
    },
    {
     "name": "stdout",
     "output_type": "stream",
     "text": [
      "Position predicted : [0.         0.         0.         0.01975413 0.         0.\n",
      " 0.01284656 0.00671469 0.         0.        ] | True position : [0.81283107 0.73072283]\n"
     ]
    },
    {
     "data": {
      "image/png": "[encoded data removed]",
      "text/plain": [
       "<Figure size 720x360 with 2 Axes>"
      ]
     },
     "metadata": {
      "needs_background": "light"
     },
     "output_type": "display_data"
    },
    {
     "name": "stdout",
     "output_type": "stream",
     "text": [
      "Position predicted : [0.         0.         0.         0.02053116 0.         0.\n",
      " 0.01333187 0.00690511 0.         0.        ] | True position : [0.73564233 0.79219956]\n"
     ]
    },
    {
     "data": {
      "image/png": "[encoded data removed]",
      "text/plain": [
       "<Figure size 720x360 with 2 Axes>"
      ]
     },
     "metadata": {
      "needs_background": "light"
     },
     "output_type": "display_data"
    }
   ],
   "source": [
    "images = [image for image, _ in test_set]\n",
    "for i, index in enumerate([0, len(images)//5, len(images)//4, len(images)//2, 3*len(images)//4, -1]):\n",
    "    fig, ax = plt.subplots(1, 2, figsize=(10, 5))\n",
    "    pred_image, pred_position = model(torch.tensor(images[index]).float().unsqueeze(0))\n",
    "    pred_image = pred_image.detach().numpy()\n",
    "    pred_position = pred_position.detach().numpy()\n",
    "\n",
    "    print(f\"Position predicted : {pred_position[0,:]} | True position : {test_set[index][1][:]}\")\n",
    "    # print(f\"Radius predicted : {pred_position[0,2]} | Radius position : {samples[index][1][2]}\")\n",
    "    ax[0].imshow(np.squeeze(images[index]), cmap='gray')\n",
    "    ax[1].imshow(pred_image.squeeze(), cmap='gray')\n",
    "    plt.show()"
   ]
  },
  {
   "cell_type": "code",
   "execution_count": 12,
   "metadata": {},
   "outputs": [
    {
     "data": {
      "text/plain": [
       "(torch.Size([1, 1, 28, 28]), torch.Size([1, 1, 28, 28]))"
      ]
     },
     "execution_count": 12,
     "metadata": {},
     "output_type": "execute_result"
    }
   ],
   "source": [
    "img = torch.from_numpy(datasets[0][0]).float().unsqueeze(0)\n",
    "noisy_img = (img + 0.001*torch.randn_like(img))*1\n",
    "img.shape, noisy_img.shape"
   ]
  },
  {
   "cell_type": "code",
   "execution_count": 13,
   "metadata": {},
   "outputs": [
    {
     "data": {
      "image/png": "[encoded data removed]",
      "text/plain": [
       "<Figure size 432x288 with 1 Axes>"
      ]
     },
     "metadata": {
      "needs_background": "light"
     },
     "output_type": "display_data"
    },
    {
     "data": {
      "image/png": "[encoded data removed]",
      "text/plain": [
       "<Figure size 432x288 with 1 Axes>"
      ]
     },
     "metadata": {
      "needs_background": "light"
     },
     "output_type": "display_data"
    }
   ],
   "source": [
    "plt.imshow(img.squeeze().detach().numpy(), cmap='gray')\n",
    "plt.show()\n",
    "plt.imshow(noisy_img.squeeze().detach().numpy(), cmap='gray')\n",
    "plt.show()\n"
   ]
  },
  {
   "cell_type": "code",
   "execution_count": 204,
   "metadata": {},
   "outputs": [
    {
     "data": {
      "text/plain": [
       "(tensor(0.0008), tensor(0.0062), tensor(0.7386))"
      ]
     },
     "execution_count": 204,
     "metadata": {},
     "output_type": "execute_result"
    }
   ],
   "source": [
    "loss_fn(img, noisy_img)"
   ]
  },
  {
   "cell_type": "code",
   "execution_count": null,
   "metadata": {},
   "outputs": [],
   "source": []
  },
  {
   "cell_type": "code",
   "execution_count": null,
   "metadata": {},
   "outputs": [],
   "source": []
  }
 ],
 "metadata": {
  "interpreter": {
   "hash": "b0fa6594d8f4cbf19f97940f81e996739fb7646882a419484c72d19e05852a7e"
  },
  "kernelspec": {
   "display_name": "Python 3.9.9 64-bit",
   "language": "python",
   "name": "python3"
  },
  "language_info": {
   "codemirror_mode": {
    "name": "ipython",
    "version": 3
   },
   "file_extension": ".py",
   "mimetype": "text/x-python",
   "name": "python",
   "nbconvert_exporter": "python",
   "pygments_lexer": "ipython3",
   "version": "3.9.9"
  },
  "orig_nbformat": 4
 },
 "nbformat": 4,
 "nbformat_minor": 2
}
