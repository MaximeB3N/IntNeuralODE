{
 "cells": [
  {
   "cell_type": "code",
   "execution_count": 1,
   "metadata": {},
   "outputs": [],
   "source": [
    "import torch\n",
    "import torch.nn as nn\n",
    "import torch.nn.functional as F\n",
    "import torch.optim as optim\n",
    "from torch.utils.data import DataLoader\n",
    "\n",
    "# import the MNIST dataset\n",
    "import torchvision.datasets as datasets\n",
    "from torchvision import transforms\n",
    "\n",
    "import torchsummary\n",
    "\n",
    "from sklearn.model_selection import train_test_split\n",
    "\n",
    "# from torchdiffeq import odeint, odeint_adjoint\n",
    "\n",
    "import cv2\n",
    "import numpy as np\n",
    "\n",
    "from matplotlib.animation import FuncAnimation\n",
    "import matplotlib.pyplot as plt\n",
    "\n",
    "from tqdm.notebook import trange"
   ]
  },
  {
   "cell_type": "code",
   "execution_count": 2,
   "metadata": {},
   "outputs": [],
   "source": [
    "class Ball:\n",
    "    def __init__(self, x0, r, move_func):\n",
    "        self.x0 = x0\n",
    "        self.r = int(np.array(r))\n",
    "        self.x = np.copy(x0)\n",
    "        self.t = 0\n",
    "        self.move_func = move_func\n",
    "\n",
    "    def reset(self):\n",
    "        self.x = np.copy(self.x0)\n",
    "        self.t = 0\n",
    "\n",
    "    def step(self, dt):\n",
    "        self.t += dt\n",
    "        x = np.copy(self.x)\n",
    "        self.x += dt*self.move_func(self.t, x)\n",
    "        \n",
    "        return self.x\n",
    "\n",
    "    \n",
    "\n",
    "class Image(Ball):\n",
    "    def __init__(self, x0, r, move_func, size, border=2):\n",
    "        super(Image, self).__init__(x0, r, move_func)\n",
    "        self.size = size\n",
    "        self.border = border\n",
    "        self.image_dim = (size, size, 3)\n",
    "        self.image = np.zeros(self.image_dim, dtype=np.uint8)\n",
    "        \n",
    "        x = self.compute_position_on_image(self.x)\n",
    "        self.image = cv2.circle(np.zeros(self.image_dim, dtype=np.uint8), (x[0], x[1]), self.r, (255, 255, 255), -1)\n",
    "\n",
    "\n",
    "    def compute_position_on_image(self, x):\n",
    "        x = (x - self.border[0])/(self.border[1] - self.border[0])\n",
    "        x = x*(self.size-1)\n",
    "        x = x.astype(np.uint8)\n",
    "        x = np.clip(x, 0, self.size-1)\n",
    "\n",
    "        return x\n",
    "\n",
    "    def update_image(self):\n",
    "        x = self.compute_position_on_image(self.x)\n",
    "        self.image = cv2.circle(np.zeros(self.image_dim, dtype=np.uint8), (x[0], x[1]), self.r, (255, 255, 255), -1)\n",
    "\n",
    "\n",
    "    def display(self):\n",
    "        self.update_image()\n",
    "        plt.imshow(self.image)\n",
    "        plt.show()\n",
    "\n",
    "    def forward(self, dt):\n",
    "        x = self.step(dt)\n",
    "        self.update_image()\n",
    "        return x\n",
    "\n",
    "    def animate(self, dt, frames=100, interval=20, repeat_delay=0):\n",
    "        \n",
    "        self.reset()\n",
    "        fig = plt.figure()\n",
    "        ax = plt.axes(xlim=(0, self.size), ylim=(0, self.size))\n",
    "        ax.imshow(self.image)\n",
    "\n",
    "        def init():\n",
    "            self.reset()\n",
    "            ax.imshow(self.image)\n",
    "            return ax,\n",
    "\n",
    "        def update(i):\n",
    "            self.forward(dt)\n",
    "            ax.imshow(self.image)\n",
    "            return ax,\n",
    "            \n",
    "\n",
    "        anim = FuncAnimation(fig, update, init_func=init, frames=trange(0,frames), interval=interval, repeat_delay=repeat_delay)\n",
    "        # plt.show()\n",
    "        anim.save('images/ODE/ball_animation.gif', writer='pillow')\n",
    "        plt.close()\n",
    "\n",
    "    def generate_samples(self, dt, frames=100, conv=False):\n",
    "        self.reset()\n",
    "\n",
    "\n",
    "        if frames > 0:\n",
    "            if conv:\n",
    "                samples = np.zeros((frames, 1, self.image_dim[0], self.image_dim[1]))\n",
    "\n",
    "            else:\n",
    "                samples = np.zeros((frames, self.image_dim[0], self.image_dim[1]))\n",
    "\n",
    "            for i in range(frames):\n",
    "                self.forward(dt)\n",
    "                if conv:\n",
    "                    samples[i, 0] = self.image[:,:,0]\n",
    "\n",
    "                else:\n",
    "                    samples[i] = self.image[:,:,0]\n",
    "\n",
    "            return samples\n",
    "\n",
    "        else:\n",
    "            samples = []\n",
    "            current_x = np.copy(self.x)\n",
    "            while True:\n",
    "                x = self.forward(dt)\n",
    "                if np.linalg.norm(x - current_x) < 1E-2*dt:\n",
    "                    break\n",
    "                current_x = np.copy(x)\n",
    "                if conv: \n",
    "                    samples.append(np.expand_dims(self.image[:,:,0], axis=0))\n",
    "                else:\n",
    "                    samples.append(self.image[:,:,0])\n",
    "                \n",
    "            return np.array(samples)\n",
    "\n",
    "\n",
    "def move_fun_circle(t, x, w=1, exp_decay=1.):\n",
    "    return np.exp(-exp_decay*t)*np.array([-w*np.sin(w*t), w*np.cos(w*t)], dtype=np.float32)    \n"
   ]
  },
  {
   "cell_type": "code",
   "execution_count": 3,
   "metadata": {},
   "outputs": [],
   "source": [
    "def create_random_dataset(r_max, n_samples, size, conv=False):\n",
    "    data = []\n",
    "    for i in range(n_samples):\n",
    "        r = np.random.randint(r_max)\n",
    "        image = np.zeros((size, size), dtype=np.uint8)\n",
    "        x = np.random.randint(low=1, high=size, size=(2))\n",
    "        image = cv2.circle(image, (x[0], x[1]), r, 255, -1)/255.\n",
    "        if conv:\n",
    "            image = np.expand_dims(image, axis=0)\n",
    "        data.append([image, np.array([x[0]/size, x[1]/size, r/r_max]) ] )\n",
    "\n",
    "    return data\n",
    "\n",
    "# samples = create_random_dataset(10, 120000, 128)\n",
    "def gaussian_density(x, mu, sigma):\n",
    "    return torch.exp(-torch.norm(torch.tensor(x - mu).float(), dim=1)**2/(2*sigma**2))/(2*np.pi*sigma**2)\n",
    "\n",
    "def create_gaussian_dataset(r_min, r_max, n_samples, size):\n",
    "    samples = np.zeros((n_samples, 1, size, size))\n",
    "    indices_matrix = np.array([[i,j] for i in range(size) for j in range(size)])\n",
    "    # print(indices_matrix)\n",
    "    # print(indices_matrix.shape)\n",
    "    eps = 1E-5\n",
    "    for i in range(n_samples):\n",
    "        r = np.random.uniform(r_min, r_max+eps)\n",
    "        # create a gaussian ball\n",
    "        image = np.zeros((size, size), dtype=np.uint8)\n",
    "        x = np.random.randint(size, size=(2))\n",
    "        # compute the density over the image and normalize it\n",
    "        image = gaussian_density(indices_matrix, x, r).numpy().copy()\n",
    "        samples[i, 0] = image.reshape(size, size)\n",
    "        \n",
    "    return samples\n",
    "\n",
    "samples = create_gaussian_dataset(1., 1., 8000, 28)"
   ]
  },
  {
   "cell_type": "code",
   "execution_count": 4,
   "metadata": {},
   "outputs": [],
   "source": [
    "class custom_loss(nn.Module):\n",
    "    def __init__(self, image_loss=nn.BCELoss(), factor=0.5, normalize=False):\n",
    "        super(custom_loss, self).__init__()\n",
    "        self.image_loss = image_loss\n",
    "        self.factor = factor\n",
    "        self.normalize = normalize\n",
    "        self.latent_loss = nn.MSELoss()\n",
    "\n",
    "    def forward(self, true_image, image, true_position, position):\n",
    "        # print((1-self.factor)*self.image_loss(true_image, image))\n",
    "        # print(self.factor*torch.mean(torch.sum((true_position - position)**2, dim=1)))\n",
    "        loss = (1-self.factor)*self.image_loss(true_image, image)*100\n",
    "        if self.normalize:\n",
    "            loss = loss/torch.mean(torch.sum(true_image, dim=(1,2)))\n",
    "\n",
    "        # print(loss, self.factor*torch.mean(torch.sum((true_position - position)**2, dim=(1))))\n",
    "\n",
    "        loss += self.factor*self.latent_loss(true_position, position)\n",
    "        \n",
    "        # if self.normalize:\n",
    "        #     loss += 10E-5*torch.mean(torch.sum((position)**2, dim=1))\n",
    "\n",
    "        return loss\n",
    "\n",
    "loss_fn = custom_loss(nn.MSELoss(), 0.5, normalize=False)"
   ]
  },
  {
   "cell_type": "code",
   "execution_count": 5,
   "metadata": {},
   "outputs": [],
   "source": [
    "def train(model, dataloader_train, dataloader_test, optimizer, scheduler, criterion, epochs=10, display_step=1):\n",
    "    \n",
    "    iterator = trange(epochs)\n",
    "    losses_train = []\n",
    "    losses_test = []\n",
    "    for _ in iterator:\n",
    "        loss_epoch = 0\n",
    "        model.train()\n",
    "        for i, data in enumerate(dataloader_train):\n",
    "            image, position = data\n",
    "            image = image.float()\n",
    "            position = position.float()\n",
    "            optimizer.zero_grad()\n",
    "            output, position_pred = model(image)\n",
    "            loss = criterion(image.squeeze(), output.squeeze(), position, position_pred)\n",
    "            loss.backward()\n",
    "            optimizer.step()\n",
    "            loss_epoch += loss.item()\n",
    "            if i % display_step == 0:\n",
    "                iterator.set_description(f'Batch: {i}/{len(dataloader_train)}, Loss: {loss_epoch/(i+1):.6f}')\n",
    "            \n",
    "\n",
    "        losses_train.append(loss_epoch/len(dataloader_train))\n",
    "        model.eval()\n",
    "        with torch.no_grad():\n",
    "            loss_epoch = 0\n",
    "            for i, data in enumerate(dataloader_test):\n",
    "                image, position = data\n",
    "                image = image.float()\n",
    "                position = position.float()    \n",
    "                output, position_pred = model(image)\n",
    "                loss = criterion(image.squeeze(), output.squeeze(), position, position_pred)\n",
    "                loss_epoch += loss.item()\n",
    "                if i % display_step == 0:\n",
    "                    iterator.set_postfix_str(f'Test Batch: {i}/{len(dataloader_test)}, Loss: {loss_epoch/(i+1):.6f}')\n",
    "            \n",
    "            losses_test.append(loss_epoch/len(dataloader_test))\n",
    "            \n",
    "        scheduler.step()\n",
    "        \n",
    "    return losses_train, losses_test"
   ]
  },
  {
   "cell_type": "code",
   "execution_count": 6,
   "metadata": {},
   "outputs": [],
   "source": [
    "# Split train and test data using sklearn\n",
    "samples_train, samples_test= train_test_split(samples, test_size=0.3, random_state=42)\n",
    "# create a dataloader from the matrix of samples\n",
    "\n",
    "dataloader_train = DataLoader(samples_train, batch_size=64, shuffle=True)\n",
    "dataloader_test = DataLoader(samples_test, batch_size=64, shuffle=False)"
   ]
  },
  {
   "cell_type": "markdown",
   "metadata": {},
   "source": [
    "# MLP"
   ]
  },
  {
   "cell_type": "code",
   "execution_count": 7,
   "metadata": {},
   "outputs": [],
   "source": [
    "class AE(nn.Module):\n",
    "    def __init__(self, **kwargs):\n",
    "        super().__init__()\n",
    "        self.flatten = nn.Flatten()\n",
    "        self.height = kwargs['height']\n",
    "        self.width = kwargs['width']\n",
    "        self.latent_dim = kwargs['latent_dim']\n",
    "\n",
    "        self.encoder = nn.Sequential(\n",
    "                    nn.Linear(in_features=self.height*self.width, out_features=32),\n",
    "                    nn.ReLU(),\n",
    "                    nn.Linear(in_features=32, out_features=self.latent_dim),\n",
    "                    nn.ReLU()\n",
    "        )\n",
    "\n",
    "        self.decoder = nn.Sequential(\n",
    "                    nn.Linear(in_features=self.latent_dim, out_features=32),\n",
    "                    nn.ReLU(),\n",
    "                    nn.Linear(in_features=32, out_features=self.height*self.width),\n",
    "                    nn.Sigmoid()\n",
    "        )\n",
    "\n",
    "        print(\"Parameters number: \", sum([p.numel() for p in self.parameters()]))\n",
    "        \n",
    "\n",
    "    def forward(self, features):\n",
    "        out = self.flatten(features)\n",
    "        positions = self.encoder(out)\n",
    "        out = self.decoder(positions)\n",
    "        reconstructed = out.view(features.shape[0], self.height, self.width)\n",
    "        return reconstructed, positions"
   ]
  },
  {
   "cell_type": "code",
   "execution_count": 8,
   "metadata": {},
   "outputs": [
    {
     "name": "stdout",
     "output_type": "stream",
     "text": [
      "Parameters number:  1065219\n"
     ]
    }
   ],
   "source": [
    "model = AE(height=128, width=128, latent_dim=3)"
   ]
  },
  {
   "cell_type": "code",
   "execution_count": 197,
   "metadata": {},
   "outputs": [
    {
     "data": {
      "application/vnd.jupyter.widget-view+json": {
       "model_id": "f47bd65d2ede45418deff8c58f2a7e19",
       "version_major": 2,
       "version_minor": 0
      },
      "text/plain": [
       "  0%|          | 0/150 [00:00<?, ?it/s]"
      ]
     },
     "metadata": {},
     "output_type": "display_data"
    },
    {
     "ename": "KeyboardInterrupt",
     "evalue": "",
     "output_type": "error",
     "traceback": [
      "\u001b[0;31m---------------------------------------------------------------------------\u001b[0m",
      "\u001b[0;31mKeyboardInterrupt\u001b[0m                         Traceback (most recent call last)",
      "\u001b[0;32m<ipython-input-197-b74c7c1ba3a4>\u001b[0m in \u001b[0;36m<module>\u001b[0;34m\u001b[0m\n\u001b[1;32m      2\u001b[0m \u001b[0moptimizer\u001b[0m \u001b[0;34m=\u001b[0m \u001b[0moptim\u001b[0m\u001b[0;34m.\u001b[0m\u001b[0mAdam\u001b[0m\u001b[0;34m(\u001b[0m\u001b[0mmodel\u001b[0m\u001b[0;34m.\u001b[0m\u001b[0mparameters\u001b[0m\u001b[0;34m(\u001b[0m\u001b[0;34m)\u001b[0m\u001b[0;34m,\u001b[0m \u001b[0mlr\u001b[0m\u001b[0;34m=\u001b[0m\u001b[0;36m0.01\u001b[0m\u001b[0;34m)\u001b[0m\u001b[0;34m\u001b[0m\u001b[0;34m\u001b[0m\u001b[0m\n\u001b[1;32m      3\u001b[0m losses_train, losses_test = train(model, dataloader_train, dataloader_test,\n\u001b[0;32m----> 4\u001b[0;31m                             optimizer, loss_fn, epochs=150, display_step=2)\n\u001b[0m",
      "\u001b[0;32m<ipython-input-191-ba413078d95e>\u001b[0m in \u001b[0;36mtrain\u001b[0;34m(model, dataloader_train, dataloader_test, optimizer, criterion, epochs, display_step)\u001b[0m\n\u001b[1;32m     29\u001b[0m                 \u001b[0mimage\u001b[0m \u001b[0;34m=\u001b[0m \u001b[0mimage\u001b[0m\u001b[0;34m.\u001b[0m\u001b[0mfloat\u001b[0m\u001b[0;34m(\u001b[0m\u001b[0;34m)\u001b[0m\u001b[0;34m\u001b[0m\u001b[0;34m\u001b[0m\u001b[0m\n\u001b[1;32m     30\u001b[0m                 \u001b[0mposition\u001b[0m \u001b[0;34m=\u001b[0m \u001b[0mposition\u001b[0m\u001b[0;34m.\u001b[0m\u001b[0mfloat\u001b[0m\u001b[0;34m(\u001b[0m\u001b[0;34m)\u001b[0m\u001b[0;34m\u001b[0m\u001b[0;34m\u001b[0m\u001b[0m\n\u001b[0;32m---> 31\u001b[0;31m                 \u001b[0moutput\u001b[0m\u001b[0;34m,\u001b[0m \u001b[0mposition_pred\u001b[0m \u001b[0;34m=\u001b[0m \u001b[0mmodel\u001b[0m\u001b[0;34m(\u001b[0m\u001b[0mimage\u001b[0m\u001b[0;34m)\u001b[0m\u001b[0;34m\u001b[0m\u001b[0;34m\u001b[0m\u001b[0m\n\u001b[0m\u001b[1;32m     32\u001b[0m                 \u001b[0mloss\u001b[0m \u001b[0;34m=\u001b[0m \u001b[0mcriterion\u001b[0m\u001b[0;34m(\u001b[0m\u001b[0mimage\u001b[0m\u001b[0;34m.\u001b[0m\u001b[0msqueeze\u001b[0m\u001b[0;34m(\u001b[0m\u001b[0;34m)\u001b[0m\u001b[0;34m,\u001b[0m \u001b[0moutput\u001b[0m\u001b[0;34m.\u001b[0m\u001b[0msqueeze\u001b[0m\u001b[0;34m(\u001b[0m\u001b[0;34m)\u001b[0m\u001b[0;34m,\u001b[0m \u001b[0mposition\u001b[0m\u001b[0;34m,\u001b[0m \u001b[0mposition_pred\u001b[0m\u001b[0;34m)\u001b[0m\u001b[0;34m\u001b[0m\u001b[0;34m\u001b[0m\u001b[0m\n\u001b[1;32m     33\u001b[0m                 \u001b[0mloss_epoch\u001b[0m \u001b[0;34m+=\u001b[0m \u001b[0mloss\u001b[0m\u001b[0;34m.\u001b[0m\u001b[0mitem\u001b[0m\u001b[0;34m(\u001b[0m\u001b[0;34m)\u001b[0m\u001b[0;34m\u001b[0m\u001b[0;34m\u001b[0m\u001b[0m\n",
      "\u001b[0;32m/Library/Frameworks/Python.framework/Versions/3.6/lib/python3.6/site-packages/torch/nn/modules/module.py\u001b[0m in \u001b[0;36m_call_impl\u001b[0;34m(self, *input, **kwargs)\u001b[0m\n\u001b[1;32m   1100\u001b[0m         if not (self._backward_hooks or self._forward_hooks or self._forward_pre_hooks or _global_backward_hooks\n\u001b[1;32m   1101\u001b[0m                 or _global_forward_hooks or _global_forward_pre_hooks):\n\u001b[0;32m-> 1102\u001b[0;31m             \u001b[0;32mreturn\u001b[0m \u001b[0mforward_call\u001b[0m\u001b[0;34m(\u001b[0m\u001b[0;34m*\u001b[0m\u001b[0minput\u001b[0m\u001b[0;34m,\u001b[0m \u001b[0;34m**\u001b[0m\u001b[0mkwargs\u001b[0m\u001b[0;34m)\u001b[0m\u001b[0;34m\u001b[0m\u001b[0;34m\u001b[0m\u001b[0m\n\u001b[0m\u001b[1;32m   1103\u001b[0m         \u001b[0;31m# Do not call functions when jit is used\u001b[0m\u001b[0;34m\u001b[0m\u001b[0;34m\u001b[0m\u001b[0;34m\u001b[0m\u001b[0m\n\u001b[1;32m   1104\u001b[0m         \u001b[0mfull_backward_hooks\u001b[0m\u001b[0;34m,\u001b[0m \u001b[0mnon_full_backward_hooks\u001b[0m \u001b[0;34m=\u001b[0m \u001b[0;34m[\u001b[0m\u001b[0;34m]\u001b[0m\u001b[0;34m,\u001b[0m \u001b[0;34m[\u001b[0m\u001b[0;34m]\u001b[0m\u001b[0;34m\u001b[0m\u001b[0;34m\u001b[0m\u001b[0m\n",
      "\u001b[0;32m<ipython-input-193-97fa1dcce0fd>\u001b[0m in \u001b[0;36mforward\u001b[0;34m(self, features)\u001b[0m\n\u001b[1;32m     27\u001b[0m         \u001b[0mout\u001b[0m \u001b[0;34m=\u001b[0m \u001b[0mself\u001b[0m\u001b[0;34m.\u001b[0m\u001b[0mflatten\u001b[0m\u001b[0;34m(\u001b[0m\u001b[0mfeatures\u001b[0m\u001b[0;34m)\u001b[0m\u001b[0;34m\u001b[0m\u001b[0;34m\u001b[0m\u001b[0m\n\u001b[1;32m     28\u001b[0m         \u001b[0mpositions\u001b[0m \u001b[0;34m=\u001b[0m \u001b[0mself\u001b[0m\u001b[0;34m.\u001b[0m\u001b[0mencoder\u001b[0m\u001b[0;34m(\u001b[0m\u001b[0mout\u001b[0m\u001b[0;34m)\u001b[0m\u001b[0;34m\u001b[0m\u001b[0;34m\u001b[0m\u001b[0m\n\u001b[0;32m---> 29\u001b[0;31m         \u001b[0mout\u001b[0m \u001b[0;34m=\u001b[0m \u001b[0mself\u001b[0m\u001b[0;34m.\u001b[0m\u001b[0mdecoder\u001b[0m\u001b[0;34m(\u001b[0m\u001b[0mpositions\u001b[0m\u001b[0;34m)\u001b[0m\u001b[0;34m\u001b[0m\u001b[0;34m\u001b[0m\u001b[0m\n\u001b[0m\u001b[1;32m     30\u001b[0m         \u001b[0mreconstructed\u001b[0m \u001b[0;34m=\u001b[0m \u001b[0mout\u001b[0m\u001b[0;34m.\u001b[0m\u001b[0mview\u001b[0m\u001b[0;34m(\u001b[0m\u001b[0mfeatures\u001b[0m\u001b[0;34m.\u001b[0m\u001b[0mshape\u001b[0m\u001b[0;34m[\u001b[0m\u001b[0;36m0\u001b[0m\u001b[0;34m]\u001b[0m\u001b[0;34m,\u001b[0m \u001b[0mself\u001b[0m\u001b[0;34m.\u001b[0m\u001b[0mheight\u001b[0m\u001b[0;34m,\u001b[0m \u001b[0mself\u001b[0m\u001b[0;34m.\u001b[0m\u001b[0mwidth\u001b[0m\u001b[0;34m)\u001b[0m\u001b[0;34m\u001b[0m\u001b[0;34m\u001b[0m\u001b[0m\n\u001b[1;32m     31\u001b[0m         \u001b[0;32mreturn\u001b[0m \u001b[0mreconstructed\u001b[0m\u001b[0;34m,\u001b[0m \u001b[0mpositions\u001b[0m\u001b[0;34m\u001b[0m\u001b[0;34m\u001b[0m\u001b[0m\n",
      "\u001b[0;32m/Library/Frameworks/Python.framework/Versions/3.6/lib/python3.6/site-packages/torch/nn/modules/module.py\u001b[0m in \u001b[0;36m_call_impl\u001b[0;34m(self, *input, **kwargs)\u001b[0m\n\u001b[1;32m   1100\u001b[0m         if not (self._backward_hooks or self._forward_hooks or self._forward_pre_hooks or _global_backward_hooks\n\u001b[1;32m   1101\u001b[0m                 or _global_forward_hooks or _global_forward_pre_hooks):\n\u001b[0;32m-> 1102\u001b[0;31m             \u001b[0;32mreturn\u001b[0m \u001b[0mforward_call\u001b[0m\u001b[0;34m(\u001b[0m\u001b[0;34m*\u001b[0m\u001b[0minput\u001b[0m\u001b[0;34m,\u001b[0m \u001b[0;34m**\u001b[0m\u001b[0mkwargs\u001b[0m\u001b[0;34m)\u001b[0m\u001b[0;34m\u001b[0m\u001b[0;34m\u001b[0m\u001b[0m\n\u001b[0m\u001b[1;32m   1103\u001b[0m         \u001b[0;31m# Do not call functions when jit is used\u001b[0m\u001b[0;34m\u001b[0m\u001b[0;34m\u001b[0m\u001b[0;34m\u001b[0m\u001b[0m\n\u001b[1;32m   1104\u001b[0m         \u001b[0mfull_backward_hooks\u001b[0m\u001b[0;34m,\u001b[0m \u001b[0mnon_full_backward_hooks\u001b[0m \u001b[0;34m=\u001b[0m \u001b[0;34m[\u001b[0m\u001b[0;34m]\u001b[0m\u001b[0;34m,\u001b[0m \u001b[0;34m[\u001b[0m\u001b[0;34m]\u001b[0m\u001b[0;34m\u001b[0m\u001b[0;34m\u001b[0m\u001b[0m\n",
      "\u001b[0;32m/Library/Frameworks/Python.framework/Versions/3.6/lib/python3.6/site-packages/torch/nn/modules/container.py\u001b[0m in \u001b[0;36mforward\u001b[0;34m(self, input)\u001b[0m\n\u001b[1;32m    139\u001b[0m     \u001b[0;32mdef\u001b[0m \u001b[0mforward\u001b[0m\u001b[0;34m(\u001b[0m\u001b[0mself\u001b[0m\u001b[0;34m,\u001b[0m \u001b[0minput\u001b[0m\u001b[0;34m)\u001b[0m\u001b[0;34m:\u001b[0m\u001b[0;34m\u001b[0m\u001b[0;34m\u001b[0m\u001b[0m\n\u001b[1;32m    140\u001b[0m         \u001b[0;32mfor\u001b[0m \u001b[0mmodule\u001b[0m \u001b[0;32min\u001b[0m \u001b[0mself\u001b[0m\u001b[0;34m:\u001b[0m\u001b[0;34m\u001b[0m\u001b[0;34m\u001b[0m\u001b[0m\n\u001b[0;32m--> 141\u001b[0;31m             \u001b[0minput\u001b[0m \u001b[0;34m=\u001b[0m \u001b[0mmodule\u001b[0m\u001b[0;34m(\u001b[0m\u001b[0minput\u001b[0m\u001b[0;34m)\u001b[0m\u001b[0;34m\u001b[0m\u001b[0;34m\u001b[0m\u001b[0m\n\u001b[0m\u001b[1;32m    142\u001b[0m         \u001b[0;32mreturn\u001b[0m \u001b[0minput\u001b[0m\u001b[0;34m\u001b[0m\u001b[0;34m\u001b[0m\u001b[0m\n\u001b[1;32m    143\u001b[0m \u001b[0;34m\u001b[0m\u001b[0m\n",
      "\u001b[0;32m/Library/Frameworks/Python.framework/Versions/3.6/lib/python3.6/site-packages/torch/nn/modules/module.py\u001b[0m in \u001b[0;36m_call_impl\u001b[0;34m(self, *input, **kwargs)\u001b[0m\n\u001b[1;32m   1100\u001b[0m         if not (self._backward_hooks or self._forward_hooks or self._forward_pre_hooks or _global_backward_hooks\n\u001b[1;32m   1101\u001b[0m                 or _global_forward_hooks or _global_forward_pre_hooks):\n\u001b[0;32m-> 1102\u001b[0;31m             \u001b[0;32mreturn\u001b[0m \u001b[0mforward_call\u001b[0m\u001b[0;34m(\u001b[0m\u001b[0;34m*\u001b[0m\u001b[0minput\u001b[0m\u001b[0;34m,\u001b[0m \u001b[0;34m**\u001b[0m\u001b[0mkwargs\u001b[0m\u001b[0;34m)\u001b[0m\u001b[0;34m\u001b[0m\u001b[0;34m\u001b[0m\u001b[0m\n\u001b[0m\u001b[1;32m   1103\u001b[0m         \u001b[0;31m# Do not call functions when jit is used\u001b[0m\u001b[0;34m\u001b[0m\u001b[0;34m\u001b[0m\u001b[0;34m\u001b[0m\u001b[0m\n\u001b[1;32m   1104\u001b[0m         \u001b[0mfull_backward_hooks\u001b[0m\u001b[0;34m,\u001b[0m \u001b[0mnon_full_backward_hooks\u001b[0m \u001b[0;34m=\u001b[0m \u001b[0;34m[\u001b[0m\u001b[0;34m]\u001b[0m\u001b[0;34m,\u001b[0m \u001b[0;34m[\u001b[0m\u001b[0;34m]\u001b[0m\u001b[0;34m\u001b[0m\u001b[0;34m\u001b[0m\u001b[0m\n",
      "\u001b[0;32m/Library/Frameworks/Python.framework/Versions/3.6/lib/python3.6/site-packages/torch/nn/modules/linear.py\u001b[0m in \u001b[0;36mforward\u001b[0;34m(self, input)\u001b[0m\n\u001b[1;32m    101\u001b[0m \u001b[0;34m\u001b[0m\u001b[0m\n\u001b[1;32m    102\u001b[0m     \u001b[0;32mdef\u001b[0m \u001b[0mforward\u001b[0m\u001b[0;34m(\u001b[0m\u001b[0mself\u001b[0m\u001b[0;34m,\u001b[0m \u001b[0minput\u001b[0m\u001b[0;34m:\u001b[0m \u001b[0mTensor\u001b[0m\u001b[0;34m)\u001b[0m \u001b[0;34m->\u001b[0m \u001b[0mTensor\u001b[0m\u001b[0;34m:\u001b[0m\u001b[0;34m\u001b[0m\u001b[0;34m\u001b[0m\u001b[0m\n\u001b[0;32m--> 103\u001b[0;31m         \u001b[0;32mreturn\u001b[0m \u001b[0mF\u001b[0m\u001b[0;34m.\u001b[0m\u001b[0mlinear\u001b[0m\u001b[0;34m(\u001b[0m\u001b[0minput\u001b[0m\u001b[0;34m,\u001b[0m \u001b[0mself\u001b[0m\u001b[0;34m.\u001b[0m\u001b[0mweight\u001b[0m\u001b[0;34m,\u001b[0m \u001b[0mself\u001b[0m\u001b[0;34m.\u001b[0m\u001b[0mbias\u001b[0m\u001b[0;34m)\u001b[0m\u001b[0;34m\u001b[0m\u001b[0;34m\u001b[0m\u001b[0m\n\u001b[0m\u001b[1;32m    104\u001b[0m \u001b[0;34m\u001b[0m\u001b[0m\n\u001b[1;32m    105\u001b[0m     \u001b[0;32mdef\u001b[0m \u001b[0mextra_repr\u001b[0m\u001b[0;34m(\u001b[0m\u001b[0mself\u001b[0m\u001b[0;34m)\u001b[0m \u001b[0;34m->\u001b[0m \u001b[0mstr\u001b[0m\u001b[0;34m:\u001b[0m\u001b[0;34m\u001b[0m\u001b[0;34m\u001b[0m\u001b[0m\n",
      "\u001b[0;32m/Library/Frameworks/Python.framework/Versions/3.6/lib/python3.6/site-packages/torch/nn/functional.py\u001b[0m in \u001b[0;36mlinear\u001b[0;34m(input, weight, bias)\u001b[0m\n\u001b[1;32m   1846\u001b[0m     \u001b[0;32mif\u001b[0m \u001b[0mhas_torch_function_variadic\u001b[0m\u001b[0;34m(\u001b[0m\u001b[0minput\u001b[0m\u001b[0;34m,\u001b[0m \u001b[0mweight\u001b[0m\u001b[0;34m,\u001b[0m \u001b[0mbias\u001b[0m\u001b[0;34m)\u001b[0m\u001b[0;34m:\u001b[0m\u001b[0;34m\u001b[0m\u001b[0;34m\u001b[0m\u001b[0m\n\u001b[1;32m   1847\u001b[0m         \u001b[0;32mreturn\u001b[0m \u001b[0mhandle_torch_function\u001b[0m\u001b[0;34m(\u001b[0m\u001b[0mlinear\u001b[0m\u001b[0;34m,\u001b[0m \u001b[0;34m(\u001b[0m\u001b[0minput\u001b[0m\u001b[0;34m,\u001b[0m \u001b[0mweight\u001b[0m\u001b[0;34m,\u001b[0m \u001b[0mbias\u001b[0m\u001b[0;34m)\u001b[0m\u001b[0;34m,\u001b[0m \u001b[0minput\u001b[0m\u001b[0;34m,\u001b[0m \u001b[0mweight\u001b[0m\u001b[0;34m,\u001b[0m \u001b[0mbias\u001b[0m\u001b[0;34m=\u001b[0m\u001b[0mbias\u001b[0m\u001b[0;34m)\u001b[0m\u001b[0;34m\u001b[0m\u001b[0;34m\u001b[0m\u001b[0m\n\u001b[0;32m-> 1848\u001b[0;31m     \u001b[0;32mreturn\u001b[0m \u001b[0mtorch\u001b[0m\u001b[0;34m.\u001b[0m\u001b[0m_C\u001b[0m\u001b[0;34m.\u001b[0m\u001b[0m_nn\u001b[0m\u001b[0;34m.\u001b[0m\u001b[0mlinear\u001b[0m\u001b[0;34m(\u001b[0m\u001b[0minput\u001b[0m\u001b[0;34m,\u001b[0m \u001b[0mweight\u001b[0m\u001b[0;34m,\u001b[0m \u001b[0mbias\u001b[0m\u001b[0;34m)\u001b[0m\u001b[0;34m\u001b[0m\u001b[0;34m\u001b[0m\u001b[0m\n\u001b[0m\u001b[1;32m   1849\u001b[0m \u001b[0;34m\u001b[0m\u001b[0m\n\u001b[1;32m   1850\u001b[0m \u001b[0;34m\u001b[0m\u001b[0m\n",
      "\u001b[0;31mKeyboardInterrupt\u001b[0m: "
     ]
    }
   ],
   "source": [
    "loss_fn = custom_loss(nn.MSELoss(), 0.4)\n",
    "optimizer = optim.Adam(model.parameters(), lr=0.01)\n",
    "losses_train, losses_test = train(model, dataloader_train, dataloader_test,\n",
    "                            optimizer, loss_fn, epochs=150, display_step=2)"
   ]
  },
  {
   "cell_type": "code",
   "execution_count": 129,
   "metadata": {},
   "outputs": [],
   "source": [
    "torch.save(model.state_dict(), 'models/AE/custom_MLP_3_dim_good_res.pt')"
   ]
  },
  {
   "cell_type": "code",
   "execution_count": 198,
   "metadata": {},
   "outputs": [
    {
     "name": "stdout",
     "output_type": "stream",
     "text": [
      "Position predicted : [0.24350426 0.80103207] | True position : [0.75     0.921875]\n"
     ]
    },
    {
     "data": {
      "image/png": "[encoded data removed]",
      "text/plain": [
       "<Figure size 720x360 with 2 Axes>"
      ]
     },
     "metadata": {
      "needs_background": "light"
     },
     "output_type": "display_data"
    },
    {
     "name": "stdout",
     "output_type": "stream",
     "text": [
      "Position predicted : [0.         0.37604773] | True position : [0.9140625 0.125    ]\n"
     ]
    },
    {
     "data": {
      "image/png": "[encoded data removed]",
      "text/plain": [
       "<Figure size 720x360 with 2 Axes>"
      ]
     },
     "metadata": {
      "needs_background": "light"
     },
     "output_type": "display_data"
    },
    {
     "name": "stdout",
     "output_type": "stream",
     "text": [
      "Position predicted : [0.25297895 0.44719443] | True position : [0.890625 0.234375]\n"
     ]
    },
    {
     "data": {
      "image/png": "[encoded data removed]",
      "text/plain": [
       "<Figure size 720x360 with 2 Axes>"
      ]
     },
     "metadata": {
      "needs_background": "light"
     },
     "output_type": "display_data"
    },
    {
     "name": "stdout",
     "output_type": "stream",
     "text": [
      "Position predicted : [0.         0.22704288] | True position : [0.53125   0.4921875]\n"
     ]
    },
    {
     "data": {
      "image/png": "[encoded data removed]",
      "text/plain": [
       "<Figure size 720x360 with 2 Axes>"
      ]
     },
     "metadata": {
      "needs_background": "light"
     },
     "output_type": "display_data"
    },
    {
     "name": "stdout",
     "output_type": "stream",
     "text": [
      "Position predicted : [0.35932225 0.57641655] | True position : [0.09375   0.8203125]\n"
     ]
    },
    {
     "data": {
      "image/png": "[encoded data removed]",
      "text/plain": [
       "<Figure size 720x360 with 2 Axes>"
      ]
     },
     "metadata": {
      "needs_background": "light"
     },
     "output_type": "display_data"
    },
    {
     "name": "stdout",
     "output_type": "stream",
     "text": [
      "Position predicted : [0.       1.092314] | True position : [0.890625  0.2109375]\n"
     ]
    },
    {
     "data": {
      "image/png": "[encoded data removed]",
      "text/plain": [
       "<Figure size 720x360 with 2 Axes>"
      ]
     },
     "metadata": {
      "needs_background": "light"
     },
     "output_type": "display_data"
    }
   ],
   "source": [
    "images = [image for image, _ in samples_train]\n",
    "for i, index in enumerate([0, len(images)//5, len(images)//4, len(images)//2, 3*len(images)//4, -1]):\n",
    "    fig, ax = plt.subplots(1, 2, figsize=(10, 5))\n",
    "    pred_image, pred_position = model(torch.tensor(images[index]).float().unsqueeze(0))\n",
    "    pred_image = pred_image.detach().numpy()\n",
    "    pred_position = pred_position.detach().numpy()\n",
    "\n",
    "    print(f\"Position predicted : {pred_position[0,:2]} | True position : {samples[index][1][:2]}\")\n",
    "    # print(f\"Radius predicted : {pred_position[0,2]} | Radius position : {samples[index][1][2]}\")\n",
    "    ax[0].imshow(np.squeeze(images[index]), cmap='gray')\n",
    "    ax[1].imshow(pred_image.squeeze(), cmap='gray')\n",
    "    plt.show()"
   ]
  },
  {
   "cell_type": "markdown",
   "metadata": {},
   "source": [
    "# Trying CNN AE for 128 images"
   ]
  },
  {
   "cell_type": "markdown",
   "metadata": {},
   "source": [
    "## Huge model"
   ]
  },
  {
   "cell_type": "code",
   "execution_count": 9,
   "metadata": {},
   "outputs": [],
   "source": [
    "class ConvAE(nn.Module):\n",
    "    def __init__(self, **kwargs):\n",
    "        super().__init__()\n",
    "        self.flatten = nn.Flatten()\n",
    "        self.height = kwargs['height']\n",
    "        self.width = kwargs['width']\n",
    "        self.latent_dim = kwargs['latent_dim']\n",
    "\n",
    "        self.encoder = nn.Sequential(\n",
    "                    nn.Conv2d(in_channels=1, out_channels=32, kernel_size=5, stride=2, padding=1),\n",
    "                    nn.ReLU(),\n",
    "                    nn.Conv2d(in_channels=32, out_channels=64, kernel_size=4, stride=2, padding=1),\n",
    "                    nn.ReLU(),\n",
    "                    nn.Conv2d(in_channels=64, out_channels=128, kernel_size=3, stride=2, padding=1),\n",
    "                    nn.ReLU(),\n",
    "                    nn.Conv2d(in_channels=128, out_channels=256, kernel_size=3, stride=2, padding=1),\n",
    "                    nn.ReLU(),\n",
    "                    nn.Conv2d(in_channels=256, out_channels=512, kernel_size=3, stride=2, padding=1),\n",
    "                    nn.ReLU(),\n",
    "                    nn.Conv2d(in_channels=512, out_channels=1024, kernel_size=3, stride=2, padding=1),\n",
    "                    nn.ReLU(),\n",
    "                    \n",
    "\n",
    "        )\n",
    "        \n",
    "        self.encoder_linear = nn.Sequential(\n",
    "                    nn.Flatten(),\n",
    "                    nn.Linear(in_features=1024, out_features=256),\n",
    "                    nn.ReLU(),\n",
    "                    nn.Linear(in_features=256, out_features=self.latent_dim),\n",
    "                    nn.ReLU()\n",
    "        )\n",
    "\n",
    "        self.decoder_linear = nn.Sequential(\n",
    "                    nn.Linear(in_features=self.latent_dim, out_features=256),\n",
    "                    nn.ReLU(),\n",
    "                    nn.Linear(in_features=256, out_features=1024),\n",
    "                    nn.ReLU()\n",
    "        )\n",
    "        self.decoder = nn.Sequential(\n",
    "                    nn.ConvTranspose2d(in_channels=1024, out_channels=512, kernel_size=4, stride=2, padding=1),\n",
    "                    nn.ReLU(),\n",
    "                    nn.ConvTranspose2d(in_channels=512, out_channels=256, kernel_size=4, stride=2, padding=1),\n",
    "                    nn.ReLU(),\n",
    "                    nn.ConvTranspose2d(in_channels=256, out_channels=128, kernel_size=4, stride=2, padding=1),\n",
    "                    nn.ReLU(),\n",
    "                    nn.ConvTranspose2d(in_channels=128, out_channels=64, kernel_size=4, stride=2, padding=1),\n",
    "                    nn.ReLU(),\n",
    "                    nn.ConvTranspose2d(in_channels=64, out_channels=32, kernel_size=4, stride=2, padding=1),\n",
    "                    nn.ReLU(),\n",
    "                    nn.ConvTranspose2d(in_channels=32, out_channels=1, kernel_size=4, stride=2, padding=1),\n",
    "                    nn.Sigmoid()\n",
    "        )\n",
    "\n",
    "        # print the number of parameters in the model\n",
    "        print(\"Number of parameters in the model: {}\".format(np.sum([p.numel() for p in self.parameters() if p.requires_grad])))\n",
    "\n",
    "    def forward(self, image):\n",
    "        out = self.encoder(image)\n",
    "        positions = self.encoder_linear(out)\n",
    "        out = self.decoder_linear(positions)\n",
    "        out = out.view(image.shape[0], 1024, 1, 1)\n",
    "        out = self.decoder(out)\n",
    "        return out, positions\n",
    "\n",
    "    def encode(self, image):\n",
    "        out = self.encoder(image)\n",
    "        return out\n",
    "\n",
    "    def decode(self, latent_vector):\n",
    "        out = self.decoder(latent_vector)\n",
    "        return out\n",
    "        "
   ]
  },
  {
   "cell_type": "markdown",
   "metadata": {},
   "source": [
    "## Smaller model"
   ]
  },
  {
   "cell_type": "code",
   "execution_count": 44,
   "metadata": {},
   "outputs": [],
   "source": [
    "class ConvAE(nn.Module):\n",
    "    def __init__(self, **kwargs):\n",
    "        super().__init__()\n",
    "        self.flatten = nn.Flatten()\n",
    "        self.height = kwargs['height']\n",
    "        self.width = kwargs['width']\n",
    "        self.latent_dim = kwargs['latent_dim']\n",
    "\n",
    "        self.encoder = nn.Sequential(\n",
    "                    nn.Conv2d(in_channels=1, out_channels=16, kernel_size=5, stride=2, padding=1),\n",
    "                    nn.ReLU(),\n",
    "                    nn.Conv2d(in_channels=16, out_channels=32, kernel_size=4, stride=2, padding=1),\n",
    "                    nn.ReLU(),\n",
    "                    nn.Conv2d(in_channels=32, out_channels=48, kernel_size=3, stride=2, padding=1),\n",
    "                    nn.ReLU(),\n",
    "                    nn.Conv2d(in_channels=48, out_channels=72, kernel_size=3, stride=2, padding=1),\n",
    "                    nn.ReLU(),\n",
    "                    nn.Conv2d(in_channels=72, out_channels=108, kernel_size=3, stride=2, padding=1),\n",
    "                    nn.ReLU(),\n",
    "                    nn.Conv2d(in_channels=108, out_channels=162, kernel_size=3, stride=2, padding=1),\n",
    "                    nn.ReLU(),\n",
    "                    \n",
    "\n",
    "        )\n",
    "        \n",
    "        self.encoder_linear = nn.Sequential(\n",
    "                    nn.Flatten(),\n",
    "                    nn.Linear(in_features=162, out_features=64),\n",
    "                    nn.ReLU(),\n",
    "                    nn.Linear(in_features=64, out_features=self.latent_dim),\n",
    "                    nn.ReLU()\n",
    "        )\n",
    "\n",
    "        self.decoder_linear = nn.Sequential(\n",
    "                    nn.Linear(in_features=self.latent_dim, out_features=64),\n",
    "                    nn.ReLU(),\n",
    "                    nn.Linear(in_features=64, out_features=162),\n",
    "                    nn.ReLU()\n",
    "        )\n",
    "        self.decoder = nn.Sequential(\n",
    "                    nn.ConvTranspose2d(in_channels=162, out_channels=108, kernel_size=4, stride=2, padding=1),\n",
    "                    nn.ReLU(),\n",
    "                    nn.ConvTranspose2d(in_channels=108, out_channels=72, kernel_size=4, stride=2, padding=1),\n",
    "                    nn.ReLU(),\n",
    "                    nn.ConvTranspose2d(in_channels=72, out_channels=48, kernel_size=4, stride=2, padding=1),\n",
    "                    nn.ReLU(),\n",
    "                    nn.ConvTranspose2d(in_channels=48, out_channels=32, kernel_size=4, stride=2, padding=1),\n",
    "                    nn.ReLU(),\n",
    "                    nn.ConvTranspose2d(in_channels=32, out_channels=16, kernel_size=4, stride=2, padding=1),\n",
    "                    nn.ReLU(),\n",
    "                    nn.ConvTranspose2d(in_channels=16, out_channels=1, kernel_size=4, stride=2, padding=1),\n",
    "                    nn.Sigmoid()\n",
    "        )\n",
    "\n",
    "        # print the number of parameters in the model\n",
    "        print(\"Number of parameters in the model: {}\".format(np.sum([p.numel() for p in self.parameters() if p.requires_grad])))\n",
    "\n",
    "    def forward(self, image):\n",
    "        out = self.encoder(image)\n",
    "        positions = self.encoder_linear(out)\n",
    "        out = self.decoder_linear(positions)\n",
    "        out = out.view(image.shape[0], 162, 1, 1)\n",
    "        out = self.decoder(out)\n",
    "        return out, positions\n",
    "\n",
    "    def encode(self, image):\n",
    "        out = self.encoder(image)\n",
    "        return out\n",
    "\n",
    "    def decode(self, latent_vector):\n",
    "        out = self.decoder(latent_vector)\n",
    "        return out\n",
    "        "
   ]
  },
  {
   "cell_type": "code",
   "execution_count": 53,
   "metadata": {},
   "outputs": [
    {
     "name": "stdout",
     "output_type": "stream",
     "text": [
      "Number of parameters in the model: 799251\n",
      "----------------------------------------------------------------\n",
      "        Layer (type)               Output Shape         Param #\n",
      "================================================================\n",
      "            Conv2d-1           [-1, 16, 31, 31]             416\n",
      "              ReLU-2           [-1, 16, 31, 31]               0\n",
      "            Conv2d-3           [-1, 32, 15, 15]           8,224\n",
      "              ReLU-4           [-1, 32, 15, 15]               0\n",
      "            Conv2d-5             [-1, 48, 8, 8]          13,872\n",
      "              ReLU-6             [-1, 48, 8, 8]               0\n",
      "            Conv2d-7             [-1, 72, 4, 4]          31,176\n",
      "              ReLU-8             [-1, 72, 4, 4]               0\n",
      "            Conv2d-9            [-1, 108, 2, 2]          70,092\n",
      "             ReLU-10            [-1, 108, 2, 2]               0\n",
      "           Conv2d-11            [-1, 162, 1, 1]         157,626\n",
      "             ReLU-12            [-1, 162, 1, 1]               0\n",
      "          Flatten-13                  [-1, 162]               0\n",
      "           Linear-14                   [-1, 64]          10,432\n",
      "             ReLU-15                   [-1, 64]               0\n",
      "           Linear-16                   [-1, 30]           1,950\n",
      "             ReLU-17                   [-1, 30]               0\n",
      "           Linear-18                   [-1, 64]           1,984\n",
      "             ReLU-19                   [-1, 64]               0\n",
      "           Linear-20                  [-1, 162]          10,530\n",
      "             ReLU-21                  [-1, 162]               0\n",
      "  ConvTranspose2d-22            [-1, 108, 2, 2]         280,044\n",
      "             ReLU-23            [-1, 108, 2, 2]               0\n",
      "  ConvTranspose2d-24             [-1, 72, 4, 4]         124,488\n",
      "             ReLU-25             [-1, 72, 4, 4]               0\n",
      "  ConvTranspose2d-26             [-1, 48, 8, 8]          55,344\n",
      "             ReLU-27             [-1, 48, 8, 8]               0\n",
      "  ConvTranspose2d-28           [-1, 32, 16, 16]          24,608\n",
      "             ReLU-29           [-1, 32, 16, 16]               0\n",
      "  ConvTranspose2d-30           [-1, 16, 32, 32]           8,208\n",
      "             ReLU-31           [-1, 16, 32, 32]               0\n",
      "  ConvTranspose2d-32            [-1, 1, 64, 64]             257\n",
      "          Sigmoid-33            [-1, 1, 64, 64]               0\n",
      "================================================================\n",
      "Total params: 799,251\n",
      "Trainable params: 799,251\n",
      "Non-trainable params: 0\n",
      "----------------------------------------------------------------\n",
      "Input size (MB): 0.02\n",
      "Forward/backward pass size (MB): 0.93\n",
      "Params size (MB): 3.05\n",
      "Estimated Total Size (MB): 4.00\n",
      "----------------------------------------------------------------\n"
     ]
    }
   ],
   "source": [
    "model = ConvAE(height=64, width=64, latent_dim=30)\n",
    "torchsummary.summary(model, (1, 64, 64))"
   ]
  },
  {
   "cell_type": "markdown",
   "metadata": {},
   "source": [
    "## 28x28 CNN Model"
   ]
  },
  {
   "cell_type": "code",
   "execution_count": 15,
   "metadata": {},
   "outputs": [],
   "source": [
    "class ConvAE(nn.Module):\n",
    "    def __init__(self, **kwargs):\n",
    "        super().__init__()\n",
    "        self.flatten = nn.Flatten()\n",
    "        self.height = kwargs['height']\n",
    "        self.width = kwargs['width']\n",
    "        self.latent_dim = kwargs['latent_dim']\n",
    "\n",
    "        self.encoder = nn.Sequential(\n",
    "                    nn.Conv2d(in_channels=1, out_channels=32, kernel_size=5, stride=2, padding=1),\n",
    "                    nn.ReLU(),\n",
    "                    # nn.MaxPool2d(kernel_size=2, stride=2),\n",
    "                    nn.Conv2d(in_channels=32, out_channels=64, kernel_size=4, stride=2, padding=1),\n",
    "                    nn.ReLU(),\n",
    "                    # nn.MaxPool2d(kernel_size=2, stride=2),\n",
    "                    nn.Conv2d(in_channels=64, out_channels=128, kernel_size=3, stride=2, padding=1),\n",
    "                    nn.ReLU()\n",
    "                    # nn.MaxPool2d(kernel_size=2, stride=2),\n",
    "\n",
    "        )\n",
    "        \n",
    "        self.encoder_linear = nn.Sequential(\n",
    "                    nn.Flatten(),\n",
    "                    nn.Linear(in_features=3*3*128, out_features=self.latent_dim),\n",
    "                    nn.ReLU(),\n",
    "\n",
    "        )\n",
    "\n",
    "        self.decoder_linear = nn.Sequential(\n",
    "                    nn.Linear(in_features=self.latent_dim, out_features=3*3*128),\n",
    "                    nn.ReLU()\n",
    "        )\n",
    "        self.decoder = nn.Sequential(\n",
    "                    nn.ConvTranspose2d(in_channels=128, out_channels=64, kernel_size=3, stride=2, padding=0),\n",
    "                    nn.ReLU(),\n",
    "                    nn.ConvTranspose2d(in_channels=64, out_channels=32, kernel_size=4, stride=2, padding=1),\n",
    "                    nn.ReLU(),\n",
    "                    nn.ConvTranspose2d(in_channels=32, out_channels=1, kernel_size=4, stride=2, padding=1),\n",
    "                    nn.Sigmoid()\n",
    "        )\n",
    "\n",
    "        # print the number of parameters in the model\n",
    "        print(\"Number of parameters in the model: {}\".format(np.sum([p.numel() for p in self.parameters() if p.requires_grad])))\n",
    "\n",
    "    def forward(self, image):\n",
    "        out = self.encoder(image)\n",
    "        reconstructed = self.encoder_linear(out)\n",
    "        out = self.decoder_linear(reconstructed)\n",
    "        out = out.view(image.shape[0], 128, 3, 3)\n",
    "        out = self.decoder(out)\n",
    "        return out, reconstructed\n",
    "\n",
    "    def encode(self, image):\n",
    "        out = self.encoder(image)\n",
    "        return out\n",
    "\n",
    "    def decode(self, latent_vector):\n",
    "        out = self.decoder(latent_vector)\n",
    "        return out"
   ]
  },
  {
   "cell_type": "code",
   "execution_count": 16,
   "metadata": {},
   "outputs": [
    {
     "name": "stdout",
     "output_type": "stream",
     "text": [
      "Number of parameters in the model: 220387\n",
      "----------------------------------------------------------------\n",
      "        Layer (type)               Output Shape         Param #\n",
      "================================================================\n",
      "            Conv2d-1           [-1, 32, 13, 13]             832\n",
      "              ReLU-2           [-1, 32, 13, 13]               0\n",
      "            Conv2d-3             [-1, 64, 6, 6]          32,832\n",
      "              ReLU-4             [-1, 64, 6, 6]               0\n",
      "            Conv2d-5            [-1, 128, 3, 3]          73,856\n",
      "              ReLU-6            [-1, 128, 3, 3]               0\n",
      "           Flatten-7                 [-1, 1152]               0\n",
      "            Linear-8                    [-1, 2]           2,306\n",
      "              ReLU-9                    [-1, 2]               0\n",
      "           Linear-10                 [-1, 1152]           3,456\n",
      "             ReLU-11                 [-1, 1152]               0\n",
      "  ConvTranspose2d-12             [-1, 64, 7, 7]          73,792\n",
      "             ReLU-13             [-1, 64, 7, 7]               0\n",
      "  ConvTranspose2d-14           [-1, 32, 14, 14]          32,800\n",
      "             ReLU-15           [-1, 32, 14, 14]               0\n",
      "  ConvTranspose2d-16            [-1, 1, 28, 28]             513\n",
      "          Sigmoid-17            [-1, 1, 28, 28]               0\n",
      "================================================================\n",
      "Total params: 220,387\n",
      "Trainable params: 220,387\n",
      "Non-trainable params: 0\n",
      "----------------------------------------------------------------\n",
      "Input size (MB): 0.00\n",
      "Forward/backward pass size (MB): 0.32\n",
      "Params size (MB): 0.84\n",
      "Estimated Total Size (MB): 1.16\n",
      "----------------------------------------------------------------\n"
     ]
    },
    {
     "data": {
      "text/plain": [
       "<All keys matched successfully>"
      ]
     },
     "execution_count": 16,
     "metadata": {},
     "output_type": "execute_result"
    }
   ],
   "source": [
    "model = ConvAE(height=28, width=28, latent_dim=2)\n",
    "torchsummary.summary(model, (1, 28, 28))\n",
    "path = \"/Users/maximebonnin/Documents/X/3A/Stage/IntNeuralODE/models/AE/FirstExplo/conv_custom_2_custom_loss_alpha_0_3.pt\"\n",
    "model.load_state_dict(torch.load(path))"
   ]
  },
  {
   "cell_type": "markdown",
   "metadata": {},
   "source": [
    "## Training"
   ]
  },
  {
   "cell_type": "code",
   "execution_count": 12,
   "metadata": {},
   "outputs": [],
   "source": [
    "# def create_random_dataset(r_max, n_samples, size, conv=False):\n",
    "#     data = []\n",
    "#     for i in range(n_samples):\n",
    "#         r = np.random.randint(r_max)\n",
    "#         image = np.zeros((size, size), dtype=np.uint8)\n",
    "#         x = np.random.randint(low=1, high=size, size=(2))\n",
    "#         image = cv2.circle(image, (x[0], x[1]), r, 255, -1)/255.\n",
    "#         if conv:\n",
    "#             image = np.expand_dims(image, axis=0)\n",
    "#         data.append([image, np.array([x[0]/size, x[1]/size, r/r_max]) ] )\n",
    "\n",
    "#     return data\n",
    "\n",
    "# samples = create_random_dataset(13, 30000, 64, conv=True)\n",
    "\n",
    "def gaussian_density(x, mu, sigma):\n",
    "    return torch.exp(-torch.norm(torch.tensor(x - mu).float(), dim=1)**2/(2*sigma**2))/(2*np.pi*sigma**2)\n",
    "\n",
    "def create_gaussian_dataset(r_min, r_max, n_samples, size, margin=1.):\n",
    "    samples = []\n",
    "    indices_matrix = np.array([[i,j] for i in range(size) for j in range(size)])\n",
    "    # print(indices_matrix)\n",
    "    # print(indices_matrix.shape)\n",
    "    eps = 1E-5\n",
    "\n",
    "    for i in range(n_samples):\n",
    "        sigma = np.random.uniform(r_min, r_max+eps)\n",
    "        # create a gaussian ball\n",
    "        image = np.zeros((size, size), dtype=np.float32)\n",
    "        mu = np.random.uniform(low=margin, high=size - 1 - margin, size=(2))\n",
    "        # mu = np.random.randint(size, size=(2))\n",
    "        # compute the density over the image and normalize it\n",
    "        image = gaussian_density(indices_matrix, mu, sigma).numpy().copy()\n",
    "        samples.append([image.reshape(1, size, size), np.array([mu[0]/(size ), mu[1]/(size)])])\n",
    "        \n",
    "    return samples\n",
    "\n",
    "\n",
    "samples = create_gaussian_dataset(1., 1., 5000, 28, margin=2.)"
   ]
  },
  {
   "cell_type": "code",
   "execution_count": 197,
   "metadata": {},
   "outputs": [],
   "source": [
    "# Split train and test data using sklearn\n",
    "samples_train, samples_test= train_test_split(samples, test_size=0.7, random_state=42)\n",
    "# create a dataloader from the matrix of samples\n",
    "\n",
    "dataloader_train = DataLoader(samples_train, batch_size=32, shuffle=True)\n",
    "dataloader_test = DataLoader(samples_test, batch_size=32, shuffle=False)"
   ]
  },
  {
   "cell_type": "code",
   "execution_count": 198,
   "metadata": {},
   "outputs": [],
   "source": [
    "# model.load_state_dict(torch.load('models/AE/conv_custom_3_custom_loss.pt'))\n",
    "optimizer = optim.Adam(model.parameters(), lr=0.001)\n",
    "scheduler = optim.lr_scheduler.StepLR(optimizer, step_size=20, gamma=0.5)"
   ]
  },
  {
   "cell_type": "code",
   "execution_count": 202,
   "metadata": {},
   "outputs": [
    {
     "data": {
      "application/vnd.jupyter.widget-view+json": {
       "model_id": "34d2fd20e4b4449b9ff5656bb195391e",
       "version_major": 2,
       "version_minor": 0
      },
      "text/plain": [
       "  0%|          | 0/300 [00:00<?, ?it/s]"
      ]
     },
     "metadata": {},
     "output_type": "display_data"
    },
    {
     "ename": "KeyboardInterrupt",
     "evalue": "",
     "output_type": "error",
     "traceback": [
      "\u001b[0;31m---------------------------------------------------------------------------\u001b[0m",
      "\u001b[0;31mKeyboardInterrupt\u001b[0m                         Traceback (most recent call last)",
      "\u001b[0;32m<ipython-input-202-9a8d01d933d1>\u001b[0m in \u001b[0;36m<module>\u001b[0;34m\u001b[0m\n\u001b[1;32m      1\u001b[0m \u001b[0mloss_fn\u001b[0m \u001b[0;34m=\u001b[0m \u001b[0mcustom_loss\u001b[0m\u001b[0;34m(\u001b[0m\u001b[0mnn\u001b[0m\u001b[0;34m.\u001b[0m\u001b[0mMSELoss\u001b[0m\u001b[0;34m(\u001b[0m\u001b[0;34m)\u001b[0m\u001b[0;34m,\u001b[0m \u001b[0mfactor\u001b[0m\u001b[0;34m=\u001b[0m\u001b[0;36m1.\u001b[0m\u001b[0;34m,\u001b[0m \u001b[0mnormalize\u001b[0m\u001b[0;34m=\u001b[0m\u001b[0;32mTrue\u001b[0m\u001b[0;34m)\u001b[0m\u001b[0;34m\u001b[0m\u001b[0;34m\u001b[0m\u001b[0m\n\u001b[1;32m      2\u001b[0m losses_train, losses_test = train(model, dataloader_train, dataloader_test,\n\u001b[0;32m----> 3\u001b[0;31m                             optimizer, scheduler, loss_fn, epochs=300, display_step=2)\n\u001b[0m",
      "\u001b[0;32m<ipython-input-5-114670d2b70c>\u001b[0m in \u001b[0;36mtrain\u001b[0;34m(model, dataloader_train, dataloader_test, optimizer, scheduler, criterion, epochs, display_step)\u001b[0m\n\u001b[1;32m     29\u001b[0m                 \u001b[0mimage\u001b[0m \u001b[0;34m=\u001b[0m \u001b[0mimage\u001b[0m\u001b[0;34m.\u001b[0m\u001b[0mfloat\u001b[0m\u001b[0;34m(\u001b[0m\u001b[0;34m)\u001b[0m\u001b[0;34m\u001b[0m\u001b[0;34m\u001b[0m\u001b[0m\n\u001b[1;32m     30\u001b[0m                 \u001b[0mposition\u001b[0m \u001b[0;34m=\u001b[0m \u001b[0mposition\u001b[0m\u001b[0;34m.\u001b[0m\u001b[0mfloat\u001b[0m\u001b[0;34m(\u001b[0m\u001b[0;34m)\u001b[0m\u001b[0;34m\u001b[0m\u001b[0;34m\u001b[0m\u001b[0m\n\u001b[0;32m---> 31\u001b[0;31m                 \u001b[0moutput\u001b[0m\u001b[0;34m,\u001b[0m \u001b[0mposition_pred\u001b[0m \u001b[0;34m=\u001b[0m \u001b[0mmodel\u001b[0m\u001b[0;34m(\u001b[0m\u001b[0mimage\u001b[0m\u001b[0;34m)\u001b[0m\u001b[0;34m\u001b[0m\u001b[0;34m\u001b[0m\u001b[0m\n\u001b[0m\u001b[1;32m     32\u001b[0m                 \u001b[0mloss\u001b[0m \u001b[0;34m=\u001b[0m \u001b[0mcriterion\u001b[0m\u001b[0;34m(\u001b[0m\u001b[0mimage\u001b[0m\u001b[0;34m.\u001b[0m\u001b[0msqueeze\u001b[0m\u001b[0;34m(\u001b[0m\u001b[0;34m)\u001b[0m\u001b[0;34m,\u001b[0m \u001b[0moutput\u001b[0m\u001b[0;34m.\u001b[0m\u001b[0msqueeze\u001b[0m\u001b[0;34m(\u001b[0m\u001b[0;34m)\u001b[0m\u001b[0;34m,\u001b[0m \u001b[0mposition\u001b[0m\u001b[0;34m,\u001b[0m \u001b[0mposition_pred\u001b[0m\u001b[0;34m)\u001b[0m\u001b[0;34m\u001b[0m\u001b[0;34m\u001b[0m\u001b[0m\n\u001b[1;32m     33\u001b[0m                 \u001b[0mloss_epoch\u001b[0m \u001b[0;34m+=\u001b[0m \u001b[0mloss\u001b[0m\u001b[0;34m.\u001b[0m\u001b[0mitem\u001b[0m\u001b[0;34m(\u001b[0m\u001b[0;34m)\u001b[0m\u001b[0;34m\u001b[0m\u001b[0;34m\u001b[0m\u001b[0m\n",
      "\u001b[0;32m/Library/Frameworks/Python.framework/Versions/3.6/lib/python3.6/site-packages/torch/nn/modules/module.py\u001b[0m in \u001b[0;36m_call_impl\u001b[0;34m(self, *input, **kwargs)\u001b[0m\n\u001b[1;32m   1100\u001b[0m         if not (self._backward_hooks or self._forward_hooks or self._forward_pre_hooks or _global_backward_hooks\n\u001b[1;32m   1101\u001b[0m                 or _global_forward_hooks or _global_forward_pre_hooks):\n\u001b[0;32m-> 1102\u001b[0;31m             \u001b[0;32mreturn\u001b[0m \u001b[0mforward_call\u001b[0m\u001b[0;34m(\u001b[0m\u001b[0;34m*\u001b[0m\u001b[0minput\u001b[0m\u001b[0;34m,\u001b[0m \u001b[0;34m**\u001b[0m\u001b[0mkwargs\u001b[0m\u001b[0;34m)\u001b[0m\u001b[0;34m\u001b[0m\u001b[0;34m\u001b[0m\u001b[0m\n\u001b[0m\u001b[1;32m   1103\u001b[0m         \u001b[0;31m# Do not call functions when jit is used\u001b[0m\u001b[0;34m\u001b[0m\u001b[0;34m\u001b[0m\u001b[0;34m\u001b[0m\u001b[0m\n\u001b[1;32m   1104\u001b[0m         \u001b[0mfull_backward_hooks\u001b[0m\u001b[0;34m,\u001b[0m \u001b[0mnon_full_backward_hooks\u001b[0m \u001b[0;34m=\u001b[0m \u001b[0;34m[\u001b[0m\u001b[0;34m]\u001b[0m\u001b[0;34m,\u001b[0m \u001b[0;34m[\u001b[0m\u001b[0;34m]\u001b[0m\u001b[0;34m\u001b[0m\u001b[0;34m\u001b[0m\u001b[0m\n",
      "\u001b[0;32m<ipython-input-188-70c3dd2f3766>\u001b[0m in \u001b[0;36mforward\u001b[0;34m(self, image)\u001b[0m\n\u001b[1;32m     48\u001b[0m         \u001b[0mout\u001b[0m \u001b[0;34m=\u001b[0m \u001b[0mself\u001b[0m\u001b[0;34m.\u001b[0m\u001b[0mdecoder_linear\u001b[0m\u001b[0;34m(\u001b[0m\u001b[0mreconstructed\u001b[0m\u001b[0;34m)\u001b[0m\u001b[0;34m\u001b[0m\u001b[0;34m\u001b[0m\u001b[0m\n\u001b[1;32m     49\u001b[0m         \u001b[0mout\u001b[0m \u001b[0;34m=\u001b[0m \u001b[0mout\u001b[0m\u001b[0;34m.\u001b[0m\u001b[0mview\u001b[0m\u001b[0;34m(\u001b[0m\u001b[0mimage\u001b[0m\u001b[0;34m.\u001b[0m\u001b[0mshape\u001b[0m\u001b[0;34m[\u001b[0m\u001b[0;36m0\u001b[0m\u001b[0;34m]\u001b[0m\u001b[0;34m,\u001b[0m \u001b[0;36m128\u001b[0m\u001b[0;34m,\u001b[0m \u001b[0;36m3\u001b[0m\u001b[0;34m,\u001b[0m \u001b[0;36m3\u001b[0m\u001b[0;34m)\u001b[0m\u001b[0;34m\u001b[0m\u001b[0;34m\u001b[0m\u001b[0m\n\u001b[0;32m---> 50\u001b[0;31m         \u001b[0mout\u001b[0m \u001b[0;34m=\u001b[0m \u001b[0mself\u001b[0m\u001b[0;34m.\u001b[0m\u001b[0mdecoder\u001b[0m\u001b[0;34m(\u001b[0m\u001b[0mout\u001b[0m\u001b[0;34m)\u001b[0m\u001b[0;34m\u001b[0m\u001b[0;34m\u001b[0m\u001b[0m\n\u001b[0m\u001b[1;32m     51\u001b[0m         \u001b[0;32mreturn\u001b[0m \u001b[0mout\u001b[0m\u001b[0;34m,\u001b[0m \u001b[0mreconstructed\u001b[0m\u001b[0;34m\u001b[0m\u001b[0;34m\u001b[0m\u001b[0m\n\u001b[1;32m     52\u001b[0m \u001b[0;34m\u001b[0m\u001b[0m\n",
      "\u001b[0;32m/Library/Frameworks/Python.framework/Versions/3.6/lib/python3.6/site-packages/torch/nn/modules/module.py\u001b[0m in \u001b[0;36m_call_impl\u001b[0;34m(self, *input, **kwargs)\u001b[0m\n\u001b[1;32m   1100\u001b[0m         if not (self._backward_hooks or self._forward_hooks or self._forward_pre_hooks or _global_backward_hooks\n\u001b[1;32m   1101\u001b[0m                 or _global_forward_hooks or _global_forward_pre_hooks):\n\u001b[0;32m-> 1102\u001b[0;31m             \u001b[0;32mreturn\u001b[0m \u001b[0mforward_call\u001b[0m\u001b[0;34m(\u001b[0m\u001b[0;34m*\u001b[0m\u001b[0minput\u001b[0m\u001b[0;34m,\u001b[0m \u001b[0;34m**\u001b[0m\u001b[0mkwargs\u001b[0m\u001b[0;34m)\u001b[0m\u001b[0;34m\u001b[0m\u001b[0;34m\u001b[0m\u001b[0m\n\u001b[0m\u001b[1;32m   1103\u001b[0m         \u001b[0;31m# Do not call functions when jit is used\u001b[0m\u001b[0;34m\u001b[0m\u001b[0;34m\u001b[0m\u001b[0;34m\u001b[0m\u001b[0m\n\u001b[1;32m   1104\u001b[0m         \u001b[0mfull_backward_hooks\u001b[0m\u001b[0;34m,\u001b[0m \u001b[0mnon_full_backward_hooks\u001b[0m \u001b[0;34m=\u001b[0m \u001b[0;34m[\u001b[0m\u001b[0;34m]\u001b[0m\u001b[0;34m,\u001b[0m \u001b[0;34m[\u001b[0m\u001b[0;34m]\u001b[0m\u001b[0;34m\u001b[0m\u001b[0;34m\u001b[0m\u001b[0m\n",
      "\u001b[0;32m/Library/Frameworks/Python.framework/Versions/3.6/lib/python3.6/site-packages/torch/nn/modules/container.py\u001b[0m in \u001b[0;36mforward\u001b[0;34m(self, input)\u001b[0m\n\u001b[1;32m    139\u001b[0m     \u001b[0;32mdef\u001b[0m \u001b[0mforward\u001b[0m\u001b[0;34m(\u001b[0m\u001b[0mself\u001b[0m\u001b[0;34m,\u001b[0m \u001b[0minput\u001b[0m\u001b[0;34m)\u001b[0m\u001b[0;34m:\u001b[0m\u001b[0;34m\u001b[0m\u001b[0;34m\u001b[0m\u001b[0m\n\u001b[1;32m    140\u001b[0m         \u001b[0;32mfor\u001b[0m \u001b[0mmodule\u001b[0m \u001b[0;32min\u001b[0m \u001b[0mself\u001b[0m\u001b[0;34m:\u001b[0m\u001b[0;34m\u001b[0m\u001b[0;34m\u001b[0m\u001b[0m\n\u001b[0;32m--> 141\u001b[0;31m             \u001b[0minput\u001b[0m \u001b[0;34m=\u001b[0m \u001b[0mmodule\u001b[0m\u001b[0;34m(\u001b[0m\u001b[0minput\u001b[0m\u001b[0;34m)\u001b[0m\u001b[0;34m\u001b[0m\u001b[0;34m\u001b[0m\u001b[0m\n\u001b[0m\u001b[1;32m    142\u001b[0m         \u001b[0;32mreturn\u001b[0m \u001b[0minput\u001b[0m\u001b[0;34m\u001b[0m\u001b[0;34m\u001b[0m\u001b[0m\n\u001b[1;32m    143\u001b[0m \u001b[0;34m\u001b[0m\u001b[0m\n",
      "\u001b[0;32m/Library/Frameworks/Python.framework/Versions/3.6/lib/python3.6/site-packages/torch/nn/modules/module.py\u001b[0m in \u001b[0;36m_call_impl\u001b[0;34m(self, *input, **kwargs)\u001b[0m\n\u001b[1;32m   1100\u001b[0m         if not (self._backward_hooks or self._forward_hooks or self._forward_pre_hooks or _global_backward_hooks\n\u001b[1;32m   1101\u001b[0m                 or _global_forward_hooks or _global_forward_pre_hooks):\n\u001b[0;32m-> 1102\u001b[0;31m             \u001b[0;32mreturn\u001b[0m \u001b[0mforward_call\u001b[0m\u001b[0;34m(\u001b[0m\u001b[0;34m*\u001b[0m\u001b[0minput\u001b[0m\u001b[0;34m,\u001b[0m \u001b[0;34m**\u001b[0m\u001b[0mkwargs\u001b[0m\u001b[0;34m)\u001b[0m\u001b[0;34m\u001b[0m\u001b[0;34m\u001b[0m\u001b[0m\n\u001b[0m\u001b[1;32m   1103\u001b[0m         \u001b[0;31m# Do not call functions when jit is used\u001b[0m\u001b[0;34m\u001b[0m\u001b[0;34m\u001b[0m\u001b[0;34m\u001b[0m\u001b[0m\n\u001b[1;32m   1104\u001b[0m         \u001b[0mfull_backward_hooks\u001b[0m\u001b[0;34m,\u001b[0m \u001b[0mnon_full_backward_hooks\u001b[0m \u001b[0;34m=\u001b[0m \u001b[0;34m[\u001b[0m\u001b[0;34m]\u001b[0m\u001b[0;34m,\u001b[0m \u001b[0;34m[\u001b[0m\u001b[0;34m]\u001b[0m\u001b[0;34m\u001b[0m\u001b[0;34m\u001b[0m\u001b[0m\n",
      "\u001b[0;32m/Library/Frameworks/Python.framework/Versions/3.6/lib/python3.6/site-packages/torch/nn/modules/conv.py\u001b[0m in \u001b[0;36mforward\u001b[0;34m(self, input, output_size)\u001b[0m\n\u001b[1;32m    923\u001b[0m         return F.conv_transpose2d(\n\u001b[1;32m    924\u001b[0m             \u001b[0minput\u001b[0m\u001b[0;34m,\u001b[0m \u001b[0mself\u001b[0m\u001b[0;34m.\u001b[0m\u001b[0mweight\u001b[0m\u001b[0;34m,\u001b[0m \u001b[0mself\u001b[0m\u001b[0;34m.\u001b[0m\u001b[0mbias\u001b[0m\u001b[0;34m,\u001b[0m \u001b[0mself\u001b[0m\u001b[0;34m.\u001b[0m\u001b[0mstride\u001b[0m\u001b[0;34m,\u001b[0m \u001b[0mself\u001b[0m\u001b[0;34m.\u001b[0m\u001b[0mpadding\u001b[0m\u001b[0;34m,\u001b[0m\u001b[0;34m\u001b[0m\u001b[0;34m\u001b[0m\u001b[0m\n\u001b[0;32m--> 925\u001b[0;31m             output_padding, self.groups, self.dilation)\n\u001b[0m\u001b[1;32m    926\u001b[0m \u001b[0;34m\u001b[0m\u001b[0m\n\u001b[1;32m    927\u001b[0m \u001b[0;34m\u001b[0m\u001b[0m\n",
      "\u001b[0;31mKeyboardInterrupt\u001b[0m: "
     ]
    }
   ],
   "source": [
    "loss_fn = custom_loss(nn.MSELoss(), factor=1., normalize=True)\n",
    "losses_train, losses_test = train(model, dataloader_train, dataloader_test,\n",
    "                            optimizer, scheduler, loss_fn, epochs=300, display_step=2)"
   ]
  },
  {
   "cell_type": "code",
   "execution_count": 204,
   "metadata": {},
   "outputs": [],
   "source": [
    "torch.save(model.state_dict(), 'models/AE/conv_custom_2_gaussian_r_1_custom_loss_alpha_1_0.pt')"
   ]
  },
  {
   "cell_type": "code",
   "execution_count": 17,
   "metadata": {},
   "outputs": [
    {
     "ename": "ValueError",
     "evalue": "not enough values to unpack (expected 2, got 1)",
     "output_type": "error",
     "traceback": [
      "\u001b[0;31m---------------------------------------------------------------------------\u001b[0m",
      "\u001b[0;31mValueError\u001b[0m                                Traceback (most recent call last)",
      "\u001b[0;32m<ipython-input-17-9fccdd26d386>\u001b[0m in \u001b[0;36m<module>\u001b[0;34m\u001b[0m\n\u001b[0;32m----> 1\u001b[0;31m \u001b[0mimages\u001b[0m \u001b[0;34m=\u001b[0m \u001b[0;34m[\u001b[0m\u001b[0mimage\u001b[0m \u001b[0;32mfor\u001b[0m \u001b[0mimage\u001b[0m\u001b[0;34m,\u001b[0m \u001b[0m_\u001b[0m \u001b[0;32min\u001b[0m \u001b[0msamples_test\u001b[0m\u001b[0;34m]\u001b[0m\u001b[0;34m\u001b[0m\u001b[0;34m\u001b[0m\u001b[0m\n\u001b[0m\u001b[1;32m      2\u001b[0m \u001b[0;32mfor\u001b[0m \u001b[0mi\u001b[0m\u001b[0;34m,\u001b[0m \u001b[0mindex\u001b[0m \u001b[0;32min\u001b[0m \u001b[0menumerate\u001b[0m\u001b[0;34m(\u001b[0m\u001b[0;34m[\u001b[0m\u001b[0;36m0\u001b[0m\u001b[0;34m,\u001b[0m \u001b[0mlen\u001b[0m\u001b[0;34m(\u001b[0m\u001b[0mimages\u001b[0m\u001b[0;34m)\u001b[0m\u001b[0;34m//\u001b[0m\u001b[0;36m5\u001b[0m\u001b[0;34m,\u001b[0m \u001b[0mlen\u001b[0m\u001b[0;34m(\u001b[0m\u001b[0mimages\u001b[0m\u001b[0;34m)\u001b[0m\u001b[0;34m//\u001b[0m\u001b[0;36m4\u001b[0m\u001b[0;34m,\u001b[0m \u001b[0mlen\u001b[0m\u001b[0;34m(\u001b[0m\u001b[0mimages\u001b[0m\u001b[0;34m)\u001b[0m\u001b[0;34m//\u001b[0m\u001b[0;36m2\u001b[0m\u001b[0;34m,\u001b[0m \u001b[0;36m3\u001b[0m\u001b[0;34m*\u001b[0m\u001b[0mlen\u001b[0m\u001b[0;34m(\u001b[0m\u001b[0mimages\u001b[0m\u001b[0;34m)\u001b[0m\u001b[0;34m//\u001b[0m\u001b[0;36m4\u001b[0m\u001b[0;34m,\u001b[0m \u001b[0;34m-\u001b[0m\u001b[0;36m1\u001b[0m\u001b[0;34m]\u001b[0m\u001b[0;34m)\u001b[0m\u001b[0;34m:\u001b[0m\u001b[0;34m\u001b[0m\u001b[0;34m\u001b[0m\u001b[0m\n\u001b[1;32m      3\u001b[0m     \u001b[0mfig\u001b[0m\u001b[0;34m,\u001b[0m \u001b[0max\u001b[0m \u001b[0;34m=\u001b[0m \u001b[0mplt\u001b[0m\u001b[0;34m.\u001b[0m\u001b[0msubplots\u001b[0m\u001b[0;34m(\u001b[0m\u001b[0;36m1\u001b[0m\u001b[0;34m,\u001b[0m \u001b[0;36m2\u001b[0m\u001b[0;34m,\u001b[0m \u001b[0mfigsize\u001b[0m\u001b[0;34m=\u001b[0m\u001b[0;34m(\u001b[0m\u001b[0;36m10\u001b[0m\u001b[0;34m,\u001b[0m \u001b[0;36m5\u001b[0m\u001b[0;34m)\u001b[0m\u001b[0;34m)\u001b[0m\u001b[0;34m\u001b[0m\u001b[0;34m\u001b[0m\u001b[0m\n\u001b[1;32m      4\u001b[0m     \u001b[0mpred_image\u001b[0m\u001b[0;34m,\u001b[0m \u001b[0mpred_position\u001b[0m \u001b[0;34m=\u001b[0m \u001b[0mmodel\u001b[0m\u001b[0;34m(\u001b[0m\u001b[0mtorch\u001b[0m\u001b[0;34m.\u001b[0m\u001b[0mtensor\u001b[0m\u001b[0;34m(\u001b[0m\u001b[0mimages\u001b[0m\u001b[0;34m[\u001b[0m\u001b[0mindex\u001b[0m\u001b[0;34m]\u001b[0m\u001b[0;34m)\u001b[0m\u001b[0;34m.\u001b[0m\u001b[0mfloat\u001b[0m\u001b[0;34m(\u001b[0m\u001b[0;34m)\u001b[0m\u001b[0;34m.\u001b[0m\u001b[0munsqueeze\u001b[0m\u001b[0;34m(\u001b[0m\u001b[0;36m0\u001b[0m\u001b[0;34m)\u001b[0m\u001b[0;34m)\u001b[0m\u001b[0;34m\u001b[0m\u001b[0;34m\u001b[0m\u001b[0m\n\u001b[1;32m      5\u001b[0m     \u001b[0mpred_image\u001b[0m \u001b[0;34m=\u001b[0m \u001b[0mpred_image\u001b[0m\u001b[0;34m.\u001b[0m\u001b[0mdetach\u001b[0m\u001b[0;34m(\u001b[0m\u001b[0;34m)\u001b[0m\u001b[0;34m.\u001b[0m\u001b[0mnumpy\u001b[0m\u001b[0;34m(\u001b[0m\u001b[0;34m)\u001b[0m\u001b[0;34m\u001b[0m\u001b[0;34m\u001b[0m\u001b[0m\n",
      "\u001b[0;32m<ipython-input-17-9fccdd26d386>\u001b[0m in \u001b[0;36m<listcomp>\u001b[0;34m(.0)\u001b[0m\n\u001b[0;32m----> 1\u001b[0;31m \u001b[0mimages\u001b[0m \u001b[0;34m=\u001b[0m \u001b[0;34m[\u001b[0m\u001b[0mimage\u001b[0m \u001b[0;32mfor\u001b[0m \u001b[0mimage\u001b[0m\u001b[0;34m,\u001b[0m \u001b[0m_\u001b[0m \u001b[0;32min\u001b[0m \u001b[0msamples_test\u001b[0m\u001b[0;34m]\u001b[0m\u001b[0;34m\u001b[0m\u001b[0;34m\u001b[0m\u001b[0m\n\u001b[0m\u001b[1;32m      2\u001b[0m \u001b[0;32mfor\u001b[0m \u001b[0mi\u001b[0m\u001b[0;34m,\u001b[0m \u001b[0mindex\u001b[0m \u001b[0;32min\u001b[0m \u001b[0menumerate\u001b[0m\u001b[0;34m(\u001b[0m\u001b[0;34m[\u001b[0m\u001b[0;36m0\u001b[0m\u001b[0;34m,\u001b[0m \u001b[0mlen\u001b[0m\u001b[0;34m(\u001b[0m\u001b[0mimages\u001b[0m\u001b[0;34m)\u001b[0m\u001b[0;34m//\u001b[0m\u001b[0;36m5\u001b[0m\u001b[0;34m,\u001b[0m \u001b[0mlen\u001b[0m\u001b[0;34m(\u001b[0m\u001b[0mimages\u001b[0m\u001b[0;34m)\u001b[0m\u001b[0;34m//\u001b[0m\u001b[0;36m4\u001b[0m\u001b[0;34m,\u001b[0m \u001b[0mlen\u001b[0m\u001b[0;34m(\u001b[0m\u001b[0mimages\u001b[0m\u001b[0;34m)\u001b[0m\u001b[0;34m//\u001b[0m\u001b[0;36m2\u001b[0m\u001b[0;34m,\u001b[0m \u001b[0;36m3\u001b[0m\u001b[0;34m*\u001b[0m\u001b[0mlen\u001b[0m\u001b[0;34m(\u001b[0m\u001b[0mimages\u001b[0m\u001b[0;34m)\u001b[0m\u001b[0;34m//\u001b[0m\u001b[0;36m4\u001b[0m\u001b[0;34m,\u001b[0m \u001b[0;34m-\u001b[0m\u001b[0;36m1\u001b[0m\u001b[0;34m]\u001b[0m\u001b[0;34m)\u001b[0m\u001b[0;34m:\u001b[0m\u001b[0;34m\u001b[0m\u001b[0;34m\u001b[0m\u001b[0m\n\u001b[1;32m      3\u001b[0m     \u001b[0mfig\u001b[0m\u001b[0;34m,\u001b[0m \u001b[0max\u001b[0m \u001b[0;34m=\u001b[0m \u001b[0mplt\u001b[0m\u001b[0;34m.\u001b[0m\u001b[0msubplots\u001b[0m\u001b[0;34m(\u001b[0m\u001b[0;36m1\u001b[0m\u001b[0;34m,\u001b[0m \u001b[0;36m2\u001b[0m\u001b[0;34m,\u001b[0m \u001b[0mfigsize\u001b[0m\u001b[0;34m=\u001b[0m\u001b[0;34m(\u001b[0m\u001b[0;36m10\u001b[0m\u001b[0;34m,\u001b[0m \u001b[0;36m5\u001b[0m\u001b[0;34m)\u001b[0m\u001b[0;34m)\u001b[0m\u001b[0;34m\u001b[0m\u001b[0;34m\u001b[0m\u001b[0m\n\u001b[1;32m      4\u001b[0m     \u001b[0mpred_image\u001b[0m\u001b[0;34m,\u001b[0m \u001b[0mpred_position\u001b[0m \u001b[0;34m=\u001b[0m \u001b[0mmodel\u001b[0m\u001b[0;34m(\u001b[0m\u001b[0mtorch\u001b[0m\u001b[0;34m.\u001b[0m\u001b[0mtensor\u001b[0m\u001b[0;34m(\u001b[0m\u001b[0mimages\u001b[0m\u001b[0;34m[\u001b[0m\u001b[0mindex\u001b[0m\u001b[0;34m]\u001b[0m\u001b[0;34m)\u001b[0m\u001b[0;34m.\u001b[0m\u001b[0mfloat\u001b[0m\u001b[0;34m(\u001b[0m\u001b[0;34m)\u001b[0m\u001b[0;34m.\u001b[0m\u001b[0munsqueeze\u001b[0m\u001b[0;34m(\u001b[0m\u001b[0;36m0\u001b[0m\u001b[0;34m)\u001b[0m\u001b[0;34m)\u001b[0m\u001b[0;34m\u001b[0m\u001b[0;34m\u001b[0m\u001b[0m\n\u001b[1;32m      5\u001b[0m     \u001b[0mpred_image\u001b[0m \u001b[0;34m=\u001b[0m \u001b[0mpred_image\u001b[0m\u001b[0;34m.\u001b[0m\u001b[0mdetach\u001b[0m\u001b[0;34m(\u001b[0m\u001b[0;34m)\u001b[0m\u001b[0;34m.\u001b[0m\u001b[0mnumpy\u001b[0m\u001b[0;34m(\u001b[0m\u001b[0;34m)\u001b[0m\u001b[0;34m\u001b[0m\u001b[0;34m\u001b[0m\u001b[0m\n",
      "\u001b[0;31mValueError\u001b[0m: not enough values to unpack (expected 2, got 1)"
     ]
    }
   ],
   "source": [
    "images = [image for image, _ in samples_test]\n",
    "for i, index in enumerate([0, len(images)//5, len(images)//4, len(images)//2, 3*len(images)//4, -1]):\n",
    "    fig, ax = plt.subplots(1, 2, figsize=(10, 5))\n",
    "    pred_image, pred_position = model(torch.tensor(images[index]).float().unsqueeze(0))\n",
    "    pred_image = pred_image.detach().numpy()\n",
    "    pred_position = pred_position.detach().numpy()\n",
    "\n",
    "    print(f\"Position predicted : {pred_position[0,:]} | True position : {samples[index][1][:]}\")\n",
    "    # print(f\"Radius predicted : {pred_position[0,2]} | Radius position : {samples[index][1][2]}\")\n",
    "    ax[0].imshow(np.squeeze(images[index]), cmap='gray')\n",
    "    ax[1].imshow(pred_image.squeeze(), cmap='gray')\n",
    "    plt.show()"
   ]
  },
  {
   "cell_type": "code",
   "execution_count": null,
   "metadata": {},
   "outputs": [],
   "source": []
  },
  {
   "cell_type": "markdown",
   "metadata": {},
   "source": [
    "# Visualizing the latent transformation"
   ]
  },
  {
   "cell_type": "code",
   "execution_count": 18,
   "metadata": {},
   "outputs": [],
   "source": [
    "def grid_samples(k, size, r_min, r_max, margin=1.):\n",
    "    samples = []\n",
    "    indices_matrix = np.array([[i,j] for i in range(size) for j in range(size)])\n",
    "    # print(indices_matrix)\n",
    "    # print(indices_matrix.shape)\n",
    "    eps = 1E-5\n",
    "    step = (size - 2.*margin)/k\n",
    "    positions_x = np.arange(margin, size - 1 - margin, step)\n",
    "    positions_y = np.arange(margin, size - 1 - margin, step)\n",
    "    for x in positions_x:\n",
    "        for y in positions_y:\n",
    "            r = np.random.uniform(r_min, r_max+eps)\n",
    "            # create a gaussian ball\n",
    "            image = np.zeros((size, size), dtype=np.float32)\n",
    "            position = np.array([x, y])\n",
    "            \n",
    "            # compute the density over the image and normalize it\n",
    "            image = gaussian_density(indices_matrix, position, r).numpy().copy()\n",
    "            samples.append((image.reshape(1, size, size), np.array([x/(size ), y/(size)])))\n",
    "        \n",
    "    return samples\n",
    "\n",
    "grid = grid_samples(16, 28, 1., 1., margin=1)"
   ]
  },
  {
   "cell_type": "code",
   "execution_count": 19,
   "metadata": {},
   "outputs": [],
   "source": [
    "def plot_grid(ax, positions):\n",
    "    # print(positions)\n",
    "    plt.figure(figsize=(8, 8))\n",
    "    # add line to the grid\n",
    "    dim_positions = positions.shape[0]\n",
    "    dim_positions = int(np.sqrt(dim_positions))\n",
    "    # print(dim_positions)\n",
    "    # print(positions.shape)\n",
    "    try_pos = positions.reshape(dim_positions,dim_positions,2)\n",
    "    ax.plot(try_pos[:,:,0], try_pos[:,:,1], 'k-', linewidth=0.5)\n",
    "    ax.plot(try_pos[:,:,1], try_pos[:,:,0], 'k-', linewidth=0.5)\n",
    "    ax.scatter(positions[:,0], positions[:,1], s=6)\n",
    "    # plt.show()\n",
    "\n",
    "# plot_grid(grid)"
   ]
  },
  {
   "cell_type": "code",
   "execution_count": 20,
   "metadata": {},
   "outputs": [],
   "source": [
    "def plot_square_transformation(model, square_samples, title):\n",
    "    fig, ax = plt.subplots(1, 2, figsize=(10, 5))\n",
    "    with torch.no_grad():\n",
    "        pred_positions = np.array([model.encoder_linear(model.encode(torch.tensor(image).float().unsqueeze(0))).numpy()[0] for image, _ in square_samples])\n",
    "        # print(pred_position.shape)\n",
    "        # add overall title\n",
    "        ax[0].set_title(\"Inputs\")\n",
    "        ax[1].set_title(title)\n",
    "        true_positions = np.array([position for _, position in square_samples])\n",
    "        # print(true_positions.shape)\n",
    "        # print(pred_positions.shape)\n",
    "        # print(true_positions)\n",
    "        plot_grid(ax[0], true_positions)\n",
    "        plot_grid(ax[1], pred_positions)\n",
    "        # ax[0].scatter(true_positions[:,0], true_positions[:,1], s=1, label=\"True position of the center\")\n",
    "        # ax[1].scatter(pred_position[:,0], pred_position[:,1], s=1, label=\"Predicted position of the center\")\n",
    "        # ax[0].legend()\n",
    "        # ax[1].legend()\n",
    "        plt.show()"
   ]
  },
  {
   "cell_type": "code",
   "execution_count": 26,
   "metadata": {},
   "outputs": [
    {
     "name": "stdout",
     "output_type": "stream",
     "text": [
      "Number of parameters in the model: 220387\n"
     ]
    },
    {
     "data": {
      "text/plain": [
       "<All keys matched successfully>"
      ]
     },
     "execution_count": 26,
     "metadata": {},
     "output_type": "execute_result"
    }
   ],
   "source": [
    "model = ConvAE(height=28, width=28, latent_dim=2)\n",
    "path = \"/Users/maximebonnin/Documents/X/3A/Stage/IntNeuralODE/models/AE/FirstExplo/conv_custom_2_gaussian_r_1_custom_loss_alpha_1_0.pt\"\n",
    "model.load_state_dict(torch.load(path))"
   ]
  },
  {
   "cell_type": "code",
   "execution_count": 29,
   "metadata": {},
   "outputs": [
    {
     "data": {
      "image/png": "[encoded data removed]",
      "text/plain": [
       "<Figure size 720x360 with 2 Axes>"
      ]
     },
     "metadata": {
      "needs_background": "light"
     },
     "output_type": "display_data"
    },
    {
     "data": {
      "text/plain": [
       "<Figure size 576x576 with 0 Axes>"
      ]
     },
     "metadata": {},
     "output_type": "display_data"
    },
    {
     "data": {
      "text/plain": [
       "<Figure size 576x576 with 0 Axes>"
      ]
     },
     "metadata": {},
     "output_type": "display_data"
    }
   ],
   "source": [
    "title = \"Latent space transformation with the factor equals to 0.5\"\n",
    "plot_square_transformation(model, grid, title)"
   ]
  },
  {
   "cell_type": "code",
   "execution_count": null,
   "metadata": {},
   "outputs": [],
   "source": []
  }
 ],
 "metadata": {
  "interpreter": {
   "hash": "aee8b7b246df8f9039afb4144a1f6fd8d2ca17a180786b69acc140d282b71a49"
  },
  "kernelspec": {
   "display_name": "Python 3.6.8 64-bit",
   "language": "python",
   "name": "python3"
  },
  "language_info": {
   "codemirror_mode": {
    "name": "ipython",
    "version": 3
   },
   "file_extension": ".py",
   "mimetype": "text/x-python",
   "name": "python",
   "nbconvert_exporter": "python",
   "pygments_lexer": "ipython3",
   "version": "3.6.8"
  },
  "orig_nbformat": 4
 },
 "nbformat": 4,
 "nbformat_minor": 2
}
