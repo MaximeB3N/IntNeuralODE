{
 "cells": [
  {
   "cell_type": "code",
   "execution_count": 27,
   "metadata": {},
   "outputs": [
    {
     "data": {
      "text/html": [
       "        <script type=\"text/javascript\">\n",
       "        window.PlotlyConfig = {MathJaxConfig: 'local'};\n",
       "        if (window.MathJax) {MathJax.Hub.Config({SVG: {font: \"STIX-Web\"}});}\n",
       "        if (typeof require !== 'undefined') {\n",
       "        require.undef(\"plotly\");\n",
       "        requirejs.config({\n",
       "            paths: {\n",
       "                'plotly': ['https://cdn.plot.ly/plotly-2.11.1.min']\n",
       "            }\n",
       "        });\n",
       "        require(['plotly'], function(Plotly) {\n",
       "            window._Plotly = Plotly;\n",
       "        });\n",
       "        }\n",
       "        </script>\n",
       "        "
      ]
     },
     "metadata": {},
     "output_type": "display_data"
    }
   ],
   "source": [
    "import numpy as np\n",
    "import matplotlib.pyplot as plt\n",
    "import cv2\n",
    "import skimage as sk\n",
    "\n",
    "# import everything to plot the animation with plotly on iteractive plot\n",
    "from plotly.subplots import make_subplots\n",
    "import plotly.graph_objs as go\n",
    "import plotly.express as px\n",
    "from plotly.offline import init_notebook_mode, iplot\n",
    "init_notebook_mode(connected=True)\n",
    "\n",
    "import ipywidgets as widgets\n",
    "from ipywidgets import interact"
   ]
  },
  {
   "cell_type": "code",
   "execution_count": 35,
   "metadata": {},
   "outputs": [
    {
     "name": "stdout",
     "output_type": "stream",
     "text": [
      "(20, 10000, 64, 64)\n"
     ]
    }
   ],
   "source": [
    "moving_mnist = np.load('data/MOVING_MNIST/mnist_test_seq.npy')\n",
    "print(moving_mnist.shape)\n",
    "# resize it to (20, 10000, 28, 28)\n",
    "moving_mnist = sk.transform.resize(moving_mnist, (20, 10000, 28, 28))\n",
    "print(moving_mnist.shape)"
   ]
  },
  {
   "cell_type": "code",
   "execution_count": 31,
   "metadata": {},
   "outputs": [],
   "source": [
    "np.save('data/MOVING_MNIST/mnist_test_seq_resized.npy', moving_mnist)"
   ]
  },
  {
   "cell_type": "code",
   "execution_count": 29,
   "metadata": {},
   "outputs": [
    {
     "data": {
      "text/plain": [
       "<matplotlib.image.AxesImage at 0x2fe357e80>"
      ]
     },
     "execution_count": 29,
     "metadata": {},
     "output_type": "execute_result"
    },
    {
     "data": {
      "image/png": "[encoded data removed]",
      "text/plain": [
       "<Figure size 432x288 with 1 Axes>"
      ]
     },
     "metadata": {
      "needs_background": "light"
     },
     "output_type": "display_data"
    }
   ],
   "source": [
    "plt.imshow(moving_mnist[0, 0])"
   ]
  },
  {
   "cell_type": "code",
   "execution_count": 37,
   "metadata": {},
   "outputs": [
    {
     "name": "stdout",
     "output_type": "stream",
     "text": [
      "(Heatmap({\n",
      "    'coloraxis': 'coloraxis',\n",
      "    'hovertemplate': 'x: %{x}<br>y: %{y}<br>color: %{z}<extra></extra>',\n",
      "    'name': '0',\n",
      "    'uid': '2c20ee2d-769d-4760-a10e-d9319a8e4a25',\n",
      "    'xaxis': 'x',\n",
      "    'yaxis': 'y',\n",
      "    'z': array([[0, 0, 0, ..., 0, 0, 0],\n",
      "                [0, 0, 0, ..., 0, 0, 0],\n",
      "                [0, 0, 0, ..., 0, 0, 0],\n",
      "                ...,\n",
      "                [0, 0, 0, ..., 0, 0, 0],\n",
      "                [0, 0, 0, ..., 0, 0, 0],\n",
      "                [0, 0, 0, ..., 0, 0, 0]], dtype=uint8)\n",
      "}),)\n"
     ]
    },
    {
     "data": {
      "application/vnd.jupyter.widget-view+json": {
       "model_id": "2a42fd4240d743868a55e1918226a07e",
       "version_major": 2,
       "version_minor": 0
      },
      "text/plain": [
       "interactive(children=(IntSlider(value=0, description='i', max=19), Output()), _dom_classes=('widget-interact',…"
      ]
     },
     "metadata": {},
     "output_type": "display_data"
    },
    {
     "data": {
      "application/vnd.jupyter.widget-view+json": {
       "model_id": "4b0ff858153c4c3397ddd13299989f15",
       "version_major": 2,
       "version_minor": 0
      },
      "text/plain": [
       "FigureWidget({\n",
       "    'data': [{'coloraxis': 'coloraxis',\n",
       "              'hovertemplate': 'x: %{x}<br>y: %{y}<br>c…"
      ]
     },
     "metadata": {},
     "output_type": "display_data"
    }
   ],
   "source": [
    "example_iter = 19\n",
    "example_seq = moving_mnist[:, example_iter]\n",
    "\n",
    "i = 0\n",
    "\n",
    "# plot the interactive animation of images\n",
    "# fig = make_subplots(rows=1, cols=1)\n",
    "fig = px.imshow(example_seq[i])\n",
    "fig = go.FigureWidget(fig)\n",
    "print(fig.data)\n",
    "\n",
    "\n",
    "@interact(i=widgets.IntSlider(min=0, max=len(moving_mnist)-1, step=1, value=0))\n",
    "def update_example(i):\n",
    "    with fig.batch_update():\n",
    "        # print(fig.data)\n",
    "        fig.data[0].z = example_seq[i]\n",
    "        # fig.data[0].update()\n",
    "\n",
    "fig"
   ]
  },
  {
   "cell_type": "code",
   "execution_count": null,
   "metadata": {},
   "outputs": [],
   "source": []
  }
 ],
 "metadata": {
  "interpreter": {
   "hash": "b0fa6594d8f4cbf19f97940f81e996739fb7646882a419484c72d19e05852a7e"
  },
  "kernelspec": {
   "display_name": "Python 3.9.9 64-bit",
   "language": "python",
   "name": "python3"
  },
  "language_info": {
   "codemirror_mode": {
    "name": "ipython",
    "version": 3
   },
   "file_extension": ".py",
   "mimetype": "text/x-python",
   "name": "python",
   "nbconvert_exporter": "python",
   "pygments_lexer": "ipython3",
   "version": "3.9.9"
  },
  "orig_nbformat": 4
 },
 "nbformat": 4,
 "nbformat_minor": 2
}
