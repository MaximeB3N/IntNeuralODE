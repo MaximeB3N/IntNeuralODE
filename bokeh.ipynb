{
 "cells": [
  {
   "cell_type": "code",
   "execution_count": 1,
   "metadata": {},
   "outputs": [
    {
     "data": {
      "image/png": "[encoded data removed]",
      "text/plain": [
       "<Figure size 432x288 with 1 Axes>"
      ]
     },
     "metadata": {
      "needs_background": "light"
     },
     "output_type": "display_data"
    },
    {
     "ename": "ValueError",
     "evalue": "'other' is not a Bokeh model: 'auto'",
     "output_type": "error",
     "traceback": [
      "\u001b[0;31m---------------------------------------------------------------------------\u001b[0m",
      "\u001b[0;31mValueError\u001b[0m                                Traceback (most recent call last)",
      "\u001b[0;32m/var/folders/01/nfq6qhcj2j7dqfld6ps6vhbc0000gn/T/ipykernel_26765/2316048545.py\u001b[0m in \u001b[0;36m<module>\u001b[0;34m\u001b[0m\n\u001b[1;32m     59\u001b[0m     \u001b[0mvalue\u001b[0m\u001b[0;34m=\u001b[0m\u001b[0;36m0\u001b[0m\u001b[0;34m,\u001b[0m\u001b[0;34m\u001b[0m\u001b[0;34m\u001b[0m\u001b[0m\n\u001b[1;32m     60\u001b[0m )\n\u001b[0;32m---> 61\u001b[0;31m \u001b[0mslider\u001b[0m\u001b[0;34m.\u001b[0m\u001b[0mjs_link\u001b[0m\u001b[0;34m(\u001b[0m\u001b[0;34m\"value\"\u001b[0m\u001b[0;34m,\u001b[0m \u001b[0mcurrent_point\u001b[0m\u001b[0;34m.\u001b[0m\u001b[0mselection_glyph\u001b[0m\u001b[0;34m,\u001b[0m \u001b[0;34m\"x\"\u001b[0m\u001b[0;34m,\u001b[0m \u001b[0mattr_selector\u001b[0m\u001b[0;34m=\u001b[0m\u001b[0;36m0\u001b[0m\u001b[0;34m)\u001b[0m\u001b[0;34m\u001b[0m\u001b[0;34m\u001b[0m\u001b[0m\n\u001b[0m\u001b[1;32m     62\u001b[0m \u001b[0;34m\u001b[0m\u001b[0m\n\u001b[1;32m     63\u001b[0m \u001b[0;34m\u001b[0m\u001b[0m\n",
      "\u001b[0;32m/opt/homebrew/lib/python3.9/site-packages/bokeh/model/model.py\u001b[0m in \u001b[0;36mjs_link\u001b[0;34m(self, attr, other, other_attr, attr_selector)\u001b[0m\n\u001b[1;32m    357\u001b[0m \u001b[0;34m\u001b[0m\u001b[0m\n\u001b[1;32m    358\u001b[0m         \u001b[0;32mif\u001b[0m \u001b[0;32mnot\u001b[0m \u001b[0misinstance\u001b[0m\u001b[0;34m(\u001b[0m\u001b[0mother\u001b[0m\u001b[0;34m,\u001b[0m \u001b[0mModel\u001b[0m\u001b[0;34m)\u001b[0m\u001b[0;34m:\u001b[0m\u001b[0;34m\u001b[0m\u001b[0;34m\u001b[0m\u001b[0m\n\u001b[0;32m--> 359\u001b[0;31m             \u001b[0;32mraise\u001b[0m \u001b[0mValueError\u001b[0m\u001b[0;34m(\u001b[0m\u001b[0;34m\"'other' is not a Bokeh model: %r\"\u001b[0m \u001b[0;34m%\u001b[0m \u001b[0mother\u001b[0m\u001b[0;34m)\u001b[0m\u001b[0;34m\u001b[0m\u001b[0;34m\u001b[0m\u001b[0m\n\u001b[0m\u001b[1;32m    360\u001b[0m \u001b[0;34m\u001b[0m\u001b[0m\n\u001b[1;32m    361\u001b[0m         \u001b[0mother_descriptor\u001b[0m \u001b[0;34m=\u001b[0m \u001b[0mother\u001b[0m\u001b[0;34m.\u001b[0m\u001b[0mlookup\u001b[0m\u001b[0;34m(\u001b[0m\u001b[0mother_attr\u001b[0m\u001b[0;34m,\u001b[0m \u001b[0mraises\u001b[0m\u001b[0;34m=\u001b[0m\u001b[0;32mFalse\u001b[0m\u001b[0;34m)\u001b[0m\u001b[0;34m\u001b[0m\u001b[0;34m\u001b[0m\u001b[0m\n",
      "\u001b[0;31mValueError\u001b[0m: 'other' is not a Bokeh model: 'auto'"
     ]
    }
   ],
   "source": [
    "import numpy as np\n",
    "\n",
    "import matplotlib.pyplot as plt\n",
    "\n",
    "from bokeh.layouts import layout\n",
    "from bokeh.models import Div, RangeSlider, Spinner, Slider\n",
    "from bokeh.plotting import figure, show\n",
    "\n",
    "dt = 0.01\n",
    "x = np.arange(0, 10, 0.01)\n",
    "y = np.sin(x)\n",
    "plt.plot(x, y)\n",
    "plt.show()\n",
    "\n",
    "# create plot with circle glyphs\n",
    "p = figure(x_range=(0, 10), width=1000, height=500)\n",
    "points = p.circle(x=x, y=y, size=1, fill_color=\"#FF0000\")\n",
    "current_point = p.circle(size=3, fill_color=\"#0000FF\")\n",
    "\n",
    "# set up textarea (div)\n",
    "div = Div(\n",
    "    text=\"\"\"\n",
    "          <p>Select the circle's size using this control element:</p>\n",
    "          \"\"\",\n",
    "    width=200,\n",
    "    height=30,\n",
    ")\n",
    "\n",
    "# set up spinner\n",
    "spinner = Spinner(\n",
    "    title=\"Circle size\",\n",
    "    low=0.1,\n",
    "    high=5,\n",
    "    step=0.1,\n",
    "    value=points.glyph.size,\n",
    "    width=200,\n",
    ")\n",
    "spinner.js_link(\"value\", points.glyph, \"size\")\n",
    "\n",
    "# set up RangeSlider\n",
    "range_slider = RangeSlider(\n",
    "    title=\"Adjust x-axis range\",\n",
    "    start=0,\n",
    "    end=10,\n",
    "    step=dt,\n",
    "    value=(p.x_range.start, p.x_range.end),\n",
    ")\n",
    "\n",
    "range_slider.js_link(\"value\", p.x_range, \"start\", attr_selector=0)\n",
    "range_slider.js_link(\"value\", p.x_range, \"end\", attr_selector=1)\n",
    "\n",
    "\n",
    "# moving point using a slider\n",
    "slider = Slider(\n",
    "    title=\"Move point\",\n",
    "    start=0,\n",
    "    end=10,\n",
    "    step=dt,\n",
    "    value=0,\n",
    ")\n",
    "slider.js_link(\"value\", current_point.selection_glyph, \"x\", attr_selector=0)\n",
    "\n",
    "\n",
    "# create layout\n",
    "layout = layout(\n",
    "    [\n",
    "        [div, spinner],\n",
    "        [range_slider, slider],\n",
    "        [p],\n",
    "    ]\n",
    ")\n",
    "\n",
    "# show result\n",
    "show(layout)"
   ]
  },
  {
   "cell_type": "code",
   "execution_count": 2,
   "metadata": {},
   "outputs": [
    {
     "ename": "ModuleNotFoundError",
     "evalue": "No module named 'bokeh.layouts'; 'bokeh' is not a package",
     "output_type": "error",
     "traceback": [
      "\u001b[0;31m---------------------------------------------------------------------------\u001b[0m",
      "\u001b[0;31mModuleNotFoundError\u001b[0m                       Traceback (most recent call last)",
      "\u001b[0;32m/var/folders/01/nfq6qhcj2j7dqfld6ps6vhbc0000gn/T/ipykernel_4743/2390039927.py\u001b[0m in \u001b[0;36m<module>\u001b[0;34m\u001b[0m\n\u001b[0;32m----> 1\u001b[0;31m \u001b[0;32mimport\u001b[0m \u001b[0mbokeh\u001b[0m\u001b[0;34m\u001b[0m\u001b[0;34m\u001b[0m\u001b[0m\n\u001b[0m",
      "\u001b[0;32m~/Documents/X/3A/Stage/Exploration/bokeh.py\u001b[0m in \u001b[0;36m<module>\u001b[0;34m\u001b[0m\n\u001b[1;32m      3\u001b[0m \u001b[0;32mimport\u001b[0m \u001b[0mmatplotlib\u001b[0m\u001b[0;34m.\u001b[0m\u001b[0mpyplot\u001b[0m \u001b[0;32mas\u001b[0m \u001b[0mplt\u001b[0m\u001b[0;34m\u001b[0m\u001b[0;34m\u001b[0m\u001b[0m\n\u001b[1;32m      4\u001b[0m \u001b[0;34m\u001b[0m\u001b[0m\n\u001b[0;32m----> 5\u001b[0;31m \u001b[0;32mfrom\u001b[0m \u001b[0mbokeh\u001b[0m\u001b[0;34m.\u001b[0m\u001b[0mlayouts\u001b[0m \u001b[0;32mimport\u001b[0m \u001b[0mlayout\u001b[0m\u001b[0;34m\u001b[0m\u001b[0;34m\u001b[0m\u001b[0m\n\u001b[0m\u001b[1;32m      6\u001b[0m \u001b[0;32mfrom\u001b[0m \u001b[0mbokeh\u001b[0m\u001b[0;34m.\u001b[0m\u001b[0mmodels\u001b[0m \u001b[0;32mimport\u001b[0m \u001b[0mDiv\u001b[0m\u001b[0;34m,\u001b[0m \u001b[0mRangeSlider\u001b[0m\u001b[0;34m,\u001b[0m \u001b[0mSpinner\u001b[0m\u001b[0;34m,\u001b[0m \u001b[0mSlider\u001b[0m\u001b[0;34m\u001b[0m\u001b[0;34m\u001b[0m\u001b[0m\n\u001b[1;32m      7\u001b[0m \u001b[0;32mfrom\u001b[0m \u001b[0mbokeh\u001b[0m\u001b[0;34m.\u001b[0m\u001b[0mplotting\u001b[0m \u001b[0;32mimport\u001b[0m \u001b[0mfigure\u001b[0m\u001b[0;34m,\u001b[0m \u001b[0mshow\u001b[0m\u001b[0;34m\u001b[0m\u001b[0;34m\u001b[0m\u001b[0m\n",
      "\u001b[0;31mModuleNotFoundError\u001b[0m: No module named 'bokeh.layouts'; 'bokeh' is not a package"
     ]
    }
   ],
   "source": [
    "import bokeh"
   ]
  },
  {
   "cell_type": "markdown",
   "metadata": {},
   "source": [
    "# Plotly"
   ]
  },
  {
   "cell_type": "code",
   "execution_count": 2,
   "metadata": {},
   "outputs": [
    {
     "data": {
      "text/html": [
       "        <script type=\"text/javascript\">\n",
       "        window.PlotlyConfig = {MathJaxConfig: 'local'};\n",
       "        if (window.MathJax) {MathJax.Hub.Config({SVG: {font: \"STIX-Web\"}});}\n",
       "        if (typeof require !== 'undefined') {\n",
       "        require.undef(\"plotly\");\n",
       "        requirejs.config({\n",
       "            paths: {\n",
       "                'plotly': ['https://cdn.plot.ly/plotly-2.11.1.min']\n",
       "            }\n",
       "        });\n",
       "        require(['plotly'], function(Plotly) {\n",
       "            window._Plotly = Plotly;\n",
       "        });\n",
       "        }\n",
       "        </script>\n",
       "        "
      ]
     },
     "metadata": {},
     "output_type": "display_data"
    }
   ],
   "source": [
    "import numpy as np\n",
    "\n",
    "from plotly.subplots import make_subplots\n",
    "import plotly.graph_objs as go\n",
    "from plotly.offline import init_notebook_mode, iplot\n",
    "init_notebook_mode(connected=True)\n",
    "\n",
    "import ipywidgets as widgets\n",
    "from ipywidgets import interact"
   ]
  },
  {
   "cell_type": "code",
   "execution_count": 3,
   "metadata": {},
   "outputs": [],
   "source": [
    "dt = 0.01\n",
    "x = np.arange(0, 10, 0.01)\n",
    "y = np.sin(x)"
   ]
  },
  {
   "cell_type": "code",
   "execution_count": 86,
   "metadata": {},
   "outputs": [
    {
     "data": {
      "application/vnd.jupyter.widget-view+json": {
       "model_id": "0fcd453dccb443bd92a9344ea8de0825",
       "version_major": 2,
       "version_minor": 0
      },
      "text/plain": [
       "interactive(children=(FloatSlider(value=5.0, description='x', max=10.0, step=0.01), Output()), _dom_classes=('…"
      ]
     },
     "metadata": {},
     "output_type": "display_data"
    },
    {
     "data": {
      "application/vnd.plotly.v1+json": {
       "config": {
        "plotlyServerURL": "https://plot.ly"
       },
       "data": [
        {
         "marker": {
          "color": "blue"
         },
         "mode": "lines",
         "name": "sin",
         "type": "scatter",
         "uid": "cfed6461-6040-4e83-9f14-6110b715dbf2",
         "x": [
          0,
          0.01,
          0.02,
          0.03,
          0.04,
          0.05,
          0.06,
          0.07,
          0.08,
          0.09,
          0.1,
          0.11,
          0.12,
          0.13,
          0.14,
          0.15,
          0.16,
          0.17,
          0.18,
          0.19,
          0.2,
          0.21,
          0.22,
          0.23,
          0.24,
          0.25,
          0.26,
          0.27,
          0.28,
          0.29,
          0.3,
          0.31,
          0.32,
          0.33,
          0.34,
          0.35000000000000003,
          0.36,
          0.37,
          0.38,
          0.39,
          0.4,
          0.41000000000000003,
          0.42,
          0.43,
          0.44,
          0.45,
          0.46,
          0.47000000000000003,
          0.48,
          0.49,
          0.5,
          0.51,
          0.52,
          0.53,
          0.54,
          0.55,
          0.56,
          0.5700000000000001,
          0.58,
          0.59,
          0.6,
          0.61,
          0.62,
          0.63,
          0.64,
          0.65,
          0.66,
          0.67,
          0.68,
          0.6900000000000001,
          0.7000000000000001,
          0.71,
          0.72,
          0.73,
          0.74,
          0.75,
          0.76,
          0.77,
          0.78,
          0.79,
          0.8,
          0.81,
          0.8200000000000001,
          0.8300000000000001,
          0.84,
          0.85,
          0.86,
          0.87,
          0.88,
          0.89,
          0.9,
          0.91,
          0.92,
          0.93,
          0.9400000000000001,
          0.9500000000000001,
          0.96,
          0.97,
          0.98,
          0.99,
          1,
          1.01,
          1.02,
          1.03,
          1.04,
          1.05,
          1.06,
          1.07,
          1.08,
          1.09,
          1.1,
          1.11,
          1.12,
          1.1300000000000001,
          1.1400000000000001,
          1.1500000000000001,
          1.16,
          1.17,
          1.18,
          1.19,
          1.2,
          1.21,
          1.22,
          1.23,
          1.24,
          1.25,
          1.26,
          1.27,
          1.28,
          1.29,
          1.3,
          1.31,
          1.32,
          1.33,
          1.34,
          1.35,
          1.36,
          1.37,
          1.3800000000000001,
          1.3900000000000001,
          1.4000000000000001,
          1.41,
          1.42,
          1.43,
          1.44,
          1.45,
          1.46,
          1.47,
          1.48,
          1.49,
          1.5,
          1.51,
          1.52,
          1.53,
          1.54,
          1.55,
          1.56,
          1.57,
          1.58,
          1.59,
          1.6,
          1.61,
          1.62,
          1.6300000000000001,
          1.6400000000000001,
          1.6500000000000001,
          1.6600000000000001,
          1.67,
          1.68,
          1.69,
          1.7,
          1.71,
          1.72,
          1.73,
          1.74,
          1.75,
          1.76,
          1.77,
          1.78,
          1.79,
          1.8,
          1.81,
          1.82,
          1.83,
          1.84,
          1.85,
          1.86,
          1.87,
          1.8800000000000001,
          1.8900000000000001,
          1.9000000000000001,
          1.9100000000000001,
          1.92,
          1.93,
          1.94,
          1.95,
          1.96,
          1.97,
          1.98,
          1.99,
          2,
          2.0100000000000002,
          2.02,
          2.0300000000000002,
          2.04,
          2.05,
          2.06,
          2.07,
          2.08,
          2.09,
          2.1,
          2.11,
          2.12,
          2.13,
          2.14,
          2.15,
          2.16,
          2.17,
          2.18,
          2.19,
          2.2,
          2.21,
          2.22,
          2.23,
          2.24,
          2.25,
          2.2600000000000002,
          2.27,
          2.2800000000000002,
          2.29,
          2.3000000000000003,
          2.31,
          2.32,
          2.33,
          2.34,
          2.35,
          2.36,
          2.37,
          2.38,
          2.39,
          2.4,
          2.41,
          2.42,
          2.43,
          2.44,
          2.45,
          2.46,
          2.47,
          2.48,
          2.49,
          2.5,
          2.5100000000000002,
          2.52,
          2.5300000000000002,
          2.54,
          2.5500000000000003,
          2.56,
          2.57,
          2.58,
          2.59,
          2.6,
          2.61,
          2.62,
          2.63,
          2.64,
          2.65,
          2.66,
          2.67,
          2.68,
          2.69,
          2.7,
          2.71,
          2.72,
          2.73,
          2.74,
          2.75,
          2.7600000000000002,
          2.77,
          2.7800000000000002,
          2.79,
          2.8000000000000003,
          2.81,
          2.82,
          2.83,
          2.84,
          2.85,
          2.86,
          2.87,
          2.88,
          2.89,
          2.9,
          2.91,
          2.92,
          2.93,
          2.94,
          2.95,
          2.96,
          2.97,
          2.98,
          2.99,
          3,
          3.0100000000000002,
          3.02,
          3.0300000000000002,
          3.04,
          3.0500000000000003,
          3.06,
          3.0700000000000003,
          3.08,
          3.09,
          3.1,
          3.11,
          3.12,
          3.13,
          3.14,
          3.15,
          3.16,
          3.17,
          3.18,
          3.19,
          3.2,
          3.21,
          3.22,
          3.23,
          3.24,
          3.25,
          3.2600000000000002,
          3.27,
          3.2800000000000002,
          3.29,
          3.3000000000000003,
          3.31,
          3.3200000000000003,
          3.33,
          3.34,
          3.35,
          3.36,
          3.37,
          3.38,
          3.39,
          3.4,
          3.41,
          3.42,
          3.43,
          3.44,
          3.45,
          3.46,
          3.47,
          3.48,
          3.49,
          3.5,
          3.5100000000000002,
          3.52,
          3.5300000000000002,
          3.54,
          3.5500000000000003,
          3.56,
          3.5700000000000003,
          3.58,
          3.59,
          3.6,
          3.61,
          3.62,
          3.63,
          3.64,
          3.65,
          3.66,
          3.67,
          3.68,
          3.69,
          3.7,
          3.71,
          3.72,
          3.73,
          3.74,
          3.75,
          3.7600000000000002,
          3.77,
          3.7800000000000002,
          3.79,
          3.8000000000000003,
          3.81,
          3.8200000000000003,
          3.83,
          3.84,
          3.85,
          3.86,
          3.87,
          3.88,
          3.89,
          3.9,
          3.91,
          3.92,
          3.93,
          3.94,
          3.95,
          3.96,
          3.97,
          3.98,
          3.99,
          4,
          4.01,
          4.0200000000000005,
          4.03,
          4.04,
          4.05,
          4.0600000000000005,
          4.07,
          4.08,
          4.09,
          4.1,
          4.11,
          4.12,
          4.13,
          4.14,
          4.15,
          4.16,
          4.17,
          4.18,
          4.19,
          4.2,
          4.21,
          4.22,
          4.23,
          4.24,
          4.25,
          4.26,
          4.2700000000000005,
          4.28,
          4.29,
          4.3,
          4.3100000000000005,
          4.32,
          4.33,
          4.34,
          4.3500000000000005,
          4.36,
          4.37,
          4.38,
          4.39,
          4.4,
          4.41,
          4.42,
          4.43,
          4.44,
          4.45,
          4.46,
          4.47,
          4.48,
          4.49,
          4.5,
          4.51,
          4.5200000000000005,
          4.53,
          4.54,
          4.55,
          4.5600000000000005,
          4.57,
          4.58,
          4.59,
          4.6000000000000005,
          4.61,
          4.62,
          4.63,
          4.64,
          4.65,
          4.66,
          4.67,
          4.68,
          4.69,
          4.7,
          4.71,
          4.72,
          4.73,
          4.74,
          4.75,
          4.76,
          4.7700000000000005,
          4.78,
          4.79,
          4.8,
          4.8100000000000005,
          4.82,
          4.83,
          4.84,
          4.8500000000000005,
          4.86,
          4.87,
          4.88,
          4.89,
          4.9,
          4.91,
          4.92,
          4.93,
          4.94,
          4.95,
          4.96,
          4.97,
          4.98,
          4.99,
          5,
          5.01,
          5.0200000000000005,
          5.03,
          5.04,
          5.05,
          5.0600000000000005,
          5.07,
          5.08,
          5.09,
          5.1000000000000005,
          5.11,
          5.12,
          5.13,
          5.14,
          5.15,
          5.16,
          5.17,
          5.18,
          5.19,
          5.2,
          5.21,
          5.22,
          5.23,
          5.24,
          5.25,
          5.26,
          5.2700000000000005,
          5.28,
          5.29,
          5.3,
          5.3100000000000005,
          5.32,
          5.33,
          5.34,
          5.3500000000000005,
          5.36,
          5.37,
          5.38,
          5.39,
          5.4,
          5.41,
          5.42,
          5.43,
          5.44,
          5.45,
          5.46,
          5.47,
          5.48,
          5.49,
          5.5,
          5.51,
          5.5200000000000005,
          5.53,
          5.54,
          5.55,
          5.5600000000000005,
          5.57,
          5.58,
          5.59,
          5.6000000000000005,
          5.61,
          5.62,
          5.63,
          5.64,
          5.65,
          5.66,
          5.67,
          5.68,
          5.69,
          5.7,
          5.71,
          5.72,
          5.73,
          5.74,
          5.75,
          5.76,
          5.7700000000000005,
          5.78,
          5.79,
          5.8,
          5.8100000000000005,
          5.82,
          5.83,
          5.84,
          5.8500000000000005,
          5.86,
          5.87,
          5.88,
          5.89,
          5.9,
          5.91,
          5.92,
          5.93,
          5.94,
          5.95,
          5.96,
          5.97,
          5.98,
          5.99,
          6,
          6.01,
          6.0200000000000005,
          6.03,
          6.04,
          6.05,
          6.0600000000000005,
          6.07,
          6.08,
          6.09,
          6.1000000000000005,
          6.11,
          6.12,
          6.13,
          6.140000000000001,
          6.15,
          6.16,
          6.17,
          6.18,
          6.19,
          6.2,
          6.21,
          6.22,
          6.23,
          6.24,
          6.25,
          6.26,
          6.2700000000000005,
          6.28,
          6.29,
          6.3,
          6.3100000000000005,
          6.32,
          6.33,
          6.34,
          6.3500000000000005,
          6.36,
          6.37,
          6.38,
          6.390000000000001,
          6.4,
          6.41,
          6.42,
          6.43,
          6.44,
          6.45,
          6.46,
          6.47,
          6.48,
          6.49,
          6.5,
          6.51,
          6.5200000000000005,
          6.53,
          6.54,
          6.55,
          6.5600000000000005,
          6.57,
          6.58,
          6.59,
          6.6000000000000005,
          6.61,
          6.62,
          6.63,
          6.640000000000001,
          6.65,
          6.66,
          6.67,
          6.68,
          6.69,
          6.7,
          6.71,
          6.72,
          6.73,
          6.74,
          6.75,
          6.76,
          6.7700000000000005,
          6.78,
          6.79,
          6.8,
          6.8100000000000005,
          6.82,
          6.83,
          6.84,
          6.8500000000000005,
          6.86,
          6.87,
          6.88,
          6.890000000000001,
          6.9,
          6.91,
          6.92,
          6.93,
          6.94,
          6.95,
          6.96,
          6.97,
          6.98,
          6.99,
          7,
          7.01,
          7.0200000000000005,
          7.03,
          7.04,
          7.05,
          7.0600000000000005,
          7.07,
          7.08,
          7.09,
          7.1000000000000005,
          7.11,
          7.12,
          7.13,
          7.140000000000001,
          7.15,
          7.16,
          7.17,
          7.18,
          7.19,
          7.2,
          7.21,
          7.22,
          7.23,
          7.24,
          7.25,
          7.26,
          7.2700000000000005,
          7.28,
          7.29,
          7.3,
          7.3100000000000005,
          7.32,
          7.33,
          7.34,
          7.3500000000000005,
          7.36,
          7.37,
          7.38,
          7.390000000000001,
          7.4,
          7.41,
          7.42,
          7.43,
          7.44,
          7.45,
          7.46,
          7.47,
          7.48,
          7.49,
          7.5,
          7.51,
          7.5200000000000005,
          7.53,
          7.54,
          7.55,
          7.5600000000000005,
          7.57,
          7.58,
          7.59,
          7.6000000000000005,
          7.61,
          7.62,
          7.63,
          7.640000000000001,
          7.65,
          7.66,
          7.67,
          7.68,
          7.69,
          7.7,
          7.71,
          7.72,
          7.73,
          7.74,
          7.75,
          7.76,
          7.7700000000000005,
          7.78,
          7.79,
          7.8,
          7.8100000000000005,
          7.82,
          7.83,
          7.84,
          7.8500000000000005,
          7.86,
          7.87,
          7.88,
          7.890000000000001,
          7.9,
          7.91,
          7.92,
          7.930000000000001,
          7.94,
          7.95,
          7.96,
          7.97,
          7.98,
          7.99,
          8,
          8.01,
          8.02,
          8.03,
          8.040000000000001,
          8.05,
          8.06,
          8.07,
          8.08,
          8.09,
          8.1,
          8.11,
          8.120000000000001,
          8.13,
          8.14,
          8.15,
          8.16,
          8.17,
          8.18,
          8.19,
          8.2,
          8.21,
          8.22,
          8.23,
          8.24,
          8.25,
          8.26,
          8.27,
          8.28,
          8.290000000000001,
          8.3,
          8.31,
          8.32,
          8.33,
          8.34,
          8.35,
          8.36,
          8.370000000000001,
          8.38,
          8.39,
          8.4,
          8.41,
          8.42,
          8.43,
          8.44,
          8.45,
          8.46,
          8.47,
          8.48,
          8.49,
          8.5,
          8.51,
          8.52,
          8.53,
          8.540000000000001,
          8.55,
          8.56,
          8.57,
          8.58,
          8.59,
          8.6,
          8.61,
          8.620000000000001,
          8.63,
          8.64,
          8.65,
          8.66,
          8.67,
          8.68,
          8.69,
          8.700000000000001,
          8.71,
          8.72,
          8.73,
          8.74,
          8.75,
          8.76,
          8.77,
          8.78,
          8.790000000000001,
          8.8,
          8.81,
          8.82,
          8.83,
          8.84,
          8.85,
          8.86,
          8.870000000000001,
          8.88,
          8.89,
          8.9,
          8.91,
          8.92,
          8.93,
          8.94,
          8.950000000000001,
          8.96,
          8.97,
          8.98,
          8.99,
          9,
          9.01,
          9.02,
          9.03,
          9.040000000000001,
          9.05,
          9.06,
          9.07,
          9.08,
          9.09,
          9.1,
          9.11,
          9.120000000000001,
          9.13,
          9.14,
          9.15,
          9.16,
          9.17,
          9.18,
          9.19,
          9.200000000000001,
          9.21,
          9.22,
          9.23,
          9.24,
          9.25,
          9.26,
          9.27,
          9.28,
          9.290000000000001,
          9.3,
          9.31,
          9.32,
          9.33,
          9.34,
          9.35,
          9.36,
          9.370000000000001,
          9.38,
          9.39,
          9.4,
          9.41,
          9.42,
          9.43,
          9.44,
          9.450000000000001,
          9.46,
          9.47,
          9.48,
          9.49,
          9.5,
          9.51,
          9.52,
          9.53,
          9.540000000000001,
          9.55,
          9.56,
          9.57,
          9.58,
          9.59,
          9.6,
          9.61,
          9.620000000000001,
          9.63,
          9.64,
          9.65,
          9.66,
          9.67,
          9.68,
          9.69,
          9.700000000000001,
          9.71,
          9.72,
          9.73,
          9.74,
          9.75,
          9.76,
          9.77,
          9.78,
          9.790000000000001,
          9.8,
          9.81,
          9.82,
          9.83,
          9.84,
          9.85,
          9.86,
          9.870000000000001,
          9.88,
          9.89,
          9.9,
          9.91,
          9.92,
          9.93,
          9.94,
          9.950000000000001,
          9.96,
          9.97,
          9.98,
          9.99
         ],
         "y": [
          0,
          0.009999833334166664,
          0.01999866669333308,
          0.02999550020249566,
          0.03998933418663416,
          0.04997916927067833,
          0.059964006479444595,
          0.06994284733753277,
          0.0799146939691727,
          0.08987854919801104,
          0.09983341664682815,
          0.10977830083717481,
          0.11971220728891936,
          0.12963414261969486,
          0.1395431146442365,
          0.14943813247359922,
          0.15931820661424598,
          0.16918234906699603,
          0.17902957342582418,
          0.18885889497650057,
          0.19866933079506122,
          0.20845989984609956,
          0.21822962308086932,
          0.2279775235351884,
          0.23770262642713458,
          0.24740395925452294,
          0.2570805518921551,
          0.26673143668883115,
          0.27635564856411376,
          0.28595222510483553,
          0.29552020666133955,
          0.3050586364434435,
          0.31456656061611776,
          0.32404302839486837,
          0.3334870921408144,
          0.3428978074554514,
          0.35227423327508994,
          0.361615431964962,
          0.3709204694129827,
          0.3801884151231614,
          0.3894183423086505,
          0.39860932798442295,
          0.40776045305957015,
          0.41687080242921076,
          0.4259394650659996,
          0.43496553411123023,
          0.4439481069655198,
          0.45288628537906833,
          0.4617791755414829,
          0.470625888171158,
          0.479425538604203,
          0.4881772468829075,
          0.49688013784373675,
          0.5055333412048469,
          0.5141359916531132,
          0.5226872289306592,
          0.5311861979208834,
          0.5396320487339693,
          0.5480239367918736,
          0.5563610229127838,
          0.5646424733950354,
          0.5728674601004813,
          0.5810351605373051,
          0.5891447579422695,
          0.5971954413623921,
          0.6051864057360395,
          0.6131168519734338,
          0.6209859870365597,
          0.6287930240184686,
          0.636537182221968,
          0.6442176872376911,
          0.6518337710215366,
          0.6593846719714731,
          0.6668696350036979,
          0.674287911628145,
          0.6816387600233341,
          0.6889214451105513,
          0.6961352386273568,
          0.7032794192004103,
          0.7103532724176078,
          0.7173560908995228,
          0.7242871743701426,
          0.7311458297268959,
          0.7379313711099628,
          0.7446431199708593,
          0.7512804051402927,
          0.757842562895277,
          0.7643289370255051,
          0.7707388788989693,
          0.7770717475268238,
          0.7833269096274834,
          0.7895037396899505,
          0.795601620036366,
          0.8016199408837772,
          0.8075581004051143,
          0.8134155047893737,
          0.8191915683009983,
          0.8248857133384501,
          0.8304973704919705,
          0.8360259786005205,
          0.8414709848078965,
          0.8468318446180152,
          0.852108021949363,
          0.8572989891886034,
          0.8624042272433384,
          0.867423225594017,
          0.8723554823449863,
          0.8772005042746817,
          0.8819578068849475,
          0.8866269144494873,
          0.8912073600614354,
          0.8956986856800476,
          0.9001004421765051,
          0.904412189378826,
          0.9086334961158833,
          0.9127639402605211,
          0.9168031087717669,
          0.9207505977361357,
          0.9246060124080203,
          0.9283689672491667,
          0.9320390859672263,
          0.935616001553386,
          0.9390993563190676,
          0.9424888019316975,
          0.945783999449539,
          0.9489846193555862,
          0.9520903415905158,
          0.9551008555846923,
          0.9580158602892249,
          0.9608350642060727,
          0.963558185417193,
          0.966184951612734,
          0.9687151001182653,
          0.9711483779210446,
          0.9734845416953194,
          0.9757233578266591,
          0.9778646024353163,
          0.9799080613986142,
          0.9818535303723598,
          0.9837008148112766,
          0.9854497299884603,
          0.9871001010138504,
          0.9886517628517197,
          0.9901045603371778,
          0.9914583481916864,
          0.9927129910375885,
          0.9938683634116449,
          0.9949243497775809,
          0.99588084453764,
          0.9967377520431434,
          0.9974949866040544,
          0.9981524724975481,
          0.998710143975583,
          0.999167945271476,
          0.9995258306054791,
          0.999783764189357,
          0.9999417202299663,
          0.9999996829318346,
          0.9999576464987401,
          0.9998156151342908,
          0.9995736030415051,
          0.9992316344213905,
          0.998789743470524,
          0.9982479743776325,
          0.9976063813191737,
          0.9968650284539189,
          0.9960239899165367,
          0.9950833498101802,
          0.994043202198076,
          0.9929036510941185,
          0.9916648104524686,
          0.990326804156158,
          0.9888897660047015,
          0.9873538397007164,
          0.9857191788355535,
          0.9839859468739369,
          0.9821543171376185,
          0.9802244727880455,
          0.9781966068080447,
          0.9760709219825242,
          0.9738476308781951,
          0.9715269558223153,
          0.9691091288804563,
          0.9665943918332975,
          0.9639829961524481,
          0.9612752029752999,
          0.9584712830789142,
          0.955571516852944,
          0.9525761942715953,
          0.9494856148646305,
          0.9463000876874145,
          0.9430199312900105,
          0.9396454736853249,
          0.9361770523163061,
          0.9326150140222005,
          0.9289597150038693,
          0.9252115207881683,
          0.9213708061913954,
          0.9174379552818098,
          0.9134133613412252,
          0.9092974268256817,
          0.9050905633252009,
          0.9007931915226273,
          0.8964057411515598,
          0.8919286509533796,
          0.8873623686333755,
          0.8827073508159741,
          0.8779640629990781,
          0.8731329795075164,
          0.8682145834456126,
          0.8632093666488737,
          0.8581178296348089,
          0.8529404815528762,
          0.8476778401335698,
          0.8423304316366457,
          0.8368987907984978,
          0.8313834607786831,
          0.825784993105608,
          0.8201039476213741,
          0.814340892425796,
          0.8084964038195901,
          0.8025710662467472,
          0.7965654722360865,
          0.7904802223420048,
          0.7843159250844199,
          0.7780731968879212,
          0.7717526620201257,
          0.7653549525292536,
          0.7588807081809218,
          0.7523305763941708,
          0.74570521217672,
          0.7390052780594709,
          0.7322314440302514,
          0.7253843874668195,
          0.7184647930691263,
          0.7114733527908443,
          0.7044107657701763,
          0.6972777382599378,
          0.6900749835569364,
          0.6828032219306397,
          0.6754631805511511,
          0.6680555934164909,
          0.6605812012792007,
          0.6530407515722648,
          0.6454349983343708,
          0.6377647021345036,
          0.6300306299958922,
          0.6222335553193047,
          0.6143742578057118,
          0.6064535233783147,
          0.5984721441039564,
          0.5904309181139127,
          0.5823306495240819,
          0.5741721483545723,
          0.5659562304487028,
          0.5576837173914166,
          0.5493554364271266,
          0.5409722203769886,
          0.5325349075556212,
          0.5240443416872761,
          0.5155013718214642,
          0.5069068522480534,
          0.49826164241183857,
          0.4895666068265995,
          0.48082261498864826,
          0.47203054128988264,
          0.4631912649303452,
          0.45430566983030646,
          0.44537464454187115,
          0.4363990821601263,
          0.4273798802338298,
          0.418317940675659,
          0.4092141696720173,
          0.4000694775924195,
          0.3908847788984522,
          0.3816609920523317,
          0.3723990394250553,
          0.3630998472041683,
          0.3537643453011427,
          0.34439346725839,
          0.33498815015590466,
          0.32554933451756,
          0.3160779642170538,
          0.30657498638352293,
          0.2970413513068324,
          0.2874780123425444,
          0.2778859258165868,
          0.2682660509296179,
          0.25861934966111083,
          0.24894678667315256,
          0.23924932921398243,
          0.2295279470212642,
          0.21978361222511694,
          0.21001729925089915,
          0.20022998472177053,
          0.19042264736102704,
          0.18059626789423291,
          0.17075182895114532,
          0.16089031496745576,
          0.15101271208634384,
          0.1411200080598672,
          0.1312131921501838,
          0.12129325503062975,
          0.11136118868664958,
          0.10141798631660187,
          0.09146464223243675,
          0.08150215176026912,
          0.07153151114084326,
          0.06155371742991315,
          0.05156976839853464,
          0.04158066243329049,
          0.031587398436453896,
          0.02159097572609596,
          0.011592393936158275,
          0.0015926529164868282,
          -0.008407247367148618,
          -0.01840630693305381,
          -0.02840352588360379,
          -0.03839790450523538,
          -0.04838844336841415,
          -0.058374143427580086,
          -0.06835400612104778,
          -0.0783270334708653,
          -0.0882922281826076,
          -0.09824859374510868,
          -0.10819513453010837,
          -0.11813085589181781,
          -0.12805476426637968,
          -0.13796586727122728,
          -0.14786317380431852,
          -0.15774569414324865,
          -0.16761244004421832,
          -0.17746242484086058,
          -0.18729466354290317,
          -0.19710817293466984,
          -0.20690197167339977,
          -0.21667508038737962,
          -0.22642652177388314,
          -0.236155320696897,
          -0.24586050428463702,
          -0.2555411020268312,
          -0.26519614587177337,
          -0.274824670323124,
          -0.28442571253646254,
          -0.2939983124155676,
          -0.30354151270842933,
          -0.3130543591029702,
          -0.322535900322479,
          -0.3319851882207341,
          -0.34140127787682095,
          -0.35078322768961984,
          -0.36013009947196856,
          -0.3694409585444771,
          -0.37871487382899804,
          -0.3879509179417303,
          -0.3971481672859602,
          -0.4063057021444168,
          -0.41542260677124626,
          -0.4244979694835826,
          -0.43353088275271773,
          -0.44252044329485246,
          -0.45146575216142315,
          -0.4603659148289983,
          -0.46922004128872713,
          -0.47802724613534286,
          -0.4867866486556994,
          -0.4954973729168449,
          -0.5041585478536115,
          -0.5127693073557238,
          -0.5213287903544065,
          -0.5298361409084934,
          -0.5382905082900177,
          -0.5466910470692872,
          -0.5550369171994238,
          -0.56332728410037,
          -0.5715613187423437,
          -0.5797381977287431,
          -0.5878571033784827,
          -0.5959172238077642,
          -0.6039177530112606,
          -0.6118578909427193,
          -0.6197368435949633,
          -0.6275538230792936,
          -0.6353080477042756,
          -0.6429987420539088,
          -0.6506251370651673,
          -0.6581864701049049,
          -0.6656819850461192,
          -0.6731109323435617,
          -0.680472569108694,
          -0.6877661591839738,
          -0.694990973216472,
          -0.7021462887308054,
          -0.7092313902013861,
          -0.7162455691239705,
          -0.7231881240865121,
          -0.7300583608392995,
          -0.7368555923643834,
          -0.7435791389442746,
          -0.750228328229919,
          -0.7568024953079283,
          -0.7633009827670734,
          -0.7697231407640244,
          -0.7760683270883323,
          -0.7823359072266528,
          -0.788525254426195,
          -0.7946357497573974,
          -0.8006667821758177,
          -0.8066177485832405,
          -0.8124880538879843,
          -0.8182771110644103,
          -0.8239843412116258,
          -0.8296091736113709,
          -0.8351510457850935,
          -0.8406094035501945,
          -0.8459837010754465,
          -0.8512734009355745,
          -0.8564779741650012,
          -0.8615969003107405,
          -0.8666296674844443,
          -0.8715757724135882,
          -0.8764347204918014,
          -0.8812060258283253,
          -0.8858892112966027,
          -0.8904838085819885,
          -0.8949893582285835,
          -0.8994054096851777,
          -0.9037315213503057,
          -0.9079672606164054,
          -0.9121122039130803,
          -0.9161659367494549,
          -0.920128053755624,
          -0.9239981587231879,
          -0.9277758646448755,
          -0.9314607937532425,
          -0.9350525775584494,
          -0.9385508568851079,
          -0.941955281908201,
          -0.9452655121880633,
          -0.9484812167044256,
          -0.9516020738895161,
          -0.9546277716602164,
          -0.9575580074492711,
          -0.9603924882355434,
          -0.9631309305733167,
          -0.9657730606206388,
          -0.9683186141667072,
          -0.9707673366582883,
          -0.9731189832251739,
          -0.9753733187046665,
          -0.977530117665097,
          -0.9795891644283669,
          -0.9815502530915156,
          -0.9834131875473108,
          -0.9851777815038595,
          -0.9868438585032365,
          -0.9884112519391306,
          -0.9898798050735039,
          -0.991249371052267,
          -0.9925198129199632,
          -0.9936910036334645,
          -0.9947628260746756,
          -0.9957351730622453,
          -0.9966079473622855,
          -0.9973810616980933,
          -0.9980544387588794,
          -0.9986280112074989,
          -0.9991017216871848,
          -0.999475522827284,
          -0.999749377247994,
          -0.9999232575641008,
          -0.999997146387718,
          -0.9999710363300245,
          -0.9998449300020044,
          -0.9996188400141854,
          -0.999292788975378,
          -0.9988668094904142,
          -0.9983409441568876,
          -0.9977152455608933,
          -0.9969897762717695,
          -0.9961646088358407,
          -0.9952398257691626,
          -0.9942155195492713,
          -0.9930917926059354,
          -0.9918687573109126,
          -0.9905465359667132,
          -0.9891252607943698,
          -0.9876050739202153,
          -0.9859861273616704,
          -0.9842685830120416,
          -0.9824526126243325,
          -0.9805383977940689,
          -0.9785261299411385,
          -0.9764160102906497,
          -0.9742082498528091,
          -0.9719030694018208,
          -0.9695006994538088,
          -0.967001380243766,
          -0.9644053617015305,
          -0.9617129034267934,
          -0.9589242746631385,
          -0.9560397542711181,
          -0.9530596307003675,
          -0.9499842019607608,
          -0.9468137755926089,
          -0.9435486686359066,
          -0.9401892075986283,
          -0.9367357284240789,
          -0.9331885764572976,
          -0.9295481064105251,
          -0.9258146823277321,
          -0.9219886775482162,
          -0.9180704746692671,
          -0.914060465507907,
          -0.9099590510617106,
          -0.9057666414687044,
          -0.9014836559663548,
          -0.8971105228496424,
          -0.8926476794282346,
          -0.8880955719827542,
          -0.8834546557201531,
          -0.8787253947281899,
          -0.8739082619290224,
          -0.8690037390319161,
          -0.8640123164850744,
          -0.858934493426592,
          -0.8537707776345433,
          -0.8485216854762041,
          -0.8431877418564168,
          -0.8377694801650978,
          -0.8322674422239013,
          -0.8266821782320357,
          -0.821014246711247,
          -0.8152642144499634,
          -0.8094326564466194,
          -0.8035201558521553,
          -0.7975273039117043,
          -0.791454699905466,
          -0.7853029510887806,
          -0.7790726726314031,
          -0.7727644875559871,
          -0.7663790266757844,
          -0.759916928531561,
          -0.7533788393277465,
          -0.7467654128678124,
          -0.7400773104888944,
          -0.7333152009956565,
          -0.7264797605934131,
          -0.7195716728205075,
          -0.7125916284799615,
          -0.7055403255703919,
          -0.6984184692162136,
          -0.6912267715971265,
          -0.6839659518769007,
          -0.6766367361314569,
          -0.669239857276262,
          -0.6617760549930369,
          -0.6542460756557914,
          -0.6466506722561834,
          -0.6389906043282237,
          -0.631266637872321,
          -0.6234795452786853,
          -0.6156301052500863,
          -0.6077191027239858,
          -0.5997473287940438,
          -0.5917155806310094,
          -0.5836246614030073,
          -0.5754753801952172,
          -0.5672685519289686,
          -0.5590049972802488,
          -0.5506855425976376,
          -0.5423110198196698,
          -0.5338822663916443,
          -0.5254001251818793,
          -0.5168654443974288,
          -0.5082790774992584,
          -0.49964188311690244,
          -0.49095472496260095,
          -0.48221847174493154,
          -0.47343399708193507,
          -0.46460217941375737,
          -0.4557239019148047,
          -0.44680005240543,
          -0.4378315232631469,
          -0.4288192113333959,
          -0.4197640178398589,
          -0.41066684829434086,
          -0.4015286124062146,
          -0.39235022399145386,
          -0.38313260088125134,
          -0.373876664830236,
          -0.3645833414243013,
          -0.35525355998804264,
          -0.34588825349182883,
          -0.3364883584585042,
          -0.32705481486974064,
          -0.31758856607203484,
          -0.3080905586823781,
          -0.2985617424935936,
          -0.2890030703793611,
          -0.27941549819892586,
          -0.26979998470151617,
          -0.26015749143046807,
          -0.2504889826270749,
          -0.2407954251341592,
          -0.23107778829939224,
          -0.22133704387835867,
          -0.21157416593738504,
          -0.2017901307561289,
          -0.19198591672995502,
          -0.18216250427209502,
          -0.17232087571561025,
          -0.1624620152151542,
          -0.15258690864856114,
          -0.14269654351825772,
          -0.13279190885251674,
          -0.12287399510655005,
          -0.11294379406346737,
          -0.10300229873509785,
          -0.0930505032626889,
          -0.0830894028174964,
          -0.07311999350126308,
          -0.06314327224661277,
          -0.053160236717356125,
          -0.04317188520872868,
          -0.03317921654755682,
          -0.02318322999237945,
          -0.013184925133521251,
          -0.0031853017931379904,
          0.006814640074770176,
          0.016813900484349713,
          0.026811479517893238,
          0.03680637742582692,
          0.04679759472668989,
          0.05678413230707805,
          0.06676499152155635,
          0.07673917429251892,
          0.08670568321000133,
          0.09666352163141724,
          0.10661169378122355,
          0.11654920485049364,
          0.1264750610964027,
          0.13638826994159764,
          0.14628784007345494,
          0.1561727815432119,
          0.16604210586495724,
          0.175894826114484,
          0.18572995702797787,
          0.19554651510054427,
          0.2053435186845546,
          0.21511998808781552,
          0.2248749456715337,
          0.2346074159480808,
          0.24431642567853773,
          0.2540010039700231,
          0.2636601823727784,
          0.27329299497701326,
          0.28289847850949296,
          0.2924756724298697,
          0.30202361902673236,
          0.3115413635133787,
          0.32102795412328977,
          0.3304824422053109,
          0.3399038823185127,
          0.3492913323267357,
          0.35864385349280037,
          0.36796051057238466,
          0.3772403719075444,
          0.38648250951987934,
          0.3956859992033308,
          0.4048499206165983,
          0.413973357375178,
          0.42305539714299684,
          0.43209513172364716,
          0.44109165715120235,
          0.4500440737806176,
          0.4589514863776903,
          0.4678130042085843,
          0.4766277411288995,
          0.48539481567229026,
          0.49411335113860816,
          0.5027824756815727,
          0.5114013223959524,
          0.5199690294042587,
          0.5284847399429308,
          0.5369476024480118,
          0.545356770640302,
          0.5537114036099907,
          0.562010665900743,
          0.5702537275932467,
          0.5784397643882002,
          0.5865679576887464,
          0.5946374946823286,
          0.6026475684219723,
          0.6105973779069791,
          0.618486128163024,
          0.6263130303216559,
          0.6340773016991814,
          0.6417781658749337,
          0.6494148527689112,
          0.6569865987187891,
          0.664492646556282,
          0.6719322456828621,
          0.6793046521448148,
          0.6866091287076385,
          0.6938449449297637,
          0.7010113772355987,
          0.7081077089878838,
          0.7151332305593578,
          0.7220872394037184,
          0.7289690401258765,
          0.7357779445514936,
          0.7425132717958018,
          0.7491743483316894,
          0.7557605080570543,
          0.7622710923614112,
          0.7687054501917558,
          0.775062938117667,
          0.78134292039565,
          0.787544769032711,
          0.7936678638491531,
          0.7997115925405982,
          0.8056753507392133,
          0.8115585420741488,
          0.8173605782311729,
          0.8230808790115055,
          0.8287188723898353,
          0.8342739945715235,
          0.8397456900489799,
          0.8451334116572173,
          0.8504366206285644,
          0.855654786646544,
          0.8607873878989016,
          0.8658339111297899,
          0.8707938516910911,
          0.8756667135928827,
          0.8804520095530344,
          0.8851492610459383,
          0.8897579983503596,
          0.8942777605964088,
          0.8987080958116269,
          0.9030485609661848,
          0.907298722017184,
          0.9114581539520613,
          0.9155264408310896,
          0.9195031758289707,
          0.9233879612755189,
          0.927180408695427,
          0.9308801388471136,
          0.934486781760646,
          0.9379999767747389,
          0.9414193725728183,
          0.9447446272181541,
          0.9479754081880525,
          0.951111392407109,
          0.9541522662795148,
          0.9570977257204173,
          0.9599474761863261,
          0.9627012327045701,
          0.9653587199017918,
          0.9679196720314865,
          0.970383833000575,
          0.9727509563950137,
          0.9750208055044363,
          0.977193153345823,
          0.9792677826862,
          0.9812444860643621,
          0.9831230658116188,
          0.9849033340715608,
          0.9865851128188459,
          0.9881682338770004,
          0.989652538935238,
          0.9910378795642898,
          0.9923241172312475,
          0.9935111233134158,
          0.9945987791111761,
          0.9955869758598548,
          0.9964756147406006,
          0.9972646068902659,
          0.9979538734102932,
          0.998543345374605,
          0.999032963836496,
          0.9994226798345279,
          0.999712454397426,
          0.9999022585479752,
          0.9999920733059188,
          0.9999818896898556,
          0.999871708718139,
          0.9996615414087742,
          0.999351408778317,
          0.998941341839772,
          0.9984313815994914,
          0.9978215790530743,
          0.997111995180267,
          0.9963027009388656,
          0.9953937772576199,
          0.9943853150281404,
          0.9932774150958098,
          0.992070188249698,
          0.9907637552114835,
          0.9893582466233818,
          0.9878538030350801,
          0.9862505748896837,
          0.9845487225086711,
          0.9827484160758618,
          0.9808498356203995,
          0.9788531709987474,
          0.9767586218757036,
          0.974566397704435,
          0.972276717705532,
          0.9698898108450863,
          0.9674059158117949,
          0.9648252809930908,
          0.9621481644503063,
          0.9593748338928642,
          0.9565055666515091,
          0.9535406496505743,
          0.9504803793792889,
          0.94732506186213,
          0.9440750126282197,
          0.9407305566797731,
          0.9372920284595976,
          0.9337597718176507,
          0.9301341399766526,
          0.9264154954967662,
          0.9226042102393402,
          0.9187006653297247,
          0.9147052511191576,
          0.9106183671457304,
          0.906440422094434,
          0.9021718337562934,
          0.8978130289865844,
          0.893364443662152,
          0.888826522637821,
          0.8841997197019127,
          0.8794844975308649,
          0.8746813276429652,
          0.869790690351199,
          0.8648130747152218,
          0.8597489784924482,
          0.8545989080882804,
          0.8493633785054673,
          0.8440429132926041,
          0.8386380444917783,
          0.833149312585366,
          0.8275772664419839,
          0.8219224632616022,
          0.8161854685198283,
          0.8103668559113548,
          0.8044672072925936,
          0.7984871126234903,
          0.7924271699085284,
          0.7862879851369292,
          0.7800701722220543,
          0.7737743529400123,
          0.7674011568674873,
          0.7609512213187744,
          0.7544251912820534,
          0.7478237193548899,
          0.7411474656789752,
          0.7343970978741134,
          0.7275732909714597,
          0.7206767273460168,
          0.7137080966484024,
          0.706668095735878,
          0.699557428602668,
          0.6923768063095604,
          0.6851269469128006,
          0.6778085753922868,
          0.6704224235790722,
          0.662969230082182,
          0.6554497402147574,
          0.6478647059195176,
          0.6402148856935713,
          0.6325010445125663,
          0.6247239537541924,
          0.6168843911210448,
          0.6089831405628535,
          0.6010209921980904,
          0.5929987422349551,
          0.5849171928917617,
          0.5767771523167085,
          0.5685794345070697,
          0.5603248592277947,
          0.5520142519295329,
          0.5436484436660884,
          0.5352282710113162,
          0.5267545759754634,
          0.5182282059209752,
          0.5096500134777504,
          0.5010208564578846,
          0.49234159776988917,
          0.4836131053324,
          0.47483625198738716,
          0.4660119154128711,
          0.45714097803515424,
          0.4482243269405849,
          0.4392628537868406,
          0.4302574547137687,
          0.42120903025377215,
          0.4121184852417566,
          0.40298672872464775,
          0.39381467387048763,
          0.38460323787711825,
          0.3753533418804611,
          0.366065910862411,
          0.3567418735583286,
          0.34738216236417424,
          0.3379877132432676,
          0.32855946563269217,
          0.3190983623493521,
          0.3096053494956915,
          0.30008137636508325,
          0.2905273953469072,
          0.2809443618313018,
          0.27133323411363275,
          0.2616949732986626,
          0.252030543204441,
          0.24234091026592378,
          0.23262704343833002,
          0.22288991410024592,
          0.2131304959564945,
          0.20334976494075557,
          0.19354869911798017,
          0.183728278586583,
          0.17388948538043356,
          0.1640333033706535,
          0.15416071816723032,
          0.14427271702045727,
          0.1343702887222073,
          0.1244544235070617,
          0.11452611295327708,
          0.10458634988363526,
          0.09463612826616005,
          0.08467644311472142,
          0.07470829038953478,
          0.06473266689756589,
          0.05475057019284918,
          0.04476299847674028,
          0.03477095049808608,
          0.024775425453357765,
          0.014777422886730236,
          0.0047779425901285115,
          -0.005222015496750621,
          -0.015221451386431743,
          -0.025219365143660497,
          -0.03521475698538918,
          -0.045206627380764856,
          -0.05519397715107451,
          -0.0651758075696639,
          -0.0751511204618093,
          -0.08511891830453426,
          -0.09507820432636095,
          -0.10502798260698659,
          -0.11496725817687632,
          -0.12489503711675232,
          -0.1348103266569955,
          -0.14471213527691454,
          -0.15459947280389894,
          -0.16447135051243542,
          -0.17432678122297965,
          -0.1841647794006734,
          -0.19398436125389898,
          -0.20378454483265052,
          -0.2135643501267387,
          -0.2233227991637839,
          -0.2330589161070144,
          -0.24277172735284935,
          -0.2524602616282581,
          -0.2621235500878869,
          -0.2717606264109442,
          -0.28137052689782505,
          -0.2909522905664908,
          -0.30050495924855936,
          -0.310027577685123,
          -0.31951919362227366,
          -0.32897885790632714,
          -0.33840562457873813,
          -0.347798550970695,
          -0.3571566977973876,
          -0.36647912925192844,
          -0.3757649130989423,
          -0.38501312076778266,
          -0.39422282744538945,
          -0.4033931121687696,
          -0.4125230579170927,
          -0.42161175170339216,
          -0.43065828466586487,
          -0.43966175215875003,
          -0.44862125384280294,
          -0.4575358937753214,
          -0.4664047804997409,
          -0.4752270271347798,
          -0.48400175146312646,
          -0.49272807601966023,
          -0.5014051281791989,
          -0.5100320402437544,
          -0.5186079495293108,
          -0.527131998452086,
          -0.5356033346142913
         ]
        },
        {
         "marker": {
          "color": "red",
          "size": 10
         },
         "mode": "markers",
         "name": "current point",
         "type": "scatter",
         "uid": "c24b92b7-e443-47fa-8c87-07cbbcbd4db8",
         "x": [
          5
         ],
         "y": [
          -0.9589242746631385
         ]
        }
       ],
       "layout": {
        "template": {
         "data": {
          "bar": [
           {
            "error_x": {
             "color": "#2a3f5f"
            },
            "error_y": {
             "color": "#2a3f5f"
            },
            "marker": {
             "line": {
              "color": "#E5ECF6",
              "width": 0.5
             },
             "pattern": {
              "fillmode": "overlay",
              "size": 10,
              "solidity": 0.2
             }
            },
            "type": "bar"
           }
          ],
          "barpolar": [
           {
            "marker": {
             "line": {
              "color": "#E5ECF6",
              "width": 0.5
             },
             "pattern": {
              "fillmode": "overlay",
              "size": 10,
              "solidity": 0.2
             }
            },
            "type": "barpolar"
           }
          ],
          "carpet": [
           {
            "aaxis": {
             "endlinecolor": "#2a3f5f",
             "gridcolor": "white",
             "linecolor": "white",
             "minorgridcolor": "white",
             "startlinecolor": "#2a3f5f"
            },
            "baxis": {
             "endlinecolor": "#2a3f5f",
             "gridcolor": "white",
             "linecolor": "white",
             "minorgridcolor": "white",
             "startlinecolor": "#2a3f5f"
            },
            "type": "carpet"
           }
          ],
          "choropleth": [
           {
            "colorbar": {
             "outlinewidth": 0,
             "ticks": ""
            },
            "type": "choropleth"
           }
          ],
          "contour": [
           {
            "colorbar": {
             "outlinewidth": 0,
             "ticks": ""
            },
            "colorscale": [
             [
              0,
              "#0d0887"
             ],
             [
              0.1111111111111111,
              "#46039f"
             ],
             [
              0.2222222222222222,
              "#7201a8"
             ],
             [
              0.3333333333333333,
              "#9c179e"
             ],
             [
              0.4444444444444444,
              "#bd3786"
             ],
             [
              0.5555555555555556,
              "#d8576b"
             ],
             [
              0.6666666666666666,
              "#ed7953"
             ],
             [
              0.7777777777777778,
              "#fb9f3a"
             ],
             [
              0.8888888888888888,
              "#fdca26"
             ],
             [
              1,
              "#f0f921"
             ]
            ],
            "type": "contour"
           }
          ],
          "contourcarpet": [
           {
            "colorbar": {
             "outlinewidth": 0,
             "ticks": ""
            },
            "type": "contourcarpet"
           }
          ],
          "heatmap": [
           {
            "colorbar": {
             "outlinewidth": 0,
             "ticks": ""
            },
            "colorscale": [
             [
              0,
              "#0d0887"
             ],
             [
              0.1111111111111111,
              "#46039f"
             ],
             [
              0.2222222222222222,
              "#7201a8"
             ],
             [
              0.3333333333333333,
              "#9c179e"
             ],
             [
              0.4444444444444444,
              "#bd3786"
             ],
             [
              0.5555555555555556,
              "#d8576b"
             ],
             [
              0.6666666666666666,
              "#ed7953"
             ],
             [
              0.7777777777777778,
              "#fb9f3a"
             ],
             [
              0.8888888888888888,
              "#fdca26"
             ],
             [
              1,
              "#f0f921"
             ]
            ],
            "type": "heatmap"
           }
          ],
          "heatmapgl": [
           {
            "colorbar": {
             "outlinewidth": 0,
             "ticks": ""
            },
            "colorscale": [
             [
              0,
              "#0d0887"
             ],
             [
              0.1111111111111111,
              "#46039f"
             ],
             [
              0.2222222222222222,
              "#7201a8"
             ],
             [
              0.3333333333333333,
              "#9c179e"
             ],
             [
              0.4444444444444444,
              "#bd3786"
             ],
             [
              0.5555555555555556,
              "#d8576b"
             ],
             [
              0.6666666666666666,
              "#ed7953"
             ],
             [
              0.7777777777777778,
              "#fb9f3a"
             ],
             [
              0.8888888888888888,
              "#fdca26"
             ],
             [
              1,
              "#f0f921"
             ]
            ],
            "type": "heatmapgl"
           }
          ],
          "histogram": [
           {
            "marker": {
             "pattern": {
              "fillmode": "overlay",
              "size": 10,
              "solidity": 0.2
             }
            },
            "type": "histogram"
           }
          ],
          "histogram2d": [
           {
            "colorbar": {
             "outlinewidth": 0,
             "ticks": ""
            },
            "colorscale": [
             [
              0,
              "#0d0887"
             ],
             [
              0.1111111111111111,
              "#46039f"
             ],
             [
              0.2222222222222222,
              "#7201a8"
             ],
             [
              0.3333333333333333,
              "#9c179e"
             ],
             [
              0.4444444444444444,
              "#bd3786"
             ],
             [
              0.5555555555555556,
              "#d8576b"
             ],
             [
              0.6666666666666666,
              "#ed7953"
             ],
             [
              0.7777777777777778,
              "#fb9f3a"
             ],
             [
              0.8888888888888888,
              "#fdca26"
             ],
             [
              1,
              "#f0f921"
             ]
            ],
            "type": "histogram2d"
           }
          ],
          "histogram2dcontour": [
           {
            "colorbar": {
             "outlinewidth": 0,
             "ticks": ""
            },
            "colorscale": [
             [
              0,
              "#0d0887"
             ],
             [
              0.1111111111111111,
              "#46039f"
             ],
             [
              0.2222222222222222,
              "#7201a8"
             ],
             [
              0.3333333333333333,
              "#9c179e"
             ],
             [
              0.4444444444444444,
              "#bd3786"
             ],
             [
              0.5555555555555556,
              "#d8576b"
             ],
             [
              0.6666666666666666,
              "#ed7953"
             ],
             [
              0.7777777777777778,
              "#fb9f3a"
             ],
             [
              0.8888888888888888,
              "#fdca26"
             ],
             [
              1,
              "#f0f921"
             ]
            ],
            "type": "histogram2dcontour"
           }
          ],
          "mesh3d": [
           {
            "colorbar": {
             "outlinewidth": 0,
             "ticks": ""
            },
            "type": "mesh3d"
           }
          ],
          "parcoords": [
           {
            "line": {
             "colorbar": {
              "outlinewidth": 0,
              "ticks": ""
             }
            },
            "type": "parcoords"
           }
          ],
          "pie": [
           {
            "automargin": true,
            "type": "pie"
           }
          ],
          "scatter": [
           {
            "fillpattern": {
             "fillmode": "overlay",
             "size": 10,
             "solidity": 0.2
            },
            "type": "scatter"
           }
          ],
          "scatter3d": [
           {
            "line": {
             "colorbar": {
              "outlinewidth": 0,
              "ticks": ""
             }
            },
            "marker": {
             "colorbar": {
              "outlinewidth": 0,
              "ticks": ""
             }
            },
            "type": "scatter3d"
           }
          ],
          "scattercarpet": [
           {
            "marker": {
             "colorbar": {
              "outlinewidth": 0,
              "ticks": ""
             }
            },
            "type": "scattercarpet"
           }
          ],
          "scattergeo": [
           {
            "marker": {
             "colorbar": {
              "outlinewidth": 0,
              "ticks": ""
             }
            },
            "type": "scattergeo"
           }
          ],
          "scattergl": [
           {
            "marker": {
             "colorbar": {
              "outlinewidth": 0,
              "ticks": ""
             }
            },
            "type": "scattergl"
           }
          ],
          "scattermapbox": [
           {
            "marker": {
             "colorbar": {
              "outlinewidth": 0,
              "ticks": ""
             }
            },
            "type": "scattermapbox"
           }
          ],
          "scatterpolar": [
           {
            "marker": {
             "colorbar": {
              "outlinewidth": 0,
              "ticks": ""
             }
            },
            "type": "scatterpolar"
           }
          ],
          "scatterpolargl": [
           {
            "marker": {
             "colorbar": {
              "outlinewidth": 0,
              "ticks": ""
             }
            },
            "type": "scatterpolargl"
           }
          ],
          "scatterternary": [
           {
            "marker": {
             "colorbar": {
              "outlinewidth": 0,
              "ticks": ""
             }
            },
            "type": "scatterternary"
           }
          ],
          "surface": [
           {
            "colorbar": {
             "outlinewidth": 0,
             "ticks": ""
            },
            "colorscale": [
             [
              0,
              "#0d0887"
             ],
             [
              0.1111111111111111,
              "#46039f"
             ],
             [
              0.2222222222222222,
              "#7201a8"
             ],
             [
              0.3333333333333333,
              "#9c179e"
             ],
             [
              0.4444444444444444,
              "#bd3786"
             ],
             [
              0.5555555555555556,
              "#d8576b"
             ],
             [
              0.6666666666666666,
              "#ed7953"
             ],
             [
              0.7777777777777778,
              "#fb9f3a"
             ],
             [
              0.8888888888888888,
              "#fdca26"
             ],
             [
              1,
              "#f0f921"
             ]
            ],
            "type": "surface"
           }
          ],
          "table": [
           {
            "cells": {
             "fill": {
              "color": "#EBF0F8"
             },
             "line": {
              "color": "white"
             }
            },
            "header": {
             "fill": {
              "color": "#C8D4E3"
             },
             "line": {
              "color": "white"
             }
            },
            "type": "table"
           }
          ]
         },
         "layout": {
          "annotationdefaults": {
           "arrowcolor": "#2a3f5f",
           "arrowhead": 0,
           "arrowwidth": 1
          },
          "autotypenumbers": "strict",
          "coloraxis": {
           "colorbar": {
            "outlinewidth": 0,
            "ticks": ""
           }
          },
          "colorscale": {
           "diverging": [
            [
             0,
             "#8e0152"
            ],
            [
             0.1,
             "#c51b7d"
            ],
            [
             0.2,
             "#de77ae"
            ],
            [
             0.3,
             "#f1b6da"
            ],
            [
             0.4,
             "#fde0ef"
            ],
            [
             0.5,
             "#f7f7f7"
            ],
            [
             0.6,
             "#e6f5d0"
            ],
            [
             0.7,
             "#b8e186"
            ],
            [
             0.8,
             "#7fbc41"
            ],
            [
             0.9,
             "#4d9221"
            ],
            [
             1,
             "#276419"
            ]
           ],
           "sequential": [
            [
             0,
             "#0d0887"
            ],
            [
             0.1111111111111111,
             "#46039f"
            ],
            [
             0.2222222222222222,
             "#7201a8"
            ],
            [
             0.3333333333333333,
             "#9c179e"
            ],
            [
             0.4444444444444444,
             "#bd3786"
            ],
            [
             0.5555555555555556,
             "#d8576b"
            ],
            [
             0.6666666666666666,
             "#ed7953"
            ],
            [
             0.7777777777777778,
             "#fb9f3a"
            ],
            [
             0.8888888888888888,
             "#fdca26"
            ],
            [
             1,
             "#f0f921"
            ]
           ],
           "sequentialminus": [
            [
             0,
             "#0d0887"
            ],
            [
             0.1111111111111111,
             "#46039f"
            ],
            [
             0.2222222222222222,
             "#7201a8"
            ],
            [
             0.3333333333333333,
             "#9c179e"
            ],
            [
             0.4444444444444444,
             "#bd3786"
            ],
            [
             0.5555555555555556,
             "#d8576b"
            ],
            [
             0.6666666666666666,
             "#ed7953"
            ],
            [
             0.7777777777777778,
             "#fb9f3a"
            ],
            [
             0.8888888888888888,
             "#fdca26"
            ],
            [
             1,
             "#f0f921"
            ]
           ]
          },
          "colorway": [
           "#636efa",
           "#EF553B",
           "#00cc96",
           "#ab63fa",
           "#FFA15A",
           "#19d3f3",
           "#FF6692",
           "#B6E880",
           "#FF97FF",
           "#FECB52"
          ],
          "font": {
           "color": "#2a3f5f"
          },
          "geo": {
           "bgcolor": "white",
           "lakecolor": "white",
           "landcolor": "#E5ECF6",
           "showlakes": true,
           "showland": true,
           "subunitcolor": "white"
          },
          "hoverlabel": {
           "align": "left"
          },
          "hovermode": "closest",
          "mapbox": {
           "style": "light"
          },
          "paper_bgcolor": "white",
          "plot_bgcolor": "#E5ECF6",
          "polar": {
           "angularaxis": {
            "gridcolor": "white",
            "linecolor": "white",
            "ticks": ""
           },
           "bgcolor": "#E5ECF6",
           "radialaxis": {
            "gridcolor": "white",
            "linecolor": "white",
            "ticks": ""
           }
          },
          "scene": {
           "xaxis": {
            "backgroundcolor": "#E5ECF6",
            "gridcolor": "white",
            "gridwidth": 2,
            "linecolor": "white",
            "showbackground": true,
            "ticks": "",
            "zerolinecolor": "white"
           },
           "yaxis": {
            "backgroundcolor": "#E5ECF6",
            "gridcolor": "white",
            "gridwidth": 2,
            "linecolor": "white",
            "showbackground": true,
            "ticks": "",
            "zerolinecolor": "white"
           },
           "zaxis": {
            "backgroundcolor": "#E5ECF6",
            "gridcolor": "white",
            "gridwidth": 2,
            "linecolor": "white",
            "showbackground": true,
            "ticks": "",
            "zerolinecolor": "white"
           }
          },
          "shapedefaults": {
           "line": {
            "color": "#2a3f5f"
           }
          },
          "ternary": {
           "aaxis": {
            "gridcolor": "white",
            "linecolor": "white",
            "ticks": ""
           },
           "baxis": {
            "gridcolor": "white",
            "linecolor": "white",
            "ticks": ""
           },
           "bgcolor": "#E5ECF6",
           "caxis": {
            "gridcolor": "white",
            "linecolor": "white",
            "ticks": ""
           }
          },
          "title": {
           "x": 0.05
          },
          "xaxis": {
           "automargin": true,
           "gridcolor": "white",
           "linecolor": "white",
           "ticks": "",
           "title": {
            "standoff": 15
           },
           "zerolinecolor": "white",
           "zerolinewidth": 2
          },
          "yaxis": {
           "automargin": true,
           "gridcolor": "white",
           "linecolor": "white",
           "ticks": "",
           "title": {
            "standoff": 15
           },
           "zerolinecolor": "white",
           "zerolinewidth": 2
          }
         }
        },
        "xaxis": {
         "range": [
          0,
          10
         ]
        },
        "yaxis": {
         "range": [
          -1.5,
          1.5
         ]
        }
       }
      },
      "text/html": [
       "<div>                            <div id=\"cd42c534-a41f-40ae-ac5b-3f6a42c6a5a1\" class=\"plotly-graph-div\" style=\"height:525px; width:100%;\"></div>            <script type=\"text/javascript\">                require([\"plotly\"], function(Plotly) {                    window.PLOTLYENV=window.PLOTLYENV || {};                                    if (document.getElementById(\"cd42c534-a41f-40ae-ac5b-3f6a42c6a5a1\")) {                    Plotly.newPlot(                        \"cd42c534-a41f-40ae-ac5b-3f6a42c6a5a1\",                        [{\"mode\":\"lines\",\"name\":\"sin\",\"x\":[0.0,0.01,0.02,0.03,0.04,0.05,0.06,0.07,0.08,0.09,0.1,0.11,0.12,0.13,0.14,0.15,0.16,0.17,0.18,0.19,0.2,0.21,0.22,0.23,0.24,0.25,0.26,0.27,0.28,0.29,0.3,0.31,0.32,0.33,0.34,0.35000000000000003,0.36,0.37,0.38,0.39,0.4,0.41000000000000003,0.42,0.43,0.44,0.45,0.46,0.47000000000000003,0.48,0.49,0.5,0.51,0.52,0.53,0.54,0.55,0.56,0.5700000000000001,0.58,0.59,0.6,0.61,0.62,0.63,0.64,0.65,0.66,0.67,0.68,0.6900000000000001,0.7000000000000001,0.71,0.72,0.73,0.74,0.75,0.76,0.77,0.78,0.79,0.8,0.81,0.8200000000000001,0.8300000000000001,0.84,0.85,0.86,0.87,0.88,0.89,0.9,0.91,0.92,0.93,0.9400000000000001,0.9500000000000001,0.96,0.97,0.98,0.99,1.0,1.01,1.02,1.03,1.04,1.05,1.06,1.07,1.08,1.09,1.1,1.11,1.12,1.1300000000000001,1.1400000000000001,1.1500000000000001,1.16,1.17,1.18,1.19,1.2,1.21,1.22,1.23,1.24,1.25,1.26,1.27,1.28,1.29,1.3,1.31,1.32,1.33,1.34,1.35,1.36,1.37,1.3800000000000001,1.3900000000000001,1.4000000000000001,1.41,1.42,1.43,1.44,1.45,1.46,1.47,1.48,1.49,1.5,1.51,1.52,1.53,1.54,1.55,1.56,1.57,1.58,1.59,1.6,1.61,1.62,1.6300000000000001,1.6400000000000001,1.6500000000000001,1.6600000000000001,1.67,1.68,1.69,1.7,1.71,1.72,1.73,1.74,1.75,1.76,1.77,1.78,1.79,1.8,1.81,1.82,1.83,1.84,1.85,1.86,1.87,1.8800000000000001,1.8900000000000001,1.9000000000000001,1.9100000000000001,1.92,1.93,1.94,1.95,1.96,1.97,1.98,1.99,2.0,2.0100000000000002,2.02,2.0300000000000002,2.04,2.05,2.06,2.07,2.08,2.09,2.1,2.11,2.12,2.13,2.14,2.15,2.16,2.17,2.18,2.19,2.2,2.21,2.22,2.23,2.24,2.25,2.2600000000000002,2.27,2.2800000000000002,2.29,2.3000000000000003,2.31,2.32,2.33,2.34,2.35,2.36,2.37,2.38,2.39,2.4,2.41,2.42,2.43,2.44,2.45,2.46,2.47,2.48,2.49,2.5,2.5100000000000002,2.52,2.5300000000000002,2.54,2.5500000000000003,2.56,2.57,2.58,2.59,2.6,2.61,2.62,2.63,2.64,2.65,2.66,2.67,2.68,2.69,2.7,2.71,2.72,2.73,2.74,2.75,2.7600000000000002,2.77,2.7800000000000002,2.79,2.8000000000000003,2.81,2.82,2.83,2.84,2.85,2.86,2.87,2.88,2.89,2.9,2.91,2.92,2.93,2.94,2.95,2.96,2.97,2.98,2.99,3.0,3.0100000000000002,3.02,3.0300000000000002,3.04,3.0500000000000003,3.06,3.0700000000000003,3.08,3.09,3.1,3.11,3.12,3.13,3.14,3.15,3.16,3.17,3.18,3.19,3.2,3.21,3.22,3.23,3.24,3.25,3.2600000000000002,3.27,3.2800000000000002,3.29,3.3000000000000003,3.31,3.3200000000000003,3.33,3.34,3.35,3.36,3.37,3.38,3.39,3.4,3.41,3.42,3.43,3.44,3.45,3.46,3.47,3.48,3.49,3.5,3.5100000000000002,3.52,3.5300000000000002,3.54,3.5500000000000003,3.56,3.5700000000000003,3.58,3.59,3.6,3.61,3.62,3.63,3.64,3.65,3.66,3.67,3.68,3.69,3.7,3.71,3.72,3.73,3.74,3.75,3.7600000000000002,3.77,3.7800000000000002,3.79,3.8000000000000003,3.81,3.8200000000000003,3.83,3.84,3.85,3.86,3.87,3.88,3.89,3.9,3.91,3.92,3.93,3.94,3.95,3.96,3.97,3.98,3.99,4.0,4.01,4.0200000000000005,4.03,4.04,4.05,4.0600000000000005,4.07,4.08,4.09,4.1,4.11,4.12,4.13,4.14,4.15,4.16,4.17,4.18,4.19,4.2,4.21,4.22,4.23,4.24,4.25,4.26,4.2700000000000005,4.28,4.29,4.3,4.3100000000000005,4.32,4.33,4.34,4.3500000000000005,4.36,4.37,4.38,4.39,4.4,4.41,4.42,4.43,4.44,4.45,4.46,4.47,4.48,4.49,4.5,4.51,4.5200000000000005,4.53,4.54,4.55,4.5600000000000005,4.57,4.58,4.59,4.6000000000000005,4.61,4.62,4.63,4.64,4.65,4.66,4.67,4.68,4.69,4.7,4.71,4.72,4.73,4.74,4.75,4.76,4.7700000000000005,4.78,4.79,4.8,4.8100000000000005,4.82,4.83,4.84,4.8500000000000005,4.86,4.87,4.88,4.89,4.9,4.91,4.92,4.93,4.94,4.95,4.96,4.97,4.98,4.99,5.0,5.01,5.0200000000000005,5.03,5.04,5.05,5.0600000000000005,5.07,5.08,5.09,5.1000000000000005,5.11,5.12,5.13,5.14,5.15,5.16,5.17,5.18,5.19,5.2,5.21,5.22,5.23,5.24,5.25,5.26,5.2700000000000005,5.28,5.29,5.3,5.3100000000000005,5.32,5.33,5.34,5.3500000000000005,5.36,5.37,5.38,5.39,5.4,5.41,5.42,5.43,5.44,5.45,5.46,5.47,5.48,5.49,5.5,5.51,5.5200000000000005,5.53,5.54,5.55,5.5600000000000005,5.57,5.58,5.59,5.6000000000000005,5.61,5.62,5.63,5.64,5.65,5.66,5.67,5.68,5.69,5.7,5.71,5.72,5.73,5.74,5.75,5.76,5.7700000000000005,5.78,5.79,5.8,5.8100000000000005,5.82,5.83,5.84,5.8500000000000005,5.86,5.87,5.88,5.89,5.9,5.91,5.92,5.93,5.94,5.95,5.96,5.97,5.98,5.99,6.0,6.01,6.0200000000000005,6.03,6.04,6.05,6.0600000000000005,6.07,6.08,6.09,6.1000000000000005,6.11,6.12,6.13,6.140000000000001,6.15,6.16,6.17,6.18,6.19,6.2,6.21,6.22,6.23,6.24,6.25,6.26,6.2700000000000005,6.28,6.29,6.3,6.3100000000000005,6.32,6.33,6.34,6.3500000000000005,6.36,6.37,6.38,6.390000000000001,6.4,6.41,6.42,6.43,6.44,6.45,6.46,6.47,6.48,6.49,6.5,6.51,6.5200000000000005,6.53,6.54,6.55,6.5600000000000005,6.57,6.58,6.59,6.6000000000000005,6.61,6.62,6.63,6.640000000000001,6.65,6.66,6.67,6.68,6.69,6.7,6.71,6.72,6.73,6.74,6.75,6.76,6.7700000000000005,6.78,6.79,6.8,6.8100000000000005,6.82,6.83,6.84,6.8500000000000005,6.86,6.87,6.88,6.890000000000001,6.9,6.91,6.92,6.93,6.94,6.95,6.96,6.97,6.98,6.99,7.0,7.01,7.0200000000000005,7.03,7.04,7.05,7.0600000000000005,7.07,7.08,7.09,7.1000000000000005,7.11,7.12,7.13,7.140000000000001,7.15,7.16,7.17,7.18,7.19,7.2,7.21,7.22,7.23,7.24,7.25,7.26,7.2700000000000005,7.28,7.29,7.3,7.3100000000000005,7.32,7.33,7.34,7.3500000000000005,7.36,7.37,7.38,7.390000000000001,7.4,7.41,7.42,7.43,7.44,7.45,7.46,7.47,7.48,7.49,7.5,7.51,7.5200000000000005,7.53,7.54,7.55,7.5600000000000005,7.57,7.58,7.59,7.6000000000000005,7.61,7.62,7.63,7.640000000000001,7.65,7.66,7.67,7.68,7.69,7.7,7.71,7.72,7.73,7.74,7.75,7.76,7.7700000000000005,7.78,7.79,7.8,7.8100000000000005,7.82,7.83,7.84,7.8500000000000005,7.86,7.87,7.88,7.890000000000001,7.9,7.91,7.92,7.930000000000001,7.94,7.95,7.96,7.97,7.98,7.99,8.0,8.01,8.02,8.03,8.040000000000001,8.05,8.06,8.07,8.08,8.09,8.1,8.11,8.120000000000001,8.13,8.14,8.15,8.16,8.17,8.18,8.19,8.2,8.21,8.22,8.23,8.24,8.25,8.26,8.27,8.28,8.290000000000001,8.3,8.31,8.32,8.33,8.34,8.35,8.36,8.370000000000001,8.38,8.39,8.4,8.41,8.42,8.43,8.44,8.45,8.46,8.47,8.48,8.49,8.5,8.51,8.52,8.53,8.540000000000001,8.55,8.56,8.57,8.58,8.59,8.6,8.61,8.620000000000001,8.63,8.64,8.65,8.66,8.67,8.68,8.69,8.700000000000001,8.71,8.72,8.73,8.74,8.75,8.76,8.77,8.78,8.790000000000001,8.8,8.81,8.82,8.83,8.84,8.85,8.86,8.870000000000001,8.88,8.89,8.9,8.91,8.92,8.93,8.94,8.950000000000001,8.96,8.97,8.98,8.99,9.0,9.01,9.02,9.03,9.040000000000001,9.05,9.06,9.07,9.08,9.09,9.1,9.11,9.120000000000001,9.13,9.14,9.15,9.16,9.17,9.18,9.19,9.200000000000001,9.21,9.22,9.23,9.24,9.25,9.26,9.27,9.28,9.290000000000001,9.3,9.31,9.32,9.33,9.34,9.35,9.36,9.370000000000001,9.38,9.39,9.4,9.41,9.42,9.43,9.44,9.450000000000001,9.46,9.47,9.48,9.49,9.5,9.51,9.52,9.53,9.540000000000001,9.55,9.56,9.57,9.58,9.59,9.6,9.61,9.620000000000001,9.63,9.64,9.65,9.66,9.67,9.68,9.69,9.700000000000001,9.71,9.72,9.73,9.74,9.75,9.76,9.77,9.78,9.790000000000001,9.8,9.81,9.82,9.83,9.84,9.85,9.86,9.870000000000001,9.88,9.89,9.9,9.91,9.92,9.93,9.94,9.950000000000001,9.96,9.97,9.98,9.99],\"y\":[0.0,0.009999833334166664,0.01999866669333308,0.02999550020249566,0.03998933418663416,0.04997916927067833,0.059964006479444595,0.06994284733753277,0.0799146939691727,0.08987854919801104,0.09983341664682815,0.10977830083717481,0.11971220728891936,0.12963414261969486,0.1395431146442365,0.14943813247359922,0.15931820661424598,0.16918234906699603,0.17902957342582418,0.18885889497650057,0.19866933079506122,0.20845989984609956,0.21822962308086932,0.2279775235351884,0.23770262642713458,0.24740395925452294,0.2570805518921551,0.26673143668883115,0.27635564856411376,0.28595222510483553,0.29552020666133955,0.3050586364434435,0.31456656061611776,0.32404302839486837,0.3334870921408144,0.3428978074554514,0.35227423327508994,0.361615431964962,0.3709204694129827,0.3801884151231614,0.3894183423086505,0.39860932798442295,0.40776045305957015,0.41687080242921076,0.4259394650659996,0.43496553411123023,0.4439481069655198,0.45288628537906833,0.4617791755414829,0.470625888171158,0.479425538604203,0.4881772468829075,0.49688013784373675,0.5055333412048469,0.5141359916531132,0.5226872289306592,0.5311861979208834,0.5396320487339693,0.5480239367918736,0.5563610229127838,0.5646424733950354,0.5728674601004813,0.5810351605373051,0.5891447579422695,0.5971954413623921,0.6051864057360395,0.6131168519734338,0.6209859870365597,0.6287930240184686,0.636537182221968,0.6442176872376911,0.6518337710215366,0.6593846719714731,0.6668696350036979,0.674287911628145,0.6816387600233341,0.6889214451105513,0.6961352386273568,0.7032794192004103,0.7103532724176078,0.7173560908995228,0.7242871743701426,0.7311458297268959,0.7379313711099628,0.7446431199708593,0.7512804051402927,0.757842562895277,0.7643289370255051,0.7707388788989693,0.7770717475268238,0.7833269096274834,0.7895037396899505,0.795601620036366,0.8016199408837772,0.8075581004051143,0.8134155047893737,0.8191915683009983,0.8248857133384501,0.8304973704919705,0.8360259786005205,0.8414709848078965,0.8468318446180152,0.852108021949363,0.8572989891886034,0.8624042272433384,0.867423225594017,0.8723554823449863,0.8772005042746817,0.8819578068849475,0.8866269144494873,0.8912073600614354,0.8956986856800476,0.9001004421765051,0.904412189378826,0.9086334961158833,0.9127639402605211,0.9168031087717669,0.9207505977361357,0.9246060124080203,0.9283689672491667,0.9320390859672263,0.935616001553386,0.9390993563190676,0.9424888019316975,0.945783999449539,0.9489846193555862,0.9520903415905158,0.9551008555846923,0.9580158602892249,0.9608350642060727,0.963558185417193,0.966184951612734,0.9687151001182653,0.9711483779210446,0.9734845416953194,0.9757233578266591,0.9778646024353163,0.9799080613986142,0.9818535303723598,0.9837008148112766,0.9854497299884603,0.9871001010138504,0.9886517628517197,0.9901045603371778,0.9914583481916864,0.9927129910375885,0.9938683634116449,0.9949243497775809,0.99588084453764,0.9967377520431434,0.9974949866040544,0.9981524724975481,0.998710143975583,0.999167945271476,0.9995258306054791,0.999783764189357,0.9999417202299663,0.9999996829318346,0.9999576464987401,0.9998156151342908,0.9995736030415051,0.9992316344213905,0.998789743470524,0.9982479743776325,0.9976063813191737,0.9968650284539189,0.9960239899165367,0.9950833498101802,0.994043202198076,0.9929036510941185,0.9916648104524686,0.990326804156158,0.9888897660047015,0.9873538397007164,0.9857191788355535,0.9839859468739369,0.9821543171376185,0.9802244727880455,0.9781966068080447,0.9760709219825242,0.9738476308781951,0.9715269558223153,0.9691091288804563,0.9665943918332975,0.9639829961524481,0.9612752029752999,0.9584712830789142,0.955571516852944,0.9525761942715953,0.9494856148646305,0.9463000876874145,0.9430199312900105,0.9396454736853249,0.9361770523163061,0.9326150140222005,0.9289597150038693,0.9252115207881683,0.9213708061913954,0.9174379552818098,0.9134133613412252,0.9092974268256817,0.9050905633252009,0.9007931915226273,0.8964057411515598,0.8919286509533796,0.8873623686333755,0.8827073508159741,0.8779640629990781,0.8731329795075164,0.8682145834456126,0.8632093666488737,0.8581178296348089,0.8529404815528762,0.8476778401335698,0.8423304316366457,0.8368987907984978,0.8313834607786831,0.825784993105608,0.8201039476213741,0.814340892425796,0.8084964038195901,0.8025710662467472,0.7965654722360865,0.7904802223420048,0.7843159250844199,0.7780731968879212,0.7717526620201257,0.7653549525292536,0.7588807081809218,0.7523305763941708,0.74570521217672,0.7390052780594709,0.7322314440302514,0.7253843874668195,0.7184647930691263,0.7114733527908443,0.7044107657701763,0.6972777382599378,0.6900749835569364,0.6828032219306397,0.6754631805511511,0.6680555934164909,0.6605812012792007,0.6530407515722648,0.6454349983343708,0.6377647021345036,0.6300306299958922,0.6222335553193047,0.6143742578057118,0.6064535233783147,0.5984721441039564,0.5904309181139127,0.5823306495240819,0.5741721483545723,0.5659562304487028,0.5576837173914166,0.5493554364271266,0.5409722203769886,0.5325349075556212,0.5240443416872761,0.5155013718214642,0.5069068522480534,0.49826164241183857,0.4895666068265995,0.48082261498864826,0.47203054128988264,0.4631912649303452,0.45430566983030646,0.44537464454187115,0.4363990821601263,0.4273798802338298,0.418317940675659,0.4092141696720173,0.4000694775924195,0.3908847788984522,0.3816609920523317,0.3723990394250553,0.3630998472041683,0.3537643453011427,0.34439346725839,0.33498815015590466,0.32554933451756,0.3160779642170538,0.30657498638352293,0.2970413513068324,0.2874780123425444,0.2778859258165868,0.2682660509296179,0.25861934966111083,0.24894678667315256,0.23924932921398243,0.2295279470212642,0.21978361222511694,0.21001729925089915,0.20022998472177053,0.19042264736102704,0.18059626789423291,0.17075182895114532,0.16089031496745576,0.15101271208634384,0.1411200080598672,0.1312131921501838,0.12129325503062975,0.11136118868664958,0.10141798631660187,0.09146464223243675,0.08150215176026912,0.07153151114084326,0.06155371742991315,0.05156976839853464,0.04158066243329049,0.031587398436453896,0.02159097572609596,0.011592393936158275,0.0015926529164868282,-0.008407247367148618,-0.01840630693305381,-0.02840352588360379,-0.03839790450523538,-0.04838844336841415,-0.058374143427580086,-0.06835400612104778,-0.0783270334708653,-0.0882922281826076,-0.09824859374510868,-0.10819513453010837,-0.11813085589181781,-0.12805476426637968,-0.13796586727122728,-0.14786317380431852,-0.15774569414324865,-0.16761244004421832,-0.17746242484086058,-0.18729466354290317,-0.19710817293466984,-0.20690197167339977,-0.21667508038737962,-0.22642652177388314,-0.236155320696897,-0.24586050428463702,-0.2555411020268312,-0.26519614587177337,-0.274824670323124,-0.28442571253646254,-0.2939983124155676,-0.30354151270842933,-0.3130543591029702,-0.322535900322479,-0.3319851882207341,-0.34140127787682095,-0.35078322768961984,-0.36013009947196856,-0.3694409585444771,-0.37871487382899804,-0.3879509179417303,-0.3971481672859602,-0.4063057021444168,-0.41542260677124626,-0.4244979694835826,-0.43353088275271773,-0.44252044329485246,-0.45146575216142315,-0.4603659148289983,-0.46922004128872713,-0.47802724613534286,-0.4867866486556994,-0.4954973729168449,-0.5041585478536115,-0.5127693073557238,-0.5213287903544065,-0.5298361409084934,-0.5382905082900177,-0.5466910470692872,-0.5550369171994238,-0.56332728410037,-0.5715613187423437,-0.5797381977287431,-0.5878571033784827,-0.5959172238077642,-0.6039177530112606,-0.6118578909427193,-0.6197368435949633,-0.6275538230792936,-0.6353080477042756,-0.6429987420539088,-0.6506251370651673,-0.6581864701049049,-0.6656819850461192,-0.6731109323435617,-0.680472569108694,-0.6877661591839738,-0.694990973216472,-0.7021462887308054,-0.7092313902013861,-0.7162455691239705,-0.7231881240865121,-0.7300583608392995,-0.7368555923643834,-0.7435791389442746,-0.750228328229919,-0.7568024953079283,-0.7633009827670734,-0.7697231407640244,-0.7760683270883323,-0.7823359072266528,-0.788525254426195,-0.7946357497573974,-0.8006667821758177,-0.8066177485832405,-0.8124880538879843,-0.8182771110644103,-0.8239843412116258,-0.8296091736113709,-0.8351510457850935,-0.8406094035501945,-0.8459837010754465,-0.8512734009355745,-0.8564779741650012,-0.8615969003107405,-0.8666296674844443,-0.8715757724135882,-0.8764347204918014,-0.8812060258283253,-0.8858892112966027,-0.8904838085819885,-0.8949893582285835,-0.8994054096851777,-0.9037315213503057,-0.9079672606164054,-0.9121122039130803,-0.9161659367494549,-0.920128053755624,-0.9239981587231879,-0.9277758646448755,-0.9314607937532425,-0.9350525775584494,-0.9385508568851079,-0.941955281908201,-0.9452655121880633,-0.9484812167044256,-0.9516020738895161,-0.9546277716602164,-0.9575580074492711,-0.9603924882355434,-0.9631309305733167,-0.9657730606206388,-0.9683186141667072,-0.9707673366582883,-0.9731189832251739,-0.9753733187046665,-0.977530117665097,-0.9795891644283669,-0.9815502530915156,-0.9834131875473108,-0.9851777815038595,-0.9868438585032365,-0.9884112519391306,-0.9898798050735039,-0.991249371052267,-0.9925198129199632,-0.9936910036334645,-0.9947628260746756,-0.9957351730622453,-0.9966079473622855,-0.9973810616980933,-0.9980544387588794,-0.9986280112074989,-0.9991017216871848,-0.999475522827284,-0.999749377247994,-0.9999232575641008,-0.999997146387718,-0.9999710363300245,-0.9998449300020044,-0.9996188400141854,-0.999292788975378,-0.9988668094904142,-0.9983409441568876,-0.9977152455608933,-0.9969897762717695,-0.9961646088358407,-0.9952398257691626,-0.9942155195492713,-0.9930917926059354,-0.9918687573109126,-0.9905465359667132,-0.9891252607943698,-0.9876050739202153,-0.9859861273616704,-0.9842685830120416,-0.9824526126243325,-0.9805383977940689,-0.9785261299411385,-0.9764160102906497,-0.9742082498528091,-0.9719030694018208,-0.9695006994538088,-0.967001380243766,-0.9644053617015305,-0.9617129034267934,-0.9589242746631385,-0.9560397542711181,-0.9530596307003675,-0.9499842019607608,-0.9468137755926089,-0.9435486686359066,-0.9401892075986283,-0.9367357284240789,-0.9331885764572976,-0.9295481064105251,-0.9258146823277321,-0.9219886775482162,-0.9180704746692671,-0.914060465507907,-0.9099590510617106,-0.9057666414687044,-0.9014836559663548,-0.8971105228496424,-0.8926476794282346,-0.8880955719827542,-0.8834546557201531,-0.8787253947281899,-0.8739082619290224,-0.8690037390319161,-0.8640123164850744,-0.858934493426592,-0.8537707776345433,-0.8485216854762041,-0.8431877418564168,-0.8377694801650978,-0.8322674422239013,-0.8266821782320357,-0.821014246711247,-0.8152642144499634,-0.8094326564466194,-0.8035201558521553,-0.7975273039117043,-0.791454699905466,-0.7853029510887806,-0.7790726726314031,-0.7727644875559871,-0.7663790266757844,-0.759916928531561,-0.7533788393277465,-0.7467654128678124,-0.7400773104888944,-0.7333152009956565,-0.7264797605934131,-0.7195716728205075,-0.7125916284799615,-0.7055403255703919,-0.6984184692162136,-0.6912267715971265,-0.6839659518769007,-0.6766367361314569,-0.669239857276262,-0.6617760549930369,-0.6542460756557914,-0.6466506722561834,-0.6389906043282237,-0.631266637872321,-0.6234795452786853,-0.6156301052500863,-0.6077191027239858,-0.5997473287940438,-0.5917155806310094,-0.5836246614030073,-0.5754753801952172,-0.5672685519289686,-0.5590049972802488,-0.5506855425976376,-0.5423110198196698,-0.5338822663916443,-0.5254001251818793,-0.5168654443974288,-0.5082790774992584,-0.49964188311690244,-0.49095472496260095,-0.48221847174493154,-0.47343399708193507,-0.46460217941375737,-0.4557239019148047,-0.44680005240543,-0.4378315232631469,-0.4288192113333959,-0.4197640178398589,-0.41066684829434086,-0.4015286124062146,-0.39235022399145386,-0.38313260088125134,-0.373876664830236,-0.3645833414243013,-0.35525355998804264,-0.34588825349182883,-0.3364883584585042,-0.32705481486974064,-0.31758856607203484,-0.3080905586823781,-0.2985617424935936,-0.2890030703793611,-0.27941549819892586,-0.26979998470151617,-0.26015749143046807,-0.2504889826270749,-0.2407954251341592,-0.23107778829939224,-0.22133704387835867,-0.21157416593738504,-0.2017901307561289,-0.19198591672995502,-0.18216250427209502,-0.17232087571561025,-0.1624620152151542,-0.15258690864856114,-0.14269654351825772,-0.13279190885251674,-0.12287399510655005,-0.11294379406346737,-0.10300229873509785,-0.0930505032626889,-0.0830894028174964,-0.07311999350126308,-0.06314327224661277,-0.053160236717356125,-0.04317188520872868,-0.03317921654755682,-0.02318322999237945,-0.013184925133521251,-0.0031853017931379904,0.006814640074770176,0.016813900484349713,0.026811479517893238,0.03680637742582692,0.04679759472668989,0.05678413230707805,0.06676499152155635,0.07673917429251892,0.08670568321000133,0.09666352163141724,0.10661169378122355,0.11654920485049364,0.1264750610964027,0.13638826994159764,0.14628784007345494,0.1561727815432119,0.16604210586495724,0.175894826114484,0.18572995702797787,0.19554651510054427,0.2053435186845546,0.21511998808781552,0.2248749456715337,0.2346074159480808,0.24431642567853773,0.2540010039700231,0.2636601823727784,0.27329299497701326,0.28289847850949296,0.2924756724298697,0.30202361902673236,0.3115413635133787,0.32102795412328977,0.3304824422053109,0.3399038823185127,0.3492913323267357,0.35864385349280037,0.36796051057238466,0.3772403719075444,0.38648250951987934,0.3956859992033308,0.4048499206165983,0.413973357375178,0.42305539714299684,0.43209513172364716,0.44109165715120235,0.4500440737806176,0.4589514863776903,0.4678130042085843,0.4766277411288995,0.48539481567229026,0.49411335113860816,0.5027824756815727,0.5114013223959524,0.5199690294042587,0.5284847399429308,0.5369476024480118,0.545356770640302,0.5537114036099907,0.562010665900743,0.5702537275932467,0.5784397643882002,0.5865679576887464,0.5946374946823286,0.6026475684219723,0.6105973779069791,0.618486128163024,0.6263130303216559,0.6340773016991814,0.6417781658749337,0.6494148527689112,0.6569865987187891,0.664492646556282,0.6719322456828621,0.6793046521448148,0.6866091287076385,0.6938449449297637,0.7010113772355987,0.7081077089878838,0.7151332305593578,0.7220872394037184,0.7289690401258765,0.7357779445514936,0.7425132717958018,0.7491743483316894,0.7557605080570543,0.7622710923614112,0.7687054501917558,0.775062938117667,0.78134292039565,0.787544769032711,0.7936678638491531,0.7997115925405982,0.8056753507392133,0.8115585420741488,0.8173605782311729,0.8230808790115055,0.8287188723898353,0.8342739945715235,0.8397456900489799,0.8451334116572173,0.8504366206285644,0.855654786646544,0.8607873878989016,0.8658339111297899,0.8707938516910911,0.8756667135928827,0.8804520095530344,0.8851492610459383,0.8897579983503596,0.8942777605964088,0.8987080958116269,0.9030485609661848,0.907298722017184,0.9114581539520613,0.9155264408310896,0.9195031758289707,0.9233879612755189,0.927180408695427,0.9308801388471136,0.934486781760646,0.9379999767747389,0.9414193725728183,0.9447446272181541,0.9479754081880525,0.951111392407109,0.9541522662795148,0.9570977257204173,0.9599474761863261,0.9627012327045701,0.9653587199017918,0.9679196720314865,0.970383833000575,0.9727509563950137,0.9750208055044363,0.977193153345823,0.9792677826862,0.9812444860643621,0.9831230658116188,0.9849033340715608,0.9865851128188459,0.9881682338770004,0.989652538935238,0.9910378795642898,0.9923241172312475,0.9935111233134158,0.9945987791111761,0.9955869758598548,0.9964756147406006,0.9972646068902659,0.9979538734102932,0.998543345374605,0.999032963836496,0.9994226798345279,0.999712454397426,0.9999022585479752,0.9999920733059188,0.9999818896898556,0.999871708718139,0.9996615414087742,0.999351408778317,0.998941341839772,0.9984313815994914,0.9978215790530743,0.997111995180267,0.9963027009388656,0.9953937772576199,0.9943853150281404,0.9932774150958098,0.992070188249698,0.9907637552114835,0.9893582466233818,0.9878538030350801,0.9862505748896837,0.9845487225086711,0.9827484160758618,0.9808498356203995,0.9788531709987474,0.9767586218757036,0.974566397704435,0.972276717705532,0.9698898108450863,0.9674059158117949,0.9648252809930908,0.9621481644503063,0.9593748338928642,0.9565055666515091,0.9535406496505743,0.9504803793792889,0.94732506186213,0.9440750126282197,0.9407305566797731,0.9372920284595976,0.9337597718176507,0.9301341399766526,0.9264154954967662,0.9226042102393402,0.9187006653297247,0.9147052511191576,0.9106183671457304,0.906440422094434,0.9021718337562934,0.8978130289865844,0.893364443662152,0.888826522637821,0.8841997197019127,0.8794844975308649,0.8746813276429652,0.869790690351199,0.8648130747152218,0.8597489784924482,0.8545989080882804,0.8493633785054673,0.8440429132926041,0.8386380444917783,0.833149312585366,0.8275772664419839,0.8219224632616022,0.8161854685198283,0.8103668559113548,0.8044672072925936,0.7984871126234903,0.7924271699085284,0.7862879851369292,0.7800701722220543,0.7737743529400123,0.7674011568674873,0.7609512213187744,0.7544251912820534,0.7478237193548899,0.7411474656789752,0.7343970978741134,0.7275732909714597,0.7206767273460168,0.7137080966484024,0.706668095735878,0.699557428602668,0.6923768063095604,0.6851269469128006,0.6778085753922868,0.6704224235790722,0.662969230082182,0.6554497402147574,0.6478647059195176,0.6402148856935713,0.6325010445125663,0.6247239537541924,0.6168843911210448,0.6089831405628535,0.6010209921980904,0.5929987422349551,0.5849171928917617,0.5767771523167085,0.5685794345070697,0.5603248592277947,0.5520142519295329,0.5436484436660884,0.5352282710113162,0.5267545759754634,0.5182282059209752,0.5096500134777504,0.5010208564578846,0.49234159776988917,0.4836131053324,0.47483625198738716,0.4660119154128711,0.45714097803515424,0.4482243269405849,0.4392628537868406,0.4302574547137687,0.42120903025377215,0.4121184852417566,0.40298672872464775,0.39381467387048763,0.38460323787711825,0.3753533418804611,0.366065910862411,0.3567418735583286,0.34738216236417424,0.3379877132432676,0.32855946563269217,0.3190983623493521,0.3096053494956915,0.30008137636508325,0.2905273953469072,0.2809443618313018,0.27133323411363275,0.2616949732986626,0.252030543204441,0.24234091026592378,0.23262704343833002,0.22288991410024592,0.2131304959564945,0.20334976494075557,0.19354869911798017,0.183728278586583,0.17388948538043356,0.1640333033706535,0.15416071816723032,0.14427271702045727,0.1343702887222073,0.1244544235070617,0.11452611295327708,0.10458634988363526,0.09463612826616005,0.08467644311472142,0.07470829038953478,0.06473266689756589,0.05475057019284918,0.04476299847674028,0.03477095049808608,0.024775425453357765,0.014777422886730236,0.0047779425901285115,-0.005222015496750621,-0.015221451386431743,-0.025219365143660497,-0.03521475698538918,-0.045206627380764856,-0.05519397715107451,-0.0651758075696639,-0.0751511204618093,-0.08511891830453426,-0.09507820432636095,-0.10502798260698659,-0.11496725817687632,-0.12489503711675232,-0.1348103266569955,-0.14471213527691454,-0.15459947280389894,-0.16447135051243542,-0.17432678122297965,-0.1841647794006734,-0.19398436125389898,-0.20378454483265052,-0.2135643501267387,-0.2233227991637839,-0.2330589161070144,-0.24277172735284935,-0.2524602616282581,-0.2621235500878869,-0.2717606264109442,-0.28137052689782505,-0.2909522905664908,-0.30050495924855936,-0.310027577685123,-0.31951919362227366,-0.32897885790632714,-0.33840562457873813,-0.347798550970695,-0.3571566977973876,-0.36647912925192844,-0.3757649130989423,-0.38501312076778266,-0.39422282744538945,-0.4033931121687696,-0.4125230579170927,-0.42161175170339216,-0.43065828466586487,-0.43966175215875003,-0.44862125384280294,-0.4575358937753214,-0.4664047804997409,-0.4752270271347798,-0.48400175146312646,-0.49272807601966023,-0.5014051281791989,-0.5100320402437544,-0.5186079495293108,-0.527131998452086,-0.5356033346142913],\"type\":\"scatter\",\"uid\":\"cfed6461-6040-4e83-9f14-6110b715dbf2\",\"marker\":{\"color\":\"blue\"}},{\"marker\":{\"size\":10,\"color\":\"red\"},\"mode\":\"markers\",\"name\":\"current point\",\"x\":[5.0],\"y\":[-0.9589242746631385],\"type\":\"scatter\",\"uid\":\"c24b92b7-e443-47fa-8c87-07cbbcbd4db8\"}],                        {\"xaxis\":{\"range\":[0,10]},\"yaxis\":{\"range\":[-1.5,1.5]},\"template\":{\"data\":{\"barpolar\":[{\"marker\":{\"line\":{\"color\":\"#E5ECF6\",\"width\":0.5},\"pattern\":{\"fillmode\":\"overlay\",\"size\":10,\"solidity\":0.2}},\"type\":\"barpolar\"}],\"bar\":[{\"error_x\":{\"color\":\"#2a3f5f\"},\"error_y\":{\"color\":\"#2a3f5f\"},\"marker\":{\"line\":{\"color\":\"#E5ECF6\",\"width\":0.5},\"pattern\":{\"fillmode\":\"overlay\",\"size\":10,\"solidity\":0.2}},\"type\":\"bar\"}],\"carpet\":[{\"aaxis\":{\"endlinecolor\":\"#2a3f5f\",\"gridcolor\":\"white\",\"linecolor\":\"white\",\"minorgridcolor\":\"white\",\"startlinecolor\":\"#2a3f5f\"},\"baxis\":{\"endlinecolor\":\"#2a3f5f\",\"gridcolor\":\"white\",\"linecolor\":\"white\",\"minorgridcolor\":\"white\",\"startlinecolor\":\"#2a3f5f\"},\"type\":\"carpet\"}],\"choropleth\":[{\"colorbar\":{\"outlinewidth\":0,\"ticks\":\"\"},\"type\":\"choropleth\"}],\"contourcarpet\":[{\"colorbar\":{\"outlinewidth\":0,\"ticks\":\"\"},\"type\":\"contourcarpet\"}],\"contour\":[{\"colorbar\":{\"outlinewidth\":0,\"ticks\":\"\"},\"colorscale\":[[0.0,\"#0d0887\"],[0.1111111111111111,\"#46039f\"],[0.2222222222222222,\"#7201a8\"],[0.3333333333333333,\"#9c179e\"],[0.4444444444444444,\"#bd3786\"],[0.5555555555555556,\"#d8576b\"],[0.6666666666666666,\"#ed7953\"],[0.7777777777777778,\"#fb9f3a\"],[0.8888888888888888,\"#fdca26\"],[1.0,\"#f0f921\"]],\"type\":\"contour\"}],\"heatmapgl\":[{\"colorbar\":{\"outlinewidth\":0,\"ticks\":\"\"},\"colorscale\":[[0.0,\"#0d0887\"],[0.1111111111111111,\"#46039f\"],[0.2222222222222222,\"#7201a8\"],[0.3333333333333333,\"#9c179e\"],[0.4444444444444444,\"#bd3786\"],[0.5555555555555556,\"#d8576b\"],[0.6666666666666666,\"#ed7953\"],[0.7777777777777778,\"#fb9f3a\"],[0.8888888888888888,\"#fdca26\"],[1.0,\"#f0f921\"]],\"type\":\"heatmapgl\"}],\"heatmap\":[{\"colorbar\":{\"outlinewidth\":0,\"ticks\":\"\"},\"colorscale\":[[0.0,\"#0d0887\"],[0.1111111111111111,\"#46039f\"],[0.2222222222222222,\"#7201a8\"],[0.3333333333333333,\"#9c179e\"],[0.4444444444444444,\"#bd3786\"],[0.5555555555555556,\"#d8576b\"],[0.6666666666666666,\"#ed7953\"],[0.7777777777777778,\"#fb9f3a\"],[0.8888888888888888,\"#fdca26\"],[1.0,\"#f0f921\"]],\"type\":\"heatmap\"}],\"histogram2dcontour\":[{\"colorbar\":{\"outlinewidth\":0,\"ticks\":\"\"},\"colorscale\":[[0.0,\"#0d0887\"],[0.1111111111111111,\"#46039f\"],[0.2222222222222222,\"#7201a8\"],[0.3333333333333333,\"#9c179e\"],[0.4444444444444444,\"#bd3786\"],[0.5555555555555556,\"#d8576b\"],[0.6666666666666666,\"#ed7953\"],[0.7777777777777778,\"#fb9f3a\"],[0.8888888888888888,\"#fdca26\"],[1.0,\"#f0f921\"]],\"type\":\"histogram2dcontour\"}],\"histogram2d\":[{\"colorbar\":{\"outlinewidth\":0,\"ticks\":\"\"},\"colorscale\":[[0.0,\"#0d0887\"],[0.1111111111111111,\"#46039f\"],[0.2222222222222222,\"#7201a8\"],[0.3333333333333333,\"#9c179e\"],[0.4444444444444444,\"#bd3786\"],[0.5555555555555556,\"#d8576b\"],[0.6666666666666666,\"#ed7953\"],[0.7777777777777778,\"#fb9f3a\"],[0.8888888888888888,\"#fdca26\"],[1.0,\"#f0f921\"]],\"type\":\"histogram2d\"}],\"histogram\":[{\"marker\":{\"pattern\":{\"fillmode\":\"overlay\",\"size\":10,\"solidity\":0.2}},\"type\":\"histogram\"}],\"mesh3d\":[{\"colorbar\":{\"outlinewidth\":0,\"ticks\":\"\"},\"type\":\"mesh3d\"}],\"parcoords\":[{\"line\":{\"colorbar\":{\"outlinewidth\":0,\"ticks\":\"\"}},\"type\":\"parcoords\"}],\"pie\":[{\"automargin\":true,\"type\":\"pie\"}],\"scatter3d\":[{\"line\":{\"colorbar\":{\"outlinewidth\":0,\"ticks\":\"\"}},\"marker\":{\"colorbar\":{\"outlinewidth\":0,\"ticks\":\"\"}},\"type\":\"scatter3d\"}],\"scattercarpet\":[{\"marker\":{\"colorbar\":{\"outlinewidth\":0,\"ticks\":\"\"}},\"type\":\"scattercarpet\"}],\"scattergeo\":[{\"marker\":{\"colorbar\":{\"outlinewidth\":0,\"ticks\":\"\"}},\"type\":\"scattergeo\"}],\"scattergl\":[{\"marker\":{\"colorbar\":{\"outlinewidth\":0,\"ticks\":\"\"}},\"type\":\"scattergl\"}],\"scattermapbox\":[{\"marker\":{\"colorbar\":{\"outlinewidth\":0,\"ticks\":\"\"}},\"type\":\"scattermapbox\"}],\"scatterpolargl\":[{\"marker\":{\"colorbar\":{\"outlinewidth\":0,\"ticks\":\"\"}},\"type\":\"scatterpolargl\"}],\"scatterpolar\":[{\"marker\":{\"colorbar\":{\"outlinewidth\":0,\"ticks\":\"\"}},\"type\":\"scatterpolar\"}],\"scatter\":[{\"fillpattern\":{\"fillmode\":\"overlay\",\"size\":10,\"solidity\":0.2},\"type\":\"scatter\"}],\"scatterternary\":[{\"marker\":{\"colorbar\":{\"outlinewidth\":0,\"ticks\":\"\"}},\"type\":\"scatterternary\"}],\"surface\":[{\"colorbar\":{\"outlinewidth\":0,\"ticks\":\"\"},\"colorscale\":[[0.0,\"#0d0887\"],[0.1111111111111111,\"#46039f\"],[0.2222222222222222,\"#7201a8\"],[0.3333333333333333,\"#9c179e\"],[0.4444444444444444,\"#bd3786\"],[0.5555555555555556,\"#d8576b\"],[0.6666666666666666,\"#ed7953\"],[0.7777777777777778,\"#fb9f3a\"],[0.8888888888888888,\"#fdca26\"],[1.0,\"#f0f921\"]],\"type\":\"surface\"}],\"table\":[{\"cells\":{\"fill\":{\"color\":\"#EBF0F8\"},\"line\":{\"color\":\"white\"}},\"header\":{\"fill\":{\"color\":\"#C8D4E3\"},\"line\":{\"color\":\"white\"}},\"type\":\"table\"}]},\"layout\":{\"annotationdefaults\":{\"arrowcolor\":\"#2a3f5f\",\"arrowhead\":0,\"arrowwidth\":1},\"autotypenumbers\":\"strict\",\"coloraxis\":{\"colorbar\":{\"outlinewidth\":0,\"ticks\":\"\"}},\"colorscale\":{\"diverging\":[[0,\"#8e0152\"],[0.1,\"#c51b7d\"],[0.2,\"#de77ae\"],[0.3,\"#f1b6da\"],[0.4,\"#fde0ef\"],[0.5,\"#f7f7f7\"],[0.6,\"#e6f5d0\"],[0.7,\"#b8e186\"],[0.8,\"#7fbc41\"],[0.9,\"#4d9221\"],[1,\"#276419\"]],\"sequential\":[[0.0,\"#0d0887\"],[0.1111111111111111,\"#46039f\"],[0.2222222222222222,\"#7201a8\"],[0.3333333333333333,\"#9c179e\"],[0.4444444444444444,\"#bd3786\"],[0.5555555555555556,\"#d8576b\"],[0.6666666666666666,\"#ed7953\"],[0.7777777777777778,\"#fb9f3a\"],[0.8888888888888888,\"#fdca26\"],[1.0,\"#f0f921\"]],\"sequentialminus\":[[0.0,\"#0d0887\"],[0.1111111111111111,\"#46039f\"],[0.2222222222222222,\"#7201a8\"],[0.3333333333333333,\"#9c179e\"],[0.4444444444444444,\"#bd3786\"],[0.5555555555555556,\"#d8576b\"],[0.6666666666666666,\"#ed7953\"],[0.7777777777777778,\"#fb9f3a\"],[0.8888888888888888,\"#fdca26\"],[1.0,\"#f0f921\"]]},\"colorway\":[\"#636efa\",\"#EF553B\",\"#00cc96\",\"#ab63fa\",\"#FFA15A\",\"#19d3f3\",\"#FF6692\",\"#B6E880\",\"#FF97FF\",\"#FECB52\"],\"font\":{\"color\":\"#2a3f5f\"},\"geo\":{\"bgcolor\":\"white\",\"lakecolor\":\"white\",\"landcolor\":\"#E5ECF6\",\"showlakes\":true,\"showland\":true,\"subunitcolor\":\"white\"},\"hoverlabel\":{\"align\":\"left\"},\"hovermode\":\"closest\",\"mapbox\":{\"style\":\"light\"},\"paper_bgcolor\":\"white\",\"plot_bgcolor\":\"#E5ECF6\",\"polar\":{\"angularaxis\":{\"gridcolor\":\"white\",\"linecolor\":\"white\",\"ticks\":\"\"},\"bgcolor\":\"#E5ECF6\",\"radialaxis\":{\"gridcolor\":\"white\",\"linecolor\":\"white\",\"ticks\":\"\"}},\"scene\":{\"xaxis\":{\"backgroundcolor\":\"#E5ECF6\",\"gridcolor\":\"white\",\"gridwidth\":2,\"linecolor\":\"white\",\"showbackground\":true,\"ticks\":\"\",\"zerolinecolor\":\"white\"},\"yaxis\":{\"backgroundcolor\":\"#E5ECF6\",\"gridcolor\":\"white\",\"gridwidth\":2,\"linecolor\":\"white\",\"showbackground\":true,\"ticks\":\"\",\"zerolinecolor\":\"white\"},\"zaxis\":{\"backgroundcolor\":\"#E5ECF6\",\"gridcolor\":\"white\",\"gridwidth\":2,\"linecolor\":\"white\",\"showbackground\":true,\"ticks\":\"\",\"zerolinecolor\":\"white\"}},\"shapedefaults\":{\"line\":{\"color\":\"#2a3f5f\"}},\"ternary\":{\"aaxis\":{\"gridcolor\":\"white\",\"linecolor\":\"white\",\"ticks\":\"\"},\"baxis\":{\"gridcolor\":\"white\",\"linecolor\":\"white\",\"ticks\":\"\"},\"bgcolor\":\"#E5ECF6\",\"caxis\":{\"gridcolor\":\"white\",\"linecolor\":\"white\",\"ticks\":\"\"}},\"title\":{\"x\":0.05},\"xaxis\":{\"automargin\":true,\"gridcolor\":\"white\",\"linecolor\":\"white\",\"ticks\":\"\",\"title\":{\"standoff\":15},\"zerolinecolor\":\"white\",\"zerolinewidth\":2},\"yaxis\":{\"automargin\":true,\"gridcolor\":\"white\",\"linecolor\":\"white\",\"ticks\":\"\",\"title\":{\"standoff\":15},\"zerolinecolor\":\"white\",\"zerolinewidth\":2}}}},                        {\"responsive\": true}                    ).then(function(){\n",
       "                            \n",
       "var gd = document.getElementById('cd42c534-a41f-40ae-ac5b-3f6a42c6a5a1');\n",
       "var x = new MutationObserver(function (mutations, observer) {{\n",
       "        var display = window.getComputedStyle(gd).display;\n",
       "        if (!display || display === 'none') {{\n",
       "            console.log([gd, 'removed!']);\n",
       "            Plotly.purge(gd);\n",
       "            observer.disconnect();\n",
       "        }}\n",
       "}});\n",
       "\n",
       "// Listen for the removal of the full notebook cells\n",
       "var notebookContainer = gd.closest('#notebook-container');\n",
       "if (notebookContainer) {{\n",
       "    x.observe(notebookContainer, {childList: true});\n",
       "}}\n",
       "\n",
       "// Listen for the clearing of the current output cell\n",
       "var outputEl = gd.closest('.output');\n",
       "if (outputEl) {{\n",
       "    x.observe(outputEl, {childList: true});\n",
       "}}\n",
       "\n",
       "                        })                };                });            </script>        </div>"
      ]
     },
     "metadata": {},
     "output_type": "display_data"
    },
    {
     "data": {
      "application/vnd.jupyter.widget-view+json": {
       "model_id": "81620beaae7f4dca91b9d53374aa5688",
       "version_major": 2,
       "version_minor": 0
      },
      "text/plain": [
       "interactive(children=(FloatSlider(value=5.0, description='x', max=10.0, step=0.01), Output()), _dom_classes=('…"
      ]
     },
     "metadata": {},
     "output_type": "display_data"
    },
    {
     "data": {
      "application/vnd.jupyter.widget-view+json": {
       "model_id": "6a6b188ddb874a83bce60890a1894b45",
       "version_major": 2,
       "version_minor": 0
      },
      "text/plain": [
       "FigureWidget({\n",
       "    'data': [{'marker': {'color': 'blue'},\n",
       "              'mode': 'lines',\n",
       "              'name':…"
      ]
     },
     "metadata": {},
     "output_type": "display_data"
    }
   ],
   "source": [
    "fig = go.FigureWidget()\n",
    "fig.add_scatter(x=x, y=y, mode='lines', name='sin')\n",
    "fig.add_scatter(x=[0], y=[np.sin(0)], mode='markers', marker=dict(size=10), name='current point')\n",
    "\n",
    "fig.layout = go.Layout(\n",
    "    xaxis=dict(range=[0, 10]),\n",
    "    yaxis=dict(range=[-1.5, 1.5]),\n",
    ")\n",
    "# change the color of the scatter points\n",
    "fig.data[0].marker.color = 'blue'\n",
    "fig.data[1].marker.color = 'red'\n",
    "\n",
    "@interact(x=(0,10,0.01))\n",
    "def update_plot(x):\n",
    "    with fig.batch_update():\n",
    "        fig.data[1].x = [x]\n",
    "        fig.data[1].y = [np.sin(x)]\n",
    "        # fig.data[1].x = x\n",
    "        # fig.data[1].y = y\n",
    "        # fig.layout.\n",
    "\n",
    "fig\n",
    "\n",
    "fig2 = go.FigureWidget()\n",
    "fig2.add_scatter(x=x, y=np.cos(x), mode='lines', name='sin')\n",
    "fig2.add_scatter(x=[0], y=[np.cos(0)], mode='markers', marker=dict(size=10), name='current point')\n",
    "\n",
    "fig2.layout = go.Layout(\n",
    "    xaxis=dict(range=[0, 10]),\n",
    "    yaxis=dict(range=[-1.5, 1.5]),\n",
    ")\n",
    "# change the color of the scatter points\n",
    "fig2.data[0].marker.color = 'blue'\n",
    "fig2.data[1].marker.color = 'red'\n",
    "\n",
    "@interact(x=(0,10,0.01))\n",
    "def update_plot(x):\n",
    "    with fig2.batch_update():\n",
    "        fig2.data[1].x = [x]\n",
    "        fig2.data[1].y = [np.cos(x)]\n",
    "        # fig.data[1].x = x\n",
    "        # fig.data[1].y = y\n",
    "        # fig.layout.\n",
    "\n",
    "fig2"
   ]
  },
  {
   "cell_type": "code",
   "execution_count": 60,
   "metadata": {},
   "outputs": [
    {
     "name": "stdout",
     "output_type": "stream",
     "text": [
      "<bound method BaseFigure._get_subplot_rows_columns of Figure({\n",
      "    'data': [{'marker': {'color': 'blue'},\n",
      "              'mode': 'lines',\n",
      "              'name': 'sin',\n",
      "              'type': 'scatter',\n",
      "              'x': array([0.  , 0.01, 0.02, ..., 9.97, 9.98, 9.99]),\n",
      "              'xaxis': 'x',\n",
      "              'y': array([ 0.        ,  0.00999983,  0.01999867, ..., -0.51860795, -0.527132  ,\n",
      "                          -0.53560333]),\n",
      "              'yaxis': 'y'},\n",
      "             {'marker': {'color': 'red', 'size': 10},\n",
      "              'mode': 'markers',\n",
      "              'name': 'current point',\n",
      "              'type': 'scatter',\n",
      "              'x': array([4.47]),\n",
      "              'xaxis': 'x',\n",
      "              'y': array([-0.97076734]),\n",
      "              'yaxis': 'y'},\n",
      "             {'marker': {'color': 'blue'},\n",
      "              'mode': 'lines',\n",
      "              'name': 'cos',\n",
      "              'type': 'scatter',\n",
      "              'x': array([0.  , 0.01, 0.02, ..., 9.97, 9.98, 9.99]),\n",
      "              'xaxis': 'x2',\n",
      "              'y': array([ 1.        ,  0.99995   ,  0.99980001, ..., -0.85501216, -0.84978342,\n",
      "                          -0.8444697 ]),\n",
      "              'yaxis': 'y2'},\n",
      "             {'marker': {'color': 'red', 'size': 10},\n",
      "              'mode': 'markers',\n",
      "              'name': 'current point',\n",
      "              'type': 'scatter',\n",
      "              'x': array([4.47]),\n",
      "              'xaxis': 'x2',\n",
      "              'y': array([-0.24002245]),\n",
      "              'yaxis': 'y2'}],\n",
      "    'layout': {'template': '...',\n",
      "               'xaxis': {'anchor': 'y', 'domain': [0.0, 0.45], 'range': [0, 12]},\n",
      "               'xaxis2': {'anchor': 'y2', 'domain': [0.55, 1.0], 'range': [0, 11]},\n",
      "               'yaxis': {'anchor': 'x', 'domain': [0.0, 1.0], 'range': [-1.5, 1.5]},\n",
      "               'yaxis2': {'anchor': 'x2', 'domain': [0.0, 1.0], 'range': [-1.5, 1.5]}}\n",
      "})>\n"
     ]
    }
   ],
   "source": [
    "print(fig._get_subplot_rows_columns)"
   ]
  },
  {
   "cell_type": "code",
   "execution_count": 103,
   "metadata": {},
   "outputs": [
    {
     "data": {
      "application/vnd.jupyter.widget-view+json": {
       "model_id": "9c0cffdbc94d4338a28d42ad5b3f3752",
       "version_major": 2,
       "version_minor": 0
      },
      "text/plain": [
       "interactive(children=(FloatSlider(value=5.0, description='t', max=10.0, step=0.01), Output()), _dom_classes=('…"
      ]
     },
     "metadata": {},
     "output_type": "display_data"
    },
    {
     "data": {
      "application/vnd.jupyter.widget-view+json": {
       "model_id": "df66fc788f654dd2a2724695c4890ca7",
       "version_major": 2,
       "version_minor": 0
      },
      "text/plain": [
       "FigureWidget({\n",
       "    'data': [{'marker': {'color': 'blue'},\n",
       "              'mode': 'lines',\n",
       "              'name':…"
      ]
     },
     "metadata": {},
     "output_type": "display_data"
    }
   ],
   "source": [
    "# figWidget = go.FigureWidget()\n",
    "fig = make_subplots(rows=1, cols=2)\n",
    "figWidget = go.FigureWidget(fig)\n",
    "\n",
    "figWidget.add_scatter(x=x, y=y, mode='lines', name='sin', col=1, row=1)\n",
    "figWidget.add_scatter(x=[0], y=[np.sin(0)], mode='markers', marker=dict(size=10), name='current point', col=1, row=1)\n",
    "\n",
    "figWidget.add_scatter(x=x, y=np.cos(x), mode='lines', name='cos', col=2, row=1)\n",
    "figWidget.add_scatter(x=[0], y=[np.cos(0)], mode='markers', marker=dict(size=10), name='current point', col=2, row=1)\n",
    "\n",
    "figWidget.update_layout(xaxis=dict(range=[0, 12]), yaxis=dict(range=[-1.5, 1.5]),\n",
    "                  xaxis2=dict(range=[0, 11]), yaxis2=dict(range=[-1.5, 1.5]),                    \n",
    ")\n",
    "\n",
    "\n",
    "# print(fig)\n",
    "\n",
    "# change the color of the scatter points\n",
    "\n",
    "figWidget.data[0].marker.color = 'blue'\n",
    "figWidget.data[1].marker.color = 'red'\n",
    "\n",
    "figWidget.data[2].marker.color = 'blue'\n",
    "figWidget.data[3].marker.color = 'red'\n",
    "\n",
    "@interact(t=(0,10,0.01))\n",
    "def update_plot(t):\n",
    "    with figWidget.batch_update():\n",
    "        figWidget.data[1].x = np.array([t])\n",
    "        figWidget.data[1].y = np.sin([t])\n",
    "        figWidget.data[3].x = np.array([t])\n",
    "        figWidget.data[3].y = np.cos([t])\n",
    "\n",
    "    # print(figWidget)\n",
    "        \n",
    "\n",
    "figWidget\n"
   ]
  },
  {
   "cell_type": "markdown",
   "metadata": {},
   "source": [
    "# Create an interactive plot of the trajectory of a projectile."
   ]
  },
  {
   "cell_type": "markdown",
   "metadata": {},
   "source": [
    "## Plot the x,y axes"
   ]
  },
  {
   "cell_type": "code",
   "execution_count": 36,
   "metadata": {},
   "outputs": [],
   "source": [
    "def create_interactive_plot(encoded_samples, time_steps, points, N_start, N_end):\n",
    "    fig = make_subplots(rows=1, cols=3)\n",
    "    figWidget = go.FigureWidget(fig)\n",
    "    # add a black background to the figure\n",
    "    figWidget.add_scatter(x=points[:,0], y=points[:,1], mode='lines', marker=dict(size=1), name='true positions', col=1, row=1)\n",
    "    figWidget.add_scatter(x=[points[0,0]], y=[points[0,1]], mode='markers', marker=dict(size=10), name='current point', col=1, row=1)\n",
    "\n",
    "    figWidget.add_scatter(x=time_steps, y=encoded_samples[:, 0], mode='lines', name='coord1', col=2, row=1)\n",
    "    figWidget.add_scatter(x=[time_steps[0]], y=[encoded_samples[0,0]], mode='markers', marker=dict(size=10), name='current coord1', col=2, row=1)\n",
    "\n",
    "    figWidget.add_scatter(x=time_steps, y=encoded_samples[:, 1], mode='lines', name='coord2', col=3, row=1)\n",
    "    figWidget.add_scatter(x=[time_steps[0]], y=[encoded_samples[0,1]], mode='markers', marker=dict(size=10), name='current coord2', col=3, row=1)\n",
    "\n",
    "    # figWidget.update_layout(xaxis=dict(range=[points[:,0].min(), points[:,0].max()]), yaxis=dict(range=[points[:,1].min(), points[:,1].max()]),\n",
    "    #                 xaxis2=dict(range=[N_start*dt, N_end*dt]), yaxis2=dict(range=[0.49, 0.52]),\n",
    "    #                     xaxis3=dict(range=[N_start*dt, N_end*dt]), yaxis3=dict(range=[0.46, 0.48]),\n",
    "    # )\n",
    "\n",
    "\n",
    "    # change the color of the scatter points\n",
    "\n",
    "    figWidget.data[0].marker.color = 'blue'\n",
    "    figWidget.data[1].marker.color = 'red'\n",
    "\n",
    "    figWidget.data[2].marker.color = 'blue'\n",
    "    figWidget.data[3].marker.color = 'purple'\n",
    "\n",
    "    figWidget.data[4].marker.color = 'blue'\n",
    "    figWidget.data[5].marker.color = 'orange'\n",
    "\n",
    "    @interact(t=(time_steps.min(),time_steps.max(),dt))\n",
    "    def update_plot(t):\n",
    "        with figWidget.batch_update():\n",
    "            # change the current point of \n",
    "            # the true position along the trajectory\n",
    "            figWidget.data[1].x = [points[int(t/dt) - N_start,0]]\n",
    "            figWidget.data[1].y = [points[int(t/dt) - N_start,1]]\n",
    "\n",
    "            # the current point of the encoded sample on the x axis\n",
    "            figWidget.data[3].x = [time_steps[int(t/dt) - N_start]]\n",
    "            figWidget.data[3].y = [encoded_samples[int(t/dt) - N_start,0]]\n",
    "\n",
    "            # the current point of the encoded sample on the y axis\n",
    "            figWidget.data[5].x = [time_steps[int(t/dt) - N_start]]\n",
    "            figWidget.data[5].y = [encoded_samples[int(t/dt) - N_start,1]]\n",
    "\n",
    "        # print(figWidget)\n",
    "            \n",
    "    # save the figure as a html file with the interactive widget\n",
    "    # figWidget.write_html('images/AE_ODE/encoded_reconstruction/encoded_reconstruction_slow_spiral.html')    \n",
    "    return figWidget\n",
    "\n",
    "\n",
    "def create_interactive_plot_phase(encoded_samples, time_steps, points, N_start, N_end):\n",
    "    fig = make_subplots(rows=1, cols=2)\n",
    "    figWidget = go.FigureWidget(fig)\n",
    "    # add a black background to the figure\n",
    "    figWidget.add_scatter(x=points[:,0], y=points[:,1], mode='lines', marker=dict(size=1), name='true positions', col=1, row=1)\n",
    "    figWidget.add_scatter(x=[points[0,0]], y=[points[0,1]], mode='markers', marker=dict(size=10), name='current point', col=1, row=1)\n",
    "\n",
    "    figWidget.add_scatter(x=encoded_samples[:, 0], y=encoded_samples[:, 1], mode='lines', name='phase', col=2, row=1)\n",
    "    figWidget.add_scatter(x=[encoded_samples[0, 0]], y=[encoded_samples[0, 1]], mode='markers', marker=dict(size=10), name='current phase', col=2, row=1)\n",
    "    # figWidget.update_layout(xaxis=dict(range=[points[:,0].min(), points[:,0].max()]), yaxis=dict(range=[points[:,1].min(), points[:,1].max()]),\n",
    "    #                 xaxis2=dict(range=[N_start*dt, N_end*dt]), yaxis2=dict(range=[0.49, 0.52]),\n",
    "    #                     xaxis3=dict(range=[N_start*dt, N_end*dt]), yaxis3=dict(range=[0.46, 0.48]),\n",
    "    # )\n",
    "\n",
    "\n",
    "    # change the color of the scatter points\n",
    "\n",
    "    figWidget.data[0].marker.color = 'blue'\n",
    "    figWidget.data[1].marker.color = 'red'\n",
    "\n",
    "    figWidget.data[2].marker.color = 'blue'\n",
    "    figWidget.data[3].marker.color = 'purple'\n",
    "\n",
    "    @interact(t=(time_steps.min(),time_steps.max(),dt))\n",
    "    def update_plot(t):\n",
    "        with figWidget.batch_update():\n",
    "            # change the current point of \n",
    "            # the true position along the trajectory\n",
    "            figWidget.data[1].x = [points[int(t/dt) - N_start,0]]\n",
    "            figWidget.data[1].y = [points[int(t/dt) - N_start,1]]\n",
    "\n",
    "            # the current point of the encoded sample on the x axis\n",
    "            figWidget.data[3].x = [encoded_samples[int(t/dt) - N_start,0]]\n",
    "            figWidget.data[3].y = [encoded_samples[int(t/dt) - N_start,1]]\n",
    "\n",
    "        # print(figWidget)\n",
    "            \n",
    "    # save the figure as a html file with the interactive widget\n",
    "    # figWidget.write_html('images/AE_ODE/encoded_reconstruction/encoded_reconstruction_slow_spiral.html')    \n",
    "    return figWidget\n"
   ]
  },
  {
   "cell_type": "code",
   "execution_count": 6,
   "metadata": {},
   "outputs": [],
   "source": [
    "import torch\n",
    "from src.utils import ConvAE"
   ]
  },
  {
   "cell_type": "code",
   "execution_count": 38,
   "metadata": {},
   "outputs": [
    {
     "name": "stdout",
     "output_type": "stream",
     "text": [
      "Number of parameters in the model: 220387\n"
     ]
    },
    {
     "data": {
      "text/plain": [
       "<All keys matched successfully>"
      ]
     },
     "execution_count": 38,
     "metadata": {},
     "output_type": "execute_result"
    }
   ],
   "source": [
    "pathInputs = \"images/AE_ODE/encoded_reconstruction/trues_images_fast_spiral.npy\"\n",
    "pathModel = \"models/AE/conv_custom_2_gaussian_r_1_custom_loss_alpha_0_0.pt\"\n",
    "\n",
    "images = np.load(pathInputs)\n",
    "model = ConvAE(height=28, width=28, latent_dim=2)\n",
    "model.load_state_dict(torch.load(pathModel))"
   ]
  },
  {
   "cell_type": "code",
   "execution_count": 39,
   "metadata": {},
   "outputs": [
    {
     "data": {
      "text/plain": [
       "(10000, 2)"
      ]
     },
     "execution_count": 39,
     "metadata": {},
     "output_type": "execute_result"
    }
   ],
   "source": [
    "encoded_samples = model.encoder_linear(model.encode(torch.from_numpy(images).float())).detach().numpy()\n",
    "encoded_samples.shape"
   ]
  },
  {
   "cell_type": "code",
   "execution_count": 42,
   "metadata": {},
   "outputs": [],
   "source": [
    "np.save(\"images/AE_ODE/encoded_reconstruction/continuous_encoded_samples_fast_spiral.npy\", encoded_samples)"
   ]
  },
  {
   "cell_type": "code",
   "execution_count": 40,
   "metadata": {},
   "outputs": [
    {
     "name": "stdout",
     "output_type": "stream",
     "text": [
      "(10000, 2)\n",
      "(10000, 2)\n"
     ]
    },
    {
     "data": {
      "application/vnd.jupyter.widget-view+json": {
       "model_id": "82ffb16c663c42328e2f9d87e147ee20",
       "version_major": 2,
       "version_minor": 0
      },
      "text/plain": [
       "interactive(children=(FloatSlider(value=4.999, description='t', max=9.999, step=0.001), Output()), _dom_classe…"
      ]
     },
     "metadata": {},
     "output_type": "display_data"
    },
    {
     "data": {
      "application/vnd.jupyter.widget-view+json": {
       "model_id": "5b0a3feb989c491cb969dcb3dc8df0d0",
       "version_major": 2,
       "version_minor": 0
      },
      "text/plain": [
       "FigureWidget({\n",
       "    'data': [{'marker': {'color': 'blue', 'size': 1},\n",
       "              'mode': 'lines',\n",
       "          …"
      ]
     },
     "metadata": {},
     "output_type": "display_data"
    }
   ],
   "source": [
    "N_start = 0\n",
    "N_end = 10000\n",
    "step_size = 1\n",
    "plot_encoded_samples = encoded_samples[N_start:N_end:step_size]\n",
    "print(plot_encoded_samples.shape)\n",
    "dt = 0.001\n",
    "time_steps = np.arange(0, plot_encoded_samples.shape[0]*dt, dt)[N_start:N_end:step_size]\n",
    "\n",
    "\n",
    "points = np.load(\"images/AE_ODE/encoded_reconstruction/trues_positions_fast_spiral.npy\")[N_start:N_end:step_size]\n",
    "print(points.shape)\n",
    "\n",
    "create_interactive_plot(plot_encoded_samples, time_steps, points, N_start, N_end)"
   ]
  },
  {
   "cell_type": "code",
   "execution_count": 41,
   "metadata": {},
   "outputs": [
    {
     "data": {
      "application/vnd.jupyter.widget-view+json": {
       "model_id": "3a0bcc5d13934afab1ec51d99e52d783",
       "version_major": 2,
       "version_minor": 0
      },
      "text/plain": [
       "interactive(children=(FloatSlider(value=4.999, description='t', max=9.999, step=0.001), Output()), _dom_classe…"
      ]
     },
     "metadata": {},
     "output_type": "display_data"
    },
    {
     "data": {
      "application/vnd.jupyter.widget-view+json": {
       "model_id": "165d8eff708b4372b36974ebf91587aa",
       "version_major": 2,
       "version_minor": 0
      },
      "text/plain": [
       "FigureWidget({\n",
       "    'data': [{'marker': {'color': 'blue', 'size': 1},\n",
       "              'mode': 'lines',\n",
       "          …"
      ]
     },
     "metadata": {},
     "output_type": "display_data"
    }
   ],
   "source": [
    "create_interactive_plot_phase(plot_encoded_samples, time_steps, points, N_start, N_end)"
   ]
  },
  {
   "cell_type": "code",
   "execution_count": 175,
   "metadata": {},
   "outputs": [
    {
     "name": "stdout",
     "output_type": "stream",
     "text": [
      "(8000, 2)\n",
      "(8000, 2)\n"
     ]
    },
    {
     "data": {
      "application/vnd.jupyter.widget-view+json": {
       "model_id": "95eb8f81371c432b93318a48e02aacf1",
       "version_major": 2,
       "version_minor": 0
      },
      "text/plain": [
       "interactive(children=(FloatSlider(value=3.999, description='t', max=7.9990000000000006, step=0.001), Output())…"
      ]
     },
     "metadata": {},
     "output_type": "display_data"
    },
    {
     "data": {
      "application/vnd.jupyter.widget-view+json": {
       "model_id": "480027d140484b209fdf2471be779f09",
       "version_major": 2,
       "version_minor": 0
      },
      "text/plain": [
       "FigureWidget({\n",
       "    'data': [{'marker': {'color': 'blue', 'size': 1},\n",
       "              'mode': 'lines',\n",
       "          …"
      ]
     },
     "metadata": {},
     "output_type": "display_data"
    }
   ],
   "source": [
    "N_start = 0\n",
    "N_end = 8000\n",
    "step_size = 1\n",
    "encoded_samples = np.load('images/AE_ODE/encoded_reconstruction/encoded_samples_fast_spiral.npy')[N_start:N_end:step_size]\n",
    "print(encoded_samples.shape)\n",
    "dt = 0.001\n",
    "time_steps = np.arange(0, encoded_samples.shape[0]*dt, dt)[N_start:N_end:step_size]\n",
    "\n",
    "\n",
    "points = np.load(\"images/AE_ODE/encoded_reconstruction/trues_positions_fast_spiral.npy\")[N_start:N_end:step_size]\n",
    "print(points.shape)\n",
    "\n",
    "create_interactive_plot(encoded_samples, time_steps, points, N_start, N_end)"
   ]
  },
  {
   "cell_type": "code",
   "execution_count": null,
   "metadata": {},
   "outputs": [],
   "source": [
    "# change the color of the scatter points\n",
    "fig.data[0].marker.color = 'blue'\n",
    "fig.data[1].marker.color = 'red'\n",
    "\n",
    "@interact(x=(0,10,0.01))\n",
    "def update_plot(x):\n",
    "    with fig.batch_update():\n",
    "        fig.data[1].x = [x]\n",
    "        fig.data[1].y = [np.sin(x)]\n",
    "        # fig.data[1].x = x\n",
    "        # fig.data[1].y = y\n",
    "        # fig.layout.\n",
    "\n",
    "fig"
   ]
  }
 ],
 "metadata": {
  "interpreter": {
   "hash": "50292dbb1f747f7151d445135d392af3138fb3c65386d17d9510cb605222b10b"
  },
  "kernelspec": {
   "display_name": "Python 3.9.9 64-bit",
   "language": "python",
   "name": "python3"
  },
  "language_info": {
   "codemirror_mode": {
    "name": "ipython",
    "version": 3
   },
   "file_extension": ".py",
   "mimetype": "text/x-python",
   "name": "python",
   "nbconvert_exporter": "python",
   "pygments_lexer": "ipython3",
   "version": "3.9.9"
  },
  "orig_nbformat": 4
 },
 "nbformat": 4,
 "nbformat_minor": 2
}
