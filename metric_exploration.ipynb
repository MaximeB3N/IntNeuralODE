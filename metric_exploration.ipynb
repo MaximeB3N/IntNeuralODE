{
 "cells": [
  {
   "cell_type": "code",
   "execution_count": 1,
   "metadata": {},
   "outputs": [],
   "source": [
    "import torch\n",
    "import torch.nn as nn\n",
    "import torch.nn.functional as F\n",
    "\n",
    "\n",
    "import numpy as np\n",
    "from sklearn.model_selection import train_test_split\n",
    "import matplotlib.pyplot as plt\n",
    "\n",
    "from src.utils.utils import add_spatial_encoding"
   ]
  },
  {
   "cell_type": "code",
   "execution_count": 2,
   "metadata": {},
   "outputs": [
    {
     "name": "stdout",
     "output_type": "stream",
     "text": [
      "--------------------------------------------------\n",
      "Generating images...\n",
      "(10000, 20, 28, 28) 1.0 0.0\n",
      "(200000, 1, 28, 28)\n",
      "torch.Size([8000, 20, 3, 28, 28]) torch.Size([2000, 20, 3, 28, 28])\n"
     ]
    }
   ],
   "source": [
    "MARGIN_MIN = 7\n",
    "MIN_INIT_VELOCITY = 1000.\n",
    "WIDTH, HEIGHT = 28, 28\n",
    "RADIUS = 3\n",
    "size = WIDTH\n",
    "\n",
    "print(\"-\"*50)\n",
    "print(\"Generating images...\")\n",
    "images = np.load(\"data/movingmnist_dataset_10000_20_1_28_2/sequences.npy\").swapaxes(-1, -2)\n",
    "# Apply the sigmoid function to the images\n",
    "# images = np.exp(3*images) / (1 + np.exp(3*images)) - 0.5\n",
    "images = (images - images.min()) / (images.max() - images.min())\n",
    "# images = np.load(\"data/mnist_test_seq_resized.npy\").swapaxes(0,1)\n",
    "print(images.shape, images.max(), images.min())\n",
    "shape = images.shape\n",
    "\n",
    "images = images.reshape(-1, 1, shape[-2], shape[-1])\n",
    "print(images.shape)\n",
    "N = shape[0]\n",
    "N_frames = shape[1]\n",
    "dt = 1./N_frames\n",
    "Num_pos_velocity = 1\n",
    "times = np.arange(0, N_frames*dt, dt)\n",
    "\n",
    "# dataset = [(image, 0) for image in dataset]\n",
    "# dataset = add_spatial_encoding(dataset)\n",
    "# print(len(dataset), len(dataset[0]), dataset[0][0].shape)\n",
    "images = torch.from_numpy(add_spatial_encoding(images)).float().reshape(N, -1, 3, HEIGHT, WIDTH)\n",
    "\n",
    "# split the dataset\n",
    "images_train, images_test = train_test_split(images, test_size=0.2, random_state=42)\n",
    "\n",
    "print(images_train.shape, images_test.shape)"
   ]
  },
  {
   "cell_type": "code",
   "execution_count": 31,
   "metadata": {},
   "outputs": [],
   "source": [
    "class PSNR:\n",
    "    \"\"\"Peak Signal to Noise Ratio\n",
    "    img1 and img2 have range [0, 1]\"\"\"\n",
    "\n",
    "    def __init__(self):\n",
    "        self.name = \"PSNR\"\n",
    "        self._value = 0.0\n",
    "        self._num_examples = 0\n",
    "\n",
    "    \n",
    "    def update(self, img1, img2):\n",
    "        if img1.shape != img2.shape:\n",
    "            raise ValueError(\"Input images must have the same dimensions but got %s and %s\" % (str(img1.shape), str(img2.shape)))\n",
    "        \n",
    "        if img1.ndim !=4 and img1.ndim != 5:\n",
    "            raise ValueError(\"Input images must have 4 or 5 dimensions but got {}\".format(img1.ndim))\n",
    "            \n",
    "        if img1.ndim == 5 and img2.ndim == 5:\n",
    "            img1 = img1.view(-1, *img1.shape[2:])\n",
    "            img2 = img2.view(-1, *img2.shape[2:])\n",
    "        \n",
    "        mse = torch.mean((img1 - img2)**2, dim=(1, 2, 3))\n",
    "\n",
    "        self._value += 10 * torch.log10(1. / mse).sum()\n",
    "        self._num_examples += img1.shape[0]\n",
    "\n",
    "    def reset(self):\n",
    "        self._value = 0.0\n",
    "        self._num_examples = 0\n",
    "\n",
    "\n",
    "    def compute(self):\n",
    "        if self._num_examples == 0:\n",
    "            raise ValueError(\"SSIM must have at least one example before it can be computed.\")\n",
    "        return self._value / self._num_examples\n"
   ]
  },
  {
   "cell_type": "code",
   "execution_count": 32,
   "metadata": {},
   "outputs": [],
   "source": [
    "from typing import Union, Sequence, Callable\n",
    "\n",
    "class SSIM(nn.Module):\n",
    "    \"\"\"\n",
    "    Computes Structual Similarity Index Measure\n",
    "    Args:\n",
    "        data_range: Range of the image. Typically, ``1.0`` or ``255``.\n",
    "        kernel_size: Size of the kernel. Default: (11, 11)\n",
    "        sigma: Standard deviation of the gaussian kernel.\n",
    "            Argument is used if ``gaussian=True``. Default: (1.5, 1.5)\n",
    "        k1: Parameter of SSIM. Default: 0.01\n",
    "        k2: Parameter of SSIM. Default: 0.03\n",
    "        gaussian: ``True`` to use gaussian kernel, ``False`` to use uniform kernel\n",
    "        output_transform: A callable that is used to transform the\n",
    "            :class:`~ignite.engine.engine.Engine`'s ``process_function``'s output into the\n",
    "            form expected by the metric.\n",
    "        device: specifies which device updates are accumulated on. Setting the metric's\n",
    "            device to be the same as your ``update`` arguments ensures the ``update`` method is non-blocking. By\n",
    "            default, CPU.\n",
    "    Examples:\n",
    "        To use with ``Engine`` and ``process_function``, simply attach the metric instance to the engine.\n",
    "        The output of the engine's ``process_function`` needs to be in the format of\n",
    "        ``(y_pred, y)`` or ``{'y_pred': y_pred, 'y': y, ...}``.\n",
    "        ``y_pred`` and ``y`` can be un-normalized or normalized image tensors. Depending on that, the user might need\n",
    "        to adjust ``data_range``. ``y_pred`` and ``y`` should have the same shape.\n",
    "        For more information on how metric works with :class:`~ignite.engine.engine.Engine`, visit :ref:`attach-engine`.\n",
    "        .. include:: defaults.rst\n",
    "            :start-after: :orphan:\n",
    "        .. testcode::\n",
    "            metric = SSIM(data_range=1.0)\n",
    "            metric.attach(default_evaluator, 'ssim')\n",
    "            preds = torch.rand([4, 3, 16, 16])\n",
    "            target = preds * 0.75\n",
    "            state = default_evaluator.run([[preds, target]])\n",
    "            print(state.metrics['ssim'])\n",
    "        .. testoutput::\n",
    "            0.9218971...\n",
    "    .. versionadded:: 0.4.2\n",
    "    \"\"\"\n",
    "\n",
    "    def __init__(\n",
    "        self,\n",
    "        data_range: Union[int, float],\n",
    "        kernel_size: Union[int, Sequence[int]] = (11, 11),\n",
    "        sigma: Union[float, Sequence[float]] = (1.5, 1.5),\n",
    "        k1: float = 0.01,\n",
    "        k2: float = 0.03,\n",
    "        gaussian: bool = True,\n",
    "        output_transform: Callable = lambda x: x,\n",
    "        device: Union[str, torch.device] = torch.device(\"cpu\"),\n",
    "    ):\n",
    "        if isinstance(kernel_size, int):\n",
    "            self.kernel_size = [kernel_size, kernel_size]  # type: Sequence[int]\n",
    "        elif isinstance(kernel_size, Sequence):\n",
    "            self.kernel_size = kernel_size\n",
    "        else:\n",
    "            raise ValueError(\"Argument kernel_size should be either int or a sequence of int.\")\n",
    "\n",
    "        if isinstance(sigma, float):\n",
    "            self.sigma = [sigma, sigma]  # type: Sequence[float]\n",
    "        elif isinstance(sigma, Sequence):\n",
    "            self.sigma = sigma\n",
    "        else:\n",
    "            raise ValueError(\"Argument sigma should be either float or a sequence of float.\")\n",
    "\n",
    "        if any(x % 2 == 0 or x <= 0 for x in self.kernel_size):\n",
    "            raise ValueError(f\"Expected kernel_size to have odd positive number. Got {kernel_size}.\")\n",
    "\n",
    "        if any(y <= 0 for y in self.sigma):\n",
    "            raise ValueError(f\"Expected sigma to have positive number. Got {sigma}.\")\n",
    "\n",
    "        super(SSIM, self).__init__()\n",
    "        self._device = device\n",
    "        self._output_transform = output_transform\n",
    "        self.gaussian = gaussian\n",
    "        self.c1 = (k1 * data_range) ** 2\n",
    "        self.c2 = (k2 * data_range) ** 2\n",
    "        self.pad_h = (self.kernel_size[0] - 1) // 2\n",
    "        self.pad_w = (self.kernel_size[1] - 1) // 2\n",
    "        self._kernel = self._gaussian_or_uniform_kernel(kernel_size=self.kernel_size, sigma=self.sigma)\n",
    "        self.reset()\n",
    "        \n",
    "\n",
    "    def reset(self) -> None:\n",
    "        self._sum_of_ssim = torch.tensor(0.0, dtype=torch.float64, device=self._device)\n",
    "        self._num_examples = 0\n",
    "        self._kernel = self._gaussian_or_uniform_kernel(kernel_size=self.kernel_size, sigma=self.sigma)\n",
    "\n",
    "    def _uniform(self, kernel_size: int) -> torch.Tensor:\n",
    "        max, min = 2.5, -2.5\n",
    "        ksize_half = (kernel_size - 1) * 0.5\n",
    "        kernel = torch.linspace(-ksize_half, ksize_half, steps=kernel_size, device=self._device)\n",
    "        for i, j in enumerate(kernel):\n",
    "            if min <= j <= max:\n",
    "                kernel[i] = 1 / (max - min)\n",
    "            else:\n",
    "                kernel[i] = 0\n",
    "\n",
    "        return kernel.unsqueeze(dim=0)  # (1, kernel_size)\n",
    "\n",
    "    def _gaussian(self, kernel_size: int, sigma: float) -> torch.Tensor:\n",
    "        ksize_half = (kernel_size - 1) * 0.5\n",
    "        kernel = torch.linspace(-ksize_half, ksize_half, steps=kernel_size, device=self._device)\n",
    "        gauss = torch.exp(-0.5 * (kernel / sigma).pow(2))\n",
    "        return (gauss / gauss.sum()).unsqueeze(dim=0)  # (1, kernel_size)\n",
    "\n",
    "    def _gaussian_or_uniform_kernel(self, kernel_size: Sequence[int], sigma: Sequence[float]) -> torch.Tensor:\n",
    "        if self.gaussian:\n",
    "            kernel_x = self._gaussian(kernel_size[0], sigma[0])\n",
    "            kernel_y = self._gaussian(kernel_size[1], sigma[1])\n",
    "        else:\n",
    "            kernel_x = self._uniform(kernel_size[0])\n",
    "            kernel_y = self._uniform(kernel_size[1])\n",
    "\n",
    "        return torch.matmul(kernel_x.t(), kernel_y)  # (kernel_size, 1) * (1, kernel_size)\n",
    "\n",
    "    def update(self, y_pred, y) -> None:\n",
    "        y_pred, y = y_pred.detach(), y.detach()\n",
    "\n",
    "        if y_pred.dtype != y.dtype:\n",
    "            raise TypeError(\n",
    "                f\"Expected y_pred and y to have the same data type. Got y_pred: {y_pred.dtype} and y: {y.dtype}.\"\n",
    "            )\n",
    "\n",
    "        if y_pred.shape != y.shape:\n",
    "            raise ValueError(\n",
    "                f\"Expected y_pred and y to have the same shape. Got y_pred: {y_pred.shape} and y: {y.shape}.\"\n",
    "            )\n",
    "\n",
    "        if len(y_pred.shape) == 5 and len(y.shape) == 5:\n",
    "            y_pred = y_pred.view(-1, *y_pred.shape[2:])\n",
    "            y = y.view(-1, *y.shape[2:])\n",
    "            \n",
    "        if len(y_pred.shape) != 4 or len(y.shape) != 4:\n",
    "            raise ValueError(\n",
    "                f\"Expected y_pred and y to have BxCxHxW shape. Got y_pred: {y_pred.shape} and y: {y.shape}.\"\n",
    "            )\n",
    "\n",
    "        channel = y_pred.size(1)\n",
    "        if len(self._kernel.shape) < 4:\n",
    "            self._kernel = self._kernel.expand(channel, 1, -1, -1).to(device=y_pred.device)\n",
    "\n",
    "        y_pred = F.pad(y_pred, [self.pad_w, self.pad_w, self.pad_h, self.pad_h], mode=\"reflect\")\n",
    "        y = F.pad(y, [self.pad_w, self.pad_w, self.pad_h, self.pad_h], mode=\"reflect\")\n",
    "\n",
    "        input_list = torch.cat([y_pred, y, y_pred * y_pred, y * y, y_pred * y])\n",
    "        outputs = F.conv2d(input_list, self._kernel, groups=channel)\n",
    "\n",
    "        output_list = [outputs[x * y_pred.size(0) : (x + 1) * y_pred.size(0)] for x in range(len(outputs))]\n",
    "\n",
    "        mu_pred_sq = output_list[0].pow(2)\n",
    "        mu_target_sq = output_list[1].pow(2)\n",
    "        mu_pred_target = output_list[0] * output_list[1]\n",
    "\n",
    "        sigma_pred_sq = output_list[2] - mu_pred_sq\n",
    "        sigma_target_sq = output_list[3] - mu_target_sq\n",
    "        sigma_pred_target = output_list[4] - mu_pred_target\n",
    "\n",
    "        a1 = 2 * mu_pred_target + self.c1\n",
    "        a2 = 2 * sigma_pred_target + self.c2\n",
    "        b1 = mu_pred_sq + mu_target_sq + self.c1\n",
    "        b2 = sigma_pred_sq + sigma_target_sq + self.c2\n",
    "\n",
    "        ssim_idx = (a1 * a2) / (b1 * b2)\n",
    "        self._sum_of_ssim += torch.mean(ssim_idx, (1, 2, 3), dtype=torch.float64).sum().to(self._device)\n",
    "\n",
    "        self._num_examples += y.shape[0]\n",
    "\n",
    "        \n",
    "\n",
    "    def compute(self) -> float:\n",
    "        if self._num_examples == 0:\n",
    "            raise ValueError(\"SSIM must have at least one example before it can be computed.\")\n",
    "        return (self._sum_of_ssim / self._num_examples).item()"
   ]
  },
  {
   "cell_type": "code",
   "execution_count": 33,
   "metadata": {},
   "outputs": [],
   "source": [
    "psnr = PSNR()\n",
    "ssim = SSIM(data_range=1.0)"
   ]
  },
  {
   "cell_type": "code",
   "execution_count": 39,
   "metadata": {},
   "outputs": [
    {
     "name": "stdout",
     "output_type": "stream",
     "text": [
      "tensor(16.7956)\n"
     ]
    }
   ],
   "source": [
    "preds = torch.rand([4, 3, 16, 16])\n",
    "target = preds * 0.75\n",
    "psnr.update(preds, target)\n",
    "print(psnr.compute())\n",
    "psnr.reset()"
   ]
  },
  {
   "cell_type": "code",
   "execution_count": 35,
   "metadata": {},
   "outputs": [
    {
     "name": "stdout",
     "output_type": "stream",
     "text": [
      "torch.Size([10000, 1, 28, 28])\n",
      "torch.Size([10000, 1, 28, 28])\n",
      "0.6637754018690903\n",
      "tensor(14.2807) 0.6400145810351162\n",
      "tensor(14.2807) 0.6400145810351161\n"
     ]
    }
   ],
   "source": [
    "trajectory = images[:, 0, 0, :, :].unsqueeze(1)\n",
    "print(trajectory.shape)\n",
    "trajectory2 = images[:, 4, 0, :, :].unsqueeze(1)\n",
    "print(trajectory2.shape)\n",
    "ssim.update(trajectory, trajectory2)\n",
    "print(ssim.compute())\n",
    "ssim.reset()\n",
    "\n",
    "# trajectory = images[:, :, 0, :, :].unsqueeze(2)\n",
    "# print(trajectory.shape)\n",
    "# trajectory2 = images[:, :, 0, :, :].unsqueeze(2)\n",
    "# print(trajectory2.shape)\n",
    "# print(ssim(trajectory, trajectory2))\n",
    "\n",
    "for i in range(10):\n",
    "    trajectory = images[i, :, 0, :, :].unsqueeze(1)\n",
    "    trajectory2 = images[i+1, :, 0, :, :].unsqueeze(1)\n",
    "    psnr.update(trajectory, trajectory2)\n",
    "    ssim.update(trajectory, trajectory2)\n",
    "\n",
    "print(psnr.compute(), ssim.compute())\n",
    "psnr.reset()\n",
    "ssim.reset()\n",
    "\n",
    "trajectory = images[:10, :, 0, :, :].unsqueeze(2)\n",
    "trajectory2 = images[1:11, :, 0, :, :].unsqueeze(2)\n",
    "psnr.update(trajectory, trajectory2)\n",
    "ssim.update(trajectory, trajectory2)\n",
    "print(psnr.compute(), ssim.compute())\n",
    "psnr.reset()\n",
    "ssim.reset()\n"
   ]
  },
  {
   "cell_type": "code",
   "execution_count": 29,
   "metadata": {},
   "outputs": [
    {
     "ename": "NameError",
     "evalue": "name 'ignite' is not defined",
     "output_type": "error",
     "traceback": [
      "\u001b[0;31m---------------------------------------------------------------------------\u001b[0m",
      "\u001b[0;31mNameError\u001b[0m                                 Traceback (most recent call last)",
      "\u001b[0;32m<ipython-input-29-b9e457389096>\u001b[0m in \u001b[0;36m<module>\u001b[0;34m\u001b[0m\n\u001b[0;32m----> 1\u001b[0;31m \u001b[0mpsnr\u001b[0m \u001b[0;34m=\u001b[0m \u001b[0mignite\u001b[0m\u001b[0;34m.\u001b[0m\u001b[0mmetrics\u001b[0m\u001b[0;34m.\u001b[0m\u001b[0mPSNR\u001b[0m\u001b[0;34m(\u001b[0m\u001b[0mdata_range\u001b[0m\u001b[0;34m=\u001b[0m\u001b[0;36m1.\u001b[0m\u001b[0;34m)\u001b[0m\u001b[0;34m\u001b[0m\u001b[0;34m\u001b[0m\u001b[0m\n\u001b[0m\u001b[1;32m      2\u001b[0m \u001b[0mssim\u001b[0m \u001b[0;34m=\u001b[0m \u001b[0mignite\u001b[0m\u001b[0;34m.\u001b[0m\u001b[0mmetrics\u001b[0m\u001b[0;34m.\u001b[0m\u001b[0mSSIM\u001b[0m\u001b[0;34m(\u001b[0m\u001b[0mdata_range\u001b[0m\u001b[0;34m=\u001b[0m\u001b[0;36m1.0\u001b[0m\u001b[0;34m)\u001b[0m\u001b[0;34m\u001b[0m\u001b[0;34m\u001b[0m\u001b[0m\n",
      "\u001b[0;31mNameError\u001b[0m: name 'ignite' is not defined"
     ]
    }
   ],
   "source": [
    "psnr = ignite.metrics.PSNR(data_range=1.)\n",
    "ssim = ignite.metrics.SSIM(data_range=1.0)"
   ]
  },
  {
   "cell_type": "code",
   "execution_count": 18,
   "metadata": {},
   "outputs": [
    {
     "data": {
      "image/png": "[encoded data removed]",
      "text/plain": [
       "<Figure size 432x288 with 1 Axes>"
      ]
     },
     "metadata": {
      "needs_background": "light"
     },
     "output_type": "display_data"
    },
    {
     "data": {
      "image/png": "[encoded data removed]",
      "text/plain": [
       "<Figure size 432x288 with 1 Axes>"
      ]
     },
     "metadata": {
      "needs_background": "light"
     },
     "output_type": "display_data"
    }
   ],
   "source": [
    "shift = 5\n",
    "test_input = images_test[0, :, :, :, :]\n",
    "test_target = images_test[shift, :, :, :, :]\n",
    "\n",
    "index = 0\n",
    "plt.imshow(test_input[index, 0].numpy())\n",
    "plt.show()\n",
    "plt.imshow(test_target[index, 0].numpy())\n",
    "plt.show()"
   ]
  },
  {
   "cell_type": "code",
   "execution_count": null,
   "metadata": {},
   "outputs": [],
   "source": [
    "# First test between 2 diff trajectories\n",
    "ssim.attach(default_evaluator, 'ssim')"
   ]
  },
  {
   "cell_type": "code",
   "execution_count": 14,
   "metadata": {},
   "outputs": [
    {
     "ename": "ValueError",
     "evalue": "Expected y_pred and y to have BxCxHxW shape. Got y_pred: torch.Size([28, 28]) and y: torch.Size([28, 28]).",
     "output_type": "error",
     "traceback": [
      "\u001b[0;31m---------------------------------------------------------------------------\u001b[0m",
      "\u001b[0;31mValueError\u001b[0m                                Traceback (most recent call last)",
      "\u001b[0;32m<ipython-input-14-8f4a47637178>\u001b[0m in \u001b[0;36m<module>\u001b[0;34m\u001b[0m\n\u001b[1;32m      3\u001b[0m \u001b[0mssim\u001b[0m\u001b[0;34m.\u001b[0m\u001b[0mreset\u001b[0m\u001b[0;34m(\u001b[0m\u001b[0;34m)\u001b[0m\u001b[0;34m\u001b[0m\u001b[0;34m\u001b[0m\u001b[0m\n\u001b[1;32m      4\u001b[0m \u001b[0mpsnr\u001b[0m\u001b[0;34m.\u001b[0m\u001b[0mupdate\u001b[0m\u001b[0;34m(\u001b[0m\u001b[0;34m(\u001b[0m\u001b[0mtest_input\u001b[0m\u001b[0;34m[\u001b[0m\u001b[0mindex\u001b[0m\u001b[0;34m,\u001b[0m \u001b[0;36m0\u001b[0m\u001b[0;34m]\u001b[0m\u001b[0;34m,\u001b[0m \u001b[0mtest_target\u001b[0m\u001b[0;34m[\u001b[0m\u001b[0mindex\u001b[0m\u001b[0;34m,\u001b[0m \u001b[0;36m0\u001b[0m\u001b[0;34m]\u001b[0m\u001b[0;34m)\u001b[0m\u001b[0;34m)\u001b[0m\u001b[0;34m\u001b[0m\u001b[0;34m\u001b[0m\u001b[0m\n\u001b[0;32m----> 5\u001b[0;31m \u001b[0mssim\u001b[0m\u001b[0;34m.\u001b[0m\u001b[0mupdate\u001b[0m\u001b[0;34m(\u001b[0m\u001b[0;34m(\u001b[0m\u001b[0mtest_input\u001b[0m\u001b[0;34m[\u001b[0m\u001b[0mindex\u001b[0m\u001b[0;34m,\u001b[0m \u001b[0;36m0\u001b[0m\u001b[0;34m]\u001b[0m\u001b[0;34m,\u001b[0m \u001b[0mtest_target\u001b[0m\u001b[0;34m[\u001b[0m\u001b[0mindex\u001b[0m\u001b[0;34m,\u001b[0m \u001b[0;36m0\u001b[0m\u001b[0;34m]\u001b[0m\u001b[0;34m)\u001b[0m\u001b[0;34m)\u001b[0m\u001b[0;34m\u001b[0m\u001b[0;34m\u001b[0m\u001b[0m\n\u001b[0m\u001b[1;32m      6\u001b[0m \u001b[0mprint\u001b[0m\u001b[0;34m(\u001b[0m\u001b[0;34m\"PSNR:\"\u001b[0m\u001b[0;34m,\u001b[0m \u001b[0mpsnr\u001b[0m\u001b[0;34m.\u001b[0m\u001b[0mcompute\u001b[0m\u001b[0;34m(\u001b[0m\u001b[0;34m)\u001b[0m\u001b[0;34m)\u001b[0m\u001b[0;34m\u001b[0m\u001b[0;34m\u001b[0m\u001b[0m\n\u001b[1;32m      7\u001b[0m \u001b[0mprint\u001b[0m\u001b[0;34m(\u001b[0m\u001b[0;34m\"SSIM:\"\u001b[0m\u001b[0;34m,\u001b[0m \u001b[0mssim\u001b[0m\u001b[0;34m.\u001b[0m\u001b[0mcompute\u001b[0m\u001b[0;34m(\u001b[0m\u001b[0;34m)\u001b[0m\u001b[0;34m)\u001b[0m\u001b[0;34m\u001b[0m\u001b[0;34m\u001b[0m\u001b[0m\n",
      "\u001b[0;32m~/venv/lib64/python3.6/site-packages/ignite/metrics/metric.py\u001b[0m in \u001b[0;36mwrapper\u001b[0;34m(self, *args, **kwargs)\u001b[0m\n\u001b[1;32m    594\u001b[0m     \u001b[0;34m@\u001b[0m\u001b[0mwraps\u001b[0m\u001b[0;34m(\u001b[0m\u001b[0mfunc\u001b[0m\u001b[0;34m)\u001b[0m\u001b[0;34m\u001b[0m\u001b[0;34m\u001b[0m\u001b[0m\n\u001b[1;32m    595\u001b[0m     \u001b[0;32mdef\u001b[0m \u001b[0mwrapper\u001b[0m\u001b[0;34m(\u001b[0m\u001b[0mself\u001b[0m\u001b[0;34m:\u001b[0m \u001b[0mMetric\u001b[0m\u001b[0;34m,\u001b[0m \u001b[0;34m*\u001b[0m\u001b[0margs\u001b[0m\u001b[0;34m:\u001b[0m \u001b[0mAny\u001b[0m\u001b[0;34m,\u001b[0m \u001b[0;34m**\u001b[0m\u001b[0mkwargs\u001b[0m\u001b[0;34m:\u001b[0m \u001b[0mAny\u001b[0m\u001b[0;34m)\u001b[0m \u001b[0;34m->\u001b[0m \u001b[0;32mNone\u001b[0m\u001b[0;34m:\u001b[0m\u001b[0;34m\u001b[0m\u001b[0;34m\u001b[0m\u001b[0m\n\u001b[0;32m--> 596\u001b[0;31m         \u001b[0mfunc\u001b[0m\u001b[0;34m(\u001b[0m\u001b[0mself\u001b[0m\u001b[0;34m,\u001b[0m \u001b[0;34m*\u001b[0m\u001b[0margs\u001b[0m\u001b[0;34m,\u001b[0m \u001b[0;34m**\u001b[0m\u001b[0mkwargs\u001b[0m\u001b[0;34m)\u001b[0m\u001b[0;34m\u001b[0m\u001b[0;34m\u001b[0m\u001b[0m\n\u001b[0m\u001b[1;32m    597\u001b[0m         \u001b[0mself\u001b[0m\u001b[0;34m.\u001b[0m\u001b[0m_is_reduced\u001b[0m \u001b[0;34m=\u001b[0m \u001b[0;32mFalse\u001b[0m\u001b[0;34m\u001b[0m\u001b[0;34m\u001b[0m\u001b[0m\n\u001b[1;32m    598\u001b[0m \u001b[0;34m\u001b[0m\u001b[0m\n",
      "\u001b[0;32m~/venv/lib64/python3.6/site-packages/ignite/metrics/ssim.py\u001b[0m in \u001b[0;36mupdate\u001b[0;34m(self, output)\u001b[0m\n\u001b[1;32m    147\u001b[0m         \u001b[0;32mif\u001b[0m \u001b[0mlen\u001b[0m\u001b[0;34m(\u001b[0m\u001b[0my_pred\u001b[0m\u001b[0;34m.\u001b[0m\u001b[0mshape\u001b[0m\u001b[0;34m)\u001b[0m \u001b[0;34m!=\u001b[0m \u001b[0;36m4\u001b[0m \u001b[0;32mor\u001b[0m \u001b[0mlen\u001b[0m\u001b[0;34m(\u001b[0m\u001b[0my\u001b[0m\u001b[0;34m.\u001b[0m\u001b[0mshape\u001b[0m\u001b[0;34m)\u001b[0m \u001b[0;34m!=\u001b[0m \u001b[0;36m4\u001b[0m\u001b[0;34m:\u001b[0m\u001b[0;34m\u001b[0m\u001b[0;34m\u001b[0m\u001b[0m\n\u001b[1;32m    148\u001b[0m             raise ValueError(\n\u001b[0;32m--> 149\u001b[0;31m                 \u001b[0;34mf\"Expected y_pred and y to have BxCxHxW shape. Got y_pred: {y_pred.shape} and y: {y.shape}.\"\u001b[0m\u001b[0;34m\u001b[0m\u001b[0;34m\u001b[0m\u001b[0m\n\u001b[0m\u001b[1;32m    150\u001b[0m             )\n\u001b[1;32m    151\u001b[0m \u001b[0;34m\u001b[0m\u001b[0m\n",
      "\u001b[0;31mValueError\u001b[0m: Expected y_pred and y to have BxCxHxW shape. Got y_pred: torch.Size([28, 28]) and y: torch.Size([28, 28])."
     ]
    }
   ],
   "source": [
    "# evaluate ssim and psnr\n",
    "psnr.reset()\n",
    "ssim.reset()\n",
    "psnr.update((test_input[index, 0].unsqueeze(1), test_target[index, 0].unsqueeze(1)))\n",
    "ssim.update((test_input[index, 0], test_target[index, 0]))\n",
    "print(\"PSNR:\", psnr.compute())\n",
    "print(\"SSIM:\", ssim.compute())\n"
   ]
  },
  {
   "cell_type": "code",
   "execution_count": null,
   "metadata": {},
   "outputs": [],
   "source": []
  }
 ],
 "metadata": {
  "kernelspec": {
   "display_name": "venv",
   "language": "python",
   "name": "venv"
  },
  "language_info": {
   "codemirror_mode": {
    "name": "ipython",
    "version": 3
   },
   "file_extension": ".py",
   "mimetype": "text/x-python",
   "name": "python",
   "nbconvert_exporter": "python",
   "pygments_lexer": "ipython3",
   "version": "3.6.8"
  },
  "orig_nbformat": 4,
  "vscode": {
   "interpreter": {
    "hash": "31f2aee4e71d21fbe5cf8b01ff0e069b9275f58929596ceb00d14d90e3e16cd6"
   }
  }
 },
 "nbformat": 4,
 "nbformat_minor": 2
}
