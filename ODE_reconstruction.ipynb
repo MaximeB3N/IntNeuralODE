{
 "cells": [
  {
   "cell_type": "code",
   "execution_count": 15,
   "metadata": {},
   "outputs": [
    {
     "data": {
      "text/html": [
       "        <script type=\"text/javascript\">\n",
       "        window.PlotlyConfig = {MathJaxConfig: 'local'};\n",
       "        if (window.MathJax) {MathJax.Hub.Config({SVG: {font: \"STIX-Web\"}});}\n",
       "        if (typeof require !== 'undefined') {\n",
       "        require.undef(\"plotly\");\n",
       "        requirejs.config({\n",
       "            paths: {\n",
       "                'plotly': ['https://cdn.plot.ly/plotly-2.11.1.min']\n",
       "            }\n",
       "        });\n",
       "        require(['plotly'], function(Plotly) {\n",
       "            window._Plotly = Plotly;\n",
       "        });\n",
       "        }\n",
       "        </script>\n",
       "        "
      ]
     },
     "metadata": {},
     "output_type": "display_data"
    }
   ],
   "source": [
    "import torch\n",
    "\n",
    "import numpy as np\n",
    "\n",
    "import matplotlib.pyplot as plt\n",
    "\n",
    "from plotly.subplots import make_subplots\n",
    "import plotly.graph_objs as go\n",
    "from plotly.offline import init_notebook_mode, iplot\n",
    "init_notebook_mode(connected=True)\n",
    "\n",
    "import ipywidgets as widgets\n",
    "from ipywidgets import interact"
   ]
  },
  {
   "cell_type": "code",
   "execution_count": 16,
   "metadata": {},
   "outputs": [],
   "source": [
    "from ode import ODEnetSimple\n",
    "from utils import ConvAE"
   ]
  },
  {
   "cell_type": "code",
   "execution_count": 17,
   "metadata": {},
   "outputs": [],
   "source": [
    "pathOde = \"models/AE_ODE/centered_spiral_encoded_0_6_final_data_mid_dim_100_v2.pt\"\n",
    "pathAE = \"models/AE/conv_custom_2_gaussian_r_1_custom_loss_alpha_0_0.pt\"\n",
    "pathLatentPos = \"images/AE_ODE/encoded_reconstruction/centered_encoded_samples_fast_spiral_2.npy\"\n",
    "pathInputs = \"images/AE_ODE/encoded_reconstruction/centered_trues_images_fast_spiral_2.npy\"\n"
   ]
  },
  {
   "cell_type": "code",
   "execution_count": 18,
   "metadata": {},
   "outputs": [
    {
     "name": "stdout",
     "output_type": "stream",
     "text": [
      "Number of parameters: 10602\n",
      "<All keys matched successfully>\n",
      "Number of parameters in the model: 220387\n",
      "<All keys matched successfully>\n"
     ]
    }
   ],
   "source": [
    "ode = ODEnetSimple(out_dim=2)\n",
    "print(ode.load_state_dict(torch.load(pathOde)))\n",
    "\n",
    "ae = ConvAE(height=28, width=28, latent_dim=2)\n",
    "print(ae.load_state_dict(torch.load(pathAE)))"
   ]
  },
  {
   "cell_type": "code",
   "execution_count": 19,
   "metadata": {},
   "outputs": [
    {
     "name": "stdout",
     "output_type": "stream",
     "text": [
      "torch.Size([10000, 2])\n",
      "torch.Size([10000, 1, 28, 28])\n",
      "torch.Size([10000, 2])\n"
     ]
    }
   ],
   "source": [
    "latent_encoded = torch.from_numpy(np.load(pathLatentPos))\n",
    "print(latent_encoded.shape)\n",
    "inputs = torch.from_numpy(np.load(pathInputs)).float()\n",
    "print(inputs.shape)\n",
    "latent_encoded_computed = ae.encoder_linear(ae.encoder(inputs))\n",
    "print(latent_encoded_computed.shape)\n"
   ]
  },
  {
   "cell_type": "markdown",
   "metadata": {},
   "source": [
    "# Overall trajectory (same time steps)"
   ]
  },
  {
   "cell_type": "code",
   "execution_count": 20,
   "metadata": {},
   "outputs": [
    {
     "name": "stdout",
     "output_type": "stream",
     "text": [
      "torch.Size([10000, 1, 2])\n",
      "torch.Size([10000, 1, 28, 28])\n"
     ]
    }
   ],
   "source": [
    "dt = 0.001\n",
    "final_time = 10000*dt\n",
    "total_steps = 10000\n",
    "times = torch.linspace(0., final_time, total_steps, dtype=torch.float64).float()\n",
    "\n",
    "predicted_output = ode(latent_encoded[0].unsqueeze(0), times)\n",
    "print(predicted_output.shape)\n",
    "reconstructed_trajectory = ae.decoder(ae.decoder_linear(predicted_output).reshape(-1, 128, 3, 3))\n",
    "print(reconstructed_trajectory.shape)"
   ]
  },
  {
   "cell_type": "code",
   "execution_count": 21,
   "metadata": {},
   "outputs": [
    {
     "data": {
      "text/plain": [
       "[<matplotlib.lines.Line2D at 0x28249db80>]"
      ]
     },
     "execution_count": 21,
     "metadata": {},
     "output_type": "execute_result"
    },
    {
     "data": {
      "image/png": "[encoded data removed]",
      "text/plain": [
       "<Figure size 432x288 with 1 Axes>"
      ]
     },
     "metadata": {
      "needs_background": "light"
     },
     "output_type": "display_data"
    }
   ],
   "source": [
    "plt.plot(latent_encoded_computed[:,0].cpu().detach().numpy(), \n",
    "                latent_encoded_computed[:,1].cpu().detach().numpy(), 'red', label=\"Computed\")\n",
    "\n",
    "plt.plot(predicted_output[:,-1,0].cpu().detach().numpy(), \n",
    "                predicted_output[:,-1,1].cpu().detach().numpy(), 'orange', label=\"Predicted\")"
   ]
  },
  {
   "cell_type": "code",
   "execution_count": 22,
   "metadata": {},
   "outputs": [
    {
     "name": "stdout",
     "output_type": "stream",
     "text": [
      "(10000, 28, 28, 3)\n",
      "(10000, 28, 28, 3)\n"
     ]
    }
   ],
   "source": [
    "from skimage.color import gray2rgb\n",
    "# switch to rgb images \n",
    "reconstructed_trajectory_np = reconstructed_trajectory.detach().numpy()\n",
    "reconstructed_trajectory_np = np.array([gray2rgb(img[0]) for img in reconstructed_trajectory_np])\n",
    "# normalize the images\n",
    "reconstructed_trajectory_np = 350*(reconstructed_trajectory_np - reconstructed_trajectory_np.min())/(reconstructed_trajectory_np.max() - reconstructed_trajectory_np.min())\n",
    "print(reconstructed_trajectory_np.shape)\n",
    "\n",
    "inputs_images = inputs.numpy()\n",
    "inputs_images = np.array([gray2rgb(img[0]) for img in inputs_images])\n",
    "inputs_images = 350*(inputs_images - inputs_images.min())/(inputs_images.max() - inputs_images.min())\n",
    "print(inputs_images.shape)"
   ]
  },
  {
   "cell_type": "code",
   "execution_count": 23,
   "metadata": {},
   "outputs": [
    {
     "data": {
      "application/vnd.jupyter.widget-view+json": {
       "model_id": "ad646755e4c249d7bc99d0e3b9e517ec",
       "version_major": 2,
       "version_minor": 0
      },
      "text/plain": [
       "FigureWidget({\n",
       "    'data': [{'type': 'image',\n",
       "              'uid': 'cf740c6f-2f78-4b81-9ab8-b3102999deae',\n",
       "   …"
      ]
     },
     "metadata": {},
     "output_type": "display_data"
    }
   ],
   "source": [
    "fig = make_subplots(rows=1, cols=2, subplot_titles=(\"Computed\", \"Predicted\"))\n",
    "fig = go.FigureWidget(fig)\n",
    "fig.add_image(z=reconstructed_trajectory_np[300], row=1, col=1)\n",
    "fig.add_image(z=inputs_images[300], row=1, col=2)\n",
    "# fig.add_image(z=inputs.numpy()[300]*350, row=2, col=1)\n",
    "# fig = go.Figure(go.Heatmap(z=reconstructed_trajectory_np[0], colorscale='gray'))\n",
    "fig"
   ]
  },
  {
   "cell_type": "code",
   "execution_count": 24,
   "metadata": {},
   "outputs": [
    {
     "data": {
      "application/vnd.jupyter.widget-view+json": {
       "model_id": "02511ec4d2b64c3483d06ea1c220a3bb",
       "version_major": 2,
       "version_minor": 0
      },
      "text/plain": [
       "interactive(children=(FloatSlider(value=5.0, description='t', max=10.0, step=0.001), Output()), _dom_classes=(…"
      ]
     },
     "metadata": {},
     "output_type": "display_data"
    },
    {
     "data": {
      "application/vnd.jupyter.widget-view+json": {
       "model_id": "047390b504a84ebc8e2cf0dc09860612",
       "version_major": 2,
       "version_minor": 0
      },
      "text/plain": [
       "FigureWidget({\n",
       "    'data': [{'name': 'true image',\n",
       "              'type': 'image',\n",
       "              'uid': '367617…"
      ]
     },
     "metadata": {},
     "output_type": "display_data"
    }
   ],
   "source": [
    "\n",
    "\n",
    "def interactive_image_plot(inputs_images, reconstructed_images, time_steps, dt):\n",
    "    fig = make_subplots(rows=1, cols=3, subplot_titles=(\"Input image\", \"Predicted image\"))\n",
    "    fig = go.FigureWidget(fig)\n",
    "    # add a black background to the figure\n",
    "    fig.add_image(z=inputs_images[0], row=1, col=1, name='true image')\n",
    "    fig.add_image(z=reconstructed_images[0], row=1, col=2, name='predicted image')\n",
    "\n",
    "    N_max = len(inputs_images)-1\n",
    "\n",
    "    @interact(t=(time_steps.min(),time_steps.max(),dt))\n",
    "    def update_plot(t):\n",
    "        with fig.batch_update():\n",
    "            # change the current point of \n",
    "            fig.data[0].z = inputs_images[min(int(t/dt), N_max)]\n",
    "            fig.data[1].z = reconstructed_images[min(int(t/dt), N_max)]\n",
    "\n",
    "    return fig\n",
    "\n",
    "fig = interactive_image_plot(inputs_images, reconstructed_trajectory_np, times.numpy(), 0.001)\n",
    "# print(fig)\n",
    "fig"
   ]
  },
  {
   "cell_type": "markdown",
   "metadata": {},
   "source": [
    "# Close look at the begining of the trajectory"
   ]
  },
  {
   "cell_type": "code",
   "execution_count": 25,
   "metadata": {},
   "outputs": [],
   "source": [
    "def interactive_part_trajectory_image_plot(inputs_images, reconstructed_images, time_steps, dt):\n",
    "    fig = make_subplots(rows=1, cols=3, subplot_titles=(\"Input image\", \"Predicted image\"))\n",
    "    fig = go.FigureWidget(fig)\n",
    "    # add a black background to the figure\n",
    "    fig.add_image(z=inputs_images[0], row=1, col=1, name='true image')\n",
    "    fig.add_image(z=reconstructed_images[0], row=1, col=2, name='predicted image')\n",
    "\n",
    "    N_max_input = len(inputs_images)-1\n",
    "    N_max_predicted = len(reconstructed_images)-1\n",
    "    N_max = max(N_max_input, N_max_predicted)\n",
    "\n",
    "    frac_input = N_max/N_max_predicted\n",
    "    frac_predicted = N_max/N_max_input\n",
    "\n",
    "    @interact(t=(time_steps.min(),time_steps.max(),dt))\n",
    "    def update_plot(t):\n",
    "        with fig.batch_update():\n",
    "            # change the current point of \n",
    "            print(t/dt)\n",
    "            print(int(frac_input*t/dt))\n",
    "            print(int(frac_predicted*t/dt))\n",
    "            fig.data[0].z = inputs_images[min(int(frac_input*t/dt), N_max_input)]\n",
    "            fig.data[1].z = reconstructed_images[min(int(frac_predicted*t/dt), N_max_predicted)]\n",
    "\n",
    "    return fig\n",
    "\n",
    "# fig = interactive_image_plot(inputs_images, reconstructed_trajectory_np, times.numpy(), 0.001)\n",
    "# # print(fig)\n",
    "# fig"
   ]
  },
  {
   "cell_type": "code",
   "execution_count": 26,
   "metadata": {},
   "outputs": [
    {
     "name": "stdout",
     "output_type": "stream",
     "text": [
      "torch.Size([30000, 1, 2])\n",
      "torch.Size([30000, 1, 28, 28])\n"
     ]
    }
   ],
   "source": [
    "final_ite = 3000\n",
    "dt = 0.001\n",
    "final_time = final_ite*dt\n",
    "total_steps = 30000\n",
    "times = torch.linspace(0., final_time, total_steps, dtype=torch.float64).float()\n",
    "\n",
    "predicted_output = ode(latent_encoded[0].unsqueeze(0), times)\n",
    "print(predicted_output.shape)\n",
    "reconstructed_trajectory = ae.decoder(ae.decoder_linear(predicted_output).reshape(-1, 128, 3, 3))\n",
    "print(reconstructed_trajectory.shape)"
   ]
  },
  {
   "cell_type": "code",
   "execution_count": 27,
   "metadata": {},
   "outputs": [
    {
     "data": {
      "text/plain": [
       "[<matplotlib.lines.Line2D at 0x2825084c0>]"
      ]
     },
     "execution_count": 27,
     "metadata": {},
     "output_type": "execute_result"
    },
    {
     "data": {
      "image/png": "[encoded data removed]",
      "text/plain": [
       "<Figure size 432x288 with 1 Axes>"
      ]
     },
     "metadata": {
      "needs_background": "light"
     },
     "output_type": "display_data"
    }
   ],
   "source": [
    "plt.plot(latent_encoded_computed[:final_ite,0].cpu().detach().numpy(), \n",
    "                latent_encoded_computed[:final_ite,1].cpu().detach().numpy(), 'red', label=\"Computed\")\n",
    "\n",
    "plt.plot(predicted_output[:,-1,0].cpu().detach().numpy(), \n",
    "                predicted_output[:,-1,1].cpu().detach().numpy(), 'orange', label=\"Predicted\")"
   ]
  },
  {
   "cell_type": "code",
   "execution_count": 28,
   "metadata": {},
   "outputs": [
    {
     "name": "stdout",
     "output_type": "stream",
     "text": [
      "(30000, 28, 28, 3)\n",
      "(3000, 28, 28, 3)\n"
     ]
    }
   ],
   "source": [
    "from skimage.color import gray2rgb\n",
    "# switch to rgb images \n",
    "reconstructed_trajectory_np = reconstructed_trajectory.detach().numpy()\n",
    "reconstructed_trajectory_np = np.array([gray2rgb(img[0]) for img in reconstructed_trajectory_np])\n",
    "# normalize the images\n",
    "reconstructed_trajectory_np = 350*(reconstructed_trajectory_np - reconstructed_trajectory_np.min())/(reconstructed_trajectory_np.max() - reconstructed_trajectory_np.min())\n",
    "print(reconstructed_trajectory_np.shape)\n",
    "\n",
    "inputs_images = inputs.numpy()[:final_ite]\n",
    "inputs_images = np.array([gray2rgb(img[0]) for img in inputs_images])\n",
    "inputs_images = 350*(inputs_images - inputs_images.min())/(inputs_images.max() - inputs_images.min())\n",
    "print(inputs_images.shape)"
   ]
  },
  {
   "cell_type": "code",
   "execution_count": 29,
   "metadata": {},
   "outputs": [
    {
     "data": {
      "application/vnd.jupyter.widget-view+json": {
       "model_id": "8124eb2e9b2341d0a5994ce74fc2a572",
       "version_major": 2,
       "version_minor": 0
      },
      "text/plain": [
       "interactive(children=(FloatSlider(value=1.0, description='t', max=3.0, step=0.001), Output()), _dom_classes=('…"
      ]
     },
     "metadata": {},
     "output_type": "display_data"
    },
    {
     "data": {
      "application/vnd.jupyter.widget-view+json": {
       "model_id": "3da04445caca42368451e60f10c737fa",
       "version_major": 2,
       "version_minor": 0
      },
      "text/plain": [
       "FigureWidget({\n",
       "    'data': [{'name': 'true image',\n",
       "              'type': 'image',\n",
       "              'uid': '82eb76…"
      ]
     },
     "metadata": {},
     "output_type": "display_data"
    }
   ],
   "source": [
    "fig = interactive_part_trajectory_image_plot(inputs_images, reconstructed_trajectory_np, times.numpy(), dt)\n",
    "fig"
   ]
  }
 ],
 "metadata": {
  "interpreter": {
   "hash": "b0fa6594d8f4cbf19f97940f81e996739fb7646882a419484c72d19e05852a7e"
  },
  "kernelspec": {
   "display_name": "Python 3.9.9 64-bit",
   "language": "python",
   "name": "python3"
  },
  "language_info": {
   "codemirror_mode": {
    "name": "ipython",
    "version": 3
   },
   "file_extension": ".py",
   "mimetype": "text/x-python",
   "name": "python",
   "nbconvert_exporter": "python",
   "pygments_lexer": "ipython3",
   "version": "3.9.9"
  },
  "orig_nbformat": 4
 },
 "nbformat": 4,
 "nbformat_minor": 2
}
